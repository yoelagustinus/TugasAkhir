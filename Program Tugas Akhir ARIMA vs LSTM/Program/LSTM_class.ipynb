{
 "cells": [
  {
   "cell_type": "markdown",
   "metadata": {
    "id": "DjVETfWh5ksz"
   },
   "source": [
    "# LSTM Prediction Multivariable\n",
    "\n",
    "## import Packages"
   ]
  },
  {
   "cell_type": "code",
   "execution_count": 1,
   "metadata": {
    "colab": {
     "base_uri": "https://localhost:8080/",
     "height": 424
    },
    "id": "kPwzikVX49b5",
    "outputId": "e377c0a8-e840-480e-ea26-8ac9a42ec435"
   },
   "outputs": [],
   "source": [
    "import math \n",
    "import numpy as np \n",
    "import pandas as pd \n",
    "from datetime import date, timedelta, datetime \n",
    "from pandas.plotting import register_matplotlib_converters \n",
    "import matplotlib.pyplot as plt \n",
    "import matplotlib.dates as mdates \n",
    "import tensorflow as tf\n",
    "from sklearn.metrics import mean_absolute_error, mean_squared_error, mean_absolute_percentage_error\n",
    "from tensorflow.keras import Sequential \n",
    "from tensorflow.keras.layers import LSTM, Dense\n",
    "from tensorflow.keras.layers import Bidirectional\n",
    "from sklearn.preprocessing import MinMaxScaler\n",
    "import seaborn as sns \n",
    "import mysql.connector as mysql\n",
    "import yfinance as yf\n"
   ]
  },
  {
   "cell_type": "markdown",
   "metadata": {},
   "source": [
    "## Evaluasi Forecasting\n",
    "### RMSE, MAE, MAPE"
   ]
  },
  {
   "cell_type": "code",
   "execution_count": 2,
   "metadata": {},
   "outputs": [],
   "source": [
    "class EvaluasiForecasting:\n",
    "    def rmse_metric(actual, predicted):\n",
    "        mean_error = np.square(np.subtract(actual,predicted)).mean()\n",
    "        return math.sqrt(mean_error)\n",
    "\n",
    "    def mae_metric(actual, predicted):\n",
    "        y_true, predicted = np.array(actual), np.array(predicted)\n",
    "        return np.mean(np.abs(actual - predicted))\n",
    "\n",
    "    def mape_metric(actual, predicted): \n",
    "        actual, predicted = np.array(actual), np.array(predicted)\n",
    "        return np.mean(np.abs((actual - predicted) / actual)) * 100"
   ]
  },
  {
   "cell_type": "code",
   "execution_count": 3,
   "metadata": {},
   "outputs": [],
   "source": [
    "class DataLoad:\n",
    "    def read_data(start_date,end_date, symbol_dataset):\n",
    "        df = []\n",
    "        df = yf.download(symbol_dataset, start=start_date, end=end_date)\n",
    "        \n",
    "        return df"
   ]
  },
  {
   "cell_type": "code",
   "execution_count": 4,
   "metadata": {},
   "outputs": [],
   "source": [
    "class Preprocessing:\n",
    "    def feature_selection(df):\n",
    "        # Indexing Batches\n",
    "        train_df = df.sort_values(by=['Date']).copy()\n",
    "\n",
    "        # Daftar Fitur yang digunakan\n",
    "        FEATURES = ['High', 'Low', 'Open', 'Close', 'Volume']\n",
    "        data = pd.DataFrame(train_df)\n",
    "        data_filtered = data[FEATURES]\n",
    "\n",
    "        # menambahkan kolom prediksi dan menetapkan nilai dummy untuk menyiapkan data untuk penskalaan\n",
    "        data_filtered_ext = data_filtered.copy()\n",
    "        data_filtered_ext['Prediction'] = data_filtered_ext['Close']\n",
    "        return data_filtered_ext, data_filtered, data\n",
    "    \n",
    "    def reshape_data(data_filtered):\n",
    "        # Dapatkan jumlah baris dalam data\n",
    "        nrows = data_filtered.shape[0]\n",
    "\n",
    "        # Convert the data ke numpy values\n",
    "        np_data_unscaled = np.array(data_filtered)\n",
    "        np_data = np.reshape(np_data_unscaled, (nrows, -1))\n",
    "        \n",
    "        return np_data_unscaled, np_data\n",
    "\n",
    "    def min_max(np_data_unscaled,data_filtered_ext):\n",
    "        scaler = MinMaxScaler(feature_range=(0,1))\n",
    "        np_data_scaled = scaler.fit_transform(np_data_unscaled)\n",
    "\n",
    "        # Membuat scaler terpisah yang berfungsi pada satu kolom untuk prediksi penskalaan\n",
    "        scaler_pred = MinMaxScaler(feature_range=(0,1))\n",
    "        df_Close = pd.DataFrame(data_filtered_ext['Close'])\n",
    "        np_Close_scaled = scaler_pred.fit_transform(df_Close)\n",
    "        \n",
    "        return np_data_scaled, np_Close_scaled, scaler_pred\n",
    "    \n",
    "    def inverse_minmax(y_pred_scaled, y_test):\n",
    "        y_pred = scaler_pred.inverse_transform(y_pred_scaled)\n",
    "        y_test_unscaled = scaler_pred.inverse_transform(y_test.reshape(-1, 1))\n",
    "        \n",
    "        return y_pred, y_test_unscaled\n",
    "    \n",
    "    def partition_dataset(sequence_length, data, index_Close):\n",
    "        x, y = [], []\n",
    "        data_len = data.shape[0]\n",
    "        for i in range(sequence_length, data_len):\n",
    "            x.append(data[i-sequence_length:i,:]) #contains sequence_length values 0-sequence_length * columsn\n",
    "            y.append(data[i, index_Close]) #contains the prediction values for validation,  for single-step prediction\n",
    "\n",
    "        # Convert the x and y to numpy arrays\n",
    "        x = np.array(x)\n",
    "        y = np.array(y)\n",
    "        return x, y\n",
    "    \n",
    "    def splitting_dataset(np_data_scaled,data):\n",
    "        # Set the sequence length - this is the timeframe used to make a single prediction\n",
    "        sequence_length = 1\n",
    "\n",
    "        # Prediction Index\n",
    "        index_Close = data.columns.get_loc(\"Close\")\n",
    "\n",
    "        # Split the training data into train and train data sets\n",
    "        # As a first step, we get the number of rows to train the model on 80% of the data \n",
    "        train_data_len = math.ceil(np_data_scaled.shape[0] * 0.8)\n",
    "\n",
    "        # Create the training and test data\n",
    "        train_data = np_data_scaled[0:train_data_len, :]\n",
    "        test_data = np_data_scaled[train_data_len - sequence_length:, :]\n",
    "        \n",
    "        # Generate training data and test data\n",
    "        x_train, y_train = Preprocessing.partition_dataset(sequence_length, train_data, index_Close)\n",
    "        x_test, y_test = Preprocessing.partition_dataset(sequence_length, test_data, index_Close)\n",
    "        \n",
    "        return x_train, y_train, x_test, y_test, train_data_len"
   ]
  },
  {
   "cell_type": "code",
   "execution_count": 5,
   "metadata": {},
   "outputs": [],
   "source": [
    "class LSTM_unit:\n",
    "    def training_model(x_train, y_train, x_test, y_test, unit, epoch):\n",
    "        # Configure the neural network model\n",
    "        model = Sequential()\n",
    "        model.add(Bidirectional(LSTM(unit, return_sequences=False, \n",
    "                                     input_shape=(x_train.shape[1], \n",
    "                                                  x_train.shape[2]))))\n",
    "        model.add(Dense(1))\n",
    "\n",
    "        # Compile the model\n",
    "        model.compile(optimizer='adam', loss='mse')\n",
    "        # Training the model\n",
    "\n",
    "        history = model.fit(x_train, y_train, \n",
    "                batch_size=16, \n",
    "                epochs=epoch,\n",
    "                validation_data=(x_test, y_test)\n",
    "               )\n",
    "        return x_test, model, history\n",
    "        \n",
    "    def predict_model(x_test,model):\n",
    "        y_pred_scaled = model.predict(x_test)\n",
    "        return y_pred_scaled"
   ]
  },
  {
   "cell_type": "code",
   "execution_count": null,
   "metadata": {},
   "outputs": [],
   "source": []
  },
  {
   "cell_type": "markdown",
   "metadata": {},
   "source": [
    "## Change the indicators"
   ]
  },
  {
   "cell_type": "code",
   "execution_count": 6,
   "metadata": {},
   "outputs": [],
   "source": [
    "#hyperparameters\n",
    "# epochs  = [10,100,1000]\n",
    "# units = [10,50,128]\n",
    "epoch = 10\n",
    "unit = 10"
   ]
  },
  {
   "cell_type": "markdown",
   "metadata": {},
   "source": [
    "## Load the Time Series Data use Yahoo finance"
   ]
  },
  {
   "cell_type": "code",
   "execution_count": 7,
   "metadata": {
    "scrolled": true
   },
   "outputs": [
    {
     "name": "stdout",
     "output_type": "stream",
     "text": [
      "[*********************100%***********************]  1 of 1 completed\n"
     ]
    },
    {
     "data": {
      "text/html": [
       "<div>\n",
       "<style scoped>\n",
       "    .dataframe tbody tr th:only-of-type {\n",
       "        vertical-align: middle;\n",
       "    }\n",
       "\n",
       "    .dataframe tbody tr th {\n",
       "        vertical-align: top;\n",
       "    }\n",
       "\n",
       "    .dataframe thead th {\n",
       "        text-align: right;\n",
       "    }\n",
       "</style>\n",
       "<table border=\"1\" class=\"dataframe\">\n",
       "  <thead>\n",
       "    <tr style=\"text-align: right;\">\n",
       "      <th></th>\n",
       "      <th>Open</th>\n",
       "      <th>High</th>\n",
       "      <th>Low</th>\n",
       "      <th>Close</th>\n",
       "      <th>Adj Close</th>\n",
       "      <th>Volume</th>\n",
       "    </tr>\n",
       "    <tr>\n",
       "      <th>Date</th>\n",
       "      <th></th>\n",
       "      <th></th>\n",
       "      <th></th>\n",
       "      <th></th>\n",
       "      <th></th>\n",
       "      <th></th>\n",
       "    </tr>\n",
       "  </thead>\n",
       "  <tbody>\n",
       "    <tr>\n",
       "      <th>2017-01-02</th>\n",
       "      <td>134.0</td>\n",
       "      <td>134.0</td>\n",
       "      <td>134.0</td>\n",
       "      <td>134.0</td>\n",
       "      <td>134.0</td>\n",
       "      <td>0</td>\n",
       "    </tr>\n",
       "    <tr>\n",
       "      <th>2017-01-03</th>\n",
       "      <td>135.0</td>\n",
       "      <td>139.0</td>\n",
       "      <td>135.0</td>\n",
       "      <td>139.0</td>\n",
       "      <td>139.0</td>\n",
       "      <td>4500</td>\n",
       "    </tr>\n",
       "    <tr>\n",
       "      <th>2017-01-04</th>\n",
       "      <td>139.0</td>\n",
       "      <td>139.0</td>\n",
       "      <td>136.0</td>\n",
       "      <td>136.0</td>\n",
       "      <td>136.0</td>\n",
       "      <td>40500</td>\n",
       "    </tr>\n",
       "    <tr>\n",
       "      <th>2017-01-05</th>\n",
       "      <td>135.0</td>\n",
       "      <td>141.0</td>\n",
       "      <td>135.0</td>\n",
       "      <td>141.0</td>\n",
       "      <td>141.0</td>\n",
       "      <td>6900</td>\n",
       "    </tr>\n",
       "    <tr>\n",
       "      <th>2017-01-06</th>\n",
       "      <td>136.0</td>\n",
       "      <td>140.0</td>\n",
       "      <td>136.0</td>\n",
       "      <td>140.0</td>\n",
       "      <td>140.0</td>\n",
       "      <td>200</td>\n",
       "    </tr>\n",
       "    <tr>\n",
       "      <th>...</th>\n",
       "      <td>...</td>\n",
       "      <td>...</td>\n",
       "      <td>...</td>\n",
       "      <td>...</td>\n",
       "      <td>...</td>\n",
       "      <td>...</td>\n",
       "    </tr>\n",
       "    <tr>\n",
       "      <th>2021-12-24</th>\n",
       "      <td>153.0</td>\n",
       "      <td>157.0</td>\n",
       "      <td>151.0</td>\n",
       "      <td>151.0</td>\n",
       "      <td>151.0</td>\n",
       "      <td>26400</td>\n",
       "    </tr>\n",
       "    <tr>\n",
       "      <th>2021-12-27</th>\n",
       "      <td>151.0</td>\n",
       "      <td>174.0</td>\n",
       "      <td>143.0</td>\n",
       "      <td>174.0</td>\n",
       "      <td>174.0</td>\n",
       "      <td>809900</td>\n",
       "    </tr>\n",
       "    <tr>\n",
       "      <th>2021-12-28</th>\n",
       "      <td>175.0</td>\n",
       "      <td>176.0</td>\n",
       "      <td>162.0</td>\n",
       "      <td>162.0</td>\n",
       "      <td>162.0</td>\n",
       "      <td>914400</td>\n",
       "    </tr>\n",
       "    <tr>\n",
       "      <th>2021-12-29</th>\n",
       "      <td>162.0</td>\n",
       "      <td>164.0</td>\n",
       "      <td>153.0</td>\n",
       "      <td>155.0</td>\n",
       "      <td>155.0</td>\n",
       "      <td>157400</td>\n",
       "    </tr>\n",
       "    <tr>\n",
       "      <th>2021-12-30</th>\n",
       "      <td>154.0</td>\n",
       "      <td>164.0</td>\n",
       "      <td>153.0</td>\n",
       "      <td>153.0</td>\n",
       "      <td>153.0</td>\n",
       "      <td>60600</td>\n",
       "    </tr>\n",
       "  </tbody>\n",
       "</table>\n",
       "<p>1261 rows × 6 columns</p>\n",
       "</div>"
      ],
      "text/plain": [
       "             Open   High    Low  Close  Adj Close  Volume\n",
       "Date                                                     \n",
       "2017-01-02  134.0  134.0  134.0  134.0      134.0       0\n",
       "2017-01-03  135.0  139.0  135.0  139.0      139.0    4500\n",
       "2017-01-04  139.0  139.0  136.0  136.0      136.0   40500\n",
       "2017-01-05  135.0  141.0  135.0  141.0      141.0    6900\n",
       "2017-01-06  136.0  140.0  136.0  140.0      140.0     200\n",
       "...           ...    ...    ...    ...        ...     ...\n",
       "2021-12-24  153.0  157.0  151.0  151.0      151.0   26400\n",
       "2021-12-27  151.0  174.0  143.0  174.0      174.0  809900\n",
       "2021-12-28  175.0  176.0  162.0  162.0      162.0  914400\n",
       "2021-12-29  162.0  164.0  153.0  155.0      155.0  157400\n",
       "2021-12-30  154.0  164.0  153.0  153.0      153.0   60600\n",
       "\n",
       "[1261 rows x 6 columns]"
      ]
     },
     "execution_count": 7,
     "metadata": {},
     "output_type": "execute_result"
    }
   ],
   "source": [
    "# arr_end_date = [\"2017-03-31\", \"2017-12-31\", \"2021-12-31\"]\n",
    "start_date = '2017-01-01'\n",
    "\n",
    "end_date = \"2021-12-31\"\n",
    "\n",
    "symbol_dataset = 'PSDN.jk'\n",
    "# arr_symbol_dataset = [\"GGRM.jk\", \"UNVR.jk\", \"PSDN.jk\"]\n",
    "\n",
    "\n",
    "\n",
    "df = DataLoad.read_data(start_date, end_date,symbol_dataset)\n",
    "\n",
    "\n",
    "if df.shape[0]>=1250:\n",
    "    term_status = \"long\"\n",
    "elif df.shape[0]>=250:\n",
    "    term_status = \"mid\"\n",
    "else:\n",
    "    term_status = \"short\"\n",
    "                \n",
    "\n",
    "\n",
    "# # Create a quick overview of the dataset\n",
    "df"
   ]
  },
  {
   "cell_type": "markdown",
   "metadata": {
    "id": "e7-v9hbD6dBi"
   },
   "source": [
    "## Feature Selection and Scaling"
   ]
  },
  {
   "cell_type": "code",
   "execution_count": 8,
   "metadata": {
    "colab": {
     "base_uri": "https://localhost:8080/",
     "height": 241
    },
    "id": "JH3ICHtG5USz",
    "outputId": "7dc085dd-842b-4025-c829-bbee83380dd1",
    "scrolled": true
   },
   "outputs": [],
   "source": [
    "data_filtered_ext, data_filtered, data = Preprocessing.feature_selection(df)"
   ]
  },
  {
   "cell_type": "code",
   "execution_count": 9,
   "metadata": {
    "colab": {
     "base_uri": "https://localhost:8080/"
    },
    "id": "ZE7tf-p35aiB",
    "outputId": "59340252-5f9b-4917-81c9-4dc61c702ab9"
   },
   "outputs": [],
   "source": [
    "np_data_unscaled, np_data = Preprocessing.reshape_data(data_filtered)"
   ]
  },
  {
   "cell_type": "code",
   "execution_count": 10,
   "metadata": {},
   "outputs": [],
   "source": [
    "np_data_scaled, np_Close_scaled, scaler_pred = Preprocessing.min_max(np_data_unscaled,data_filtered_ext)"
   ]
  },
  {
   "cell_type": "markdown",
   "metadata": {
    "id": "HErrOQbv6W4C"
   },
   "source": [
    "## Split Train and Test"
   ]
  },
  {
   "cell_type": "code",
   "execution_count": 11,
   "metadata": {
    "colab": {
     "base_uri": "https://localhost:8080/"
    },
    "id": "S4nriPMX6aTm",
    "outputId": "9f02b008-70c0-4995-fa47-86e9b48f41a7"
   },
   "outputs": [],
   "source": [
    "x_train, y_train, x_test, y_test, train_data_len = Preprocessing.splitting_dataset(np_data_scaled,data) "
   ]
  },
  {
   "cell_type": "markdown",
   "metadata": {
    "id": "vcMuREaL8NQN"
   },
   "source": [
    "## Train the Multivariable Prediciton Model"
   ]
  },
  {
   "cell_type": "code",
   "execution_count": 12,
   "metadata": {
    "colab": {
     "base_uri": "https://localhost:8080/"
    },
    "id": "cBQZhAU772GH",
    "outputId": "b96990c4-b71e-4f0a-990e-91a316e993a5"
   },
   "outputs": [
    {
     "name": "stdout",
     "output_type": "stream",
     "text": [
      "Epoch 1/10\n",
      "63/63 [==============================] - 7s 32ms/step - loss: 0.0204 - val_loss: 0.0032\n",
      "Epoch 2/10\n",
      "63/63 [==============================] - 0s 3ms/step - loss: 0.0053 - val_loss: 0.0021\n",
      "Epoch 3/10\n",
      "63/63 [==============================] - 0s 4ms/step - loss: 0.0023 - val_loss: 6.0356e-04\n",
      "Epoch 4/10\n",
      "63/63 [==============================] - 0s 3ms/step - loss: 0.0012 - val_loss: 3.4394e-04\n",
      "Epoch 5/10\n",
      "63/63 [==============================] - 0s 3ms/step - loss: 9.3488e-04 - val_loss: 2.6833e-04\n",
      "Epoch 6/10\n",
      "63/63 [==============================] - 0s 3ms/step - loss: 8.9671e-04 - val_loss: 2.1102e-04\n",
      "Epoch 7/10\n",
      "63/63 [==============================] - 0s 3ms/step - loss: 8.9515e-04 - val_loss: 2.2804e-04\n",
      "Epoch 8/10\n",
      "63/63 [==============================] - 0s 3ms/step - loss: 8.7820e-04 - val_loss: 1.9879e-04\n",
      "Epoch 9/10\n",
      "63/63 [==============================] - 0s 3ms/step - loss: 8.6660e-04 - val_loss: 1.9766e-04\n",
      "Epoch 10/10\n",
      "63/63 [==============================] - 0s 3ms/step - loss: 8.5800e-04 - val_loss: 2.6537e-04\n"
     ]
    }
   ],
   "source": [
    "x_test,model,history=LSTM_unit.training_model(x_train, y_train, x_test, y_test, unit, epoch) "
   ]
  },
  {
   "cell_type": "code",
   "execution_count": 13,
   "metadata": {},
   "outputs": [
    {
     "data": {
      "text/plain": [
       "<keras.engine.sequential.Sequential at 0x206c7289c70>"
      ]
     },
     "execution_count": 13,
     "metadata": {},
     "output_type": "execute_result"
    }
   ],
   "source": [
    "model"
   ]
  },
  {
   "cell_type": "code",
   "execution_count": 14,
   "metadata": {},
   "outputs": [
    {
     "data": {
      "text/plain": [
       "array([0.05015674, 0.03761755, 0.05172414, 0.05172414, 0.05172414,\n",
       "       0.05172414, 0.04702194, 0.05172414, 0.05172414, 0.03918495,\n",
       "       0.02821317, 0.02978056, 0.03291536, 0.02507837, 0.03134796,\n",
       "       0.02037618, 0.03291536, 0.02821317, 0.02978056, 0.02507837,\n",
       "       0.02507837, 0.02194357, 0.01724138, 0.00940439, 0.00940439,\n",
       "       0.        , 0.01724138, 0.01253918, 0.02351097, 0.01253918,\n",
       "       0.00783699, 0.00783699, 0.0015674 , 0.01567398, 0.03605016,\n",
       "       0.02351097, 0.01880878, 0.02664577, 0.02507837, 0.02351097,\n",
       "       0.03291536, 0.03134796, 0.02978056, 0.03291536, 0.02194357,\n",
       "       0.02194357, 0.02821317, 0.03134796, 0.05642633, 0.06112853,\n",
       "       0.06426332, 0.06269592, 0.07053292, 0.0799373 , 0.07836991,\n",
       "       0.06896552, 0.07523511, 0.07680251, 0.11442006, 0.10658307,\n",
       "       0.10501567, 0.08777429, 0.07210031, 0.09090909, 0.09404389,\n",
       "       0.09404389, 0.10344828, 0.10344828, 0.10501567, 0.10658307,\n",
       "       0.10815047, 0.10501567, 0.10501567, 0.11442006, 0.12382445,\n",
       "       0.13322884, 0.13793103, 0.13793103, 0.13636364, 0.13793103,\n",
       "       0.12225705, 0.13009404, 0.13322884, 0.13793103, 0.13322884,\n",
       "       0.12225705, 0.10815047, 0.11442006, 0.11755486, 0.13009404,\n",
       "       0.11442006, 0.11128527, 0.10815047, 0.11442006, 0.10815047,\n",
       "       0.11598746, 0.10815047, 0.11598746, 0.11442006, 0.12539185,\n",
       "       0.12539185, 0.12539185, 0.12695925, 0.14106583, 0.13793103,\n",
       "       0.13949843, 0.14733542, 0.14576803, 0.14106583, 0.14263323,\n",
       "       0.14263323, 0.13793103, 0.14420063, 0.13793103, 0.14106583,\n",
       "       0.13949843, 0.15673981, 0.15830721, 0.1677116 , 0.15203762,\n",
       "       0.1645768 , 0.15517241, 0.1645768 , 0.18338558, 0.25548589,\n",
       "       0.22727273, 0.20219436, 0.18025078, 0.22413793, 0.19905956,\n",
       "       0.17711599, 0.15517241, 0.17084639, 0.16144201, 0.1677116 ,\n",
       "       0.17398119, 0.17398119, 0.17711599, 0.17711599, 0.17398119,\n",
       "       0.1677116 , 0.17398119, 0.16144201, 0.15987461, 0.1677116 ,\n",
       "       0.1645768 , 0.15830721, 0.15673981, 0.16144201, 0.1645768 ,\n",
       "       0.15047022, 0.15360502, 0.15360502, 0.14420063, 0.14576803,\n",
       "       0.12695925, 0.10815047, 0.09561129, 0.08777429, 0.10658307,\n",
       "       0.11442006, 0.13009404, 0.13009404, 0.14576803, 0.12539185,\n",
       "       0.10815047, 0.12225705, 0.13009404, 0.12852665, 0.11755486,\n",
       "       0.12225705, 0.12852665, 0.11285266, 0.11128527, 0.11128527,\n",
       "       0.12225705, 0.11755486, 0.12695925, 0.12539185, 0.17084639,\n",
       "       0.15047022, 0.13009404, 0.13479624, 0.12695925, 0.12539185,\n",
       "       0.12539185, 0.12852665, 0.13009404, 0.13636364, 0.13479624,\n",
       "       0.12695925, 0.13009404, 0.13009404, 0.14420063, 0.13166144,\n",
       "       0.13479624, 0.13479624, 0.13479624, 0.12852665, 0.12695925,\n",
       "       0.12695925, 0.11442006, 0.13009404, 0.12695925, 0.12225705,\n",
       "       0.11912226, 0.12382445, 0.12225705, 0.11598746, 0.12539185,\n",
       "       0.11598746, 0.11285266, 0.11912226, 0.12068966, 0.11598746,\n",
       "       0.11598746, 0.11598746, 0.11285266, 0.11755486, 0.11755486,\n",
       "       0.12225705, 0.12225705, 0.11912226, 0.11912226, 0.11912226,\n",
       "       0.12225705, 0.12225705, 0.11755486, 0.11442006, 0.10815047,\n",
       "       0.10501567, 0.09247649, 0.10658307, 0.10501567, 0.10188088,\n",
       "       0.11128527, 0.11598746, 0.10188088, 0.0862069 , 0.0815047 ,\n",
       "       0.0815047 , 0.0799373 , 0.07053292, 0.07366771, 0.0799373 ,\n",
       "       0.10188088, 0.09404389, 0.0846395 , 0.12068966, 0.10188088,\n",
       "       0.09090909, 0.08777429])"
      ]
     },
     "execution_count": 14,
     "metadata": {},
     "output_type": "execute_result"
    }
   ],
   "source": [
    "y_test"
   ]
  },
  {
   "cell_type": "code",
   "execution_count": 15,
   "metadata": {},
   "outputs": [
    {
     "name": "stdout",
     "output_type": "stream",
     "text": [
      "8/8 [==============================] - 1s 2ms/step\n"
     ]
    }
   ],
   "source": [
    "y_pred_scaled = LSTM_unit.predict_model(x_test,model)"
   ]
  },
  {
   "cell_type": "code",
   "execution_count": 16,
   "metadata": {},
   "outputs": [],
   "source": [
    "y_pred, y_test_unscaled = Preprocessing.inverse_minmax(y_pred_scaled, y_test)\n"
   ]
  },
  {
   "cell_type": "code",
   "execution_count": 17,
   "metadata": {},
   "outputs": [
    {
     "name": "stdout",
     "output_type": "stream",
     "text": [
      "Jumlah data y_train: 1008\n",
      "Jumlah data y_pred: 252\n",
      "Jumlah data y_test_unscaled: 252\n"
     ]
    }
   ],
   "source": [
    "print(f'Jumlah data y_train: {y_train.shape[0]}')\n",
    "print(f'Jumlah data y_pred: {y_pred.shape[0]}')\n",
    "print(f'Jumlah data y_test_unscaled: {y_test_unscaled.shape[0]}')"
   ]
  },
  {
   "cell_type": "code",
   "execution_count": 18,
   "metadata": {},
   "outputs": [],
   "source": [
    "def plot_metric(history, metric):\n",
    "    train_metrics = history.history[metric]\n",
    "    val_metrics = history.history['val_'+metric]\n",
    "    epochs = range(1, len(train_metrics) + 1)\n",
    "    plt.plot(epochs, train_metrics)\n",
    "    plt.plot(epochs, val_metrics)\n",
    "    plt.title('Training and validation '+ metric)\n",
    "    plt.xlabel(\"Epochs\")\n",
    "    plt.ylabel(metric)\n",
    "    plt.legend([\"train_\"+metric, 'val_'+metric])\n",
    "    plt.show()"
   ]
  },
  {
   "cell_type": "code",
   "execution_count": null,
   "metadata": {},
   "outputs": [],
   "source": []
  },
  {
   "cell_type": "code",
   "execution_count": 19,
   "metadata": {},
   "outputs": [
    {
     "data": {
      "image/png": "[encoded data removed]",
      "text/plain": [
       "<Figure size 432x288 with 1 Axes>"
      ]
     },
     "metadata": {
      "needs_background": "light"
     },
     "output_type": "display_data"
    }
   ],
   "source": [
    "plot_metric(history, 'loss')"
   ]
  },
  {
   "cell_type": "code",
   "execution_count": 20,
   "metadata": {},
   "outputs": [
    {
     "data": {
      "image/png": "[encoded data removed]",
      "text/plain": [
       "<Figure size 1152x360 with 1 Axes>"
      ]
     },
     "metadata": {
      "needs_background": "light"
     },
     "output_type": "display_data"
    }
   ],
   "source": [
    "# # Plot training & validation loss values\n",
    "fig, ax = plt.subplots(figsize=(16, 5), sharex=True)\n",
    "sns.lineplot(data=history.history[\"loss\"])\n",
    "plt.title(\"Model loss\")\n",
    "plt.ylabel(\"Loss\")\n",
    "plt.xlabel(\"Epoch\")\n",
    "ax.xaxis.set_major_locator(plt.MaxNLocator(epoch))\n",
    "plt.legend([\"Train\"], loc=\"upper left\")\n",
    "plt.grid()\n",
    "plt.show()"
   ]
  },
  {
   "cell_type": "markdown",
   "metadata": {
    "id": "59KO_S548paO"
   },
   "source": [
    "## Evaluate Model performance"
   ]
  },
  {
   "cell_type": "code",
   "execution_count": 21,
   "metadata": {
    "colab": {
     "base_uri": "https://localhost:8080/"
    },
    "id": "S6lrdYq38h8H",
    "outputId": "67e977e0-68a3-4a2b-973e-c6ae68ef11a3"
   },
   "outputs": [
    {
     "name": "stdout",
     "output_type": "stream",
     "text": [
      "Root Mean Square Error (RMSE): 10.39\n",
      "Median Absolute Error (MAE): 7.6\n",
      "Mean Absolute Percentage Error (MAPE): 4.91 %\n"
     ]
    }
   ],
   "source": [
    "# Root Mean Square Error (RMSE)\n",
    "RMSE = EvaluasiForecasting.rmse_metric(y_test_unscaled, y_pred)\n",
    "RMSE = np.round(RMSE, 2)\n",
    "print(f'Root Mean Square Error (RMSE): {RMSE}')\n",
    "\n",
    "# Mean Absolute Error (MAE)\n",
    "MAE = EvaluasiForecasting.mae_metric(y_test_unscaled, y_pred)\n",
    "MAE = np.round(MAE, 2)\n",
    "print(f'Median Absolute Error (MAE): {MAE}')\n",
    "\n",
    "# Mean Absolute Percentage Error (MAPE)\n",
    "MAPE = EvaluasiForecasting.mape_metric(y_test_unscaled, y_pred)\n",
    "MAPE = np.round(MAPE, 2)\n",
    "print(f'Mean Absolute Percentage Error (MAPE): {MAPE} %')"
   ]
  },
  {
   "cell_type": "markdown",
   "metadata": {},
   "source": [
    "## Visualize the Data"
   ]
  },
  {
   "cell_type": "code",
   "execution_count": 22,
   "metadata": {},
   "outputs": [
    {
     "data": {
      "image/png": "[encoded data removed]",
      "text/plain": [
       "<Figure size 1152x576 with 1 Axes>"
      ]
     },
     "metadata": {
      "needs_background": "light"
     },
     "output_type": "display_data"
    }
   ],
   "source": [
    "# The date from which on the date is displayed\n",
    "display_start_date = start_date\n",
    "\n",
    "\n",
    "# Add the difference between the valid and predicted prices\n",
    "train = pd.DataFrame(data_filtered_ext['Close'][:train_data_len]).rename(columns={'Close': 'y_train'})\n",
    "valid = pd.DataFrame(data_filtered_ext['Close'][train_data_len:]).rename(columns={'Close': 'y_test'})\n",
    "valid.insert(1, \"y_pred\", y_pred, True)\n",
    "# valid.insert(1, \"residuals\", valid[\"y_pred\"] - valid[\"y_test\"], True)\n",
    "df_union = pd.concat([train, valid])\n",
    "\n",
    "# Zoom in to a closer timeframe\n",
    "df_union_zoom = df_union[df_union.index > display_start_date]\n",
    "\n",
    "# Create the lineplot\n",
    "fig, ax1 = plt.subplots(figsize=(16, 8))\n",
    "plt.title(\"Predict Data vs Test Data\")\n",
    "\n",
    "sns.set_palette([\"#FF0000\", \"#1960EF\", \"#00FF00\"])\n",
    "sns.lineplot(data=df_union_zoom[['y_pred', 'y_train', 'y_test']], linewidth=1.0, dashes=False, ax=ax1)\n",
    "\n",
    "# Create the bar plot with the differences\n",
    "# df_sub = [\"#2BC97A\" if x > 0 else \"#C92B2B\" for x in df_union_zoom[\"residuals\"].dropna()]\n",
    "# ax1.bar(height=df_union_zoom['residuals'].dropna(), x=df_union_zoom['residuals'].dropna().index, width=3, label='residuals', color=df_sub)\n",
    "# plt.savefig(\"../results/LSTM/plots/\" + symbol_dataset +'_LSTM-'+ \n",
    "#                             term_status + '_e='+ str(epoch) +'_u='+ str(unit) + '.pdf')\n",
    "plt.legend()\n",
    "plt.show()"
   ]
  },
  {
   "cell_type": "code",
   "execution_count": 23,
   "metadata": {},
   "outputs": [
    {
     "data": {
      "text/plain": [
       "<matplotlib.legend.Legend at 0x206d36886a0>"
      ]
     },
     "execution_count": 23,
     "metadata": {},
     "output_type": "execute_result"
    },
    {
     "data": {
      "text/plain": [
       "<Figure size 432x288 with 0 Axes>"
      ]
     },
     "metadata": {},
     "output_type": "display_data"
    },
    {
     "data": {
      "image/png": "[encoded data removed]",
      "text/plain": [
       "<Figure size 1152x576 with 1 Axes>"
      ]
     },
     "metadata": {
      "needs_background": "light"
     },
     "output_type": "display_data"
    }
   ],
   "source": [
    "plt.figure()\n",
    "plt.subplots(figsize=(16, 8))\n",
    "plt.plot(df_union_zoom['y_test'], color = 'red', label = 'Real Stock Price')\n",
    "plt.plot(df_union_zoom['y_pred'], color = 'blue', label = 'Predicted Stock Price')\n",
    "plt.title(symbol_dataset +\"-\"+ term_status +' Term Stock Prediction, epochs: '+ str(epoch) +'; units: '+str(unit))\n",
    "plt.xlabel('Time')\n",
    "plt.ylabel(symbol_dataset +' Stock Price ')\n",
    "plt.legend()"
   ]
  },
  {
   "cell_type": "markdown",
   "metadata": {
    "id": "2P6qwZrW8u-W"
   },
   "source": [
    "## Save a new Dataset"
   ]
  },
  {
   "cell_type": "code",
   "execution_count": 24,
   "metadata": {},
   "outputs": [],
   "source": [
    "new_data = pd.DataFrame(data_filtered_ext['Close'][train_data_len:]).rename(columns={'Close': 'real_close'})\n",
    "new_data['close_lstm'] = y_pred"
   ]
  },
  {
   "cell_type": "code",
   "execution_count": 25,
   "metadata": {},
   "outputs": [],
   "source": [
    "#save to dataset\n",
    "df_new_data = pd.DataFrame(new_data)"
   ]
  },
  {
   "cell_type": "code",
   "execution_count": 26,
   "metadata": {},
   "outputs": [],
   "source": [
    "# df_new_data.tail()"
   ]
  },
  {
   "cell_type": "code",
   "execution_count": 27,
   "metadata": {},
   "outputs": [],
   "source": [
    "df_new_data.to_csv(\"../results/LSTM/datasets/\" + term_status + \"/\"+ symbol_dataset\n",
    "                +'_LSTM-'+ term_status + '_e='+ str(epoch) +'_u='+ str(unit) + '.csv', index=True)"
   ]
  },
  {
   "cell_type": "code",
   "execution_count": 28,
   "metadata": {},
   "outputs": [
    {
     "data": {
      "text/html": [
       "<div>\n",
       "<style scoped>\n",
       "    .dataframe tbody tr th:only-of-type {\n",
       "        vertical-align: middle;\n",
       "    }\n",
       "\n",
       "    .dataframe tbody tr th {\n",
       "        vertical-align: top;\n",
       "    }\n",
       "\n",
       "    .dataframe thead th {\n",
       "        text-align: right;\n",
       "    }\n",
       "</style>\n",
       "<table border=\"1\" class=\"dataframe\">\n",
       "  <thead>\n",
       "    <tr style=\"text-align: right;\">\n",
       "      <th></th>\n",
       "      <th>Date</th>\n",
       "      <th>real_close</th>\n",
       "      <th>close_lstm</th>\n",
       "    </tr>\n",
       "  </thead>\n",
       "  <tbody>\n",
       "    <tr>\n",
       "      <th>0</th>\n",
       "      <td>2020-12-22</td>\n",
       "      <td>129.0</td>\n",
       "      <td>127.96194</td>\n",
       "    </tr>\n",
       "    <tr>\n",
       "      <th>1</th>\n",
       "      <td>2020-12-23</td>\n",
       "      <td>121.0</td>\n",
       "      <td>132.19576</td>\n",
       "    </tr>\n",
       "    <tr>\n",
       "      <th>2</th>\n",
       "      <td>2020-12-28</td>\n",
       "      <td>130.0</td>\n",
       "      <td>131.15524</td>\n",
       "    </tr>\n",
       "    <tr>\n",
       "      <th>3</th>\n",
       "      <td>2020-12-29</td>\n",
       "      <td>130.0</td>\n",
       "      <td>131.38177</td>\n",
       "    </tr>\n",
       "    <tr>\n",
       "      <th>4</th>\n",
       "      <td>2020-12-30</td>\n",
       "      <td>130.0</td>\n",
       "      <td>137.01035</td>\n",
       "    </tr>\n",
       "    <tr>\n",
       "      <th>...</th>\n",
       "      <td>...</td>\n",
       "      <td>...</td>\n",
       "      <td>...</td>\n",
       "    </tr>\n",
       "    <tr>\n",
       "      <th>247</th>\n",
       "      <td>2021-12-24</td>\n",
       "      <td>151.0</td>\n",
       "      <td>163.95010</td>\n",
       "    </tr>\n",
       "    <tr>\n",
       "      <th>248</th>\n",
       "      <td>2021-12-27</td>\n",
       "      <td>174.0</td>\n",
       "      <td>158.45409</td>\n",
       "    </tr>\n",
       "    <tr>\n",
       "      <th>249</th>\n",
       "      <td>2021-12-28</td>\n",
       "      <td>162.0</td>\n",
       "      <td>166.95343</td>\n",
       "    </tr>\n",
       "    <tr>\n",
       "      <th>250</th>\n",
       "      <td>2021-12-29</td>\n",
       "      <td>155.0</td>\n",
       "      <td>174.01591</td>\n",
       "    </tr>\n",
       "    <tr>\n",
       "      <th>251</th>\n",
       "      <td>2021-12-30</td>\n",
       "      <td>153.0</td>\n",
       "      <td>163.79364</td>\n",
       "    </tr>\n",
       "  </tbody>\n",
       "</table>\n",
       "<p>252 rows × 3 columns</p>\n",
       "</div>"
      ],
      "text/plain": [
       "           Date  real_close  close_lstm\n",
       "0    2020-12-22       129.0   127.96194\n",
       "1    2020-12-23       121.0   132.19576\n",
       "2    2020-12-28       130.0   131.15524\n",
       "3    2020-12-29       130.0   131.38177\n",
       "4    2020-12-30       130.0   137.01035\n",
       "..          ...         ...         ...\n",
       "247  2021-12-24       151.0   163.95010\n",
       "248  2021-12-27       174.0   158.45409\n",
       "249  2021-12-28       162.0   166.95343\n",
       "250  2021-12-29       155.0   174.01591\n",
       "251  2021-12-30       153.0   163.79364\n",
       "\n",
       "[252 rows x 3 columns]"
      ]
     },
     "execution_count": 28,
     "metadata": {},
     "output_type": "execute_result"
    }
   ],
   "source": [
    "read_new_data = pd.read_csv(\"../results/LSTM/datasets/\"+ term_status + \"/\"+ symbol_dataset\n",
    "                   +'_LSTM-'+ term_status + '_e='+ str(epoch) +'_u='+ str(unit) + '.csv')\n",
    "read_new_data"
   ]
  },
  {
   "cell_type": "markdown",
   "metadata": {},
   "source": [
    "## insert to Database"
   ]
  },
  {
   "cell_type": "code",
   "execution_count": 24,
   "metadata": {},
   "outputs": [],
   "source": [
    "# #connect database\n",
    "# mydb = mysql.connect(\n",
    "#     host=\"localhost\",\n",
    "#     user=\"root\",\n",
    "#     password=\"\",\n",
    "#     database=\"db_tugasakhir\"\n",
    "# )\n",
    "# mycursor = mydb.cursor()\n",
    "\n",
    "# #insert to database\n",
    "# sql = \"INSERT INTO pengujian_lstm (datasets, start_dates, end_dates,epochs, units, RMSE, MAE, MAPE) VALUES (%s,%s,%s,%s,%s,%s,%s,%s)\"\n",
    "# val = (symbol_dataset, start_date, end_date, epochs, unit, RMSE, MAE, MAPE)\n",
    "\n",
    "# mycursor.execute(sql,val)\n",
    "# mydb.commit()"
   ]
  },
  {
   "cell_type": "code",
   "execution_count": null,
   "metadata": {},
   "outputs": [],
   "source": []
  }
 ],
 "metadata": {
  "colab": {
   "collapsed_sections": [],
   "provenance": []
  },
  "kernelspec": {
   "display_name": "Python 3 (ipykernel)",
   "language": "python",
   "name": "python3"
  },
  "language_info": {
   "codemirror_mode": {
    "name": "ipython",
    "version": 3
   },
   "file_extension": ".py",
   "mimetype": "text/x-python",
   "name": "python",
   "nbconvert_exporter": "python",
   "pygments_lexer": "ipython3",
   "version": "3.9.12"
  }
 },
 "nbformat": 4,
 "nbformat_minor": 1
}
