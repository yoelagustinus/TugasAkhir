{
 "cells": [
  {
   "cell_type": "markdown",
   "metadata": {
    "id": "DjVETfWh5ksz"
   },
   "source": [
    "# Time Series Forecasting - Multivariable Time Series Models for Stock Market Prediction\n",
    "\n",
    "## import Packages"
   ]
  },
  {
   "cell_type": "code",
   "execution_count": 1,
   "metadata": {
    "colab": {
     "base_uri": "https://localhost:8080/",
     "height": 424
    },
    "id": "kPwzikVX49b5",
    "outputId": "e377c0a8-e840-480e-ea26-8ac9a42ec435"
   },
   "outputs": [],
   "source": [
    "import math \n",
    "import numpy as np \n",
    "import pandas as pd \n",
    "from datetime import date, timedelta, datetime \n",
    "from pandas.plotting import register_matplotlib_converters \n",
    "import matplotlib.pyplot as plt \n",
    "import matplotlib.dates as mdates \n",
    "import tensorflow as tf\n",
    "from sklearn.metrics import mean_absolute_error, mean_squared_error, mean_absolute_percentage_error\n",
    "from tensorflow.keras import Sequential \n",
    "from tensorflow.keras.layers import LSTM, Dense, Dropout\n",
    "from tensorflow.keras.callbacks import EarlyStopping\n",
    "from tensorflow.keras.layers import Bidirectional\n",
    "from sklearn.preprocessing import RobustScaler, MinMaxScaler\n",
    "import seaborn as sns \n",
    "import mysql.connector as mysql\n",
    "import yfinance as yf\n"
   ]
  },
  {
   "cell_type": "markdown",
   "metadata": {},
   "source": [
    "## RMSE, MAE, MAPE"
   ]
  },
  {
   "cell_type": "code",
   "execution_count": 2,
   "metadata": {},
   "outputs": [],
   "source": [
    "def rmse_metric(actual, predicted):\n",
    "    mean_error = np.square(np.subtract(actual,predicted)).mean()\n",
    "    return math.sqrt(mean_error)\n",
    "\n",
    "def mae_metric(actual, predicted):\n",
    "    y_true, predicted = np.array(actual), np.array(predicted)\n",
    "    return np.mean(np.abs(actual - predicted))\n",
    "    \n",
    "def mape_metric(actual, predicted): \n",
    "    actual, predicted = np.array(actual), np.array(predicted)\n",
    "    return np.mean(np.abs((actual - predicted) / actual)) * 100"
   ]
  },
  {
   "cell_type": "code",
   "execution_count": null,
   "metadata": {},
   "outputs": [],
   "source": []
  },
  {
   "cell_type": "markdown",
   "metadata": {},
   "source": [
    "## Change the indicators"
   ]
  },
  {
   "cell_type": "code",
   "execution_count": 3,
   "metadata": {},
   "outputs": [],
   "source": [
    "#hyperparameters\n",
    "# epochs  = [10,100,1000]\n",
    "# units = [10,50,128]\n",
    "epoch = 10\n",
    "unit = 10"
   ]
  },
  {
   "cell_type": "markdown",
   "metadata": {},
   "source": [
    "## Load the Time Series Data use Yahoo finance"
   ]
  },
  {
   "cell_type": "code",
   "execution_count": 4,
   "metadata": {
    "scrolled": true
   },
   "outputs": [
    {
     "name": "stdout",
     "output_type": "stream",
     "text": [
      "[*********************100%***********************]  1 of 1 completed\n"
     ]
    },
    {
     "data": {
      "text/html": [
       "<div>\n",
       "<style scoped>\n",
       "    .dataframe tbody tr th:only-of-type {\n",
       "        vertical-align: middle;\n",
       "    }\n",
       "\n",
       "    .dataframe tbody tr th {\n",
       "        vertical-align: top;\n",
       "    }\n",
       "\n",
       "    .dataframe thead th {\n",
       "        text-align: right;\n",
       "    }\n",
       "</style>\n",
       "<table border=\"1\" class=\"dataframe\">\n",
       "  <thead>\n",
       "    <tr style=\"text-align: right;\">\n",
       "      <th></th>\n",
       "      <th>Open</th>\n",
       "      <th>High</th>\n",
       "      <th>Low</th>\n",
       "      <th>Close</th>\n",
       "      <th>Adj Close</th>\n",
       "      <th>Volume</th>\n",
       "    </tr>\n",
       "    <tr>\n",
       "      <th>Date</th>\n",
       "      <th></th>\n",
       "      <th></th>\n",
       "      <th></th>\n",
       "      <th></th>\n",
       "      <th></th>\n",
       "      <th></th>\n",
       "    </tr>\n",
       "  </thead>\n",
       "  <tbody>\n",
       "    <tr>\n",
       "      <th>2017-01-02</th>\n",
       "      <td>134.0</td>\n",
       "      <td>134.0</td>\n",
       "      <td>134.0</td>\n",
       "      <td>134.0</td>\n",
       "      <td>134.0</td>\n",
       "      <td>0</td>\n",
       "    </tr>\n",
       "    <tr>\n",
       "      <th>2017-01-03</th>\n",
       "      <td>135.0</td>\n",
       "      <td>139.0</td>\n",
       "      <td>135.0</td>\n",
       "      <td>139.0</td>\n",
       "      <td>139.0</td>\n",
       "      <td>4500</td>\n",
       "    </tr>\n",
       "    <tr>\n",
       "      <th>2017-01-04</th>\n",
       "      <td>139.0</td>\n",
       "      <td>139.0</td>\n",
       "      <td>136.0</td>\n",
       "      <td>136.0</td>\n",
       "      <td>136.0</td>\n",
       "      <td>40500</td>\n",
       "    </tr>\n",
       "    <tr>\n",
       "      <th>2017-01-05</th>\n",
       "      <td>135.0</td>\n",
       "      <td>141.0</td>\n",
       "      <td>135.0</td>\n",
       "      <td>141.0</td>\n",
       "      <td>141.0</td>\n",
       "      <td>6900</td>\n",
       "    </tr>\n",
       "    <tr>\n",
       "      <th>2017-01-06</th>\n",
       "      <td>136.0</td>\n",
       "      <td>140.0</td>\n",
       "      <td>136.0</td>\n",
       "      <td>140.0</td>\n",
       "      <td>140.0</td>\n",
       "      <td>200</td>\n",
       "    </tr>\n",
       "    <tr>\n",
       "      <th>...</th>\n",
       "      <td>...</td>\n",
       "      <td>...</td>\n",
       "      <td>...</td>\n",
       "      <td>...</td>\n",
       "      <td>...</td>\n",
       "      <td>...</td>\n",
       "    </tr>\n",
       "    <tr>\n",
       "      <th>2017-03-22</th>\n",
       "      <td>160.0</td>\n",
       "      <td>161.0</td>\n",
       "      <td>160.0</td>\n",
       "      <td>161.0</td>\n",
       "      <td>161.0</td>\n",
       "      <td>4400</td>\n",
       "    </tr>\n",
       "    <tr>\n",
       "      <th>2017-03-23</th>\n",
       "      <td>170.0</td>\n",
       "      <td>170.0</td>\n",
       "      <td>162.0</td>\n",
       "      <td>162.0</td>\n",
       "      <td>162.0</td>\n",
       "      <td>10800</td>\n",
       "    </tr>\n",
       "    <tr>\n",
       "      <th>2017-03-24</th>\n",
       "      <td>170.0</td>\n",
       "      <td>181.0</td>\n",
       "      <td>144.0</td>\n",
       "      <td>146.0</td>\n",
       "      <td>146.0</td>\n",
       "      <td>13006800</td>\n",
       "    </tr>\n",
       "    <tr>\n",
       "      <th>2017-03-27</th>\n",
       "      <td>146.0</td>\n",
       "      <td>151.0</td>\n",
       "      <td>146.0</td>\n",
       "      <td>146.0</td>\n",
       "      <td>146.0</td>\n",
       "      <td>190900</td>\n",
       "    </tr>\n",
       "    <tr>\n",
       "      <th>2017-03-29</th>\n",
       "      <td>140.0</td>\n",
       "      <td>152.0</td>\n",
       "      <td>140.0</td>\n",
       "      <td>146.0</td>\n",
       "      <td>146.0</td>\n",
       "      <td>317600</td>\n",
       "    </tr>\n",
       "  </tbody>\n",
       "</table>\n",
       "<p>62 rows × 6 columns</p>\n",
       "</div>"
      ],
      "text/plain": [
       "             Open   High    Low  Close  Adj Close    Volume\n",
       "Date                                                       \n",
       "2017-01-02  134.0  134.0  134.0  134.0      134.0         0\n",
       "2017-01-03  135.0  139.0  135.0  139.0      139.0      4500\n",
       "2017-01-04  139.0  139.0  136.0  136.0      136.0     40500\n",
       "2017-01-05  135.0  141.0  135.0  141.0      141.0      6900\n",
       "2017-01-06  136.0  140.0  136.0  140.0      140.0       200\n",
       "...           ...    ...    ...    ...        ...       ...\n",
       "2017-03-22  160.0  161.0  160.0  161.0      161.0      4400\n",
       "2017-03-23  170.0  170.0  162.0  162.0      162.0     10800\n",
       "2017-03-24  170.0  181.0  144.0  146.0      146.0  13006800\n",
       "2017-03-27  146.0  151.0  146.0  146.0      146.0    190900\n",
       "2017-03-29  140.0  152.0  140.0  146.0      146.0    317600\n",
       "\n",
       "[62 rows x 6 columns]"
      ]
     },
     "execution_count": 4,
     "metadata": {},
     "output_type": "execute_result"
    }
   ],
   "source": [
    "\n",
    "start_date = '2017-01-01'\n",
    "\n",
    "end_date = '2017-03-30'\n",
    "symbol_dataset = 'PSDN.jk'\n",
    "\n",
    "# arr_end_date = ['2021-12-31','2017-12-31', '2017-03-30']\n",
    "# arr_symbol_dataset = ['UNVR.jk', 'GGRM.jk', 'PSDN.jk']\n",
    "\n",
    "# jumlah_pengujian = 0\n",
    "# for index_dataset in arr_symbol_dataset:\n",
    "#     for index_end_date in arr_end_date:\n",
    "#         for epoch in epochs:\n",
    "#             for unit in units: \n",
    "                \n",
    "#                 jumlah_pengujian+=1\n",
    "#                 df = yf.download(index_dataset, start=start_date, end=index_end_date)\n",
    "#                 if df.shape[0]>=1250:\n",
    "#                     term_status = \"long\"\n",
    "#                 elif df.shape[0]>=250:\n",
    "#                     term_status = \"mid\"\n",
    "#                 else:\n",
    "#                     term_status = \"short\"\n",
    "                \n",
    "#                 print(\"pengujian ke-\" + str(jumlah_pengujian))\n",
    "#                 print(\"Data Saham = \" + index_dataset + term_status)\n",
    "#                 print(\"Start = \" + start_date)\n",
    "#                 print(\"End = \" + index_end_date)\n",
    "                \n",
    "#                 print(\"epochs = \" + str(epoch))\n",
    "#                 print(\"unit = \" + str(unit))\n",
    "                \n",
    "#                 print(\"==================================\")\n",
    "\n",
    "        \n",
    "\n",
    "\n",
    "\n",
    "df = yf.download(symbol_dataset, start=start_date, end=end_date)\n",
    "if df.shape[0]>=1250:\n",
    "    term_status = \"long\"\n",
    "elif df.shape[0]>=250:\n",
    "    term_status = \"mid\"\n",
    "else:\n",
    "    term_status = \"short\"\n",
    "                \n",
    "\n",
    "\n",
    "# # Create a quick overview of the dataset\n",
    "df"
   ]
  },
  {
   "cell_type": "markdown",
   "metadata": {},
   "source": [
    "# Preprocessing"
   ]
  },
  {
   "cell_type": "markdown",
   "metadata": {},
   "source": [
    "## Cek and Imputation missing value"
   ]
  },
  {
   "cell_type": "code",
   "execution_count": 5,
   "metadata": {},
   "outputs": [
    {
     "data": {
      "text/plain": [
       "Open         0\n",
       "High         0\n",
       "Low          0\n",
       "Close        0\n",
       "Adj Close    0\n",
       "Volume       0\n",
       "dtype: int64"
      ]
     },
     "execution_count": 5,
     "metadata": {},
     "output_type": "execute_result"
    }
   ],
   "source": [
    "df.isnull().sum()"
   ]
  },
  {
   "cell_type": "code",
   "execution_count": 6,
   "metadata": {},
   "outputs": [],
   "source": [
    "# jika ada data yang null, run this code\n",
    "\n",
    "# df = df.fillna(df.mean())"
   ]
  },
  {
   "cell_type": "code",
   "execution_count": 7,
   "metadata": {},
   "outputs": [
    {
     "data": {
      "text/html": [
       "<div>\n",
       "<style scoped>\n",
       "    .dataframe tbody tr th:only-of-type {\n",
       "        vertical-align: middle;\n",
       "    }\n",
       "\n",
       "    .dataframe tbody tr th {\n",
       "        vertical-align: top;\n",
       "    }\n",
       "\n",
       "    .dataframe thead th {\n",
       "        text-align: right;\n",
       "    }\n",
       "</style>\n",
       "<table border=\"1\" class=\"dataframe\">\n",
       "  <thead>\n",
       "    <tr style=\"text-align: right;\">\n",
       "      <th></th>\n",
       "      <th>Open</th>\n",
       "      <th>High</th>\n",
       "      <th>Low</th>\n",
       "      <th>Close</th>\n",
       "      <th>Adj Close</th>\n",
       "      <th>Volume</th>\n",
       "    </tr>\n",
       "    <tr>\n",
       "      <th>Date</th>\n",
       "      <th></th>\n",
       "      <th></th>\n",
       "      <th></th>\n",
       "      <th></th>\n",
       "      <th></th>\n",
       "      <th></th>\n",
       "    </tr>\n",
       "  </thead>\n",
       "  <tbody>\n",
       "    <tr>\n",
       "      <th>2017-01-02</th>\n",
       "      <td>134.0</td>\n",
       "      <td>134.0</td>\n",
       "      <td>134.0</td>\n",
       "      <td>134.0</td>\n",
       "      <td>134.0</td>\n",
       "      <td>0</td>\n",
       "    </tr>\n",
       "    <tr>\n",
       "      <th>2017-01-03</th>\n",
       "      <td>135.0</td>\n",
       "      <td>139.0</td>\n",
       "      <td>135.0</td>\n",
       "      <td>139.0</td>\n",
       "      <td>139.0</td>\n",
       "      <td>4500</td>\n",
       "    </tr>\n",
       "    <tr>\n",
       "      <th>2017-01-04</th>\n",
       "      <td>139.0</td>\n",
       "      <td>139.0</td>\n",
       "      <td>136.0</td>\n",
       "      <td>136.0</td>\n",
       "      <td>136.0</td>\n",
       "      <td>40500</td>\n",
       "    </tr>\n",
       "    <tr>\n",
       "      <th>2017-01-05</th>\n",
       "      <td>135.0</td>\n",
       "      <td>141.0</td>\n",
       "      <td>135.0</td>\n",
       "      <td>141.0</td>\n",
       "      <td>141.0</td>\n",
       "      <td>6900</td>\n",
       "    </tr>\n",
       "    <tr>\n",
       "      <th>2017-01-06</th>\n",
       "      <td>136.0</td>\n",
       "      <td>140.0</td>\n",
       "      <td>136.0</td>\n",
       "      <td>140.0</td>\n",
       "      <td>140.0</td>\n",
       "      <td>200</td>\n",
       "    </tr>\n",
       "    <tr>\n",
       "      <th>...</th>\n",
       "      <td>...</td>\n",
       "      <td>...</td>\n",
       "      <td>...</td>\n",
       "      <td>...</td>\n",
       "      <td>...</td>\n",
       "      <td>...</td>\n",
       "    </tr>\n",
       "    <tr>\n",
       "      <th>2017-03-22</th>\n",
       "      <td>160.0</td>\n",
       "      <td>161.0</td>\n",
       "      <td>160.0</td>\n",
       "      <td>161.0</td>\n",
       "      <td>161.0</td>\n",
       "      <td>4400</td>\n",
       "    </tr>\n",
       "    <tr>\n",
       "      <th>2017-03-23</th>\n",
       "      <td>170.0</td>\n",
       "      <td>170.0</td>\n",
       "      <td>162.0</td>\n",
       "      <td>162.0</td>\n",
       "      <td>162.0</td>\n",
       "      <td>10800</td>\n",
       "    </tr>\n",
       "    <tr>\n",
       "      <th>2017-03-24</th>\n",
       "      <td>170.0</td>\n",
       "      <td>181.0</td>\n",
       "      <td>144.0</td>\n",
       "      <td>146.0</td>\n",
       "      <td>146.0</td>\n",
       "      <td>13006800</td>\n",
       "    </tr>\n",
       "    <tr>\n",
       "      <th>2017-03-27</th>\n",
       "      <td>146.0</td>\n",
       "      <td>151.0</td>\n",
       "      <td>146.0</td>\n",
       "      <td>146.0</td>\n",
       "      <td>146.0</td>\n",
       "      <td>190900</td>\n",
       "    </tr>\n",
       "    <tr>\n",
       "      <th>2017-03-29</th>\n",
       "      <td>140.0</td>\n",
       "      <td>152.0</td>\n",
       "      <td>140.0</td>\n",
       "      <td>146.0</td>\n",
       "      <td>146.0</td>\n",
       "      <td>317600</td>\n",
       "    </tr>\n",
       "  </tbody>\n",
       "</table>\n",
       "<p>62 rows × 6 columns</p>\n",
       "</div>"
      ],
      "text/plain": [
       "             Open   High    Low  Close  Adj Close    Volume\n",
       "Date                                                       \n",
       "2017-01-02  134.0  134.0  134.0  134.0      134.0         0\n",
       "2017-01-03  135.0  139.0  135.0  139.0      139.0      4500\n",
       "2017-01-04  139.0  139.0  136.0  136.0      136.0     40500\n",
       "2017-01-05  135.0  141.0  135.0  141.0      141.0      6900\n",
       "2017-01-06  136.0  140.0  136.0  140.0      140.0       200\n",
       "...           ...    ...    ...    ...        ...       ...\n",
       "2017-03-22  160.0  161.0  160.0  161.0      161.0      4400\n",
       "2017-03-23  170.0  170.0  162.0  162.0      162.0     10800\n",
       "2017-03-24  170.0  181.0  144.0  146.0      146.0  13006800\n",
       "2017-03-27  146.0  151.0  146.0  146.0      146.0    190900\n",
       "2017-03-29  140.0  152.0  140.0  146.0      146.0    317600\n",
       "\n",
       "[62 rows x 6 columns]"
      ]
     },
     "execution_count": 7,
     "metadata": {},
     "output_type": "execute_result"
    }
   ],
   "source": [
    "df"
   ]
  },
  {
   "cell_type": "code",
   "execution_count": 8,
   "metadata": {},
   "outputs": [
    {
     "data": {
      "text/plain": [
       "<matplotlib.legend.Legend at 0x198a8ac3130>"
      ]
     },
     "execution_count": 8,
     "metadata": {},
     "output_type": "execute_result"
    },
    {
     "data": {
      "text/plain": [
       "<Figure size 432x288 with 0 Axes>"
      ]
     },
     "metadata": {},
     "output_type": "display_data"
    },
    {
     "data": {
      "image/png": "[encoded data removed]",
      "text/plain": [
       "<Figure size 1152x576 with 1 Axes>"
      ]
     },
     "metadata": {
      "needs_background": "light"
     },
     "output_type": "display_data"
    }
   ],
   "source": [
    "plt.figure()\n",
    "plt.subplots(figsize=(16, 8))\n",
    "plt.plot(df['Close'], color = 'red', label = 'Real Stock Price')\n",
    "plt.title(symbol_dataset +\"-\"+ term_status +' Term Stock Prediction, epochs: '+ str(epoch) +'; units: '+str(unit))\n",
    "plt.xlabel('Time')\n",
    "plt.ylabel(symbol_dataset +' Stock Price ')\n",
    "plt.legend()"
   ]
  },
  {
   "cell_type": "markdown",
   "metadata": {
    "id": "e7-v9hbD6dBi"
   },
   "source": [
    "## Feature Selection and Scaling"
   ]
  },
  {
   "cell_type": "code",
   "execution_count": 9,
   "metadata": {
    "colab": {
     "base_uri": "https://localhost:8080/",
     "height": 241
    },
    "id": "JH3ICHtG5USz",
    "outputId": "7dc085dd-842b-4025-c829-bbee83380dd1",
    "scrolled": true
   },
   "outputs": [
    {
     "name": "stdout",
     "output_type": "stream",
     "text": [
      "FEATURE LIST\n",
      "['High', 'Low', 'Open', 'Close', 'Volume']\n"
     ]
    },
    {
     "data": {
      "text/html": [
       "<div>\n",
       "<style scoped>\n",
       "    .dataframe tbody tr th:only-of-type {\n",
       "        vertical-align: middle;\n",
       "    }\n",
       "\n",
       "    .dataframe tbody tr th {\n",
       "        vertical-align: top;\n",
       "    }\n",
       "\n",
       "    .dataframe thead th {\n",
       "        text-align: right;\n",
       "    }\n",
       "</style>\n",
       "<table border=\"1\" class=\"dataframe\">\n",
       "  <thead>\n",
       "    <tr style=\"text-align: right;\">\n",
       "      <th></th>\n",
       "      <th>High</th>\n",
       "      <th>Low</th>\n",
       "      <th>Open</th>\n",
       "      <th>Close</th>\n",
       "      <th>Volume</th>\n",
       "      <th>Prediction</th>\n",
       "    </tr>\n",
       "    <tr>\n",
       "      <th>Date</th>\n",
       "      <th></th>\n",
       "      <th></th>\n",
       "      <th></th>\n",
       "      <th></th>\n",
       "      <th></th>\n",
       "      <th></th>\n",
       "    </tr>\n",
       "  </thead>\n",
       "  <tbody>\n",
       "    <tr>\n",
       "      <th>2017-01-02</th>\n",
       "      <td>134.0</td>\n",
       "      <td>134.0</td>\n",
       "      <td>134.0</td>\n",
       "      <td>134.0</td>\n",
       "      <td>0</td>\n",
       "      <td>134.0</td>\n",
       "    </tr>\n",
       "    <tr>\n",
       "      <th>2017-01-03</th>\n",
       "      <td>139.0</td>\n",
       "      <td>135.0</td>\n",
       "      <td>135.0</td>\n",
       "      <td>139.0</td>\n",
       "      <td>4500</td>\n",
       "      <td>139.0</td>\n",
       "    </tr>\n",
       "    <tr>\n",
       "      <th>2017-01-04</th>\n",
       "      <td>139.0</td>\n",
       "      <td>136.0</td>\n",
       "      <td>139.0</td>\n",
       "      <td>136.0</td>\n",
       "      <td>40500</td>\n",
       "      <td>136.0</td>\n",
       "    </tr>\n",
       "    <tr>\n",
       "      <th>2017-01-05</th>\n",
       "      <td>141.0</td>\n",
       "      <td>135.0</td>\n",
       "      <td>135.0</td>\n",
       "      <td>141.0</td>\n",
       "      <td>6900</td>\n",
       "      <td>141.0</td>\n",
       "    </tr>\n",
       "    <tr>\n",
       "      <th>2017-01-06</th>\n",
       "      <td>140.0</td>\n",
       "      <td>136.0</td>\n",
       "      <td>136.0</td>\n",
       "      <td>140.0</td>\n",
       "      <td>200</td>\n",
       "      <td>140.0</td>\n",
       "    </tr>\n",
       "    <tr>\n",
       "      <th>...</th>\n",
       "      <td>...</td>\n",
       "      <td>...</td>\n",
       "      <td>...</td>\n",
       "      <td>...</td>\n",
       "      <td>...</td>\n",
       "      <td>...</td>\n",
       "    </tr>\n",
       "    <tr>\n",
       "      <th>2017-03-22</th>\n",
       "      <td>161.0</td>\n",
       "      <td>160.0</td>\n",
       "      <td>160.0</td>\n",
       "      <td>161.0</td>\n",
       "      <td>4400</td>\n",
       "      <td>161.0</td>\n",
       "    </tr>\n",
       "    <tr>\n",
       "      <th>2017-03-23</th>\n",
       "      <td>170.0</td>\n",
       "      <td>162.0</td>\n",
       "      <td>170.0</td>\n",
       "      <td>162.0</td>\n",
       "      <td>10800</td>\n",
       "      <td>162.0</td>\n",
       "    </tr>\n",
       "    <tr>\n",
       "      <th>2017-03-24</th>\n",
       "      <td>181.0</td>\n",
       "      <td>144.0</td>\n",
       "      <td>170.0</td>\n",
       "      <td>146.0</td>\n",
       "      <td>13006800</td>\n",
       "      <td>146.0</td>\n",
       "    </tr>\n",
       "    <tr>\n",
       "      <th>2017-03-27</th>\n",
       "      <td>151.0</td>\n",
       "      <td>146.0</td>\n",
       "      <td>146.0</td>\n",
       "      <td>146.0</td>\n",
       "      <td>190900</td>\n",
       "      <td>146.0</td>\n",
       "    </tr>\n",
       "    <tr>\n",
       "      <th>2017-03-29</th>\n",
       "      <td>152.0</td>\n",
       "      <td>140.0</td>\n",
       "      <td>140.0</td>\n",
       "      <td>146.0</td>\n",
       "      <td>317600</td>\n",
       "      <td>146.0</td>\n",
       "    </tr>\n",
       "  </tbody>\n",
       "</table>\n",
       "<p>62 rows × 6 columns</p>\n",
       "</div>"
      ],
      "text/plain": [
       "             High    Low   Open  Close    Volume  Prediction\n",
       "Date                                                        \n",
       "2017-01-02  134.0  134.0  134.0  134.0         0       134.0\n",
       "2017-01-03  139.0  135.0  135.0  139.0      4500       139.0\n",
       "2017-01-04  139.0  136.0  139.0  136.0     40500       136.0\n",
       "2017-01-05  141.0  135.0  135.0  141.0      6900       141.0\n",
       "2017-01-06  140.0  136.0  136.0  140.0       200       140.0\n",
       "...           ...    ...    ...    ...       ...         ...\n",
       "2017-03-22  161.0  160.0  160.0  161.0      4400       161.0\n",
       "2017-03-23  170.0  162.0  170.0  162.0     10800       162.0\n",
       "2017-03-24  181.0  144.0  170.0  146.0  13006800       146.0\n",
       "2017-03-27  151.0  146.0  146.0  146.0    190900       146.0\n",
       "2017-03-29  152.0  140.0  140.0  146.0    317600       146.0\n",
       "\n",
       "[62 rows x 6 columns]"
      ]
     },
     "execution_count": 9,
     "metadata": {},
     "output_type": "execute_result"
    }
   ],
   "source": [
    "# Indexing Batches\n",
    "train_df = df.sort_values(by=['Date']).copy()\n",
    "\n",
    "# Daftar Fitur yang digunakan\n",
    "FEATURES = ['High', 'Low', 'Open', 'Close', 'Volume']\n",
    "\n",
    "print('FEATURE LIST')\n",
    "print([f for f in FEATURES])\n",
    "\n",
    "# Buat kumpulan data dengan fitur dan filter data ke daftar FEATURES\n",
    "data = pd.DataFrame(train_df)\n",
    "data_filtered = data[FEATURES]\n",
    "\n",
    "# Kami menambahkan kolom prediksi dan menetapkan nilai dummy untuk menyiapkan data untuk penskalaan\n",
    "data_filtered_ext = data_filtered.copy()\n",
    "data_filtered_ext['Prediction'] = data_filtered_ext['Close']\n",
    "\n",
    "# Print the dataframe\n",
    "data_filtered_ext"
   ]
  },
  {
   "cell_type": "code",
   "execution_count": 10,
   "metadata": {
    "colab": {
     "base_uri": "https://localhost:8080/"
    },
    "id": "ZE7tf-p35aiB",
    "outputId": "59340252-5f9b-4917-81c9-4dc61c702ab9"
   },
   "outputs": [
    {
     "name": "stdout",
     "output_type": "stream",
     "text": [
      "(62, 5)\n"
     ]
    }
   ],
   "source": [
    "# Dapatkan jumlah baris dalam data\n",
    "nrows = data_filtered.shape[0]\n",
    "# print(nrows)\n",
    "\n",
    "# Convert the data ke numpy values\n",
    "np_data_unscaled = np.array(data_filtered)\n",
    "# print(np_data_unscaled)\n",
    "np_data = np.reshape(np_data_unscaled, (nrows, -1))\n",
    "print(np_data.shape)\n",
    "\n",
    "# Transform the data by scaling each feature to a range between 0 and 1 using MinMaxScaler\n",
    "scaler = MinMaxScaler(feature_range=(0,1))\n",
    "np_data_scaled = scaler.fit_transform(np_data_unscaled)\n",
    "\n",
    "# Membuat scaler terpisah yang berfungsi pada satu kolom untuk prediksi penskalaan\n",
    "scaler_pred = MinMaxScaler(feature_range=(0,1))\n",
    "df_Close = pd.DataFrame(data_filtered_ext['Close'])\n",
    "np_Close_scaled = scaler_pred.fit_transform(df_Close)"
   ]
  },
  {
   "cell_type": "markdown",
   "metadata": {
    "id": "HErrOQbv6W4C"
   },
   "source": [
    "## Transforming the Data"
   ]
  },
  {
   "cell_type": "code",
   "execution_count": 28,
   "metadata": {
    "colab": {
     "base_uri": "https://localhost:8080/"
    },
    "id": "S4nriPMX6aTm",
    "outputId": "9f02b008-70c0-4995-fa47-86e9b48f41a7"
   },
   "outputs": [],
   "source": [
    "# Set the sequence length - this is the timeframe used to make a single prediction\n",
    "sequence_length = 1\n",
    "\n",
    "# Prediction Index\n",
    "index_Close = data.columns.get_loc(\"Close\")\n",
    "\n",
    "# Split the training data into train and train data sets\n",
    "# As a first step, we get the number of rows to train the model on 80% of the data \n",
    "train_data_len = math.ceil(np_data_scaled.shape[0] * 0.8)\n",
    "\n",
    "# Create the training and test data\n",
    "train_data = np_data_scaled[0:train_data_len, :]\n",
    "test_data = np_data_scaled[train_data_len - sequence_length:, :]\n",
    "\n",
    "# The RNN needs data with the format of [samples, time steps, features]\n",
    "# Here, we create N samples, sequence_length time steps per sample, and 6 features\n",
    "def partition_dataset(sequence_length, data):\n",
    "    x, y = [], []\n",
    "    data_len = data.shape[0]\n",
    "    for i in range(sequence_length, data_len):\n",
    "        x.append(data[i-sequence_length:i,:]) #contains sequence_length values 0-sequence_length * columsn\n",
    "        y.append(data[i, index_Close]) #contains the prediction values for validation,  for single-step prediction\n",
    "    \n",
    "    # Convert the x and y to numpy arrays\n",
    "    x = np.array(x)\n",
    "    y = np.array(y)\n",
    "    return x, y\n",
    "\n",
    "# Generate training data and test data\n",
    "x_train, y_train = partition_dataset(sequence_length, train_data)\n",
    "x_test, y_test = partition_dataset(sequence_length, test_data)\n",
    "\n",
    "# Print the shapes: the result is: (rows, training_sequence, features) (prediction value, )\n",
    "# print(x_train.shape, y_train.shape)\n",
    "# print(x_test.shape, y_test.shape)\n",
    "\n",
    "# Validate that the prediction value and the input match up\n",
    "# The last close price of the second input sample should equal the first prediction value\n",
    "# print(x_train[1][sequence_length-1][index_Close])\n",
    "# print(y_train[0])"
   ]
  },
  {
   "cell_type": "markdown",
   "metadata": {
    "id": "vcMuREaL8NQN"
   },
   "source": [
    "## Train the Multivariate Prediciton Model"
   ]
  },
  {
   "cell_type": "code",
   "execution_count": 12,
   "metadata": {
    "colab": {
     "base_uri": "https://localhost:8080/"
    },
    "id": "cBQZhAU772GH",
    "outputId": "b96990c4-b71e-4f0a-990e-91a316e993a5"
   },
   "outputs": [],
   "source": [
    "# Configure the neural network model\n",
    "model = Sequential()\n",
    "model.add(Bidirectional(LSTM(unit, return_sequences=False, input_shape=(x_train.shape[1], x_train.shape[2]))))\n",
    "model.add(Dense(1))\n",
    "\n",
    "\n",
    "# Compile the model\n",
    "model.compile(optimizer='adam', loss='mse')"
   ]
  },
  {
   "cell_type": "code",
   "execution_count": 29,
   "metadata": {},
   "outputs": [
    {
     "data": {
      "text/plain": [
       "<keras.engine.sequential.Sequential at 0x198a91d5b80>"
      ]
     },
     "execution_count": 29,
     "metadata": {},
     "output_type": "execute_result"
    }
   ],
   "source": [
    "model"
   ]
  },
  {
   "cell_type": "code",
   "execution_count": 13,
   "metadata": {
    "colab": {
     "base_uri": "https://localhost:8080/"
    },
    "id": "DDq5g20R8TpJ",
    "outputId": "e0e5ebbf-8e45-48dd-d895-7417f3a04536"
   },
   "outputs": [
    {
     "name": "stdout",
     "output_type": "stream",
     "text": [
      "Epoch 1/10\n",
      "4/4 [==============================] - 4s 224ms/step - loss: 0.3709 - val_loss: 0.3773\n",
      "Epoch 2/10\n",
      "4/4 [==============================] - 0s 9ms/step - loss: 0.3458 - val_loss: 0.3504\n",
      "Epoch 3/10\n",
      "4/4 [==============================] - 0s 8ms/step - loss: 0.3222 - val_loss: 0.3257\n",
      "Epoch 4/10\n",
      "4/4 [==============================] - 0s 9ms/step - loss: 0.3014 - val_loss: 0.3014\n",
      "Epoch 5/10\n",
      "4/4 [==============================] - 0s 9ms/step - loss: 0.2810 - val_loss: 0.2788\n",
      "Epoch 6/10\n",
      "4/4 [==============================] - 0s 9ms/step - loss: 0.2615 - val_loss: 0.2572\n",
      "Epoch 7/10\n",
      "4/4 [==============================] - 0s 10ms/step - loss: 0.2434 - val_loss: 0.2364\n",
      "Epoch 8/10\n",
      "4/4 [==============================] - 0s 8ms/step - loss: 0.2249 - val_loss: 0.2172\n",
      "Epoch 9/10\n",
      "4/4 [==============================] - 0s 8ms/step - loss: 0.2074 - val_loss: 0.1986\n",
      "Epoch 10/10\n",
      "4/4 [==============================] - 0s 8ms/step - loss: 0.1914 - val_loss: 0.1810\n"
     ]
    }
   ],
   "source": [
    "# Training the model\n",
    "early_stop = EarlyStopping(monitor='loss', patience=5, verbose=1)\n",
    "history = model.fit(x_train, y_train, \n",
    "                    batch_size=16, \n",
    "                    epochs=epoch,\n",
    "                    validation_data=(x_test, y_test)\n",
    "                   )\n",
    "                    \n",
    "                    #callbacks=[early_stop])"
   ]
  },
  {
   "cell_type": "code",
   "execution_count": 14,
   "metadata": {
    "colab": {
     "base_uri": "https://localhost:8080/",
     "height": 350
    },
    "id": "kaCCAFja8WiD",
    "outputId": "02d71c6d-5b28-45be-e39e-1ab5cc9eae72"
   },
   "outputs": [
    {
     "data": {
      "image/png": "[encoded data removed]",
      "text/plain": [
       "<Figure size 1152x360 with 1 Axes>"
      ]
     },
     "metadata": {
      "needs_background": "light"
     },
     "output_type": "display_data"
    }
   ],
   "source": [
    "# # Plot training & validation loss values\n",
    "fig, ax = plt.subplots(figsize=(16, 5), sharex=True)\n",
    "sns.lineplot(data=history.history[\"loss\"])\n",
    "plt.title(\"Model loss\")\n",
    "plt.ylabel(\"Loss\")\n",
    "plt.xlabel(\"Epoch\")\n",
    "ax.xaxis.set_major_locator(plt.MaxNLocator(epoch))\n",
    "plt.legend([\"Train\", \"Test\"], loc=\"upper left\")\n",
    "plt.grid()\n",
    "plt.show()"
   ]
  },
  {
   "cell_type": "code",
   "execution_count": 15,
   "metadata": {},
   "outputs": [
    {
     "name": "stdout",
     "output_type": "stream",
     "text": [
      "1/1 [==============================] - 1s 742ms/step\n"
     ]
    }
   ],
   "source": [
    "# Get the predicted values\n",
    "y_pred_scaled = model.predict(x_test)"
   ]
  },
  {
   "cell_type": "code",
   "execution_count": 16,
   "metadata": {},
   "outputs": [],
   "source": [
    "# y_test.reshape(-1,1)"
   ]
  },
  {
   "cell_type": "code",
   "execution_count": 17,
   "metadata": {},
   "outputs": [],
   "source": [
    "# Unscale the predicted values\n",
    "y_pred = scaler_pred.inverse_transform(y_pred_scaled)\n",
    "y_test_unscaled = scaler_pred.inverse_transform(y_test.reshape(-1, 1))"
   ]
  },
  {
   "cell_type": "code",
   "execution_count": 18,
   "metadata": {},
   "outputs": [
    {
     "name": "stdout",
     "output_type": "stream",
     "text": [
      "Jumlah data y_train: 49\n",
      "Jumlah data y_pred: 12\n",
      "Jumlah data y_test_unscaled: 12\n"
     ]
    }
   ],
   "source": [
    "print(f'Jumlah data y_train: {y_train.shape[0]}')\n",
    "print(f'Jumlah data y_pred: {y_pred.shape[0]}')\n",
    "print(f'Jumlah data y_test_unscaled: {y_test_unscaled.shape[0]}')"
   ]
  },
  {
   "cell_type": "markdown",
   "metadata": {
    "id": "59KO_S548paO"
   },
   "source": [
    "## Evaluate Model performance"
   ]
  },
  {
   "cell_type": "code",
   "execution_count": 19,
   "metadata": {
    "colab": {
     "base_uri": "https://localhost:8080/"
    },
    "id": "S6lrdYq38h8H",
    "outputId": "67e977e0-68a3-4a2b-973e-c6ae68ef11a3"
   },
   "outputs": [
    {
     "name": "stdout",
     "output_type": "stream",
     "text": [
      "Root Mean Square Error (RMSE): 21.7\n",
      "Median Absolute Error (MAE): 20.32\n",
      "Mean Absolute Percentage Error (MAPE): 12.69 %\n"
     ]
    }
   ],
   "source": [
    "# Root Mean Square Error (RMSE)\n",
    "RMSE = rmse_metric(y_test_unscaled, y_pred)\n",
    "RMSE = np.round(RMSE, 2)\n",
    "print(f'Root Mean Square Error (RMSE): {RMSE}')\n",
    "\n",
    "# Mean Absolute Error (MAE)\n",
    "MAE = mae_metric(y_test_unscaled, y_pred)\n",
    "MAE = np.round(MAE, 2)\n",
    "print(f'Median Absolute Error (MAE): {MAE}')\n",
    "\n",
    "# Mean Absolute Percentage Error (MAPE)\n",
    "MAPE = mape_metric(y_test_unscaled, y_pred)\n",
    "MAPE = np.round(MAPE, 2)\n",
    "print(f'Mean Absolute Percentage Error (MAPE): {MAPE} %')"
   ]
  },
  {
   "cell_type": "code",
   "execution_count": 20,
   "metadata": {
    "colab": {
     "base_uri": "https://localhost:8080/",
     "height": 380
    },
    "id": "34xhqG9G8rYi",
    "outputId": "ae2a4951-51c8-4ad3-bbc3-369b1fd2595c"
   },
   "outputs": [
    {
     "data": {
      "image/png": "[encoded data removed]",
      "text/plain": [
       "<Figure size 1152x576 with 1 Axes>"
      ]
     },
     "metadata": {
      "needs_background": "light"
     },
     "output_type": "display_data"
    }
   ],
   "source": [
    "# The date from which on the date is displayed\n",
    "display_start_date = start_date\n",
    "\n",
    "\n",
    "# Add the difference between the valid and predicted prices\n",
    "train = pd.DataFrame(data_filtered_ext['Close'][:train_data_len]).rename(columns={'Close': 'y_train'})\n",
    "valid = pd.DataFrame(data_filtered_ext['Close'][train_data_len:]).rename(columns={'Close': 'y_test'})\n",
    "valid.insert(1, \"y_pred\", y_pred, True)\n",
    "# valid.insert(1, \"residuals\", valid[\"y_pred\"] - valid[\"y_test\"], True)\n",
    "df_union = pd.concat([train, valid])\n",
    "\n",
    "# Zoom in to a closer timeframe\n",
    "df_union_zoom = df_union[df_union.index > display_start_date]\n",
    "\n",
    "# Create the lineplot\n",
    "fig, ax1 = plt.subplots(figsize=(16, 8))\n",
    "plt.title(\"Predict Data vs Test Data\")\n",
    "\n",
    "sns.set_palette([\"#FF0000\", \"#1960EF\", \"#00FF00\"])\n",
    "sns.lineplot(data=df_union_zoom[['y_pred', 'y_train', 'y_test']], linewidth=1.0, dashes=False, ax=ax1)\n",
    "\n",
    "# Create the bar plot with the differences\n",
    "# df_sub = [\"#2BC97A\" if x > 0 else \"#C92B2B\" for x in df_union_zoom[\"residuals\"].dropna()]\n",
    "# ax1.bar(height=df_union_zoom['residuals'].dropna(), x=df_union_zoom['residuals'].dropna().index, width=3, label='residuals', color=df_sub)\n",
    "# plt.savefig(\"../results/LSTM/plots/\" + symbol_dataset +'_LSTM-'+ \n",
    "#                             term_status + '_e='+ str(epoch) +'_u='+ str(unit) + '.pdf')\n",
    "plt.legend()\n",
    "plt.show()"
   ]
  },
  {
   "cell_type": "code",
   "execution_count": 21,
   "metadata": {
    "scrolled": true
   },
   "outputs": [
    {
     "data": {
      "text/plain": [
       "<matplotlib.legend.Legend at 0x198b81bcbe0>"
      ]
     },
     "execution_count": 21,
     "metadata": {},
     "output_type": "execute_result"
    },
    {
     "data": {
      "text/plain": [
       "<Figure size 432x288 with 0 Axes>"
      ]
     },
     "metadata": {},
     "output_type": "display_data"
    },
    {
     "data": {
      "image/png": "[encoded data removed]",
      "text/plain": [
       "<Figure size 1152x576 with 1 Axes>"
      ]
     },
     "metadata": {
      "needs_background": "light"
     },
     "output_type": "display_data"
    }
   ],
   "source": [
    "plt.figure()\n",
    "plt.subplots(figsize=(16, 8))\n",
    "plt.plot(df_union_zoom['y_test'], color = 'red', label = 'Real Stock Price')\n",
    "plt.plot(df_union_zoom['y_pred'], color = 'blue', label = 'Predicted Stock Price')\n",
    "plt.title(symbol_dataset +\"-\"+ term_status +' Term Stock Prediction, epochs: '+ str(epoch) +'; units: '+str(unit))\n",
    "plt.xlabel('Time')\n",
    "plt.ylabel(symbol_dataset +' Stock Price ')\n",
    "plt.legend()"
   ]
  },
  {
   "cell_type": "markdown",
   "metadata": {
    "id": "2P6qwZrW8u-W"
   },
   "source": [
    "## Save a new Dataset"
   ]
  },
  {
   "cell_type": "code",
   "execution_count": 22,
   "metadata": {},
   "outputs": [],
   "source": [
    "# new_data = pd.DataFrame(data_filtered_ext['Close'][train_data_len:]).rename(columns={'Close': 'real_close'})\n",
    "# new_data['close_lstm'] = y_pred"
   ]
  },
  {
   "cell_type": "code",
   "execution_count": 23,
   "metadata": {},
   "outputs": [],
   "source": [
    "# #save to dataset\n",
    "# df_new_data = pd.DataFrame(new_data)"
   ]
  },
  {
   "cell_type": "code",
   "execution_count": 24,
   "metadata": {},
   "outputs": [],
   "source": [
    "# df_new_data.tail()"
   ]
  },
  {
   "cell_type": "code",
   "execution_count": 25,
   "metadata": {},
   "outputs": [],
   "source": [
    "# df_new_data.to_csv(\"../results/LSTM/datasets/\" + index_dataset\n",
    "#                 +'_LSTM-'+ term_status + '_e='+ str(epoch) +'_u='+ str(unit) + '.csv', index=True)"
   ]
  },
  {
   "cell_type": "code",
   "execution_count": 26,
   "metadata": {},
   "outputs": [],
   "source": [
    "# read_new_data = pd.read_csv(\"../results/LSTM/datasets/\"+ term_status + symbol_dataset\n",
    "#                    +'_LSTM-'+ term_status + '_e='+ str(epochs) +'_u='+ str(unit) + '.csv')\n",
    "# read_new_data"
   ]
  },
  {
   "cell_type": "markdown",
   "metadata": {},
   "source": [
    "## insert to Database"
   ]
  },
  {
   "cell_type": "code",
   "execution_count": 27,
   "metadata": {},
   "outputs": [],
   "source": [
    "# #connect database\n",
    "# mydb = mysql.connect(\n",
    "#     host=\"localhost\",\n",
    "#     user=\"root\",\n",
    "#     password=\"\",\n",
    "#     database=\"db_tugasakhir\"\n",
    "# )\n",
    "# mycursor = mydb.cursor()\n",
    "\n",
    "# #insert to database\n",
    "# sql = \"INSERT INTO pengujian_lstm (datasets, start_dates, end_dates,epochs, units, RMSE, MAE, MAPE) VALUES (%s,%s,%s,%s,%s,%s,%s,%s)\"\n",
    "# val = (symbol_dataset, start_date, end_date, epochs, unit, RMSE, MAE, MAPE)\n",
    "\n",
    "# mycursor.execute(sql,val)\n",
    "# mydb.commit()"
   ]
  },
  {
   "cell_type": "code",
   "execution_count": null,
   "metadata": {},
   "outputs": [],
   "source": []
  },
  {
   "cell_type": "code",
   "execution_count": null,
   "metadata": {},
   "outputs": [],
   "source": []
  },
  {
   "cell_type": "code",
   "execution_count": null,
   "metadata": {},
   "outputs": [],
   "source": []
  },
  {
   "cell_type": "code",
   "execution_count": null,
   "metadata": {},
   "outputs": [],
   "source": []
  },
  {
   "cell_type": "code",
   "execution_count": null,
   "metadata": {},
   "outputs": [],
   "source": []
  },
  {
   "cell_type": "code",
   "execution_count": null,
   "metadata": {},
   "outputs": [],
   "source": []
  }
 ],
 "metadata": {
  "colab": {
   "collapsed_sections": [],
   "provenance": []
  },
  "kernelspec": {
   "display_name": "Python 3 (ipykernel)",
   "language": "python",
   "name": "python3"
  },
  "language_info": {
   "codemirror_mode": {
    "name": "ipython",
    "version": 3
   },
   "file_extension": ".py",
   "mimetype": "text/x-python",
   "name": "python",
   "nbconvert_exporter": "python",
   "pygments_lexer": "ipython3",
   "version": "3.9.12"
  }
 },
 "nbformat": 4,
 "nbformat_minor": 1
}
