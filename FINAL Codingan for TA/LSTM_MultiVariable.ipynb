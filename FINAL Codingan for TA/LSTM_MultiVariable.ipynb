{
 "cells": [
  {
   "cell_type": "markdown",
   "metadata": {
    "id": "DjVETfWh5ksz"
   },
   "source": [
    "# Time Series Forecasting - Multivariable Time Series Models for Stock Market Prediction\n",
    "\n",
    "## import Packages"
   ]
  },
  {
   "cell_type": "code",
   "execution_count": 1,
   "metadata": {
    "colab": {
     "base_uri": "https://localhost:8080/",
     "height": 424
    },
    "id": "kPwzikVX49b5",
    "outputId": "e377c0a8-e840-480e-ea26-8ac9a42ec435"
   },
   "outputs": [],
   "source": [
    "import math \n",
    "import numpy as np \n",
    "import pandas as pd \n",
    "from datetime import date, timedelta, datetime \n",
    "from pandas.plotting import register_matplotlib_converters \n",
    "import matplotlib.pyplot as plt \n",
    "import matplotlib.dates as mdates \n",
    "import tensorflow as tf\n",
    "from sklearn.metrics import mean_absolute_error, mean_squared_error \n",
    "from tensorflow.keras import Sequential \n",
    "from tensorflow.keras.layers import LSTM, Dense, Dropout\n",
    "from tensorflow.keras.callbacks import EarlyStopping \n",
    "from sklearn.preprocessing import RobustScaler, MinMaxScaler\n",
    "import seaborn as sns \n",
    "import mysql.connector as mysql\n",
    "import yfinance as yf\n"
   ]
  },
  {
   "cell_type": "markdown",
   "metadata": {},
   "source": [
    "## Change the indicators"
   ]
  },
  {
   "cell_type": "code",
   "execution_count": 53,
   "metadata": {},
   "outputs": [],
   "source": [
    "#hyperparameters\n",
    "# epochs  = [10,100,1000]\n",
    "# units = [10,50,128]\n",
    "epochs = 10\n",
    "unit = 10"
   ]
  },
  {
   "cell_type": "markdown",
   "metadata": {},
   "source": [
    "## Load the Time Series Data use Yahoo finance"
   ]
  },
  {
   "cell_type": "code",
   "execution_count": 63,
   "metadata": {
    "scrolled": true
   },
   "outputs": [
    {
     "name": "stdout",
     "output_type": "stream",
     "text": [
      "[*********************100%***********************]  1 of 1 completed\n"
     ]
    },
    {
     "data": {
      "text/html": [
       "<div>\n",
       "<style scoped>\n",
       "    .dataframe tbody tr th:only-of-type {\n",
       "        vertical-align: middle;\n",
       "    }\n",
       "\n",
       "    .dataframe tbody tr th {\n",
       "        vertical-align: top;\n",
       "    }\n",
       "\n",
       "    .dataframe thead th {\n",
       "        text-align: right;\n",
       "    }\n",
       "</style>\n",
       "<table border=\"1\" class=\"dataframe\">\n",
       "  <thead>\n",
       "    <tr style=\"text-align: right;\">\n",
       "      <th></th>\n",
       "      <th>Open</th>\n",
       "      <th>High</th>\n",
       "      <th>Low</th>\n",
       "      <th>Close</th>\n",
       "      <th>Adj Close</th>\n",
       "      <th>Volume</th>\n",
       "    </tr>\n",
       "    <tr>\n",
       "      <th>Date</th>\n",
       "      <th></th>\n",
       "      <th></th>\n",
       "      <th></th>\n",
       "      <th></th>\n",
       "      <th></th>\n",
       "      <th></th>\n",
       "    </tr>\n",
       "  </thead>\n",
       "  <tbody>\n",
       "    <tr>\n",
       "      <th>2017-01-02</th>\n",
       "      <td>7760.0</td>\n",
       "      <td>7760.0</td>\n",
       "      <td>7760.0</td>\n",
       "      <td>7760.0</td>\n",
       "      <td>6741.180176</td>\n",
       "      <td>0</td>\n",
       "    </tr>\n",
       "    <tr>\n",
       "      <th>2017-01-03</th>\n",
       "      <td>7800.0</td>\n",
       "      <td>7840.0</td>\n",
       "      <td>7760.0</td>\n",
       "      <td>7765.0</td>\n",
       "      <td>6745.525391</td>\n",
       "      <td>5014500</td>\n",
       "    </tr>\n",
       "    <tr>\n",
       "      <th>2017-01-04</th>\n",
       "      <td>7770.0</td>\n",
       "      <td>8070.0</td>\n",
       "      <td>7770.0</td>\n",
       "      <td>8040.0</td>\n",
       "      <td>6984.419922</td>\n",
       "      <td>10642000</td>\n",
       "    </tr>\n",
       "    <tr>\n",
       "      <th>2017-01-05</th>\n",
       "      <td>8100.0</td>\n",
       "      <td>8110.0</td>\n",
       "      <td>8005.0</td>\n",
       "      <td>8110.0</td>\n",
       "      <td>7045.229980</td>\n",
       "      <td>10493500</td>\n",
       "    </tr>\n",
       "    <tr>\n",
       "      <th>2017-01-06</th>\n",
       "      <td>8060.0</td>\n",
       "      <td>8190.0</td>\n",
       "      <td>7965.0</td>\n",
       "      <td>8120.0</td>\n",
       "      <td>7053.916016</td>\n",
       "      <td>5400500</td>\n",
       "    </tr>\n",
       "    <tr>\n",
       "      <th>...</th>\n",
       "      <td>...</td>\n",
       "      <td>...</td>\n",
       "      <td>...</td>\n",
       "      <td>...</td>\n",
       "      <td>...</td>\n",
       "      <td>...</td>\n",
       "    </tr>\n",
       "    <tr>\n",
       "      <th>2017-03-22</th>\n",
       "      <td>8685.0</td>\n",
       "      <td>8685.0</td>\n",
       "      <td>8505.0</td>\n",
       "      <td>8570.0</td>\n",
       "      <td>7444.835449</td>\n",
       "      <td>17937000</td>\n",
       "    </tr>\n",
       "    <tr>\n",
       "      <th>2017-03-23</th>\n",
       "      <td>8570.0</td>\n",
       "      <td>8640.0</td>\n",
       "      <td>8500.0</td>\n",
       "      <td>8500.0</td>\n",
       "      <td>7384.026367</td>\n",
       "      <td>6258500</td>\n",
       "    </tr>\n",
       "    <tr>\n",
       "      <th>2017-03-24</th>\n",
       "      <td>8440.0</td>\n",
       "      <td>8630.0</td>\n",
       "      <td>8440.0</td>\n",
       "      <td>8630.0</td>\n",
       "      <td>7496.958496</td>\n",
       "      <td>5829000</td>\n",
       "    </tr>\n",
       "    <tr>\n",
       "      <th>2017-03-27</th>\n",
       "      <td>8670.0</td>\n",
       "      <td>8700.0</td>\n",
       "      <td>8620.0</td>\n",
       "      <td>8670.0</td>\n",
       "      <td>7531.705566</td>\n",
       "      <td>4163500</td>\n",
       "    </tr>\n",
       "    <tr>\n",
       "      <th>2017-03-29</th>\n",
       "      <td>8670.0</td>\n",
       "      <td>8800.0</td>\n",
       "      <td>8670.0</td>\n",
       "      <td>8730.0</td>\n",
       "      <td>7583.827637</td>\n",
       "      <td>10144500</td>\n",
       "    </tr>\n",
       "  </tbody>\n",
       "</table>\n",
       "<p>62 rows × 6 columns</p>\n",
       "</div>"
      ],
      "text/plain": [
       "              Open    High     Low   Close    Adj Close    Volume\n",
       "Date                                                             \n",
       "2017-01-02  7760.0  7760.0  7760.0  7760.0  6741.180176         0\n",
       "2017-01-03  7800.0  7840.0  7760.0  7765.0  6745.525391   5014500\n",
       "2017-01-04  7770.0  8070.0  7770.0  8040.0  6984.419922  10642000\n",
       "2017-01-05  8100.0  8110.0  8005.0  8110.0  7045.229980  10493500\n",
       "2017-01-06  8060.0  8190.0  7965.0  8120.0  7053.916016   5400500\n",
       "...            ...     ...     ...     ...          ...       ...\n",
       "2017-03-22  8685.0  8685.0  8505.0  8570.0  7444.835449  17937000\n",
       "2017-03-23  8570.0  8640.0  8500.0  8500.0  7384.026367   6258500\n",
       "2017-03-24  8440.0  8630.0  8440.0  8630.0  7496.958496   5829000\n",
       "2017-03-27  8670.0  8700.0  8620.0  8670.0  7531.705566   4163500\n",
       "2017-03-29  8670.0  8800.0  8670.0  8730.0  7583.827637  10144500\n",
       "\n",
       "[62 rows x 6 columns]"
      ]
     },
     "execution_count": 63,
     "metadata": {},
     "output_type": "execute_result"
    }
   ],
   "source": [
    "\n",
    "start_date = '2017-01-01'\n",
    "\n",
    "end_date = '2017-03-30'\n",
    "# symbol_dataset = 'GGRM.jk'\n",
    "\n",
    "# arr_end_date = ['2021-12-31','2017-12-31', '2017-03-30']\n",
    "# arr_symbol_dataset = ['UNVR.jk', 'GGRM.jk', 'PSDN.jk']\n",
    "\n",
    "# jumlah_pengujian = 0\n",
    "# for index_dataset in arr_symbol_dataset:\n",
    "#     for index_end_date in arr_end_date:\n",
    "#         for epoch in epochs:\n",
    "#             for unit in units: \n",
    "                \n",
    "#                 jumlah_pengujian+=1\n",
    "#                 df = yf.download(index_dataset, start=start_date, end=index_end_date)\n",
    "#                 if df.shape[0]>=1250:\n",
    "#                     term_status = \"long\"\n",
    "#                 elif df.shape[0]>=250:\n",
    "#                     term_status = \"mid\"\n",
    "#                 else:\n",
    "#                     term_status = \"short\"\n",
    "                \n",
    "#                 print(\"pengujian ke-\" + str(jumlah_pengujian))\n",
    "#                 print(\"Data Saham = \" + index_dataset + term_status)\n",
    "#                 print(\"Start = \" + start_date)\n",
    "#                 print(\"End = \" + index_end_date)\n",
    "                \n",
    "#                 print(\"epochs = \" + str(epoch))\n",
    "#                 print(\"unit = \" + str(unit))\n",
    "                \n",
    "#                 print(\"==================================\")\n",
    "\n",
    "        \n",
    "\n",
    "\n",
    "\n",
    "df = yf.download(symbol_dataset, start=start_date, end=end_date)\n",
    "if df.shape[0]>=1250:\n",
    "    term_status = \" long\"\n",
    "elif df.shape[0]>=250:\n",
    "    term_status = \" mid\"\n",
    "else:\n",
    "    term_status = \" short\"\n",
    "                \n",
    "\n",
    "\n",
    "# # Create a quick overview of the dataset\n",
    "df "
   ]
  },
  {
   "cell_type": "markdown",
   "metadata": {},
   "source": [
    "# Preprocessing"
   ]
  },
  {
   "cell_type": "markdown",
   "metadata": {},
   "source": [
    "## Cek and Imputation missing value"
   ]
  },
  {
   "cell_type": "code",
   "execution_count": 64,
   "metadata": {},
   "outputs": [
    {
     "data": {
      "text/plain": [
       "Open         0\n",
       "High         0\n",
       "Low          0\n",
       "Close        0\n",
       "Adj Close    0\n",
       "Volume       0\n",
       "dtype: int64"
      ]
     },
     "execution_count": 64,
     "metadata": {},
     "output_type": "execute_result"
    }
   ],
   "source": [
    "df.isnull().sum()"
   ]
  },
  {
   "cell_type": "code",
   "execution_count": 65,
   "metadata": {},
   "outputs": [],
   "source": [
    "# jika ada data yang null, run this code\n",
    "\n",
    "df = df.fillna(df.mean())"
   ]
  },
  {
   "cell_type": "code",
   "execution_count": 66,
   "metadata": {},
   "outputs": [
    {
     "data": {
      "text/html": [
       "<div>\n",
       "<style scoped>\n",
       "    .dataframe tbody tr th:only-of-type {\n",
       "        vertical-align: middle;\n",
       "    }\n",
       "\n",
       "    .dataframe tbody tr th {\n",
       "        vertical-align: top;\n",
       "    }\n",
       "\n",
       "    .dataframe thead th {\n",
       "        text-align: right;\n",
       "    }\n",
       "</style>\n",
       "<table border=\"1\" class=\"dataframe\">\n",
       "  <thead>\n",
       "    <tr style=\"text-align: right;\">\n",
       "      <th></th>\n",
       "      <th>Open</th>\n",
       "      <th>High</th>\n",
       "      <th>Low</th>\n",
       "      <th>Close</th>\n",
       "      <th>Adj Close</th>\n",
       "      <th>Volume</th>\n",
       "    </tr>\n",
       "    <tr>\n",
       "      <th>Date</th>\n",
       "      <th></th>\n",
       "      <th></th>\n",
       "      <th></th>\n",
       "      <th></th>\n",
       "      <th></th>\n",
       "      <th></th>\n",
       "    </tr>\n",
       "  </thead>\n",
       "  <tbody>\n",
       "    <tr>\n",
       "      <th>2017-01-02</th>\n",
       "      <td>7760.0</td>\n",
       "      <td>7760.0</td>\n",
       "      <td>7760.0</td>\n",
       "      <td>7760.0</td>\n",
       "      <td>6741.180176</td>\n",
       "      <td>0</td>\n",
       "    </tr>\n",
       "    <tr>\n",
       "      <th>2017-01-03</th>\n",
       "      <td>7800.0</td>\n",
       "      <td>7840.0</td>\n",
       "      <td>7760.0</td>\n",
       "      <td>7765.0</td>\n",
       "      <td>6745.525391</td>\n",
       "      <td>5014500</td>\n",
       "    </tr>\n",
       "    <tr>\n",
       "      <th>2017-01-04</th>\n",
       "      <td>7770.0</td>\n",
       "      <td>8070.0</td>\n",
       "      <td>7770.0</td>\n",
       "      <td>8040.0</td>\n",
       "      <td>6984.419922</td>\n",
       "      <td>10642000</td>\n",
       "    </tr>\n",
       "    <tr>\n",
       "      <th>2017-01-05</th>\n",
       "      <td>8100.0</td>\n",
       "      <td>8110.0</td>\n",
       "      <td>8005.0</td>\n",
       "      <td>8110.0</td>\n",
       "      <td>7045.229980</td>\n",
       "      <td>10493500</td>\n",
       "    </tr>\n",
       "    <tr>\n",
       "      <th>2017-01-06</th>\n",
       "      <td>8060.0</td>\n",
       "      <td>8190.0</td>\n",
       "      <td>7965.0</td>\n",
       "      <td>8120.0</td>\n",
       "      <td>7053.916016</td>\n",
       "      <td>5400500</td>\n",
       "    </tr>\n",
       "    <tr>\n",
       "      <th>...</th>\n",
       "      <td>...</td>\n",
       "      <td>...</td>\n",
       "      <td>...</td>\n",
       "      <td>...</td>\n",
       "      <td>...</td>\n",
       "      <td>...</td>\n",
       "    </tr>\n",
       "    <tr>\n",
       "      <th>2017-03-22</th>\n",
       "      <td>8685.0</td>\n",
       "      <td>8685.0</td>\n",
       "      <td>8505.0</td>\n",
       "      <td>8570.0</td>\n",
       "      <td>7444.835449</td>\n",
       "      <td>17937000</td>\n",
       "    </tr>\n",
       "    <tr>\n",
       "      <th>2017-03-23</th>\n",
       "      <td>8570.0</td>\n",
       "      <td>8640.0</td>\n",
       "      <td>8500.0</td>\n",
       "      <td>8500.0</td>\n",
       "      <td>7384.026367</td>\n",
       "      <td>6258500</td>\n",
       "    </tr>\n",
       "    <tr>\n",
       "      <th>2017-03-24</th>\n",
       "      <td>8440.0</td>\n",
       "      <td>8630.0</td>\n",
       "      <td>8440.0</td>\n",
       "      <td>8630.0</td>\n",
       "      <td>7496.958496</td>\n",
       "      <td>5829000</td>\n",
       "    </tr>\n",
       "    <tr>\n",
       "      <th>2017-03-27</th>\n",
       "      <td>8670.0</td>\n",
       "      <td>8700.0</td>\n",
       "      <td>8620.0</td>\n",
       "      <td>8670.0</td>\n",
       "      <td>7531.705566</td>\n",
       "      <td>4163500</td>\n",
       "    </tr>\n",
       "    <tr>\n",
       "      <th>2017-03-29</th>\n",
       "      <td>8670.0</td>\n",
       "      <td>8800.0</td>\n",
       "      <td>8670.0</td>\n",
       "      <td>8730.0</td>\n",
       "      <td>7583.827637</td>\n",
       "      <td>10144500</td>\n",
       "    </tr>\n",
       "  </tbody>\n",
       "</table>\n",
       "<p>62 rows × 6 columns</p>\n",
       "</div>"
      ],
      "text/plain": [
       "              Open    High     Low   Close    Adj Close    Volume\n",
       "Date                                                             \n",
       "2017-01-02  7760.0  7760.0  7760.0  7760.0  6741.180176         0\n",
       "2017-01-03  7800.0  7840.0  7760.0  7765.0  6745.525391   5014500\n",
       "2017-01-04  7770.0  8070.0  7770.0  8040.0  6984.419922  10642000\n",
       "2017-01-05  8100.0  8110.0  8005.0  8110.0  7045.229980  10493500\n",
       "2017-01-06  8060.0  8190.0  7965.0  8120.0  7053.916016   5400500\n",
       "...            ...     ...     ...     ...          ...       ...\n",
       "2017-03-22  8685.0  8685.0  8505.0  8570.0  7444.835449  17937000\n",
       "2017-03-23  8570.0  8640.0  8500.0  8500.0  7384.026367   6258500\n",
       "2017-03-24  8440.0  8630.0  8440.0  8630.0  7496.958496   5829000\n",
       "2017-03-27  8670.0  8700.0  8620.0  8670.0  7531.705566   4163500\n",
       "2017-03-29  8670.0  8800.0  8670.0  8730.0  7583.827637  10144500\n",
       "\n",
       "[62 rows x 6 columns]"
      ]
     },
     "execution_count": 66,
     "metadata": {},
     "output_type": "execute_result"
    }
   ],
   "source": [
    "df"
   ]
  },
  {
   "cell_type": "markdown",
   "metadata": {
    "id": "e7-v9hbD6dBi"
   },
   "source": [
    "## Feature Selection and Scaling"
   ]
  },
  {
   "cell_type": "code",
   "execution_count": 67,
   "metadata": {
    "colab": {
     "base_uri": "https://localhost:8080/",
     "height": 241
    },
    "id": "JH3ICHtG5USz",
    "outputId": "7dc085dd-842b-4025-c829-bbee83380dd1",
    "scrolled": true
   },
   "outputs": [
    {
     "name": "stdout",
     "output_type": "stream",
     "text": [
      "FEATURE LIST\n",
      "['High', 'Low', 'Open', 'Close', 'Volume']\n"
     ]
    },
    {
     "data": {
      "text/html": [
       "<div>\n",
       "<style scoped>\n",
       "    .dataframe tbody tr th:only-of-type {\n",
       "        vertical-align: middle;\n",
       "    }\n",
       "\n",
       "    .dataframe tbody tr th {\n",
       "        vertical-align: top;\n",
       "    }\n",
       "\n",
       "    .dataframe thead th {\n",
       "        text-align: right;\n",
       "    }\n",
       "</style>\n",
       "<table border=\"1\" class=\"dataframe\">\n",
       "  <thead>\n",
       "    <tr style=\"text-align: right;\">\n",
       "      <th></th>\n",
       "      <th>High</th>\n",
       "      <th>Low</th>\n",
       "      <th>Open</th>\n",
       "      <th>Close</th>\n",
       "      <th>Volume</th>\n",
       "      <th>Prediction</th>\n",
       "    </tr>\n",
       "    <tr>\n",
       "      <th>Date</th>\n",
       "      <th></th>\n",
       "      <th></th>\n",
       "      <th></th>\n",
       "      <th></th>\n",
       "      <th></th>\n",
       "      <th></th>\n",
       "    </tr>\n",
       "  </thead>\n",
       "  <tbody>\n",
       "    <tr>\n",
       "      <th>2017-01-02</th>\n",
       "      <td>7760.0</td>\n",
       "      <td>7760.0</td>\n",
       "      <td>7760.0</td>\n",
       "      <td>7760.0</td>\n",
       "      <td>0</td>\n",
       "      <td>7760.0</td>\n",
       "    </tr>\n",
       "    <tr>\n",
       "      <th>2017-01-03</th>\n",
       "      <td>7840.0</td>\n",
       "      <td>7760.0</td>\n",
       "      <td>7800.0</td>\n",
       "      <td>7765.0</td>\n",
       "      <td>5014500</td>\n",
       "      <td>7765.0</td>\n",
       "    </tr>\n",
       "    <tr>\n",
       "      <th>2017-01-04</th>\n",
       "      <td>8070.0</td>\n",
       "      <td>7770.0</td>\n",
       "      <td>7770.0</td>\n",
       "      <td>8040.0</td>\n",
       "      <td>10642000</td>\n",
       "      <td>8040.0</td>\n",
       "    </tr>\n",
       "    <tr>\n",
       "      <th>2017-01-05</th>\n",
       "      <td>8110.0</td>\n",
       "      <td>8005.0</td>\n",
       "      <td>8100.0</td>\n",
       "      <td>8110.0</td>\n",
       "      <td>10493500</td>\n",
       "      <td>8110.0</td>\n",
       "    </tr>\n",
       "    <tr>\n",
       "      <th>2017-01-06</th>\n",
       "      <td>8190.0</td>\n",
       "      <td>7965.0</td>\n",
       "      <td>8060.0</td>\n",
       "      <td>8120.0</td>\n",
       "      <td>5400500</td>\n",
       "      <td>8120.0</td>\n",
       "    </tr>\n",
       "    <tr>\n",
       "      <th>...</th>\n",
       "      <td>...</td>\n",
       "      <td>...</td>\n",
       "      <td>...</td>\n",
       "      <td>...</td>\n",
       "      <td>...</td>\n",
       "      <td>...</td>\n",
       "    </tr>\n",
       "    <tr>\n",
       "      <th>2017-03-22</th>\n",
       "      <td>8685.0</td>\n",
       "      <td>8505.0</td>\n",
       "      <td>8685.0</td>\n",
       "      <td>8570.0</td>\n",
       "      <td>17937000</td>\n",
       "      <td>8570.0</td>\n",
       "    </tr>\n",
       "    <tr>\n",
       "      <th>2017-03-23</th>\n",
       "      <td>8640.0</td>\n",
       "      <td>8500.0</td>\n",
       "      <td>8570.0</td>\n",
       "      <td>8500.0</td>\n",
       "      <td>6258500</td>\n",
       "      <td>8500.0</td>\n",
       "    </tr>\n",
       "    <tr>\n",
       "      <th>2017-03-24</th>\n",
       "      <td>8630.0</td>\n",
       "      <td>8440.0</td>\n",
       "      <td>8440.0</td>\n",
       "      <td>8630.0</td>\n",
       "      <td>5829000</td>\n",
       "      <td>8630.0</td>\n",
       "    </tr>\n",
       "    <tr>\n",
       "      <th>2017-03-27</th>\n",
       "      <td>8700.0</td>\n",
       "      <td>8620.0</td>\n",
       "      <td>8670.0</td>\n",
       "      <td>8670.0</td>\n",
       "      <td>4163500</td>\n",
       "      <td>8670.0</td>\n",
       "    </tr>\n",
       "    <tr>\n",
       "      <th>2017-03-29</th>\n",
       "      <td>8800.0</td>\n",
       "      <td>8670.0</td>\n",
       "      <td>8670.0</td>\n",
       "      <td>8730.0</td>\n",
       "      <td>10144500</td>\n",
       "      <td>8730.0</td>\n",
       "    </tr>\n",
       "  </tbody>\n",
       "</table>\n",
       "<p>62 rows × 6 columns</p>\n",
       "</div>"
      ],
      "text/plain": [
       "              High     Low    Open   Close    Volume  Prediction\n",
       "Date                                                            \n",
       "2017-01-02  7760.0  7760.0  7760.0  7760.0         0      7760.0\n",
       "2017-01-03  7840.0  7760.0  7800.0  7765.0   5014500      7765.0\n",
       "2017-01-04  8070.0  7770.0  7770.0  8040.0  10642000      8040.0\n",
       "2017-01-05  8110.0  8005.0  8100.0  8110.0  10493500      8110.0\n",
       "2017-01-06  8190.0  7965.0  8060.0  8120.0   5400500      8120.0\n",
       "...            ...     ...     ...     ...       ...         ...\n",
       "2017-03-22  8685.0  8505.0  8685.0  8570.0  17937000      8570.0\n",
       "2017-03-23  8640.0  8500.0  8570.0  8500.0   6258500      8500.0\n",
       "2017-03-24  8630.0  8440.0  8440.0  8630.0   5829000      8630.0\n",
       "2017-03-27  8700.0  8620.0  8670.0  8670.0   4163500      8670.0\n",
       "2017-03-29  8800.0  8670.0  8670.0  8730.0  10144500      8730.0\n",
       "\n",
       "[62 rows x 6 columns]"
      ]
     },
     "execution_count": 67,
     "metadata": {},
     "output_type": "execute_result"
    }
   ],
   "source": [
    "# Indexing Batches\n",
    "train_df = df.sort_values(by=['Date']).copy()\n",
    "\n",
    "# Daftar Fitur yang digunakan\n",
    "FEATURES = ['High', 'Low', 'Open', 'Close', 'Volume']\n",
    "\n",
    "print('FEATURE LIST')\n",
    "print([f for f in FEATURES])\n",
    "\n",
    "# Buat kumpulan data dengan fitur dan filter data ke daftar FEATURES\n",
    "data = pd.DataFrame(train_df)\n",
    "data_filtered = data[FEATURES]\n",
    "\n",
    "# Kami menambahkan kolom prediksi dan menetapkan nilai dummy untuk menyiapkan data untuk penskalaan\n",
    "data_filtered_ext = data_filtered.copy()\n",
    "data_filtered_ext['Prediction'] = data_filtered_ext['Close']\n",
    "\n",
    "# Print the dataframe\n",
    "data_filtered_ext"
   ]
  },
  {
   "cell_type": "code",
   "execution_count": 68,
   "metadata": {
    "colab": {
     "base_uri": "https://localhost:8080/"
    },
    "id": "ZE7tf-p35aiB",
    "outputId": "59340252-5f9b-4917-81c9-4dc61c702ab9"
   },
   "outputs": [
    {
     "name": "stdout",
     "output_type": "stream",
     "text": [
      "62\n",
      "[[7.76000e+03 7.76000e+03 7.76000e+03 7.76000e+03 0.00000e+00]\n",
      " [7.84000e+03 7.76000e+03 7.80000e+03 7.76500e+03 5.01450e+06]\n",
      " [8.07000e+03 7.77000e+03 7.77000e+03 8.04000e+03 1.06420e+07]\n",
      " [8.11000e+03 8.00500e+03 8.10000e+03 8.11000e+03 1.04935e+07]\n",
      " [8.19000e+03 7.96500e+03 8.06000e+03 8.12000e+03 5.40050e+06]\n",
      " [8.15000e+03 8.01000e+03 8.12000e+03 8.03000e+03 1.42705e+07]\n",
      " [8.13000e+03 7.94000e+03 8.13000e+03 8.02000e+03 9.53600e+06]\n",
      " [8.10000e+03 7.94500e+03 8.10000e+03 7.99500e+03 1.08075e+07]\n",
      " [8.01000e+03 7.97000e+03 7.99500e+03 7.99000e+03 1.89335e+07]\n",
      " [8.04000e+03 7.92000e+03 8.03000e+03 7.92000e+03 1.62745e+07]\n",
      " [7.97000e+03 7.90000e+03 7.92000e+03 7.92500e+03 1.41025e+07]\n",
      " [7.97000e+03 7.88000e+03 7.90000e+03 7.92500e+03 5.19400e+06]\n",
      " [8.18000e+03 7.89000e+03 7.97000e+03 8.18000e+03 8.54700e+06]\n",
      " [8.18000e+03 8.06000e+03 8.18000e+03 8.08000e+03 1.14110e+07]\n",
      " [8.10000e+03 7.96000e+03 8.04000e+03 8.10000e+03 4.80650e+06]\n",
      " [8.24000e+03 7.91500e+03 8.01000e+03 8.24000e+03 4.97850e+06]\n",
      " [8.40000e+03 8.09000e+03 8.23500e+03 8.40000e+03 7.74400e+06]\n",
      " [8.40000e+03 8.32000e+03 8.40000e+03 8.38000e+03 4.44100e+06]\n",
      " [8.40000e+03 8.20500e+03 8.38000e+03 8.36000e+03 4.56450e+06]\n",
      " [8.37500e+03 8.20000e+03 8.30000e+03 8.34000e+03 6.68050e+06]\n",
      " [8.35000e+03 8.21000e+03 8.26000e+03 8.26500e+03 3.93750e+06]\n",
      " [8.32000e+03 8.22000e+03 8.24000e+03 8.24000e+03 5.29750e+06]\n",
      " [8.34500e+03 8.22000e+03 8.34500e+03 8.25500e+03 5.48000e+06]\n",
      " [8.31000e+03 8.22500e+03 8.25500e+03 8.31000e+03 8.39600e+06]\n",
      " [8.40000e+03 8.25000e+03 8.25000e+03 8.40000e+03 7.85450e+06]\n",
      " [8.37000e+03 8.25500e+03 8.27000e+03 8.34000e+03 1.04060e+07]\n",
      " [8.34500e+03 8.28000e+03 8.28000e+03 8.34500e+03 7.65850e+06]\n",
      " [8.35500e+03 8.29500e+03 8.34000e+03 8.34500e+03 1.38020e+07]\n",
      " [8.42000e+03 8.31000e+03 8.34000e+03 8.36500e+03 1.04960e+07]\n",
      " [8.58000e+03 8.37500e+03 8.38500e+03 8.52000e+03 1.14345e+07]\n",
      " [8.57500e+03 8.47000e+03 8.53500e+03 8.48500e+03 7.03300e+06]\n",
      " [8.55000e+03 8.44000e+03 8.48000e+03 8.48500e+03 6.38650e+06]\n",
      " [8.48500e+03 8.48500e+03 8.48500e+03 8.48500e+03 0.00000e+00]\n",
      " [8.56000e+03 8.50000e+03 8.56000e+03 8.52000e+03 5.26150e+06]\n",
      " [8.55000e+03 8.50000e+03 8.54500e+03 8.52000e+03 5.51000e+06]\n",
      " [8.58000e+03 8.41000e+03 8.57000e+03 8.42000e+03 2.67900e+06]\n",
      " [8.55500e+03 8.45500e+03 8.47000e+03 8.55000e+03 3.52650e+06]\n",
      " [8.58000e+03 8.45000e+03 8.58000e+03 8.57500e+03 3.71400e+06]\n",
      " [8.54000e+03 8.43500e+03 8.54000e+03 8.45000e+03 3.56900e+06]\n",
      " [8.51000e+03 8.41500e+03 8.42000e+03 8.45000e+03 3.76350e+06]\n",
      " [8.56500e+03 8.42500e+03 8.46000e+03 8.45000e+03 4.24050e+06]\n",
      " [8.52000e+03 8.42500e+03 8.52000e+03 8.43500e+03 8.62250e+06]\n",
      " [8.47000e+03 8.38000e+03 8.42000e+03 8.43500e+03 7.57000e+06]\n",
      " [8.50500e+03 8.42000e+03 8.49500e+03 8.42000e+03 5.01950e+06]\n",
      " [8.43000e+03 8.36500e+03 8.42000e+03 8.39500e+03 6.21750e+06]\n",
      " [8.48000e+03 8.39500e+03 8.39500e+03 8.47500e+03 4.53350e+06]\n",
      " [8.50000e+03 8.42500e+03 8.47500e+03 8.49500e+03 3.15800e+06]\n",
      " [8.49500e+03 8.46000e+03 8.47000e+03 8.48500e+03 5.68900e+06]\n",
      " [8.48500e+03 8.40000e+03 8.48500e+03 8.48500e+03 3.26400e+06]\n",
      " [8.50000e+03 8.37000e+03 8.50000e+03 8.46000e+03 4.78350e+06]\n",
      " [8.48000e+03 8.41000e+03 8.41000e+03 8.48000e+03 2.54400e+06]\n",
      " [8.51000e+03 8.44000e+03 8.48000e+03 8.44000e+03 2.94600e+06]\n",
      " [8.48000e+03 8.37500e+03 8.44500e+03 8.43500e+03 4.13000e+06]\n",
      " [8.72000e+03 8.43500e+03 8.44500e+03 8.72000e+03 7.00900e+06]\n",
      " [8.84000e+03 8.60000e+03 8.72000e+03 8.80000e+03 2.53890e+07]\n",
      " [8.80000e+03 8.68000e+03 8.78000e+03 8.78500e+03 7.01800e+06]\n",
      " [8.79500e+03 8.69500e+03 8.78500e+03 8.78500e+03 1.10590e+07]\n",
      " [8.68500e+03 8.50500e+03 8.68500e+03 8.57000e+03 1.79370e+07]\n",
      " [8.64000e+03 8.50000e+03 8.57000e+03 8.50000e+03 6.25850e+06]\n",
      " [8.63000e+03 8.44000e+03 8.44000e+03 8.63000e+03 5.82900e+06]\n",
      " [8.70000e+03 8.62000e+03 8.67000e+03 8.67000e+03 4.16350e+06]\n",
      " [8.80000e+03 8.67000e+03 8.67000e+03 8.73000e+03 1.01445e+07]]\n",
      "(62, 5)\n"
     ]
    }
   ],
   "source": [
    "# Dapatkan jumlah baris dalam data\n",
    "nrows = data_filtered.shape[0]\n",
    "print(nrows)\n",
    "\n",
    "# Convert the data ke numpy values\n",
    "np_data_unscaled = np.array(data_filtered)\n",
    "print(np_data_unscaled)\n",
    "np_data = np.reshape(np_data_unscaled, (nrows, -1))\n",
    "print(np_data.shape)\n",
    "\n",
    "# Transform the data by scaling each feature to a range between 0 and 1 using MinMaxScaler\n",
    "scaler = MinMaxScaler(feature_range=(0,1))\n",
    "np_data_scaled = scaler.fit_transform(np_data_unscaled)\n",
    "\n",
    "# Membuat scaler terpisah yang berfungsi pada satu kolom untuk prediksi penskalaan\n",
    "scaler_pred = MinMaxScaler(feature_range=(0,1))\n",
    "df_Close = pd.DataFrame(data_filtered_ext['Close'])\n",
    "np_Close_scaled = scaler_pred.fit_transform(df_Close)"
   ]
  },
  {
   "cell_type": "markdown",
   "metadata": {
    "id": "HErrOQbv6W4C"
   },
   "source": [
    "## Transforming the Data"
   ]
  },
  {
   "cell_type": "code",
   "execution_count": 69,
   "metadata": {
    "colab": {
     "base_uri": "https://localhost:8080/"
    },
    "id": "S4nriPMX6aTm",
    "outputId": "9f02b008-70c0-4995-fa47-86e9b48f41a7"
   },
   "outputs": [],
   "source": [
    "# Set the sequence length - this is the timeframe used to make a single prediction\n",
    "sequence_length = 1\n",
    "\n",
    "# Prediction Index\n",
    "index_Close = data.columns.get_loc(\"Close\")\n",
    "\n",
    "# Split the training data into train and train data sets\n",
    "# As a first step, we get the number of rows to train the model on 80% of the data \n",
    "train_data_len = math.ceil(np_data_scaled.shape[0] * 0.8)\n",
    "\n",
    "# Create the training and test data\n",
    "train_data = np_data_scaled[0:train_data_len, :]\n",
    "test_data = np_data_scaled[train_data_len - sequence_length:, :]\n",
    "\n",
    "# The RNN needs data with the format of [samples, time steps, features]\n",
    "# Here, we create N samples, sequence_length time steps per sample, and 6 features\n",
    "def partition_dataset(sequence_length, data):\n",
    "    x, y = [], []\n",
    "    data_len = data.shape[0]\n",
    "    for i in range(sequence_length, data_len):\n",
    "        x.append(data[i-sequence_length:i,:]) #contains sequence_length values 0-sequence_length * columsn\n",
    "        y.append(data[i, index_Close]) #contains the prediction values for validation,  for single-step prediction\n",
    "    \n",
    "    # Convert the x and y to numpy arrays\n",
    "    x = np.array(x)\n",
    "    y = np.array(y)\n",
    "    return x, y\n",
    "\n",
    "# Generate training data and test data\n",
    "x_train, y_train = partition_dataset(sequence_length, train_data)\n",
    "x_test, y_test = partition_dataset(sequence_length, test_data)\n",
    "\n",
    "# Print the shapes: the result is: (rows, training_sequence, features) (prediction value, )\n",
    "# print(x_train.shape, y_train.shape)\n",
    "# print(x_test.shape, y_test.shape)\n",
    "\n",
    "# Validate that the prediction value and the input match up\n",
    "# The last close price of the second input sample should equal the first prediction value\n",
    "# print(x_train[1][sequence_length-1][index_Close])\n",
    "# print(y_train[0])"
   ]
  },
  {
   "cell_type": "markdown",
   "metadata": {
    "id": "vcMuREaL8NQN"
   },
   "source": [
    "## Train the Multivariate Prediciton Model"
   ]
  },
  {
   "cell_type": "code",
   "execution_count": 70,
   "metadata": {
    "colab": {
     "base_uri": "https://localhost:8080/"
    },
    "id": "cBQZhAU772GH",
    "outputId": "b96990c4-b71e-4f0a-990e-91a316e993a5"
   },
   "outputs": [],
   "source": [
    "# Configure the neural network model\n",
    "model = Sequential()\n",
    "model.add(LSTM(unit, return_sequences=False, input_shape=(x_train.shape[1], x_train.shape[2]))) \n",
    "model.add(Dense(1))\n",
    "\n",
    "\n",
    "# Compile the model\n",
    "model.compile(optimizer='adam', loss='mse')"
   ]
  },
  {
   "cell_type": "code",
   "execution_count": 71,
   "metadata": {
    "colab": {
     "base_uri": "https://localhost:8080/"
    },
    "id": "DDq5g20R8TpJ",
    "outputId": "e0e5ebbf-8e45-48dd-d895-7417f3a04536"
   },
   "outputs": [
    {
     "name": "stdout",
     "output_type": "stream",
     "text": [
      "Epoch 1/10\n",
      "4/4 [==============================] - 2s 134ms/step - loss: 0.2799 - val_loss: 0.6051\n",
      "Epoch 2/10\n",
      "4/4 [==============================] - 0s 9ms/step - loss: 0.2611 - val_loss: 0.5689\n",
      "Epoch 3/10\n",
      "4/4 [==============================] - 0s 9ms/step - loss: 0.2431 - val_loss: 0.5326\n",
      "Epoch 4/10\n",
      "4/4 [==============================] - 0s 9ms/step - loss: 0.2246 - val_loss: 0.4976\n",
      "Epoch 5/10\n",
      "4/4 [==============================] - 0s 8ms/step - loss: 0.2079 - val_loss: 0.4646\n",
      "Epoch 6/10\n",
      "4/4 [==============================] - 0s 8ms/step - loss: 0.1919 - val_loss: 0.4338\n",
      "Epoch 7/10\n",
      "4/4 [==============================] - 0s 8ms/step - loss: 0.1770 - val_loss: 0.4039\n",
      "Epoch 8/10\n",
      "4/4 [==============================] - 0s 8ms/step - loss: 0.1625 - val_loss: 0.3757\n",
      "Epoch 9/10\n",
      "4/4 [==============================] - 0s 8ms/step - loss: 0.1489 - val_loss: 0.3474\n",
      "Epoch 10/10\n",
      "4/4 [==============================] - 0s 8ms/step - loss: 0.1360 - val_loss: 0.3199\n"
     ]
    }
   ],
   "source": [
    "# Training the model\n",
    "early_stop = EarlyStopping(monitor='loss', patience=5, verbose=1)\n",
    "history = model.fit(x_train, y_train, \n",
    "                    batch_size=16, \n",
    "                    epochs=epochs,\n",
    "                    validation_data=(x_test, y_test)\n",
    "                   )\n",
    "                    \n",
    "                    #callbacks=[early_stop])"
   ]
  },
  {
   "cell_type": "code",
   "execution_count": 72,
   "metadata": {
    "colab": {
     "base_uri": "https://localhost:8080/",
     "height": 350
    },
    "id": "kaCCAFja8WiD",
    "outputId": "02d71c6d-5b28-45be-e39e-1ab5cc9eae72"
   },
   "outputs": [],
   "source": [
    "# Plot training & validation loss values\n",
    "# fig, ax = plt.subplots(figsize=(16, 5), sharex=True)\n",
    "# sns.lineplot(data=history.history[\"loss\"])\n",
    "# plt.title(\"Model loss\")\n",
    "# plt.ylabel(\"Loss\")\n",
    "# plt.xlabel(\"Epoch\")\n",
    "# ax.xaxis.set_major_locator(plt.MaxNLocator(epochs))\n",
    "# plt.legend([\"Train\", \"Test\"], loc=\"upper left\")\n",
    "# plt.grid()\n",
    "# plt.show()"
   ]
  },
  {
   "cell_type": "code",
   "execution_count": null,
   "metadata": {},
   "outputs": [],
   "source": []
  },
  {
   "cell_type": "code",
   "execution_count": 73,
   "metadata": {},
   "outputs": [
    {
     "name": "stdout",
     "output_type": "stream",
     "text": [
      "1/1 [==============================] - 1s 1s/step\n"
     ]
    }
   ],
   "source": [
    "# Get the predicted values\n",
    "y_pred_scaled = model.predict(x_test)"
   ]
  },
  {
   "cell_type": "code",
   "execution_count": 82,
   "metadata": {},
   "outputs": [
    {
     "data": {
      "text/plain": [
       "array([[0.69230769],\n",
       "       [0.65384615],\n",
       "       [0.64903846],\n",
       "       [0.92307692],\n",
       "       [1.        ],\n",
       "       [0.98557692],\n",
       "       [0.98557692],\n",
       "       [0.77884615],\n",
       "       [0.71153846],\n",
       "       [0.83653846],\n",
       "       [0.875     ],\n",
       "       [0.93269231]])"
      ]
     },
     "execution_count": 82,
     "metadata": {},
     "output_type": "execute_result"
    }
   ],
   "source": [
    "y_test.reshape(-1,1)"
   ]
  },
  {
   "cell_type": "code",
   "execution_count": 74,
   "metadata": {},
   "outputs": [],
   "source": [
    "# Unscale the predicted values\n",
    "y_pred = scaler_pred.inverse_transform(y_pred_scaled)\n",
    "y_test_unscaled = scaler_pred.inverse_transform(y_test.reshape(-1, 1))"
   ]
  },
  {
   "cell_type": "code",
   "execution_count": 75,
   "metadata": {},
   "outputs": [
    {
     "name": "stdout",
     "output_type": "stream",
     "text": [
      "Jumlah data y_train: 49\n",
      "Jumlah data y_pred: 12\n",
      "Jumlah data y_test_unscaled: 12\n"
     ]
    }
   ],
   "source": [
    "print(f'Jumlah data y_train: {y_train.shape[0]}')\n",
    "print(f'Jumlah data y_pred: {y_pred.shape[0]}')\n",
    "print(f'Jumlah data y_test_unscaled: {y_test_unscaled.shape[0]}')"
   ]
  },
  {
   "cell_type": "markdown",
   "metadata": {
    "id": "59KO_S548paO"
   },
   "source": [
    "## Evaluate Model performance"
   ]
  },
  {
   "cell_type": "code",
   "execution_count": 76,
   "metadata": {
    "colab": {
     "base_uri": "https://localhost:8080/"
    },
    "id": "S6lrdYq38h8H",
    "outputId": "67e977e0-68a3-4a2b-973e-c6ae68ef11a3"
   },
   "outputs": [
    {
     "name": "stdout",
     "output_type": "stream",
     "text": [
      "Root Mean Square Error (RMSE): 588.19\n",
      "Median Absolute Error (MAE): 574.96\n",
      "Mean Absolute Percentage Error (MAPE): 6.64 %\n"
     ]
    }
   ],
   "source": [
    "# Root Mean Square Error (RMSE)\n",
    "MSE = mean_squared_error(y_test_unscaled, y_pred)\n",
    "RMSE = math.sqrt(MSE)\n",
    "RMSE = np.round(RMSE, 2)\n",
    "print(f'Root Mean Square Error (RMSE): {RMSE}')\n",
    "\n",
    "# Mean Absolute Error (MAE)\n",
    "MAE = mean_absolute_error(y_test_unscaled, y_pred)\n",
    "MAE = np.round(MAE, 2)\n",
    "print(f'Median Absolute Error (MAE): {MAE}')\n",
    "\n",
    "# Mean Absolute Percentage Error (MAPE)\n",
    "MAPE = np.mean((np.abs(np.subtract(y_test_unscaled, y_pred)/ y_test_unscaled))) * 100\n",
    "MAPE = np.round(MAPE, 2)\n",
    "print(f'Mean Absolute Percentage Error (MAPE): {MAPE} %')"
   ]
  },
  {
   "cell_type": "code",
   "execution_count": 77,
   "metadata": {
    "colab": {
     "base_uri": "https://localhost:8080/",
     "height": 380
    },
    "id": "34xhqG9G8rYi",
    "outputId": "ae2a4951-51c8-4ad3-bbc3-369b1fd2595c"
   },
   "outputs": [
    {
     "data": {
      "image/png": "[encoded data removed]",
      "text/plain": [
       "<Figure size 1152x576 with 1 Axes>"
      ]
     },
     "metadata": {
      "needs_background": "light"
     },
     "output_type": "display_data"
    }
   ],
   "source": [
    "# The date from which on the date is displayed\n",
    "display_start_date = start_date\n",
    "\n",
    "\n",
    "# Add the difference between the valid and predicted prices\n",
    "train = pd.DataFrame(data_filtered_ext['Close'][:train_data_len + 1]).rename(columns={'Close': 'y_train'})\n",
    "valid = pd.DataFrame(data_filtered_ext['Close'][train_data_len:]).rename(columns={'Close': 'y_test'})\n",
    "valid.insert(1, \"y_pred\", y_pred, True)\n",
    "# valid.insert(1, \"residuals\", valid[\"y_pred\"] - valid[\"y_test\"], True)\n",
    "df_union = pd.concat([train, valid])\n",
    "\n",
    "# Zoom in to a closer timeframe\n",
    "df_union_zoom = df_union[df_union.index > display_start_date]\n",
    "\n",
    "# Create the lineplot\n",
    "fig, ax1 = plt.subplots(figsize=(16, 8))\n",
    "plt.title(\"Predict Data vs Test Data\")\n",
    "\n",
    "sns.set_palette([\"#FF0000\", \"#1960EF\", \"#00FF00\"])\n",
    "sns.lineplot(data=df_union_zoom[['y_pred', 'y_train', 'y_test']], linewidth=1.0, dashes=False, ax=ax1)\n",
    "\n",
    "# Create the bar plot with the differences\n",
    "# df_sub = [\"#2BC97A\" if x > 0 else \"#C92B2B\" for x in df_union_zoom[\"residuals\"].dropna()]\n",
    "# ax1.bar(height=df_union_zoom['residuals'].dropna(), x=df_union_zoom['residuals'].dropna().index, width=3, label='residuals', color=df_sub)\n",
    "plt.savefig(\"../results/plots/LSTM/\" + symbol_dataset +'_LSTM-'+ \n",
    "            term_status + '_'+ str(epochs) +'_'+ str(unit) + '.pdf')\n",
    "plt.legend()\n",
    "plt.show()"
   ]
  },
  {
   "cell_type": "markdown",
   "metadata": {
    "id": "2P6qwZrW8u-W"
   },
   "source": [
    "## Save a new Dataset"
   ]
  },
  {
   "cell_type": "code",
   "execution_count": 78,
   "metadata": {},
   "outputs": [],
   "source": [
    "new_data = pd.DataFrame(data_filtered_ext['Close'][train_data_len:]).rename(columns={'Close': 'real_close'})\n",
    "new_data['close_lstm'] = y_pred"
   ]
  },
  {
   "cell_type": "code",
   "execution_count": 79,
   "metadata": {},
   "outputs": [],
   "source": [
    "#save to dataset\n",
    "df_new_data = pd.DataFrame(new_data)"
   ]
  },
  {
   "cell_type": "code",
   "execution_count": 80,
   "metadata": {},
   "outputs": [
    {
     "data": {
      "text/html": [
       "<div>\n",
       "<style scoped>\n",
       "    .dataframe tbody tr th:only-of-type {\n",
       "        vertical-align: middle;\n",
       "    }\n",
       "\n",
       "    .dataframe tbody tr th {\n",
       "        vertical-align: top;\n",
       "    }\n",
       "\n",
       "    .dataframe thead th {\n",
       "        text-align: right;\n",
       "    }\n",
       "</style>\n",
       "<table border=\"1\" class=\"dataframe\">\n",
       "  <thead>\n",
       "    <tr style=\"text-align: right;\">\n",
       "      <th></th>\n",
       "      <th>real_close</th>\n",
       "      <th>close_lstm</th>\n",
       "    </tr>\n",
       "    <tr>\n",
       "      <th>Date</th>\n",
       "      <th></th>\n",
       "      <th></th>\n",
       "    </tr>\n",
       "  </thead>\n",
       "  <tbody>\n",
       "    <tr>\n",
       "      <th>2017-03-22</th>\n",
       "      <td>8570.0</td>\n",
       "      <td>8102.760742</td>\n",
       "    </tr>\n",
       "    <tr>\n",
       "      <th>2017-03-23</th>\n",
       "      <td>8500.0</td>\n",
       "      <td>8042.421875</td>\n",
       "    </tr>\n",
       "    <tr>\n",
       "      <th>2017-03-24</th>\n",
       "      <td>8630.0</td>\n",
       "      <td>8057.124023</td>\n",
       "    </tr>\n",
       "    <tr>\n",
       "      <th>2017-03-27</th>\n",
       "      <td>8670.0</td>\n",
       "      <td>8037.786621</td>\n",
       "    </tr>\n",
       "    <tr>\n",
       "      <th>2017-03-29</th>\n",
       "      <td>8730.0</td>\n",
       "      <td>8091.839844</td>\n",
       "    </tr>\n",
       "  </tbody>\n",
       "</table>\n",
       "</div>"
      ],
      "text/plain": [
       "            real_close   close_lstm\n",
       "Date                               \n",
       "2017-03-22      8570.0  8102.760742\n",
       "2017-03-23      8500.0  8042.421875\n",
       "2017-03-24      8630.0  8057.124023\n",
       "2017-03-27      8670.0  8037.786621\n",
       "2017-03-29      8730.0  8091.839844"
      ]
     },
     "execution_count": 80,
     "metadata": {},
     "output_type": "execute_result"
    }
   ],
   "source": [
    "df_new_data.tail()"
   ]
  },
  {
   "cell_type": "code",
   "execution_count": 27,
   "metadata": {},
   "outputs": [],
   "source": [
    "df_new_data.to_csv(\"../results/datasets/\" + symbol_dataset\n",
    "                   +'_LSTM-'+ term_status + '_'+ str(epochs) +'_'+ str(unit) + '.csv', index=True)"
   ]
  },
  {
   "cell_type": "code",
   "execution_count": 28,
   "metadata": {},
   "outputs": [
    {
     "data": {
      "text/html": [
       "<div>\n",
       "<style scoped>\n",
       "    .dataframe tbody tr th:only-of-type {\n",
       "        vertical-align: middle;\n",
       "    }\n",
       "\n",
       "    .dataframe tbody tr th {\n",
       "        vertical-align: top;\n",
       "    }\n",
       "\n",
       "    .dataframe thead th {\n",
       "        text-align: right;\n",
       "    }\n",
       "</style>\n",
       "<table border=\"1\" class=\"dataframe\">\n",
       "  <thead>\n",
       "    <tr style=\"text-align: right;\">\n",
       "      <th></th>\n",
       "      <th>Date</th>\n",
       "      <th>real_close</th>\n",
       "      <th>close_lstm</th>\n",
       "    </tr>\n",
       "  </thead>\n",
       "  <tbody>\n",
       "    <tr>\n",
       "      <th>0</th>\n",
       "      <td>2020-12-22</td>\n",
       "      <td>7475.0</td>\n",
       "      <td>7980.1357</td>\n",
       "    </tr>\n",
       "    <tr>\n",
       "      <th>1</th>\n",
       "      <td>2020-12-23</td>\n",
       "      <td>7425.0</td>\n",
       "      <td>7868.5310</td>\n",
       "    </tr>\n",
       "    <tr>\n",
       "      <th>2</th>\n",
       "      <td>2020-12-28</td>\n",
       "      <td>7450.0</td>\n",
       "      <td>7777.8010</td>\n",
       "    </tr>\n",
       "    <tr>\n",
       "      <th>3</th>\n",
       "      <td>2020-12-29</td>\n",
       "      <td>7350.0</td>\n",
       "      <td>7752.6147</td>\n",
       "    </tr>\n",
       "    <tr>\n",
       "      <th>4</th>\n",
       "      <td>2020-12-30</td>\n",
       "      <td>7350.0</td>\n",
       "      <td>7722.6626</td>\n",
       "    </tr>\n",
       "    <tr>\n",
       "      <th>...</th>\n",
       "      <td>...</td>\n",
       "      <td>...</td>\n",
       "      <td>...</td>\n",
       "    </tr>\n",
       "    <tr>\n",
       "      <th>247</th>\n",
       "      <td>2021-12-24</td>\n",
       "      <td>4200.0</td>\n",
       "      <td>5175.2266</td>\n",
       "    </tr>\n",
       "    <tr>\n",
       "      <th>248</th>\n",
       "      <td>2021-12-27</td>\n",
       "      <td>4210.0</td>\n",
       "      <td>5226.3604</td>\n",
       "    </tr>\n",
       "    <tr>\n",
       "      <th>249</th>\n",
       "      <td>2021-12-28</td>\n",
       "      <td>4180.0</td>\n",
       "      <td>5253.4385</td>\n",
       "    </tr>\n",
       "    <tr>\n",
       "      <th>250</th>\n",
       "      <td>2021-12-29</td>\n",
       "      <td>4120.0</td>\n",
       "      <td>5257.9814</td>\n",
       "    </tr>\n",
       "    <tr>\n",
       "      <th>251</th>\n",
       "      <td>2021-12-30</td>\n",
       "      <td>4110.0</td>\n",
       "      <td>5239.4414</td>\n",
       "    </tr>\n",
       "  </tbody>\n",
       "</table>\n",
       "<p>252 rows × 3 columns</p>\n",
       "</div>"
      ],
      "text/plain": [
       "           Date  real_close  close_lstm\n",
       "0    2020-12-22      7475.0   7980.1357\n",
       "1    2020-12-23      7425.0   7868.5310\n",
       "2    2020-12-28      7450.0   7777.8010\n",
       "3    2020-12-29      7350.0   7752.6147\n",
       "4    2020-12-30      7350.0   7722.6626\n",
       "..          ...         ...         ...\n",
       "247  2021-12-24      4200.0   5175.2266\n",
       "248  2021-12-27      4210.0   5226.3604\n",
       "249  2021-12-28      4180.0   5253.4385\n",
       "250  2021-12-29      4120.0   5257.9814\n",
       "251  2021-12-30      4110.0   5239.4414\n",
       "\n",
       "[252 rows x 3 columns]"
      ]
     },
     "execution_count": 28,
     "metadata": {},
     "output_type": "execute_result"
    }
   ],
   "source": [
    "read_new_data = pd.read_csv(\"../results/datasets/\" + symbol_dataset\n",
    "                   +'_LSTM-'+ term_status + '_'+ str(epochs) +'_'+ str(unit) + '.csv')\n",
    "read_new_data"
   ]
  },
  {
   "cell_type": "markdown",
   "metadata": {},
   "source": [
    "## insert to Database"
   ]
  },
  {
   "cell_type": "code",
   "execution_count": 25,
   "metadata": {},
   "outputs": [],
   "source": [
    "#connect database\n",
    "mydb = mysql.connect(\n",
    "    host=\"localhost\",\n",
    "    user=\"root\",\n",
    "    password=\"\",\n",
    "    database=\"db_tugasakhir\"\n",
    ")\n",
    "mycursor = mydb.cursor()\n",
    "\n",
    "#insert to database\n",
    "sql = \"INSERT INTO pengujian_lstm (datasets, start_dates, end_dates,epochs, units, RMSE, MAE, MAPE) VALUES (%s,%s,%s,%s,%s,%s,%s,%s)\"\n",
    "val = (symbol_dataset, start_date, end_date, epochs, unit, RMSE, MAE, MAPE)\n",
    "\n",
    "mycursor.execute(sql,val)\n",
    "mydb.commit()"
   ]
  },
  {
   "cell_type": "code",
   "execution_count": null,
   "metadata": {},
   "outputs": [],
   "source": []
  },
  {
   "cell_type": "code",
   "execution_count": null,
   "metadata": {},
   "outputs": [],
   "source": []
  }
 ],
 "metadata": {
  "colab": {
   "collapsed_sections": [],
   "provenance": []
  },
  "kernelspec": {
   "display_name": "Python 3 (ipykernel)",
   "language": "python",
   "name": "python3"
  },
  "language_info": {
   "codemirror_mode": {
    "name": "ipython",
    "version": 3
   },
   "file_extension": ".py",
   "mimetype": "text/x-python",
   "name": "python",
   "nbconvert_exporter": "python",
   "pygments_lexer": "ipython3",
   "version": "3.9.12"
  }
 },
 "nbformat": 4,
 "nbformat_minor": 1
}
