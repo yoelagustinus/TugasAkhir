{
 "cells": [
  {
   "cell_type": "markdown",
   "metadata": {
    "id": "DjVETfWh5ksz"
   },
   "source": [
    "# Time Series Forecasting - Multivariable Time Series Models for Stock Market Prediction\n",
    "\n",
    "## import Packages"
   ]
  },
  {
   "cell_type": "code",
   "execution_count": 79,
   "metadata": {
    "colab": {
     "base_uri": "https://localhost:8080/",
     "height": 424
    },
    "id": "kPwzikVX49b5",
    "outputId": "e377c0a8-e840-480e-ea26-8ac9a42ec435"
   },
   "outputs": [],
   "source": [
    "import math \n",
    "import numpy as np \n",
    "import pandas as pd \n",
    "from datetime import date, timedelta, datetime \n",
    "from pandas.plotting import register_matplotlib_converters \n",
    "import matplotlib.pyplot as plt \n",
    "import matplotlib.dates as mdates \n",
    "import tensorflow as tf\n",
    "from sklearn.metrics import mean_absolute_error, mean_squared_error \n",
    "from tensorflow.keras import Sequential \n",
    "from tensorflow.keras.layers import LSTM, Dense, Dropout\n",
    "from tensorflow.keras.callbacks import EarlyStopping \n",
    "from sklearn.preprocessing import RobustScaler, MinMaxScaler\n",
    "import seaborn as sns \n",
    "import mysql.connector as mysql\n",
    "import yfinance as yf\n"
   ]
  },
  {
   "cell_type": "markdown",
   "metadata": {},
   "source": [
    "## Change the indicators"
   ]
  },
  {
   "cell_type": "code",
   "execution_count": 80,
   "metadata": {},
   "outputs": [],
   "source": [
    "#hyperparameters\n",
    "# epochs  = [10,100,1000]\n",
    "# units = [10,50,128]\n",
    "epoch = 10\n",
    "unit = 128"
   ]
  },
  {
   "cell_type": "markdown",
   "metadata": {},
   "source": [
    "## Load the Time Series Data use Yahoo finance"
   ]
  },
  {
   "cell_type": "code",
   "execution_count": 100,
   "metadata": {
    "scrolled": true
   },
   "outputs": [
    {
     "name": "stdout",
     "output_type": "stream",
     "text": [
      "[*********************100%***********************]  1 of 1 completed\n"
     ]
    },
    {
     "data": {
      "text/html": [
       "<div>\n",
       "<style scoped>\n",
       "    .dataframe tbody tr th:only-of-type {\n",
       "        vertical-align: middle;\n",
       "    }\n",
       "\n",
       "    .dataframe tbody tr th {\n",
       "        vertical-align: top;\n",
       "    }\n",
       "\n",
       "    .dataframe thead th {\n",
       "        text-align: right;\n",
       "    }\n",
       "</style>\n",
       "<table border=\"1\" class=\"dataframe\">\n",
       "  <thead>\n",
       "    <tr style=\"text-align: right;\">\n",
       "      <th></th>\n",
       "      <th>Open</th>\n",
       "      <th>High</th>\n",
       "      <th>Low</th>\n",
       "      <th>Close</th>\n",
       "      <th>Adj Close</th>\n",
       "      <th>Volume</th>\n",
       "    </tr>\n",
       "    <tr>\n",
       "      <th>Date</th>\n",
       "      <th></th>\n",
       "      <th></th>\n",
       "      <th></th>\n",
       "      <th></th>\n",
       "      <th></th>\n",
       "      <th></th>\n",
       "    </tr>\n",
       "  </thead>\n",
       "  <tbody>\n",
       "    <tr>\n",
       "      <th>2017-01-02</th>\n",
       "      <td>63900.0</td>\n",
       "      <td>63900.0</td>\n",
       "      <td>63900.0</td>\n",
       "      <td>63900.0</td>\n",
       "      <td>53820.609375</td>\n",
       "      <td>0</td>\n",
       "    </tr>\n",
       "    <tr>\n",
       "      <th>2017-01-03</th>\n",
       "      <td>63650.0</td>\n",
       "      <td>64350.0</td>\n",
       "      <td>63100.0</td>\n",
       "      <td>63300.0</td>\n",
       "      <td>53315.250000</td>\n",
       "      <td>340700</td>\n",
       "    </tr>\n",
       "    <tr>\n",
       "      <th>2017-01-04</th>\n",
       "      <td>63400.0</td>\n",
       "      <td>64450.0</td>\n",
       "      <td>62300.0</td>\n",
       "      <td>63200.0</td>\n",
       "      <td>53231.023438</td>\n",
       "      <td>578800</td>\n",
       "    </tr>\n",
       "    <tr>\n",
       "      <th>2017-01-05</th>\n",
       "      <td>63200.0</td>\n",
       "      <td>65600.0</td>\n",
       "      <td>63200.0</td>\n",
       "      <td>65600.0</td>\n",
       "      <td>55252.457031</td>\n",
       "      <td>1023100</td>\n",
       "    </tr>\n",
       "    <tr>\n",
       "      <th>2017-01-06</th>\n",
       "      <td>65450.0</td>\n",
       "      <td>65450.0</td>\n",
       "      <td>63900.0</td>\n",
       "      <td>64425.0</td>\n",
       "      <td>54262.796875</td>\n",
       "      <td>339100</td>\n",
       "    </tr>\n",
       "    <tr>\n",
       "      <th>...</th>\n",
       "      <td>...</td>\n",
       "      <td>...</td>\n",
       "      <td>...</td>\n",
       "      <td>...</td>\n",
       "      <td>...</td>\n",
       "      <td>...</td>\n",
       "    </tr>\n",
       "    <tr>\n",
       "      <th>2021-12-24</th>\n",
       "      <td>30625.0</td>\n",
       "      <td>30625.0</td>\n",
       "      <td>30500.0</td>\n",
       "      <td>30525.0</td>\n",
       "      <td>30522.832031</td>\n",
       "      <td>294700</td>\n",
       "    </tr>\n",
       "    <tr>\n",
       "      <th>2021-12-27</th>\n",
       "      <td>30525.0</td>\n",
       "      <td>30800.0</td>\n",
       "      <td>30475.0</td>\n",
       "      <td>30675.0</td>\n",
       "      <td>30672.820312</td>\n",
       "      <td>390700</td>\n",
       "    </tr>\n",
       "    <tr>\n",
       "      <th>2021-12-28</th>\n",
       "      <td>30675.0</td>\n",
       "      <td>30850.0</td>\n",
       "      <td>30650.0</td>\n",
       "      <td>30650.0</td>\n",
       "      <td>30647.822266</td>\n",
       "      <td>406900</td>\n",
       "    </tr>\n",
       "    <tr>\n",
       "      <th>2021-12-29</th>\n",
       "      <td>30800.0</td>\n",
       "      <td>30825.0</td>\n",
       "      <td>30650.0</td>\n",
       "      <td>30650.0</td>\n",
       "      <td>30647.822266</td>\n",
       "      <td>131500</td>\n",
       "    </tr>\n",
       "    <tr>\n",
       "      <th>2021-12-30</th>\n",
       "      <td>30675.0</td>\n",
       "      <td>30700.0</td>\n",
       "      <td>30550.0</td>\n",
       "      <td>30600.0</td>\n",
       "      <td>30597.826172</td>\n",
       "      <td>378200</td>\n",
       "    </tr>\n",
       "  </tbody>\n",
       "</table>\n",
       "<p>1261 rows × 6 columns</p>\n",
       "</div>"
      ],
      "text/plain": [
       "               Open     High      Low    Close     Adj Close   Volume\n",
       "Date                                                                 \n",
       "2017-01-02  63900.0  63900.0  63900.0  63900.0  53820.609375        0\n",
       "2017-01-03  63650.0  64350.0  63100.0  63300.0  53315.250000   340700\n",
       "2017-01-04  63400.0  64450.0  62300.0  63200.0  53231.023438   578800\n",
       "2017-01-05  63200.0  65600.0  63200.0  65600.0  55252.457031  1023100\n",
       "2017-01-06  65450.0  65450.0  63900.0  64425.0  54262.796875   339100\n",
       "...             ...      ...      ...      ...           ...      ...\n",
       "2021-12-24  30625.0  30625.0  30500.0  30525.0  30522.832031   294700\n",
       "2021-12-27  30525.0  30800.0  30475.0  30675.0  30672.820312   390700\n",
       "2021-12-28  30675.0  30850.0  30650.0  30650.0  30647.822266   406900\n",
       "2021-12-29  30800.0  30825.0  30650.0  30650.0  30647.822266   131500\n",
       "2021-12-30  30675.0  30700.0  30550.0  30600.0  30597.826172   378200\n",
       "\n",
       "[1261 rows x 6 columns]"
      ]
     },
     "execution_count": 100,
     "metadata": {},
     "output_type": "execute_result"
    }
   ],
   "source": [
    "\n",
    "start_date = '2017-01-01'\n",
    "\n",
    "end_date = '2021-12-31'\n",
    "symbol_dataset = 'GGRM.jk'\n",
    "\n",
    "# arr_end_date = ['2021-12-31','2017-12-31', '2017-03-30']\n",
    "# arr_symbol_dataset = ['UNVR.jk', 'GGRM.jk', 'PSDN.jk']\n",
    "\n",
    "# jumlah_pengujian = 0\n",
    "# for index_dataset in arr_symbol_dataset:\n",
    "#     for index_end_date in arr_end_date:\n",
    "#         for epoch in epochs:\n",
    "#             for unit in units: \n",
    "                \n",
    "#                 jumlah_pengujian+=1\n",
    "#                 df = yf.download(index_dataset, start=start_date, end=index_end_date)\n",
    "#                 if df.shape[0]>=1250:\n",
    "#                     term_status = \"long\"\n",
    "#                 elif df.shape[0]>=250:\n",
    "#                     term_status = \"mid\"\n",
    "#                 else:\n",
    "#                     term_status = \"short\"\n",
    "                \n",
    "#                 print(\"pengujian ke-\" + str(jumlah_pengujian))\n",
    "#                 print(\"Data Saham = \" + index_dataset + term_status)\n",
    "#                 print(\"Start = \" + start_date)\n",
    "#                 print(\"End = \" + index_end_date)\n",
    "                \n",
    "#                 print(\"epochs = \" + str(epoch))\n",
    "#                 print(\"unit = \" + str(unit))\n",
    "                \n",
    "#                 print(\"==================================\")\n",
    "\n",
    "        \n",
    "\n",
    "\n",
    "\n",
    "df = yf.download(symbol_dataset, start=start_date, end=end_date)\n",
    "if df.shape[0]>=1250:\n",
    "    term_status = \"long\"\n",
    "elif df.shape[0]>=250:\n",
    "    term_status = \"mid\"\n",
    "else:\n",
    "    term_status = \"short\"\n",
    "                \n",
    "\n",
    "\n",
    "# # Create a quick overview of the dataset\n",
    "df"
   ]
  },
  {
   "cell_type": "markdown",
   "metadata": {},
   "source": [
    "# Preprocessing"
   ]
  },
  {
   "cell_type": "markdown",
   "metadata": {},
   "source": [
    "## Cek and Imputation missing value"
   ]
  },
  {
   "cell_type": "code",
   "execution_count": 101,
   "metadata": {},
   "outputs": [
    {
     "data": {
      "text/plain": [
       "Open         0\n",
       "High         0\n",
       "Low          0\n",
       "Close        0\n",
       "Adj Close    0\n",
       "Volume       0\n",
       "dtype: int64"
      ]
     },
     "execution_count": 101,
     "metadata": {},
     "output_type": "execute_result"
    }
   ],
   "source": [
    "df.isnull().sum()"
   ]
  },
  {
   "cell_type": "code",
   "execution_count": 102,
   "metadata": {},
   "outputs": [],
   "source": [
    "# jika ada data yang null, run this code\n",
    "\n",
    "# df = df.fillna(df.mean())"
   ]
  },
  {
   "cell_type": "code",
   "execution_count": 103,
   "metadata": {},
   "outputs": [
    {
     "data": {
      "text/html": [
       "<div>\n",
       "<style scoped>\n",
       "    .dataframe tbody tr th:only-of-type {\n",
       "        vertical-align: middle;\n",
       "    }\n",
       "\n",
       "    .dataframe tbody tr th {\n",
       "        vertical-align: top;\n",
       "    }\n",
       "\n",
       "    .dataframe thead th {\n",
       "        text-align: right;\n",
       "    }\n",
       "</style>\n",
       "<table border=\"1\" class=\"dataframe\">\n",
       "  <thead>\n",
       "    <tr style=\"text-align: right;\">\n",
       "      <th></th>\n",
       "      <th>Open</th>\n",
       "      <th>High</th>\n",
       "      <th>Low</th>\n",
       "      <th>Close</th>\n",
       "      <th>Adj Close</th>\n",
       "      <th>Volume</th>\n",
       "    </tr>\n",
       "    <tr>\n",
       "      <th>Date</th>\n",
       "      <th></th>\n",
       "      <th></th>\n",
       "      <th></th>\n",
       "      <th></th>\n",
       "      <th></th>\n",
       "      <th></th>\n",
       "    </tr>\n",
       "  </thead>\n",
       "  <tbody>\n",
       "    <tr>\n",
       "      <th>2017-01-02</th>\n",
       "      <td>63900.0</td>\n",
       "      <td>63900.0</td>\n",
       "      <td>63900.0</td>\n",
       "      <td>63900.0</td>\n",
       "      <td>53820.609375</td>\n",
       "      <td>0</td>\n",
       "    </tr>\n",
       "    <tr>\n",
       "      <th>2017-01-03</th>\n",
       "      <td>63650.0</td>\n",
       "      <td>64350.0</td>\n",
       "      <td>63100.0</td>\n",
       "      <td>63300.0</td>\n",
       "      <td>53315.250000</td>\n",
       "      <td>340700</td>\n",
       "    </tr>\n",
       "    <tr>\n",
       "      <th>2017-01-04</th>\n",
       "      <td>63400.0</td>\n",
       "      <td>64450.0</td>\n",
       "      <td>62300.0</td>\n",
       "      <td>63200.0</td>\n",
       "      <td>53231.023438</td>\n",
       "      <td>578800</td>\n",
       "    </tr>\n",
       "    <tr>\n",
       "      <th>2017-01-05</th>\n",
       "      <td>63200.0</td>\n",
       "      <td>65600.0</td>\n",
       "      <td>63200.0</td>\n",
       "      <td>65600.0</td>\n",
       "      <td>55252.457031</td>\n",
       "      <td>1023100</td>\n",
       "    </tr>\n",
       "    <tr>\n",
       "      <th>2017-01-06</th>\n",
       "      <td>65450.0</td>\n",
       "      <td>65450.0</td>\n",
       "      <td>63900.0</td>\n",
       "      <td>64425.0</td>\n",
       "      <td>54262.796875</td>\n",
       "      <td>339100</td>\n",
       "    </tr>\n",
       "    <tr>\n",
       "      <th>...</th>\n",
       "      <td>...</td>\n",
       "      <td>...</td>\n",
       "      <td>...</td>\n",
       "      <td>...</td>\n",
       "      <td>...</td>\n",
       "      <td>...</td>\n",
       "    </tr>\n",
       "    <tr>\n",
       "      <th>2021-12-24</th>\n",
       "      <td>30625.0</td>\n",
       "      <td>30625.0</td>\n",
       "      <td>30500.0</td>\n",
       "      <td>30525.0</td>\n",
       "      <td>30522.832031</td>\n",
       "      <td>294700</td>\n",
       "    </tr>\n",
       "    <tr>\n",
       "      <th>2021-12-27</th>\n",
       "      <td>30525.0</td>\n",
       "      <td>30800.0</td>\n",
       "      <td>30475.0</td>\n",
       "      <td>30675.0</td>\n",
       "      <td>30672.820312</td>\n",
       "      <td>390700</td>\n",
       "    </tr>\n",
       "    <tr>\n",
       "      <th>2021-12-28</th>\n",
       "      <td>30675.0</td>\n",
       "      <td>30850.0</td>\n",
       "      <td>30650.0</td>\n",
       "      <td>30650.0</td>\n",
       "      <td>30647.822266</td>\n",
       "      <td>406900</td>\n",
       "    </tr>\n",
       "    <tr>\n",
       "      <th>2021-12-29</th>\n",
       "      <td>30800.0</td>\n",
       "      <td>30825.0</td>\n",
       "      <td>30650.0</td>\n",
       "      <td>30650.0</td>\n",
       "      <td>30647.822266</td>\n",
       "      <td>131500</td>\n",
       "    </tr>\n",
       "    <tr>\n",
       "      <th>2021-12-30</th>\n",
       "      <td>30675.0</td>\n",
       "      <td>30700.0</td>\n",
       "      <td>30550.0</td>\n",
       "      <td>30600.0</td>\n",
       "      <td>30597.826172</td>\n",
       "      <td>378200</td>\n",
       "    </tr>\n",
       "  </tbody>\n",
       "</table>\n",
       "<p>1261 rows × 6 columns</p>\n",
       "</div>"
      ],
      "text/plain": [
       "               Open     High      Low    Close     Adj Close   Volume\n",
       "Date                                                                 \n",
       "2017-01-02  63900.0  63900.0  63900.0  63900.0  53820.609375        0\n",
       "2017-01-03  63650.0  64350.0  63100.0  63300.0  53315.250000   340700\n",
       "2017-01-04  63400.0  64450.0  62300.0  63200.0  53231.023438   578800\n",
       "2017-01-05  63200.0  65600.0  63200.0  65600.0  55252.457031  1023100\n",
       "2017-01-06  65450.0  65450.0  63900.0  64425.0  54262.796875   339100\n",
       "...             ...      ...      ...      ...           ...      ...\n",
       "2021-12-24  30625.0  30625.0  30500.0  30525.0  30522.832031   294700\n",
       "2021-12-27  30525.0  30800.0  30475.0  30675.0  30672.820312   390700\n",
       "2021-12-28  30675.0  30850.0  30650.0  30650.0  30647.822266   406900\n",
       "2021-12-29  30800.0  30825.0  30650.0  30650.0  30647.822266   131500\n",
       "2021-12-30  30675.0  30700.0  30550.0  30600.0  30597.826172   378200\n",
       "\n",
       "[1261 rows x 6 columns]"
      ]
     },
     "execution_count": 103,
     "metadata": {},
     "output_type": "execute_result"
    }
   ],
   "source": [
    "df"
   ]
  },
  {
   "cell_type": "code",
   "execution_count": 104,
   "metadata": {},
   "outputs": [
    {
     "data": {
      "text/plain": [
       "<matplotlib.legend.Legend at 0x15ff0e80e50>"
      ]
     },
     "execution_count": 104,
     "metadata": {},
     "output_type": "execute_result"
    },
    {
     "data": {
      "text/plain": [
       "<Figure size 432x288 with 0 Axes>"
      ]
     },
     "metadata": {},
     "output_type": "display_data"
    },
    {
     "data": {
      "image/png": "[encoded data removed]",
      "text/plain": [
       "<Figure size 1152x576 with 1 Axes>"
      ]
     },
     "metadata": {
      "needs_background": "light"
     },
     "output_type": "display_data"
    }
   ],
   "source": [
    "plt.figure()\n",
    "plt.subplots(figsize=(16, 8))\n",
    "plt.plot(df['Close'], color = 'red', label = 'Real Stock Price')\n",
    "plt.title(symbol_dataset +\"-\"+ term_status +' Term Stock Prediction, epochs: '+ str(epoch) +'; units: '+str(unit))\n",
    "plt.xlabel('Time')\n",
    "plt.ylabel(symbol_dataset +' Stock Price ')\n",
    "plt.legend()"
   ]
  },
  {
   "cell_type": "markdown",
   "metadata": {
    "id": "e7-v9hbD6dBi"
   },
   "source": [
    "## Feature Selection and Scaling"
   ]
  },
  {
   "cell_type": "code",
   "execution_count": 105,
   "metadata": {
    "colab": {
     "base_uri": "https://localhost:8080/",
     "height": 241
    },
    "id": "JH3ICHtG5USz",
    "outputId": "7dc085dd-842b-4025-c829-bbee83380dd1",
    "scrolled": true
   },
   "outputs": [
    {
     "name": "stdout",
     "output_type": "stream",
     "text": [
      "FEATURE LIST\n",
      "['High', 'Low', 'Open', 'Close', 'Volume']\n"
     ]
    },
    {
     "data": {
      "text/html": [
       "<div>\n",
       "<style scoped>\n",
       "    .dataframe tbody tr th:only-of-type {\n",
       "        vertical-align: middle;\n",
       "    }\n",
       "\n",
       "    .dataframe tbody tr th {\n",
       "        vertical-align: top;\n",
       "    }\n",
       "\n",
       "    .dataframe thead th {\n",
       "        text-align: right;\n",
       "    }\n",
       "</style>\n",
       "<table border=\"1\" class=\"dataframe\">\n",
       "  <thead>\n",
       "    <tr style=\"text-align: right;\">\n",
       "      <th></th>\n",
       "      <th>High</th>\n",
       "      <th>Low</th>\n",
       "      <th>Open</th>\n",
       "      <th>Close</th>\n",
       "      <th>Volume</th>\n",
       "      <th>Prediction</th>\n",
       "    </tr>\n",
       "    <tr>\n",
       "      <th>Date</th>\n",
       "      <th></th>\n",
       "      <th></th>\n",
       "      <th></th>\n",
       "      <th></th>\n",
       "      <th></th>\n",
       "      <th></th>\n",
       "    </tr>\n",
       "  </thead>\n",
       "  <tbody>\n",
       "    <tr>\n",
       "      <th>2017-01-02</th>\n",
       "      <td>63900.0</td>\n",
       "      <td>63900.0</td>\n",
       "      <td>63900.0</td>\n",
       "      <td>63900.0</td>\n",
       "      <td>0</td>\n",
       "      <td>63900.0</td>\n",
       "    </tr>\n",
       "    <tr>\n",
       "      <th>2017-01-03</th>\n",
       "      <td>64350.0</td>\n",
       "      <td>63100.0</td>\n",
       "      <td>63650.0</td>\n",
       "      <td>63300.0</td>\n",
       "      <td>340700</td>\n",
       "      <td>63300.0</td>\n",
       "    </tr>\n",
       "    <tr>\n",
       "      <th>2017-01-04</th>\n",
       "      <td>64450.0</td>\n",
       "      <td>62300.0</td>\n",
       "      <td>63400.0</td>\n",
       "      <td>63200.0</td>\n",
       "      <td>578800</td>\n",
       "      <td>63200.0</td>\n",
       "    </tr>\n",
       "    <tr>\n",
       "      <th>2017-01-05</th>\n",
       "      <td>65600.0</td>\n",
       "      <td>63200.0</td>\n",
       "      <td>63200.0</td>\n",
       "      <td>65600.0</td>\n",
       "      <td>1023100</td>\n",
       "      <td>65600.0</td>\n",
       "    </tr>\n",
       "    <tr>\n",
       "      <th>2017-01-06</th>\n",
       "      <td>65450.0</td>\n",
       "      <td>63900.0</td>\n",
       "      <td>65450.0</td>\n",
       "      <td>64425.0</td>\n",
       "      <td>339100</td>\n",
       "      <td>64425.0</td>\n",
       "    </tr>\n",
       "    <tr>\n",
       "      <th>...</th>\n",
       "      <td>...</td>\n",
       "      <td>...</td>\n",
       "      <td>...</td>\n",
       "      <td>...</td>\n",
       "      <td>...</td>\n",
       "      <td>...</td>\n",
       "    </tr>\n",
       "    <tr>\n",
       "      <th>2021-12-24</th>\n",
       "      <td>30625.0</td>\n",
       "      <td>30500.0</td>\n",
       "      <td>30625.0</td>\n",
       "      <td>30525.0</td>\n",
       "      <td>294700</td>\n",
       "      <td>30525.0</td>\n",
       "    </tr>\n",
       "    <tr>\n",
       "      <th>2021-12-27</th>\n",
       "      <td>30800.0</td>\n",
       "      <td>30475.0</td>\n",
       "      <td>30525.0</td>\n",
       "      <td>30675.0</td>\n",
       "      <td>390700</td>\n",
       "      <td>30675.0</td>\n",
       "    </tr>\n",
       "    <tr>\n",
       "      <th>2021-12-28</th>\n",
       "      <td>30850.0</td>\n",
       "      <td>30650.0</td>\n",
       "      <td>30675.0</td>\n",
       "      <td>30650.0</td>\n",
       "      <td>406900</td>\n",
       "      <td>30650.0</td>\n",
       "    </tr>\n",
       "    <tr>\n",
       "      <th>2021-12-29</th>\n",
       "      <td>30825.0</td>\n",
       "      <td>30650.0</td>\n",
       "      <td>30800.0</td>\n",
       "      <td>30650.0</td>\n",
       "      <td>131500</td>\n",
       "      <td>30650.0</td>\n",
       "    </tr>\n",
       "    <tr>\n",
       "      <th>2021-12-30</th>\n",
       "      <td>30700.0</td>\n",
       "      <td>30550.0</td>\n",
       "      <td>30675.0</td>\n",
       "      <td>30600.0</td>\n",
       "      <td>378200</td>\n",
       "      <td>30600.0</td>\n",
       "    </tr>\n",
       "  </tbody>\n",
       "</table>\n",
       "<p>1261 rows × 6 columns</p>\n",
       "</div>"
      ],
      "text/plain": [
       "               High      Low     Open    Close   Volume  Prediction\n",
       "Date                                                               \n",
       "2017-01-02  63900.0  63900.0  63900.0  63900.0        0     63900.0\n",
       "2017-01-03  64350.0  63100.0  63650.0  63300.0   340700     63300.0\n",
       "2017-01-04  64450.0  62300.0  63400.0  63200.0   578800     63200.0\n",
       "2017-01-05  65600.0  63200.0  63200.0  65600.0  1023100     65600.0\n",
       "2017-01-06  65450.0  63900.0  65450.0  64425.0   339100     64425.0\n",
       "...             ...      ...      ...      ...      ...         ...\n",
       "2021-12-24  30625.0  30500.0  30625.0  30525.0   294700     30525.0\n",
       "2021-12-27  30800.0  30475.0  30525.0  30675.0   390700     30675.0\n",
       "2021-12-28  30850.0  30650.0  30675.0  30650.0   406900     30650.0\n",
       "2021-12-29  30825.0  30650.0  30800.0  30650.0   131500     30650.0\n",
       "2021-12-30  30700.0  30550.0  30675.0  30600.0   378200     30600.0\n",
       "\n",
       "[1261 rows x 6 columns]"
      ]
     },
     "execution_count": 105,
     "metadata": {},
     "output_type": "execute_result"
    }
   ],
   "source": [
    "# Indexing Batches\n",
    "train_df = df.sort_values(by=['Date']).copy()\n",
    "\n",
    "# Daftar Fitur yang digunakan\n",
    "FEATURES = ['High', 'Low', 'Open', 'Close', 'Volume']\n",
    "\n",
    "print('FEATURE LIST')\n",
    "print([f for f in FEATURES])\n",
    "\n",
    "# Buat kumpulan data dengan fitur dan filter data ke daftar FEATURES\n",
    "data = pd.DataFrame(train_df)\n",
    "data_filtered = data[FEATURES]\n",
    "\n",
    "# Kami menambahkan kolom prediksi dan menetapkan nilai dummy untuk menyiapkan data untuk penskalaan\n",
    "data_filtered_ext = data_filtered.copy()\n",
    "data_filtered_ext['Prediction'] = data_filtered_ext['Close']\n",
    "\n",
    "# Print the dataframe\n",
    "data_filtered_ext"
   ]
  },
  {
   "cell_type": "code",
   "execution_count": 106,
   "metadata": {
    "colab": {
     "base_uri": "https://localhost:8080/"
    },
    "id": "ZE7tf-p35aiB",
    "outputId": "59340252-5f9b-4917-81c9-4dc61c702ab9"
   },
   "outputs": [
    {
     "name": "stdout",
     "output_type": "stream",
     "text": [
      "(1261, 5)\n"
     ]
    }
   ],
   "source": [
    "# Dapatkan jumlah baris dalam data\n",
    "nrows = data_filtered.shape[0]\n",
    "# print(nrows)\n",
    "\n",
    "# Convert the data ke numpy values\n",
    "np_data_unscaled = np.array(data_filtered)\n",
    "# print(np_data_unscaled)\n",
    "np_data = np.reshape(np_data_unscaled, (nrows, -1))\n",
    "print(np_data.shape)\n",
    "\n",
    "# Transform the data by scaling each feature to a range between 0 and 1 using MinMaxScaler\n",
    "scaler = MinMaxScaler(feature_range=(0,1))\n",
    "np_data_scaled = scaler.fit_transform(np_data_unscaled)\n",
    "\n",
    "# Membuat scaler terpisah yang berfungsi pada satu kolom untuk prediksi penskalaan\n",
    "scaler_pred = MinMaxScaler(feature_range=(0,1))\n",
    "df_Close = pd.DataFrame(data_filtered_ext['Close'])\n",
    "np_Close_scaled = scaler_pred.fit_transform(df_Close)"
   ]
  },
  {
   "cell_type": "markdown",
   "metadata": {
    "id": "HErrOQbv6W4C"
   },
   "source": [
    "## Transforming the Data"
   ]
  },
  {
   "cell_type": "code",
   "execution_count": 107,
   "metadata": {
    "colab": {
     "base_uri": "https://localhost:8080/"
    },
    "id": "S4nriPMX6aTm",
    "outputId": "9f02b008-70c0-4995-fa47-86e9b48f41a7"
   },
   "outputs": [
    {
     "name": "stdout",
     "output_type": "stream",
     "text": [
      "(1008, 1, 5) (1008,)\n",
      "(252, 1, 5) (252,)\n",
      "0.5155763239875388\n",
      "0.5155763239875388\n"
     ]
    }
   ],
   "source": [
    "# Set the sequence length - this is the timeframe used to make a single prediction\n",
    "sequence_length = 1\n",
    "\n",
    "# Prediction Index\n",
    "index_Close = data.columns.get_loc(\"Close\")\n",
    "\n",
    "# Split the training data into train and train data sets\n",
    "# As a first step, we get the number of rows to train the model on 80% of the data \n",
    "train_data_len = math.ceil(np_data_scaled.shape[0] * 0.8)\n",
    "\n",
    "# Create the training and test data\n",
    "train_data = np_data_scaled[0:train_data_len, :]\n",
    "test_data = np_data_scaled[train_data_len - sequence_length:, :]\n",
    "\n",
    "# The RNN needs data with the format of [samples, time steps, features]\n",
    "# Here, we create N samples, sequence_length time steps per sample, and 6 features\n",
    "def partition_dataset(sequence_length, data):\n",
    "    x, y = [], []\n",
    "    data_len = data.shape[0]\n",
    "    for i in range(sequence_length, data_len):\n",
    "        x.append(data[i-sequence_length:i,:]) #contains sequence_length values 0-sequence_length * columsn\n",
    "        y.append(data[i, index_Close]) #contains the prediction values for validation,  for single-step prediction\n",
    "    \n",
    "    # Convert the x and y to numpy arrays\n",
    "    x = np.array(x)\n",
    "    y = np.array(y)\n",
    "    return x, y\n",
    "\n",
    "# Generate training data and test data\n",
    "x_train, y_train = partition_dataset(sequence_length, train_data)\n",
    "x_test, y_test = partition_dataset(sequence_length, test_data)\n",
    "\n",
    "# Print the shapes: the result is: (rows, training_sequence, features) (prediction value, )\n",
    "print(x_train.shape, y_train.shape)\n",
    "print(x_test.shape, y_test.shape)\n",
    "\n",
    "# Validate that the prediction value and the input match up\n",
    "# The last close price of the second input sample should equal the first prediction value\n",
    "print(x_train[1][sequence_length-1][index_Close])\n",
    "print(y_train[0])"
   ]
  },
  {
   "cell_type": "code",
   "execution_count": 125,
   "metadata": {},
   "outputs": [
    {
     "data": {
      "text/plain": [
       "1009"
      ]
     },
     "execution_count": 125,
     "metadata": {},
     "output_type": "execute_result"
    }
   ],
   "source": []
  },
  {
   "cell_type": "markdown",
   "metadata": {
    "id": "vcMuREaL8NQN"
   },
   "source": [
    "## Train the Multivariate Prediciton Model"
   ]
  },
  {
   "cell_type": "code",
   "execution_count": 108,
   "metadata": {
    "colab": {
     "base_uri": "https://localhost:8080/"
    },
    "id": "cBQZhAU772GH",
    "outputId": "b96990c4-b71e-4f0a-990e-91a316e993a5"
   },
   "outputs": [],
   "source": [
    "# Configure the neural network model\n",
    "model = Sequential()\n",
    "model.add(LSTM(unit, return_sequences=False, input_shape=(x_train.shape[1], x_train.shape[2]))) \n",
    "model.add(Dense(1))\n",
    "\n",
    "\n",
    "# Compile the model\n",
    "model.compile(optimizer='adam', loss='mse')"
   ]
  },
  {
   "cell_type": "code",
   "execution_count": 109,
   "metadata": {
    "colab": {
     "base_uri": "https://localhost:8080/"
    },
    "id": "DDq5g20R8TpJ",
    "outputId": "e0e5ebbf-8e45-48dd-d895-7417f3a04536"
   },
   "outputs": [
    {
     "name": "stdout",
     "output_type": "stream",
     "text": [
      "Epoch 1/10\n",
      "63/63 [==============================] - 2s 8ms/step - loss: 0.0692 - val_loss: 0.0204\n",
      "Epoch 2/10\n",
      "63/63 [==============================] - 0s 2ms/step - loss: 0.0027 - val_loss: 0.0125\n",
      "Epoch 3/10\n",
      "63/63 [==============================] - 0s 2ms/step - loss: 0.0017 - val_loss: 0.0074\n",
      "Epoch 4/10\n",
      "63/63 [==============================] - 0s 2ms/step - loss: 0.0011 - val_loss: 0.0043\n",
      "Epoch 5/10\n",
      "63/63 [==============================] - 0s 2ms/step - loss: 8.0209e-04 - val_loss: 0.0028\n",
      "Epoch 6/10\n",
      "63/63 [==============================] - 0s 2ms/step - loss: 6.8714e-04 - val_loss: 0.0020\n",
      "Epoch 7/10\n",
      "63/63 [==============================] - 0s 2ms/step - loss: 6.5537e-04 - val_loss: 0.0014\n",
      "Epoch 8/10\n",
      "63/63 [==============================] - 0s 2ms/step - loss: 6.3638e-04 - val_loss: 0.0014\n",
      "Epoch 9/10\n",
      "63/63 [==============================] - 0s 2ms/step - loss: 6.4314e-04 - val_loss: 0.0012\n",
      "Epoch 10/10\n",
      "63/63 [==============================] - 0s 2ms/step - loss: 6.3749e-04 - val_loss: 0.0011\n"
     ]
    }
   ],
   "source": [
    "# Training the model\n",
    "early_stop = EarlyStopping(monitor='loss', patience=5, verbose=1)\n",
    "history = model.fit(x_train, y_train, \n",
    "                    batch_size=16, \n",
    "                    epochs=epoch,\n",
    "                    validation_data=(x_test, y_test)\n",
    "                   )\n",
    "                    \n",
    "                    #callbacks=[early_stop])"
   ]
  },
  {
   "cell_type": "code",
   "execution_count": 110,
   "metadata": {
    "colab": {
     "base_uri": "https://localhost:8080/",
     "height": 350
    },
    "id": "kaCCAFja8WiD",
    "outputId": "02d71c6d-5b28-45be-e39e-1ab5cc9eae72"
   },
   "outputs": [],
   "source": [
    "# Plot training & validation loss values\n",
    "# fig, ax = plt.subplots(figsize=(16, 5), sharex=True)\n",
    "# sns.lineplot(data=history.history[\"loss\"])\n",
    "# plt.title(\"Model loss\")\n",
    "# plt.ylabel(\"Loss\")\n",
    "# plt.xlabel(\"Epoch\")\n",
    "# ax.xaxis.set_major_locator(plt.MaxNLocator(epochs))\n",
    "# plt.legend([\"Train\", \"Test\"], loc=\"upper left\")\n",
    "# plt.grid()\n",
    "# plt.show()"
   ]
  },
  {
   "cell_type": "code",
   "execution_count": null,
   "metadata": {},
   "outputs": [],
   "source": []
  },
  {
   "cell_type": "code",
   "execution_count": 111,
   "metadata": {},
   "outputs": [
    {
     "name": "stdout",
     "output_type": "stream",
     "text": [
      "8/8 [==============================] - 1s 1ms/step\n"
     ]
    }
   ],
   "source": [
    "# Get the predicted values\n",
    "y_pred_scaled = model.predict(x_test)"
   ]
  },
  {
   "cell_type": "code",
   "execution_count": 112,
   "metadata": {},
   "outputs": [
    {
     "data": {
      "text/plain": [
       "array([[0.1732866 ],\n",
       "       [0.16939252],\n",
       "       [0.16861371],\n",
       "       [0.16939252],\n",
       "       [0.1682243 ],\n",
       "       [0.1682243 ],\n",
       "       [0.16394081],\n",
       "       [0.15809969],\n",
       "       [0.15809969],\n",
       "       [0.17211838],\n",
       "       [0.17211838],\n",
       "       [0.16043614],\n",
       "       [0.17523364],\n",
       "       [0.16510903],\n",
       "       [0.16510903],\n",
       "       [0.17095016],\n",
       "       [0.17095016],\n",
       "       [0.16939252],\n",
       "       [0.16939252],\n",
       "       [0.16588785],\n",
       "       [0.15654206],\n",
       "       [0.15147975],\n",
       "       [0.15303738],\n",
       "       [0.13590343],\n",
       "       [0.11721184],\n",
       "       [0.12461059],\n",
       "       [0.13785047],\n",
       "       [0.13434579],\n",
       "       [0.13395639],\n",
       "       [0.13512461],\n",
       "       [0.13395639],\n",
       "       [0.13356698],\n",
       "       [0.12928349],\n",
       "       [0.13278816],\n",
       "       [0.13278816],\n",
       "       [0.12889408],\n",
       "       [0.12344237],\n",
       "       [0.12149533],\n",
       "       [0.11760125],\n",
       "       [0.10708723],\n",
       "       [0.09890966],\n",
       "       [0.10124611],\n",
       "       [0.1008567 ],\n",
       "       [0.09813084],\n",
       "       [0.09968847],\n",
       "       [0.11176012],\n",
       "       [0.105919  ],\n",
       "       [0.10436137],\n",
       "       [0.09968847],\n",
       "       [0.09929907],\n",
       "       [0.09423676],\n",
       "       [0.09423676],\n",
       "       [0.09384735],\n",
       "       [0.09345794],\n",
       "       [0.1008567 ],\n",
       "       [0.09501558],\n",
       "       [0.09968847],\n",
       "       [0.11799065],\n",
       "       [0.11799065],\n",
       "       [0.10241433],\n",
       "       [0.08761682],\n",
       "       [0.08761682],\n",
       "       [0.09190031],\n",
       "       [0.09735202],\n",
       "       [0.1008567 ],\n",
       "       [0.09306854],\n",
       "       [0.09540498],\n",
       "       [0.09345794],\n",
       "       [0.09462617],\n",
       "       [0.09384735],\n",
       "       [0.10669782],\n",
       "       [0.12227414],\n",
       "       [0.10319315],\n",
       "       [0.0961838 ],\n",
       "       [0.10007788],\n",
       "       [0.09579439],\n",
       "       [0.09657321],\n",
       "       [0.09423676],\n",
       "       [0.09579439],\n",
       "       [0.09345794],\n",
       "       [0.09228972],\n",
       "       [0.0911215 ],\n",
       "       [0.09384735],\n",
       "       [0.09034268],\n",
       "       [0.09696262],\n",
       "       [0.09228972],\n",
       "       [0.09190031],\n",
       "       [0.08878505],\n",
       "       [0.08566978],\n",
       "       [0.08099688],\n",
       "       [0.07749221],\n",
       "       [0.07593458],\n",
       "       [0.07749221],\n",
       "       [0.07554517],\n",
       "       [0.0529595 ],\n",
       "       [0.05607477],\n",
       "       [0.04478193],\n",
       "       [0.04244548],\n",
       "       [0.04244548],\n",
       "       [0.04361371],\n",
       "       [0.04517134],\n",
       "       [0.04205607],\n",
       "       [0.04205607],\n",
       "       [0.04595016],\n",
       "       [0.05685358],\n",
       "       [0.0529595 ],\n",
       "       [0.04906542],\n",
       "       [0.05101246],\n",
       "       [0.04400312],\n",
       "       [0.04166667],\n",
       "       [0.0529595 ],\n",
       "       [0.0529595 ],\n",
       "       [0.0576324 ],\n",
       "       [0.07009346],\n",
       "       [0.08489097],\n",
       "       [0.09073209],\n",
       "       [0.0864486 ],\n",
       "       [0.09384735],\n",
       "       [0.11370717],\n",
       "       [0.1203271 ],\n",
       "       [0.12577882],\n",
       "       [0.13317757],\n",
       "       [0.16433022],\n",
       "       [0.20716511],\n",
       "       [0.21806854],\n",
       "       [0.21806854],\n",
       "       [0.26557632],\n",
       "       [0.21417445],\n",
       "       [0.17484424],\n",
       "       [0.16588785],\n",
       "       [0.16160436],\n",
       "       [0.17056075],\n",
       "       [0.18029595],\n",
       "       [0.17679128],\n",
       "       [0.16043614],\n",
       "       [0.1635514 ],\n",
       "       [0.15576324],\n",
       "       [0.11214953],\n",
       "       [0.08995327],\n",
       "       [0.09423676],\n",
       "       [0.0911215 ],\n",
       "       [0.08294393],\n",
       "       [0.07165109],\n",
       "       [0.06386293],\n",
       "       [0.0720405 ],\n",
       "       [0.04049844],\n",
       "       [0.03894081],\n",
       "       [0.04439252],\n",
       "       [0.03933022],\n",
       "       [0.04244548],\n",
       "       [0.04049844],\n",
       "       [0.04088785],\n",
       "       [0.03699377],\n",
       "       [0.04205607],\n",
       "       [0.03738318],\n",
       "       [0.03193146],\n",
       "       [0.01051402],\n",
       "       [0.        ],\n",
       "       [0.00155763],\n",
       "       [0.02453271],\n",
       "       [0.03232087],\n",
       "       [0.0338785 ],\n",
       "       [0.03115265],\n",
       "       [0.02764798],\n",
       "       [0.03816199],\n",
       "       [0.04478193],\n",
       "       [0.04906542],\n",
       "       [0.03738318],\n",
       "       [0.04517134],\n",
       "       [0.04478193],\n",
       "       [0.04127726],\n",
       "       [0.0334891 ],\n",
       "       [0.05218069],\n",
       "       [0.04595016],\n",
       "       [0.03426791],\n",
       "       [0.03582555],\n",
       "       [0.02803738],\n",
       "       [0.0334891 ],\n",
       "       [0.02570093],\n",
       "       [0.02647975],\n",
       "       [0.0194704 ],\n",
       "       [0.01869159],\n",
       "       [0.01869159],\n",
       "       [0.01362928],\n",
       "       [0.01285047],\n",
       "       [0.02102804],\n",
       "       [0.02297508],\n",
       "       [0.03660436],\n",
       "       [0.0288162 ],\n",
       "       [0.03543614],\n",
       "       [0.03777259],\n",
       "       [0.04439252],\n",
       "       [0.07087227],\n",
       "       [0.06931464],\n",
       "       [0.05685358],\n",
       "       [0.0478972 ],\n",
       "       [0.0673676 ],\n",
       "       [0.06853583],\n",
       "       [0.06542056],\n",
       "       [0.0771028 ],\n",
       "       [0.07476636],\n",
       "       [0.07788162],\n",
       "       [0.07281931],\n",
       "       [0.05685358],\n",
       "       [0.06152648],\n",
       "       [0.06697819],\n",
       "       [0.05179128],\n",
       "       [0.05140187],\n",
       "       [0.05490654],\n",
       "       [0.05257009],\n",
       "       [0.04283489],\n",
       "       [0.04439252],\n",
       "       [0.04400312],\n",
       "       [0.04439252],\n",
       "       [0.04127726],\n",
       "       [0.04088785],\n",
       "       [0.04867601],\n",
       "       [0.05373832],\n",
       "       [0.04984424],\n",
       "       [0.06386293],\n",
       "       [0.05373832],\n",
       "       [0.04984424],\n",
       "       [0.0478972 ],\n",
       "       [0.04945483],\n",
       "       [0.05101246],\n",
       "       [0.05529595],\n",
       "       [0.05062305],\n",
       "       [0.04633956],\n",
       "       [0.04010903],\n",
       "       [0.01869159],\n",
       "       [0.02063863],\n",
       "       [0.0338785 ],\n",
       "       [0.02725857],\n",
       "       [0.02998442],\n",
       "       [0.02647975],\n",
       "       [0.02024922],\n",
       "       [0.02920561],\n",
       "       [0.0288162 ],\n",
       "       [0.03193146],\n",
       "       [0.01869159],\n",
       "       [0.02141745],\n",
       "       [0.0144081 ],\n",
       "       [0.01246106],\n",
       "       [0.01401869],\n",
       "       [0.01362928],\n",
       "       [0.01012461],\n",
       "       [0.00623053],\n",
       "       [0.00506231],\n",
       "       [0.00739875],\n",
       "       [0.00700935],\n",
       "       [0.00700935],\n",
       "       [0.00623053]])"
      ]
     },
     "execution_count": 112,
     "metadata": {},
     "output_type": "execute_result"
    }
   ],
   "source": [
    "y_test.reshape(-1,1)"
   ]
  },
  {
   "cell_type": "code",
   "execution_count": 113,
   "metadata": {},
   "outputs": [],
   "source": [
    "# Unscale the predicted values\n",
    "y_pred = scaler_pred.inverse_transform(y_pred_scaled)\n",
    "y_test_unscaled = scaler_pred.inverse_transform(y_test.reshape(-1, 1))"
   ]
  },
  {
   "cell_type": "code",
   "execution_count": 114,
   "metadata": {},
   "outputs": [
    {
     "name": "stdout",
     "output_type": "stream",
     "text": [
      "Jumlah data y_train: 1008\n",
      "Jumlah data y_pred: 252\n",
      "Jumlah data y_test_unscaled: 252\n"
     ]
    }
   ],
   "source": [
    "print(f'Jumlah data y_train: {y_train.shape[0]}')\n",
    "print(f'Jumlah data y_pred: {y_pred.shape[0]}')\n",
    "print(f'Jumlah data y_test_unscaled: {y_test_unscaled.shape[0]}')"
   ]
  },
  {
   "cell_type": "markdown",
   "metadata": {
    "id": "59KO_S548paO"
   },
   "source": [
    "## Evaluate Model performance"
   ]
  },
  {
   "cell_type": "code",
   "execution_count": 115,
   "metadata": {
    "colab": {
     "base_uri": "https://localhost:8080/"
    },
    "id": "S6lrdYq38h8H",
    "outputId": "67e977e0-68a3-4a2b-973e-c6ae68ef11a3"
   },
   "outputs": [
    {
     "name": "stdout",
     "output_type": "stream",
     "text": [
      "Root Mean Square Error (RMSE): 2121.98\n",
      "Median Absolute Error (MAE): 1981.28\n",
      "Mean Absolute Percentage Error (MAPE): 5.76 %\n"
     ]
    }
   ],
   "source": [
    "# Root Mean Square Error (RMSE)\n",
    "MSE = mean_squared_error(y_test_unscaled, y_pred)\n",
    "RMSE = math.sqrt(MSE)\n",
    "RMSE = np.round(RMSE, 2)\n",
    "print(f'Root Mean Square Error (RMSE): {RMSE}')\n",
    "\n",
    "# Mean Absolute Error (MAE)\n",
    "MAE = mean_absolute_error(y_test_unscaled, y_pred)\n",
    "MAE = np.round(MAE, 2)\n",
    "print(f'Median Absolute Error (MAE): {MAE}')\n",
    "\n",
    "# Mean Absolute Percentage Error (MAPE)\n",
    "MAPE = np.mean((np.abs(np.subtract(y_test_unscaled, y_pred)/ y_test_unscaled))) * 100\n",
    "MAPE = np.round(MAPE, 2)\n",
    "print(f'Mean Absolute Percentage Error (MAPE): {MAPE} %')"
   ]
  },
  {
   "cell_type": "code",
   "execution_count": 116,
   "metadata": {
    "colab": {
     "base_uri": "https://localhost:8080/",
     "height": 380
    },
    "id": "34xhqG9G8rYi",
    "outputId": "ae2a4951-51c8-4ad3-bbc3-369b1fd2595c"
   },
   "outputs": [
    {
     "data": {
      "image/png": "[encoded data removed]",
      "text/plain": [
       "<Figure size 1152x576 with 1 Axes>"
      ]
     },
     "metadata": {
      "needs_background": "light"
     },
     "output_type": "display_data"
    }
   ],
   "source": [
    "# The date from which on the date is displayed\n",
    "display_start_date = start_date\n",
    "\n",
    "\n",
    "# Add the difference between the valid and predicted prices\n",
    "train = pd.DataFrame(data_filtered_ext['Close'][:train_data_len]).rename(columns={'Close': 'y_train'})\n",
    "valid = pd.DataFrame(data_filtered_ext['Close'][train_data_len:]).rename(columns={'Close': 'y_test'})\n",
    "valid.insert(1, \"y_pred\", y_pred, True)\n",
    "# valid.insert(1, \"residuals\", valid[\"y_pred\"] - valid[\"y_test\"], True)\n",
    "df_union = pd.concat([train, valid])\n",
    "\n",
    "# Zoom in to a closer timeframe\n",
    "df_union_zoom = df_union[df_union.index > display_start_date]\n",
    "\n",
    "# Create the lineplot\n",
    "fig, ax1 = plt.subplots(figsize=(16, 8))\n",
    "plt.title(\"Predict Data vs Test Data\")\n",
    "\n",
    "sns.set_palette([\"#FF0000\", \"#1960EF\", \"#00FF00\"])\n",
    "sns.lineplot(data=df_union_zoom[['y_pred', 'y_train', 'y_test']], linewidth=1.0, dashes=False, ax=ax1)\n",
    "\n",
    "# Create the bar plot with the differences\n",
    "# df_sub = [\"#2BC97A\" if x > 0 else \"#C92B2B\" for x in df_union_zoom[\"residuals\"].dropna()]\n",
    "# ax1.bar(height=df_union_zoom['residuals'].dropna(), x=df_union_zoom['residuals'].dropna().index, width=3, label='residuals', color=df_sub)\n",
    "# plt.savefig(\"../results/LSTM/plots/\" + symbol_dataset +'_LSTM-'+ \n",
    "#                             term_status + '_e='+ str(epoch) +'_u='+ str(unit) + '.pdf')\n",
    "plt.legend()\n",
    "plt.show()"
   ]
  },
  {
   "cell_type": "code",
   "execution_count": 117,
   "metadata": {},
   "outputs": [
    {
     "data": {
      "text/plain": [
       "<matplotlib.legend.Legend at 0x15feb890040>"
      ]
     },
     "execution_count": 117,
     "metadata": {},
     "output_type": "execute_result"
    },
    {
     "data": {
      "text/plain": [
       "<Figure size 432x288 with 0 Axes>"
      ]
     },
     "metadata": {},
     "output_type": "display_data"
    },
    {
     "data": {
      "image/png": "[encoded data removed]",
      "text/plain": [
       "<Figure size 1152x576 with 1 Axes>"
      ]
     },
     "metadata": {
      "needs_background": "light"
     },
     "output_type": "display_data"
    }
   ],
   "source": [
    "plt.figure()\n",
    "plt.subplots(figsize=(16, 8))\n",
    "plt.plot(df_union_zoom['y_test'], color = 'red', label = 'Real Stock Price')\n",
    "plt.plot(df_union_zoom['y_pred'], color = 'blue', label = 'Predicted Stock Price')\n",
    "plt.title(symbol_dataset +\"-\"+ term_status +' Term Stock Prediction, epochs: '+ str(epoch) +'; units: '+str(unit))\n",
    "plt.xlabel('Time')\n",
    "plt.ylabel(symbol_dataset +' Stock Price ')\n",
    "plt.legend()"
   ]
  },
  {
   "cell_type": "markdown",
   "metadata": {
    "id": "2P6qwZrW8u-W"
   },
   "source": [
    "## Save a new Dataset"
   ]
  },
  {
   "cell_type": "code",
   "execution_count": null,
   "metadata": {},
   "outputs": [],
   "source": [
    "# new_data = pd.DataFrame(data_filtered_ext['Close'][train_data_len:]).rename(columns={'Close': 'real_close'})\n",
    "# new_data['close_lstm'] = y_pred"
   ]
  },
  {
   "cell_type": "code",
   "execution_count": null,
   "metadata": {},
   "outputs": [],
   "source": [
    "# #save to dataset\n",
    "# df_new_data = pd.DataFrame(new_data)"
   ]
  },
  {
   "cell_type": "code",
   "execution_count": null,
   "metadata": {},
   "outputs": [],
   "source": [
    "# df_new_data.tail()"
   ]
  },
  {
   "cell_type": "code",
   "execution_count": null,
   "metadata": {},
   "outputs": [],
   "source": [
    "# df_new_data.to_csv(\"../results/LSTM/datasets/\" + index_dataset\n",
    "#                 +'_LSTM-'+ term_status + '_e='+ str(epoch) +'_u='+ str(unit) + '.csv', index=True)"
   ]
  },
  {
   "cell_type": "code",
   "execution_count": null,
   "metadata": {},
   "outputs": [],
   "source": [
    "# read_new_data = pd.read_csv(\"../results/LSTM/datasets/\"+ term_status + symbol_dataset\n",
    "#                    +'_LSTM-'+ term_status + '_e='+ str(epochs) +'_u='+ str(unit) + '.csv')\n",
    "# read_new_data"
   ]
  },
  {
   "cell_type": "markdown",
   "metadata": {},
   "source": [
    "## insert to Database"
   ]
  },
  {
   "cell_type": "code",
   "execution_count": null,
   "metadata": {},
   "outputs": [],
   "source": [
    "# #connect database\n",
    "# mydb = mysql.connect(\n",
    "#     host=\"localhost\",\n",
    "#     user=\"root\",\n",
    "#     password=\"\",\n",
    "#     database=\"db_tugasakhir\"\n",
    "# )\n",
    "# mycursor = mydb.cursor()\n",
    "\n",
    "# #insert to database\n",
    "# sql = \"INSERT INTO pengujian_lstm (datasets, start_dates, end_dates,epochs, units, RMSE, MAE, MAPE) VALUES (%s,%s,%s,%s,%s,%s,%s,%s)\"\n",
    "# val = (symbol_dataset, start_date, end_date, epochs, unit, RMSE, MAE, MAPE)\n",
    "\n",
    "# mycursor.execute(sql,val)\n",
    "# mydb.commit()"
   ]
  },
  {
   "cell_type": "code",
   "execution_count": null,
   "metadata": {},
   "outputs": [],
   "source": []
  },
  {
   "cell_type": "code",
   "execution_count": null,
   "metadata": {},
   "outputs": [],
   "source": []
  },
  {
   "cell_type": "code",
   "execution_count": null,
   "metadata": {},
   "outputs": [],
   "source": []
  },
  {
   "cell_type": "code",
   "execution_count": null,
   "metadata": {},
   "outputs": [],
   "source": []
  },
  {
   "cell_type": "code",
   "execution_count": null,
   "metadata": {},
   "outputs": [],
   "source": []
  },
  {
   "cell_type": "code",
   "execution_count": null,
   "metadata": {},
   "outputs": [],
   "source": []
  }
 ],
 "metadata": {
  "colab": {
   "collapsed_sections": [],
   "provenance": []
  },
  "kernelspec": {
   "display_name": "Python 3 (ipykernel)",
   "language": "python",
   "name": "python3"
  },
  "language_info": {
   "codemirror_mode": {
    "name": "ipython",
    "version": 3
   },
   "file_extension": ".py",
   "mimetype": "text/x-python",
   "name": "python",
   "nbconvert_exporter": "python",
   "pygments_lexer": "ipython3",
   "version": "3.9.12"
  }
 },
 "nbformat": 4,
 "nbformat_minor": 1
}
