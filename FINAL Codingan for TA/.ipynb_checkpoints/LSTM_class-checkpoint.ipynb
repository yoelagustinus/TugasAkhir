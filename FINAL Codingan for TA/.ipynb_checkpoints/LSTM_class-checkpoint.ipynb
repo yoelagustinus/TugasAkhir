{
 "cells": [
  {
   "cell_type": "markdown",
   "metadata": {
    "id": "DjVETfWh5ksz"
   },
   "source": [
    "# Time Series Forecasting - Multivariable Time Series Models for Stock Market Prediction\n",
    "\n",
    "## import Packages"
   ]
  },
  {
   "cell_type": "code",
   "execution_count": 86,
   "metadata": {
    "colab": {
     "base_uri": "https://localhost:8080/",
     "height": 424
    },
    "id": "kPwzikVX49b5",
    "outputId": "e377c0a8-e840-480e-ea26-8ac9a42ec435"
   },
   "outputs": [],
   "source": [
    "import math \n",
    "import numpy as np \n",
    "import pandas as pd \n",
    "from datetime import date, timedelta, datetime \n",
    "from pandas.plotting import register_matplotlib_converters \n",
    "import matplotlib.pyplot as plt \n",
    "import matplotlib.dates as mdates \n",
    "import tensorflow as tf\n",
    "from sklearn.metrics import mean_absolute_error, mean_squared_error, mean_absolute_percentage_error\n",
    "from tensorflow.keras import Sequential \n",
    "from tensorflow.keras.layers import LSTM, Dense, Dropout\n",
    "from tensorflow.keras.callbacks import EarlyStopping\n",
    "from tensorflow.keras.layers import Bidirectional\n",
    "from sklearn.preprocessing import RobustScaler, MinMaxScaler\n",
    "import seaborn as sns \n",
    "import mysql.connector as mysql\n",
    "import yfinance as yf\n"
   ]
  },
  {
   "cell_type": "markdown",
   "metadata": {},
   "source": [
    "## Evaluasi Forecasting\n",
    "### RMSE, MAE, MAPE"
   ]
  },
  {
   "cell_type": "code",
   "execution_count": 87,
   "metadata": {},
   "outputs": [],
   "source": [
    "class EvaluasiForecasting:\n",
    "    def rmse_metric(actual, predicted):\n",
    "        mean_error = np.square(np.subtract(actual,predicted)).mean()\n",
    "        return math.sqrt(mean_error)\n",
    "\n",
    "    def mae_metric(actual, predicted):\n",
    "        y_true, predicted = np.array(actual), np.array(predicted)\n",
    "        return np.mean(np.abs(actual - predicted))\n",
    "\n",
    "    def mape_metric(actual, predicted): \n",
    "        actual, predicted = np.array(actual), np.array(predicted)\n",
    "        return np.mean(np.abs((actual - predicted) / actual)) * 100"
   ]
  },
  {
   "cell_type": "code",
   "execution_count": 88,
   "metadata": {},
   "outputs": [],
   "source": [
    "class DataLoad:\n",
    "    def read_data(start_date,end_date, symbol_dataset):\n",
    "        df = []\n",
    "        df = yf.download(symbol_dataset, start=start_date, end=end_date)\n",
    "        \n",
    "        return df"
   ]
  },
  {
   "cell_type": "code",
   "execution_count": 89,
   "metadata": {},
   "outputs": [],
   "source": [
    "class Preprocessing:\n",
    "    def feature_selection(df):\n",
    "        # Indexing Batches\n",
    "        train_df = df.sort_values(by=['Date']).copy()\n",
    "\n",
    "        # Daftar Fitur yang digunakan\n",
    "        FEATURES = ['High', 'Low', 'Open', 'Close', 'Volume']\n",
    "        data = pd.DataFrame(train_df)\n",
    "        data_filtered = data[FEATURES]\n",
    "\n",
    "        # Kami menambahkan kolom prediksi dan menetapkan nilai dummy untuk menyiapkan data untuk penskalaan\n",
    "        data_filtered_ext = data_filtered.copy()\n",
    "        data_filtered_ext['Prediction'] = data_filtered_ext['Close']\n",
    "        return data_filtered_ext, data_filtered, data\n",
    "    \n",
    "    def reshape_data(data_filtered):\n",
    "        # Dapatkan jumlah baris dalam data\n",
    "        nrows = data_filtered.shape[0]\n",
    "\n",
    "        # Convert the data ke numpy values\n",
    "        np_data_unscaled = np.array(data_filtered)\n",
    "        np_data = np.reshape(np_data_unscaled, (nrows, -1))\n",
    "        \n",
    "        return np_data_unscaled, np_data\n",
    "\n",
    "    def min_max(np_data_unscaled,data_filtered_ext):\n",
    "        scaler = MinMaxScaler(feature_range=(0,1))\n",
    "        np_data_scaled = scaler.fit_transform(np_data_unscaled)\n",
    "\n",
    "        # Membuat scaler terpisah yang berfungsi pada satu kolom untuk prediksi penskalaan\n",
    "        scaler_pred = MinMaxScaler(feature_range=(0,1))\n",
    "        df_Close = pd.DataFrame(data_filtered_ext['Close'])\n",
    "        np_Close_scaled = scaler_pred.fit_transform(df_Close)\n",
    "        \n",
    "        return np_data_scaled, np_Close_scaled, scaler_pred\n",
    "    \n",
    "    def inverse_minmax(y_pred_scaled, y_test):\n",
    "        y_pred = scaler_pred.inverse_transform(y_pred_scaled)\n",
    "        y_test_unscaled = scaler_pred.inverse_transform(y_test.reshape(-1, 1))\n",
    "        \n",
    "        return y_pred, y_test_unscaled\n",
    "    \n",
    "    def partition_dataset(sequence_length, data, index_Close):\n",
    "        x, y = [], []\n",
    "        data_len = data.shape[0]\n",
    "        for i in range(sequence_length, data_len):\n",
    "            x.append(data[i-sequence_length:i,:]) #contains sequence_length values 0-sequence_length * columsn\n",
    "            y.append(data[i, index_Close]) #contains the prediction values for validation,  for single-step prediction\n",
    "\n",
    "        # Convert the x and y to numpy arrays\n",
    "        x = np.array(x)\n",
    "        y = np.array(y)\n",
    "        return x, y\n",
    "    \n",
    "    def splitting_dataset(np_data_scaled,data):\n",
    "        # Set the sequence length - this is the timeframe used to make a single prediction\n",
    "        sequence_length = 1\n",
    "\n",
    "        # Prediction Index\n",
    "        index_Close = data.columns.get_loc(\"Close\")\n",
    "\n",
    "        # Split the training data into train and train data sets\n",
    "        # As a first step, we get the number of rows to train the model on 80% of the data \n",
    "        train_data_len = math.ceil(np_data_scaled.shape[0] * 0.8)\n",
    "\n",
    "        # Create the training and test data\n",
    "        train_data = np_data_scaled[0:train_data_len, :]\n",
    "        test_data = np_data_scaled[train_data_len - sequence_length:, :]\n",
    "        \n",
    "        # Generate training data and test data\n",
    "        x_train, y_train = Preprocessing.partition_dataset(sequence_length, train_data, index_Close)\n",
    "        x_test, y_test = Preprocessing.partition_dataset(sequence_length, test_data, index_Close)\n",
    "        \n",
    "        return x_train, y_train, x_test, y_test, train_data_len"
   ]
  },
  {
   "cell_type": "code",
   "execution_count": 90,
   "metadata": {},
   "outputs": [],
   "source": [
    "class LSTM_unit:\n",
    "    def training_model(x_train, y_train, x_test, y_test, unit, epoch):\n",
    "        # Configure the neural network model\n",
    "        model = Sequential()\n",
    "        model.add(Bidirectional(LSTM(unit, return_sequences=False, \n",
    "                                     input_shape=(x_train.shape[1], \n",
    "                                                  x_train.shape[2]))))\n",
    "        model.add(Dense(1))\n",
    "\n",
    "        # Compile the model\n",
    "        model.compile(optimizer='adam', loss='mse')\n",
    "        # Training the model\n",
    "        early_stop = EarlyStopping(monitor='loss', patience=5, verbose=1)\n",
    "        history = model.fit(x_train, y_train, \n",
    "                batch_size=16, \n",
    "                epochs=epoch,\n",
    "                validation_data=(x_test, y_test)\n",
    "               )\n",
    "        return x_test, model\n",
    "        \n",
    "    def predict_model(x_test,model):\n",
    "        y_pred_scaled = model.predict(x_test)\n",
    "        return y_pred_scaled"
   ]
  },
  {
   "cell_type": "code",
   "execution_count": 91,
   "metadata": {},
   "outputs": [],
   "source": [
    "class VisualizationData:\n",
    "    def visualisasi_all_data(start_date, data_filtered_ext, y_pred, symbol_dataset, epoch, unit):\n",
    "        # The date from which on the date is displayed\n",
    "        display_start_date = start_date\n",
    "\n",
    "\n",
    "        # Add the difference between the valid and predicted prices\n",
    "        train = pd.DataFrame(data_filtered_ext['Close'][:train_data_len]).rename(columns={'Close': 'y_train'})\n",
    "        valid = pd.DataFrame(data_filtered_ext['Close'][train_data_len:]).rename(columns={'Close': 'y_test'})\n",
    "        valid.insert(1, \"y_pred\", y_pred, True)\n",
    "        # valid.insert(1, \"residuals\", valid[\"y_pred\"] - valid[\"y_test\"], True)\n",
    "        df_union = pd.concat([train, valid])\n",
    "\n",
    "        # Zoom in to a closer timeframe\n",
    "        df_union_zoom = df_union[df_union.index > display_start_date]\n",
    "\n",
    "        # Create the lineplot\n",
    "        fig, ax1 = plt.subplots(figsize=(16, 8))\n",
    "        plt.title(\"Predict Data vs Test Data\")\n",
    "\n",
    "        sns.set_palette([\"#FF0000\", \"#1960EF\", \"#00FF00\"])\n",
    "        sns.lineplot(data=df_union_zoom[['y_pred', 'y_train', 'y_test']], linewidth=1.0, dashes=False, ax=ax1)\n",
    "\n",
    "        plt.savefig(\"../results/LSTM/plots/\" + symbol_dataset +'_LSTM-'+ \n",
    "                    term_status + '_e='+ str(epoch) \n",
    "                    +'_u='+ str(unit) + '.pdf')\n",
    "        \n",
    "        plt.legend()\n",
    "        plt.show()\n",
    "        "
   ]
  },
  {
   "cell_type": "markdown",
   "metadata": {},
   "source": [
    "## Change the indicators"
   ]
  },
  {
   "cell_type": "code",
   "execution_count": 92,
   "metadata": {},
   "outputs": [],
   "source": [
    "#hyperparameters\n",
    "# epochs  = [10,100,1000]\n",
    "# units = [10,50,128]\n",
    "epoch = 10\n",
    "unit = 10"
   ]
  },
  {
   "cell_type": "markdown",
   "metadata": {},
   "source": [
    "## Load the Time Series Data use Yahoo finance"
   ]
  },
  {
   "cell_type": "code",
   "execution_count": 93,
   "metadata": {
    "scrolled": true
   },
   "outputs": [
    {
     "name": "stdout",
     "output_type": "stream",
     "text": [
      "[*********************100%***********************]  1 of 1 completed\n"
     ]
    },
    {
     "data": {
      "text/html": [
       "<div>\n",
       "<style scoped>\n",
       "    .dataframe tbody tr th:only-of-type {\n",
       "        vertical-align: middle;\n",
       "    }\n",
       "\n",
       "    .dataframe tbody tr th {\n",
       "        vertical-align: top;\n",
       "    }\n",
       "\n",
       "    .dataframe thead th {\n",
       "        text-align: right;\n",
       "    }\n",
       "</style>\n",
       "<table border=\"1\" class=\"dataframe\">\n",
       "  <thead>\n",
       "    <tr style=\"text-align: right;\">\n",
       "      <th></th>\n",
       "      <th>Open</th>\n",
       "      <th>High</th>\n",
       "      <th>Low</th>\n",
       "      <th>Close</th>\n",
       "      <th>Adj Close</th>\n",
       "      <th>Volume</th>\n",
       "    </tr>\n",
       "    <tr>\n",
       "      <th>Date</th>\n",
       "      <th></th>\n",
       "      <th></th>\n",
       "      <th></th>\n",
       "      <th></th>\n",
       "      <th></th>\n",
       "      <th></th>\n",
       "    </tr>\n",
       "  </thead>\n",
       "  <tbody>\n",
       "    <tr>\n",
       "      <th>2017-01-02</th>\n",
       "      <td>134.0</td>\n",
       "      <td>134.0</td>\n",
       "      <td>134.0</td>\n",
       "      <td>134.0</td>\n",
       "      <td>134.0</td>\n",
       "      <td>0</td>\n",
       "    </tr>\n",
       "    <tr>\n",
       "      <th>2017-01-03</th>\n",
       "      <td>135.0</td>\n",
       "      <td>139.0</td>\n",
       "      <td>135.0</td>\n",
       "      <td>139.0</td>\n",
       "      <td>139.0</td>\n",
       "      <td>4500</td>\n",
       "    </tr>\n",
       "    <tr>\n",
       "      <th>2017-01-04</th>\n",
       "      <td>139.0</td>\n",
       "      <td>139.0</td>\n",
       "      <td>136.0</td>\n",
       "      <td>136.0</td>\n",
       "      <td>136.0</td>\n",
       "      <td>40500</td>\n",
       "    </tr>\n",
       "    <tr>\n",
       "      <th>2017-01-05</th>\n",
       "      <td>135.0</td>\n",
       "      <td>141.0</td>\n",
       "      <td>135.0</td>\n",
       "      <td>141.0</td>\n",
       "      <td>141.0</td>\n",
       "      <td>6900</td>\n",
       "    </tr>\n",
       "    <tr>\n",
       "      <th>2017-01-06</th>\n",
       "      <td>136.0</td>\n",
       "      <td>140.0</td>\n",
       "      <td>136.0</td>\n",
       "      <td>140.0</td>\n",
       "      <td>140.0</td>\n",
       "      <td>200</td>\n",
       "    </tr>\n",
       "    <tr>\n",
       "      <th>...</th>\n",
       "      <td>...</td>\n",
       "      <td>...</td>\n",
       "      <td>...</td>\n",
       "      <td>...</td>\n",
       "      <td>...</td>\n",
       "      <td>...</td>\n",
       "    </tr>\n",
       "    <tr>\n",
       "      <th>2017-03-22</th>\n",
       "      <td>160.0</td>\n",
       "      <td>161.0</td>\n",
       "      <td>160.0</td>\n",
       "      <td>161.0</td>\n",
       "      <td>161.0</td>\n",
       "      <td>4400</td>\n",
       "    </tr>\n",
       "    <tr>\n",
       "      <th>2017-03-23</th>\n",
       "      <td>170.0</td>\n",
       "      <td>170.0</td>\n",
       "      <td>162.0</td>\n",
       "      <td>162.0</td>\n",
       "      <td>162.0</td>\n",
       "      <td>10800</td>\n",
       "    </tr>\n",
       "    <tr>\n",
       "      <th>2017-03-24</th>\n",
       "      <td>170.0</td>\n",
       "      <td>181.0</td>\n",
       "      <td>144.0</td>\n",
       "      <td>146.0</td>\n",
       "      <td>146.0</td>\n",
       "      <td>13006800</td>\n",
       "    </tr>\n",
       "    <tr>\n",
       "      <th>2017-03-27</th>\n",
       "      <td>146.0</td>\n",
       "      <td>151.0</td>\n",
       "      <td>146.0</td>\n",
       "      <td>146.0</td>\n",
       "      <td>146.0</td>\n",
       "      <td>190900</td>\n",
       "    </tr>\n",
       "    <tr>\n",
       "      <th>2017-03-29</th>\n",
       "      <td>140.0</td>\n",
       "      <td>152.0</td>\n",
       "      <td>140.0</td>\n",
       "      <td>146.0</td>\n",
       "      <td>146.0</td>\n",
       "      <td>317600</td>\n",
       "    </tr>\n",
       "  </tbody>\n",
       "</table>\n",
       "<p>62 rows × 6 columns</p>\n",
       "</div>"
      ],
      "text/plain": [
       "             Open   High    Low  Close  Adj Close    Volume\n",
       "Date                                                       \n",
       "2017-01-02  134.0  134.0  134.0  134.0      134.0         0\n",
       "2017-01-03  135.0  139.0  135.0  139.0      139.0      4500\n",
       "2017-01-04  139.0  139.0  136.0  136.0      136.0     40500\n",
       "2017-01-05  135.0  141.0  135.0  141.0      141.0      6900\n",
       "2017-01-06  136.0  140.0  136.0  140.0      140.0       200\n",
       "...           ...    ...    ...    ...        ...       ...\n",
       "2017-03-22  160.0  161.0  160.0  161.0      161.0      4400\n",
       "2017-03-23  170.0  170.0  162.0  162.0      162.0     10800\n",
       "2017-03-24  170.0  181.0  144.0  146.0      146.0  13006800\n",
       "2017-03-27  146.0  151.0  146.0  146.0      146.0    190900\n",
       "2017-03-29  140.0  152.0  140.0  146.0      146.0    317600\n",
       "\n",
       "[62 rows x 6 columns]"
      ]
     },
     "execution_count": 93,
     "metadata": {},
     "output_type": "execute_result"
    }
   ],
   "source": [
    "\n",
    "start_date = '2017-01-01'\n",
    "\n",
    "end_date = '2017-03-30'\n",
    "symbol_dataset = 'PSDN.jk'\n",
    "df = DataLoad.read_data(start_date, end_date,symbol_dataset)\n",
    "\n",
    "\n",
    "if df.shape[0]>=1250:\n",
    "    term_status = \"long\"\n",
    "elif df.shape[0]>=250:\n",
    "    term_status = \"mid\"\n",
    "else:\n",
    "    term_status = \"short\"\n",
    "                \n",
    "\n",
    "\n",
    "# # Create a quick overview of the dataset\n",
    "df"
   ]
  },
  {
   "cell_type": "markdown",
   "metadata": {
    "id": "e7-v9hbD6dBi"
   },
   "source": [
    "## Feature Selection and Scaling"
   ]
  },
  {
   "cell_type": "code",
   "execution_count": 94,
   "metadata": {
    "colab": {
     "base_uri": "https://localhost:8080/",
     "height": 241
    },
    "id": "JH3ICHtG5USz",
    "outputId": "7dc085dd-842b-4025-c829-bbee83380dd1",
    "scrolled": true
   },
   "outputs": [],
   "source": [
    "data_filtered_ext, data_filtered, data = Preprocessing.feature_selection(df)"
   ]
  },
  {
   "cell_type": "code",
   "execution_count": 95,
   "metadata": {
    "colab": {
     "base_uri": "https://localhost:8080/"
    },
    "id": "ZE7tf-p35aiB",
    "outputId": "59340252-5f9b-4917-81c9-4dc61c702ab9"
   },
   "outputs": [],
   "source": [
    "np_data_unscaled, np_data = Preprocessing.reshape_data(data_filtered)"
   ]
  },
  {
   "cell_type": "code",
   "execution_count": 96,
   "metadata": {},
   "outputs": [],
   "source": [
    "np_data_scaled, np_Close_scaled, scaler_pred = Preprocessing.min_max(np_data_unscaled,data_filtered_ext)"
   ]
  },
  {
   "cell_type": "markdown",
   "metadata": {
    "id": "HErrOQbv6W4C"
   },
   "source": [
    "## Split Train and Test"
   ]
  },
  {
   "cell_type": "code",
   "execution_count": 97,
   "metadata": {
    "colab": {
     "base_uri": "https://localhost:8080/"
    },
    "id": "S4nriPMX6aTm",
    "outputId": "9f02b008-70c0-4995-fa47-86e9b48f41a7"
   },
   "outputs": [],
   "source": [
    "x_train, y_train, x_test, y_test, train_data_len = Preprocessing.splitting_dataset(np_data_scaled,data) "
   ]
  },
  {
   "cell_type": "markdown",
   "metadata": {
    "id": "vcMuREaL8NQN"
   },
   "source": [
    "## Train the Multivariate Prediciton Model"
   ]
  },
  {
   "cell_type": "code",
   "execution_count": 98,
   "metadata": {
    "colab": {
     "base_uri": "https://localhost:8080/"
    },
    "id": "cBQZhAU772GH",
    "outputId": "b96990c4-b71e-4f0a-990e-91a316e993a5"
   },
   "outputs": [
    {
     "name": "stdout",
     "output_type": "stream",
     "text": [
      "Epoch 1/10\n",
      "4/4 [==============================] - 4s 219ms/step - loss: 0.1564 - val_loss: 0.1344\n",
      "Epoch 2/10\n",
      "4/4 [==============================] - 0s 10ms/step - loss: 0.1362 - val_loss: 0.1155\n",
      "Epoch 3/10\n",
      "4/4 [==============================] - 0s 9ms/step - loss: 0.1189 - val_loss: 0.0978\n",
      "Epoch 4/10\n",
      "4/4 [==============================] - 0s 9ms/step - loss: 0.1021 - val_loss: 0.0823\n",
      "Epoch 5/10\n",
      "4/4 [==============================] - 0s 9ms/step - loss: 0.0880 - val_loss: 0.0695\n",
      "Epoch 6/10\n",
      "4/4 [==============================] - 0s 12ms/step - loss: 0.0757 - val_loss: 0.0583\n",
      "Epoch 7/10\n",
      "4/4 [==============================] - 0s 10ms/step - loss: 0.0642 - val_loss: 0.0486\n",
      "Epoch 8/10\n",
      "4/4 [==============================] - 0s 8ms/step - loss: 0.0545 - val_loss: 0.0405\n",
      "Epoch 9/10\n",
      "4/4 [==============================] - 0s 9ms/step - loss: 0.0460 - val_loss: 0.0336\n",
      "Epoch 10/10\n",
      "4/4 [==============================] - 0s 9ms/step - loss: 0.0391 - val_loss: 0.0280\n"
     ]
    }
   ],
   "source": [
    "x_test,model=LSTM_unit.training_model(x_train, y_train, x_test, y_test, unit, epoch) "
   ]
  },
  {
   "cell_type": "code",
   "execution_count": 99,
   "metadata": {},
   "outputs": [
    {
     "name": "stdout",
     "output_type": "stream",
     "text": [
      "1/1 [==============================] - 1s 562ms/step\n"
     ]
    }
   ],
   "source": [
    "y_pred_scaled = LSTM_unit.predict_model(x_test,model)"
   ]
  },
  {
   "cell_type": "code",
   "execution_count": 100,
   "metadata": {},
   "outputs": [],
   "source": [
    "y_pred, y_test_unscaled = Preprocessing.inverse_minmax(y_pred_scaled, y_test)\n"
   ]
  },
  {
   "cell_type": "code",
   "execution_count": 101,
   "metadata": {},
   "outputs": [
    {
     "name": "stdout",
     "output_type": "stream",
     "text": [
      "Jumlah data y_train: 49\n",
      "Jumlah data y_pred: 12\n",
      "Jumlah data y_test_unscaled: 12\n"
     ]
    }
   ],
   "source": [
    "print(f'Jumlah data y_train: {y_train.shape[0]}')\n",
    "print(f'Jumlah data y_pred: {y_pred.shape[0]}')\n",
    "print(f'Jumlah data y_test_unscaled: {y_test_unscaled.shape[0]}')"
   ]
  },
  {
   "cell_type": "markdown",
   "metadata": {
    "id": "59KO_S548paO"
   },
   "source": [
    "## Evaluate Model performance"
   ]
  },
  {
   "cell_type": "code",
   "execution_count": 102,
   "metadata": {
    "colab": {
     "base_uri": "https://localhost:8080/"
    },
    "id": "S6lrdYq38h8H",
    "outputId": "67e977e0-68a3-4a2b-973e-c6ae68ef11a3"
   },
   "outputs": [
    {
     "name": "stdout",
     "output_type": "stream",
     "text": [
      "Root Mean Square Error (RMSE): 8.53\n",
      "Median Absolute Error (MAE): 7.82\n",
      "Mean Absolute Percentage Error (MAPE): 4.92 %\n"
     ]
    }
   ],
   "source": [
    "# Root Mean Square Error (RMSE)\n",
    "RMSE = EvaluasiForecasting.rmse_metric(y_test_unscaled, y_pred)\n",
    "RMSE = np.round(RMSE, 2)\n",
    "print(f'Root Mean Square Error (RMSE): {RMSE}')\n",
    "\n",
    "# Mean Absolute Error (MAE)\n",
    "MAE = EvaluasiForecasting.mae_metric(y_test_unscaled, y_pred)\n",
    "MAE = np.round(MAE, 2)\n",
    "print(f'Median Absolute Error (MAE): {MAE}')\n",
    "\n",
    "# Mean Absolute Percentage Error (MAPE)\n",
    "MAPE = EvaluasiForecasting.mape_metric(y_test_unscaled, y_pred)\n",
    "MAPE = np.round(MAPE, 2)\n",
    "print(f'Mean Absolute Percentage Error (MAPE): {MAPE} %')"
   ]
  },
  {
   "cell_type": "code",
   "execution_count": 103,
   "metadata": {
    "colab": {
     "base_uri": "https://localhost:8080/",
     "height": 380
    },
    "id": "34xhqG9G8rYi",
    "outputId": "ae2a4951-51c8-4ad3-bbc3-369b1fd2595c"
   },
   "outputs": [
    {
     "data": {
      "image/png": "[encoded data removed]",
      "text/plain": [
       "<Figure size 1152x576 with 1 Axes>"
      ]
     },
     "metadata": {
      "needs_background": "light"
     },
     "output_type": "display_data"
    }
   ],
   "source": [
    "# The date from which on the date is displayed\n",
    "display_start_date = start_date\n",
    "\n",
    "\n",
    "# Add the difference between the valid and predicted prices\n",
    "train = pd.DataFrame(data_filtered_ext['Close'][:train_data_len]).rename(columns={'Close': 'y_train'})\n",
    "valid = pd.DataFrame(data_filtered_ext['Close'][train_data_len:]).rename(columns={'Close': 'y_test'})\n",
    "valid.insert(1, \"y_pred\", y_pred, True)\n",
    "# valid.insert(1, \"residuals\", valid[\"y_pred\"] - valid[\"y_test\"], True)\n",
    "df_union = pd.concat([train, valid])\n",
    "\n",
    "# Zoom in to a closer timeframe\n",
    "df_union_zoom = df_union[df_union.index > display_start_date]\n",
    "\n",
    "# Create the lineplot\n",
    "fig, ax1 = plt.subplots(figsize=(16, 8))\n",
    "plt.title(\"Predict Data vs Test Data\")\n",
    "\n",
    "sns.set_palette([\"#FF0000\", \"#1960EF\", \"#00FF00\"])\n",
    "sns.lineplot(data=df_union_zoom[['y_pred', 'y_train', 'y_test']], linewidth=1.0, dashes=False, ax=ax1)\n",
    "\n",
    "# Create the bar plot with the differences\n",
    "# df_sub = [\"#2BC97A\" if x > 0 else \"#C92B2B\" for x in df_union_zoom[\"residuals\"].dropna()]\n",
    "# ax1.bar(height=df_union_zoom['residuals'].dropna(), x=df_union_zoom['residuals'].dropna().index, width=3, label='residuals', color=df_sub)\n",
    "# plt.savefig(\"../results/LSTM/plots/\" + symbol_dataset +'_LSTM-'+ \n",
    "#                             term_status + '_e='+ str(epoch) +'_u='+ str(unit) + '.pdf')\n",
    "plt.legend()\n",
    "plt.show()"
   ]
  },
  {
   "cell_type": "code",
   "execution_count": 104,
   "metadata": {},
   "outputs": [
    {
     "data": {
      "text/plain": [
       "<matplotlib.legend.Legend at 0x214f44b1eb0>"
      ]
     },
     "execution_count": 104,
     "metadata": {},
     "output_type": "execute_result"
    },
    {
     "data": {
      "text/plain": [
       "<Figure size 432x288 with 0 Axes>"
      ]
     },
     "metadata": {},
     "output_type": "display_data"
    },
    {
     "data": {
      "image/png": "[encoded data removed]",
      "text/plain": [
       "<Figure size 1152x576 with 1 Axes>"
      ]
     },
     "metadata": {
      "needs_background": "light"
     },
     "output_type": "display_data"
    }
   ],
   "source": [
    "plt.figure()\n",
    "plt.subplots(figsize=(16, 8))\n",
    "plt.plot(df_union_zoom['y_test'], color = 'red', label = 'Real Stock Price')\n",
    "plt.plot(df_union_zoom['y_pred'], color = 'blue', label = 'Predicted Stock Price')\n",
    "plt.title(symbol_dataset +\"-\"+ term_status +' Term Stock Prediction, epochs: '+ str(epoch) +'; units: '+str(unit))\n",
    "plt.xlabel('Time')\n",
    "plt.ylabel(symbol_dataset +' Stock Price ')\n",
    "plt.legend()"
   ]
  },
  {
   "cell_type": "markdown",
   "metadata": {
    "id": "2P6qwZrW8u-W"
   },
   "source": [
    "## Save a new Dataset"
   ]
  },
  {
   "cell_type": "code",
   "execution_count": null,
   "metadata": {},
   "outputs": [],
   "source": [
    "# new_data = pd.DataFrame(data_filtered_ext['Close'][train_data_len:]).rename(columns={'Close': 'real_close'})\n",
    "# new_data['close_lstm'] = y_pred"
   ]
  },
  {
   "cell_type": "code",
   "execution_count": null,
   "metadata": {},
   "outputs": [],
   "source": [
    "# #save to dataset\n",
    "# df_new_data = pd.DataFrame(new_data)"
   ]
  },
  {
   "cell_type": "code",
   "execution_count": null,
   "metadata": {},
   "outputs": [],
   "source": [
    "# df_new_data.tail()"
   ]
  },
  {
   "cell_type": "code",
   "execution_count": null,
   "metadata": {},
   "outputs": [],
   "source": [
    "# df_new_data.to_csv(\"../results/LSTM/datasets/\" + index_dataset\n",
    "#                 +'_LSTM-'+ term_status + '_e='+ str(epoch) +'_u='+ str(unit) + '.csv', index=True)"
   ]
  },
  {
   "cell_type": "code",
   "execution_count": null,
   "metadata": {},
   "outputs": [],
   "source": [
    "# read_new_data = pd.read_csv(\"../results/LSTM/datasets/\"+ term_status + symbol_dataset\n",
    "#                    +'_LSTM-'+ term_status + '_e='+ str(epochs) +'_u='+ str(unit) + '.csv')\n",
    "# read_new_data"
   ]
  },
  {
   "cell_type": "markdown",
   "metadata": {},
   "source": [
    "## insert to Database"
   ]
  },
  {
   "cell_type": "code",
   "execution_count": null,
   "metadata": {},
   "outputs": [],
   "source": [
    "# #connect database\n",
    "# mydb = mysql.connect(\n",
    "#     host=\"localhost\",\n",
    "#     user=\"root\",\n",
    "#     password=\"\",\n",
    "#     database=\"db_tugasakhir\"\n",
    "# )\n",
    "# mycursor = mydb.cursor()\n",
    "\n",
    "# #insert to database\n",
    "# sql = \"INSERT INTO pengujian_lstm (datasets, start_dates, end_dates,epochs, units, RMSE, MAE, MAPE) VALUES (%s,%s,%s,%s,%s,%s,%s,%s)\"\n",
    "# val = (symbol_dataset, start_date, end_date, epochs, unit, RMSE, MAE, MAPE)\n",
    "\n",
    "# mycursor.execute(sql,val)\n",
    "# mydb.commit()"
   ]
  },
  {
   "cell_type": "code",
   "execution_count": null,
   "metadata": {},
   "outputs": [],
   "source": []
  },
  {
   "cell_type": "code",
   "execution_count": null,
   "metadata": {},
   "outputs": [],
   "source": []
  },
  {
   "cell_type": "code",
   "execution_count": null,
   "metadata": {},
   "outputs": [],
   "source": []
  },
  {
   "cell_type": "code",
   "execution_count": null,
   "metadata": {},
   "outputs": [],
   "source": []
  },
  {
   "cell_type": "code",
   "execution_count": null,
   "metadata": {},
   "outputs": [],
   "source": []
  },
  {
   "cell_type": "code",
   "execution_count": null,
   "metadata": {},
   "outputs": [],
   "source": []
  }
 ],
 "metadata": {
  "colab": {
   "collapsed_sections": [],
   "provenance": []
  },
  "kernelspec": {
   "display_name": "Python 3 (ipykernel)",
   "language": "python",
   "name": "python3"
  },
  "language_info": {
   "codemirror_mode": {
    "name": "ipython",
    "version": 3
   },
   "file_extension": ".py",
   "mimetype": "text/x-python",
   "name": "python",
   "nbconvert_exporter": "python",
   "pygments_lexer": "ipython3",
   "version": "3.9.12"
  }
 },
 "nbformat": 4,
 "nbformat_minor": 1
}
