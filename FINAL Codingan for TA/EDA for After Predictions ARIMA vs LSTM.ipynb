{
 "cells": [
  {
   "cell_type": "code",
   "execution_count": 59,
   "id": "f2e5460e",
   "metadata": {},
   "outputs": [],
   "source": [
    "import numpy as np # linear algebra\n",
    "import pandas as pd # data processing, CSV file I/O (e.g. pd.read_csv)\n",
    "import matplotlib.pylab as plt\n",
    "%matplotlib inline\n",
    "from matplotlib.pylab import rcParams\n",
    "rcParams['figure.figsize'] = 25,8\n",
    "from statsmodels.tsa.arima_model import ARIMA\n",
    "from math import sqrt\n",
    "\n",
    "import math\n",
    "from sklearn.metrics import mean_squared_error, mean_absolute_error, mean_absolute_percentage_error"
   ]
  },
  {
   "cell_type": "code",
   "execution_count": 60,
   "id": "218c0c5d",
   "metadata": {},
   "outputs": [],
   "source": [
    "term_horizon = 'long' # short , mid , long\n",
    "datasets = 'GGRM' # GGRM , UNVR, PSDN\n",
    "parameter_lstm = \"e=100_u=50\"\n",
    "parameter_arima = \"p=1_q=1\"\n",
    "data_lstm = pd.read_csv('../results/LSTM/datasets/' + term_horizon+ '/'+ datasets + '.jk_LSTM-' + term_horizon \n",
    "                        + '_'+ parameter_lstm +'.csv')\n",
    "data_arima = pd.read_csv('../results/ARIMA/datasets/'+term_horizon+'/'+ datasets+ '.jk_ARIMA-' + term_horizon \n",
    "                        + '_'+ parameter_arima +'.csv')"
   ]
  },
  {
   "cell_type": "code",
   "execution_count": 61,
   "id": "30d51aad",
   "metadata": {},
   "outputs": [
    {
     "data": {
      "text/html": [
       "<div>\n",
       "<style scoped>\n",
       "    .dataframe tbody tr th:only-of-type {\n",
       "        vertical-align: middle;\n",
       "    }\n",
       "\n",
       "    .dataframe tbody tr th {\n",
       "        vertical-align: top;\n",
       "    }\n",
       "\n",
       "    .dataframe thead th {\n",
       "        text-align: right;\n",
       "    }\n",
       "</style>\n",
       "<table border=\"1\" class=\"dataframe\">\n",
       "  <thead>\n",
       "    <tr style=\"text-align: right;\">\n",
       "      <th></th>\n",
       "      <th>Date</th>\n",
       "      <th>real_close</th>\n",
       "      <th>close_arima</th>\n",
       "    </tr>\n",
       "  </thead>\n",
       "  <tbody>\n",
       "    <tr>\n",
       "      <th>0</th>\n",
       "      <td>2020-12-22</td>\n",
       "      <td>41325.0</td>\n",
       "      <td>42042.582714</td>\n",
       "    </tr>\n",
       "    <tr>\n",
       "      <th>1</th>\n",
       "      <td>2020-12-23</td>\n",
       "      <td>41075.0</td>\n",
       "      <td>41353.726068</td>\n",
       "    </tr>\n",
       "    <tr>\n",
       "      <th>2</th>\n",
       "      <td>2020-12-28</td>\n",
       "      <td>41025.0</td>\n",
       "      <td>41101.969057</td>\n",
       "    </tr>\n",
       "    <tr>\n",
       "      <th>3</th>\n",
       "      <td>2020-12-29</td>\n",
       "      <td>41075.0</td>\n",
       "      <td>41046.163780</td>\n",
       "    </tr>\n",
       "    <tr>\n",
       "      <th>4</th>\n",
       "      <td>2020-12-30</td>\n",
       "      <td>41000.0</td>\n",
       "      <td>41089.626333</td>\n",
       "    </tr>\n",
       "    <tr>\n",
       "      <th>...</th>\n",
       "      <td>...</td>\n",
       "      <td>...</td>\n",
       "      <td>...</td>\n",
       "    </tr>\n",
       "    <tr>\n",
       "      <th>247</th>\n",
       "      <td>2021-12-24</td>\n",
       "      <td>30525.0</td>\n",
       "      <td>30611.488660</td>\n",
       "    </tr>\n",
       "    <tr>\n",
       "      <th>248</th>\n",
       "      <td>2021-12-27</td>\n",
       "      <td>30675.0</td>\n",
       "      <td>30534.910449</td>\n",
       "    </tr>\n",
       "    <tr>\n",
       "      <th>249</th>\n",
       "      <td>2021-12-28</td>\n",
       "      <td>30650.0</td>\n",
       "      <td>30679.200197</td>\n",
       "    </tr>\n",
       "    <tr>\n",
       "      <th>250</th>\n",
       "      <td>2021-12-29</td>\n",
       "      <td>30650.0</td>\n",
       "      <td>30653.573400</td>\n",
       "    </tr>\n",
       "    <tr>\n",
       "      <th>251</th>\n",
       "      <td>2021-12-30</td>\n",
       "      <td>30600.0</td>\n",
       "      <td>30652.607254</td>\n",
       "    </tr>\n",
       "  </tbody>\n",
       "</table>\n",
       "<p>252 rows × 3 columns</p>\n",
       "</div>"
      ],
      "text/plain": [
       "           Date  real_close   close_arima\n",
       "0    2020-12-22     41325.0  42042.582714\n",
       "1    2020-12-23     41075.0  41353.726068\n",
       "2    2020-12-28     41025.0  41101.969057\n",
       "3    2020-12-29     41075.0  41046.163780\n",
       "4    2020-12-30     41000.0  41089.626333\n",
       "..          ...         ...           ...\n",
       "247  2021-12-24     30525.0  30611.488660\n",
       "248  2021-12-27     30675.0  30534.910449\n",
       "249  2021-12-28     30650.0  30679.200197\n",
       "250  2021-12-29     30650.0  30653.573400\n",
       "251  2021-12-30     30600.0  30652.607254\n",
       "\n",
       "[252 rows x 3 columns]"
      ]
     },
     "execution_count": 61,
     "metadata": {},
     "output_type": "execute_result"
    }
   ],
   "source": [
    "data_arima"
   ]
  },
  {
   "cell_type": "code",
   "execution_count": 62,
   "id": "24a2a61d",
   "metadata": {},
   "outputs": [
    {
     "data": {
      "text/plain": [
       "Date           0\n",
       "real_close     0\n",
       "close_arima    0\n",
       "dtype: int64"
      ]
     },
     "execution_count": 62,
     "metadata": {},
     "output_type": "execute_result"
    }
   ],
   "source": [
    "data_arima.isnull().sum()"
   ]
  },
  {
   "cell_type": "code",
   "execution_count": 63,
   "id": "dadd8f9c",
   "metadata": {},
   "outputs": [
    {
     "data": {
      "text/plain": [
       "Date          0\n",
       "real_close    0\n",
       "close_lstm    0\n",
       "dtype: int64"
      ]
     },
     "execution_count": 63,
     "metadata": {},
     "output_type": "execute_result"
    }
   ],
   "source": [
    "data_lstm.isnull().sum()"
   ]
  },
  {
   "cell_type": "code",
   "execution_count": 64,
   "id": "d5a28a11",
   "metadata": {},
   "outputs": [
    {
     "data": {
      "text/html": [
       "<div>\n",
       "<style scoped>\n",
       "    .dataframe tbody tr th:only-of-type {\n",
       "        vertical-align: middle;\n",
       "    }\n",
       "\n",
       "    .dataframe tbody tr th {\n",
       "        vertical-align: top;\n",
       "    }\n",
       "\n",
       "    .dataframe thead th {\n",
       "        text-align: right;\n",
       "    }\n",
       "</style>\n",
       "<table border=\"1\" class=\"dataframe\">\n",
       "  <thead>\n",
       "    <tr style=\"text-align: right;\">\n",
       "      <th></th>\n",
       "      <th>Date</th>\n",
       "      <th>real_close</th>\n",
       "      <th>close_lstm</th>\n",
       "    </tr>\n",
       "  </thead>\n",
       "  <tbody>\n",
       "    <tr>\n",
       "      <th>0</th>\n",
       "      <td>2020-12-22</td>\n",
       "      <td>41325.0</td>\n",
       "      <td>41855.297</td>\n",
       "    </tr>\n",
       "    <tr>\n",
       "      <th>1</th>\n",
       "      <td>2020-12-23</td>\n",
       "      <td>41075.0</td>\n",
       "      <td>41603.797</td>\n",
       "    </tr>\n",
       "    <tr>\n",
       "      <th>2</th>\n",
       "      <td>2020-12-28</td>\n",
       "      <td>41025.0</td>\n",
       "      <td>41262.620</td>\n",
       "    </tr>\n",
       "    <tr>\n",
       "      <th>3</th>\n",
       "      <td>2020-12-29</td>\n",
       "      <td>41075.0</td>\n",
       "      <td>41234.203</td>\n",
       "    </tr>\n",
       "    <tr>\n",
       "      <th>4</th>\n",
       "      <td>2020-12-30</td>\n",
       "      <td>41000.0</td>\n",
       "      <td>41409.113</td>\n",
       "    </tr>\n",
       "    <tr>\n",
       "      <th>...</th>\n",
       "      <td>...</td>\n",
       "      <td>...</td>\n",
       "      <td>...</td>\n",
       "    </tr>\n",
       "    <tr>\n",
       "      <th>247</th>\n",
       "      <td>2021-12-24</td>\n",
       "      <td>30525.0</td>\n",
       "      <td>31272.922</td>\n",
       "    </tr>\n",
       "    <tr>\n",
       "      <th>248</th>\n",
       "      <td>2021-12-27</td>\n",
       "      <td>30675.0</td>\n",
       "      <td>31192.209</td>\n",
       "    </tr>\n",
       "    <tr>\n",
       "      <th>249</th>\n",
       "      <td>2021-12-28</td>\n",
       "      <td>30650.0</td>\n",
       "      <td>31277.422</td>\n",
       "    </tr>\n",
       "    <tr>\n",
       "      <th>250</th>\n",
       "      <td>2021-12-29</td>\n",
       "      <td>30650.0</td>\n",
       "      <td>31336.562</td>\n",
       "    </tr>\n",
       "    <tr>\n",
       "      <th>251</th>\n",
       "      <td>2021-12-30</td>\n",
       "      <td>30600.0</td>\n",
       "      <td>31354.320</td>\n",
       "    </tr>\n",
       "  </tbody>\n",
       "</table>\n",
       "<p>252 rows × 3 columns</p>\n",
       "</div>"
      ],
      "text/plain": [
       "           Date  real_close  close_lstm\n",
       "0    2020-12-22     41325.0   41855.297\n",
       "1    2020-12-23     41075.0   41603.797\n",
       "2    2020-12-28     41025.0   41262.620\n",
       "3    2020-12-29     41075.0   41234.203\n",
       "4    2020-12-30     41000.0   41409.113\n",
       "..          ...         ...         ...\n",
       "247  2021-12-24     30525.0   31272.922\n",
       "248  2021-12-27     30675.0   31192.209\n",
       "249  2021-12-28     30650.0   31277.422\n",
       "250  2021-12-29     30650.0   31336.562\n",
       "251  2021-12-30     30600.0   31354.320\n",
       "\n",
       "[252 rows x 3 columns]"
      ]
     },
     "execution_count": 64,
     "metadata": {},
     "output_type": "execute_result"
    }
   ],
   "source": [
    "data_lstm"
   ]
  },
  {
   "cell_type": "code",
   "execution_count": 65,
   "id": "a4e2dac1",
   "metadata": {},
   "outputs": [
    {
     "name": "stdout",
     "output_type": "stream",
     "text": [
      "<class 'pandas.core.frame.DataFrame'>\n",
      "RangeIndex: 252 entries, 0 to 251\n",
      "Data columns (total 3 columns):\n",
      " #   Column       Non-Null Count  Dtype  \n",
      "---  ------       --------------  -----  \n",
      " 0   Date         252 non-null    object \n",
      " 1   real_close   252 non-null    float64\n",
      " 2   close_arima  252 non-null    float64\n",
      "dtypes: float64(2), object(1)\n",
      "memory usage: 6.0+ KB\n"
     ]
    }
   ],
   "source": [
    "data_arima.info()"
   ]
  },
  {
   "cell_type": "code",
   "execution_count": 66,
   "id": "a0535f68",
   "metadata": {},
   "outputs": [
    {
     "name": "stdout",
     "output_type": "stream",
     "text": [
      "<class 'pandas.core.frame.DataFrame'>\n",
      "RangeIndex: 252 entries, 0 to 251\n",
      "Data columns (total 3 columns):\n",
      " #   Column      Non-Null Count  Dtype  \n",
      "---  ------      --------------  -----  \n",
      " 0   Date        252 non-null    object \n",
      " 1   real_close  252 non-null    float64\n",
      " 2   close_lstm  252 non-null    float64\n",
      "dtypes: float64(2), object(1)\n",
      "memory usage: 6.0+ KB\n"
     ]
    }
   ],
   "source": [
    "data_lstm.info()"
   ]
  },
  {
   "cell_type": "code",
   "execution_count": 70,
   "id": "cef86ca2",
   "metadata": {},
   "outputs": [],
   "source": [
    "lstm_close = data_lstm['close_lstm']\n",
    "arima_close = data_arima['close_arima']\n",
    "real_close = data_arima['real_close']\n",
    "\n",
    "date_time = data_arima['Date']\n",
    "date_time = pd.to_datetime(date_time)\n",
    "\n",
    "new_df = pd.DataFrame()\n",
    "new_df['real_close'] = real_close\n",
    "new_df['close_arima'] = arima_close\n",
    "new_df['close_lstm'] = lstm_close\n",
    "new_df = new_df.set_index(date_time)"
   ]
  },
  {
   "cell_type": "code",
   "execution_count": 71,
   "id": "36700d3c",
   "metadata": {},
   "outputs": [
    {
     "data": {
      "text/html": [
       "<div>\n",
       "<style scoped>\n",
       "    .dataframe tbody tr th:only-of-type {\n",
       "        vertical-align: middle;\n",
       "    }\n",
       "\n",
       "    .dataframe tbody tr th {\n",
       "        vertical-align: top;\n",
       "    }\n",
       "\n",
       "    .dataframe thead th {\n",
       "        text-align: right;\n",
       "    }\n",
       "</style>\n",
       "<table border=\"1\" class=\"dataframe\">\n",
       "  <thead>\n",
       "    <tr style=\"text-align: right;\">\n",
       "      <th></th>\n",
       "      <th>real_close</th>\n",
       "      <th>close_arima</th>\n",
       "      <th>close_lstm</th>\n",
       "    </tr>\n",
       "    <tr>\n",
       "      <th>Date</th>\n",
       "      <th></th>\n",
       "      <th></th>\n",
       "      <th></th>\n",
       "    </tr>\n",
       "  </thead>\n",
       "  <tbody>\n",
       "    <tr>\n",
       "      <th>2020-12-22</th>\n",
       "      <td>41325.0</td>\n",
       "      <td>42042.582714</td>\n",
       "      <td>41855.297</td>\n",
       "    </tr>\n",
       "    <tr>\n",
       "      <th>2020-12-23</th>\n",
       "      <td>41075.0</td>\n",
       "      <td>41353.726068</td>\n",
       "      <td>41603.797</td>\n",
       "    </tr>\n",
       "    <tr>\n",
       "      <th>2020-12-28</th>\n",
       "      <td>41025.0</td>\n",
       "      <td>41101.969057</td>\n",
       "      <td>41262.620</td>\n",
       "    </tr>\n",
       "    <tr>\n",
       "      <th>2020-12-29</th>\n",
       "      <td>41075.0</td>\n",
       "      <td>41046.163780</td>\n",
       "      <td>41234.203</td>\n",
       "    </tr>\n",
       "    <tr>\n",
       "      <th>2020-12-30</th>\n",
       "      <td>41000.0</td>\n",
       "      <td>41089.626333</td>\n",
       "      <td>41409.113</td>\n",
       "    </tr>\n",
       "    <tr>\n",
       "      <th>...</th>\n",
       "      <td>...</td>\n",
       "      <td>...</td>\n",
       "      <td>...</td>\n",
       "    </tr>\n",
       "    <tr>\n",
       "      <th>2021-12-24</th>\n",
       "      <td>30525.0</td>\n",
       "      <td>30611.488660</td>\n",
       "      <td>31272.922</td>\n",
       "    </tr>\n",
       "    <tr>\n",
       "      <th>2021-12-27</th>\n",
       "      <td>30675.0</td>\n",
       "      <td>30534.910449</td>\n",
       "      <td>31192.209</td>\n",
       "    </tr>\n",
       "    <tr>\n",
       "      <th>2021-12-28</th>\n",
       "      <td>30650.0</td>\n",
       "      <td>30679.200197</td>\n",
       "      <td>31277.422</td>\n",
       "    </tr>\n",
       "    <tr>\n",
       "      <th>2021-12-29</th>\n",
       "      <td>30650.0</td>\n",
       "      <td>30653.573400</td>\n",
       "      <td>31336.562</td>\n",
       "    </tr>\n",
       "    <tr>\n",
       "      <th>2021-12-30</th>\n",
       "      <td>30600.0</td>\n",
       "      <td>30652.607254</td>\n",
       "      <td>31354.320</td>\n",
       "    </tr>\n",
       "  </tbody>\n",
       "</table>\n",
       "<p>252 rows × 3 columns</p>\n",
       "</div>"
      ],
      "text/plain": [
       "            real_close   close_arima  close_lstm\n",
       "Date                                            \n",
       "2020-12-22     41325.0  42042.582714   41855.297\n",
       "2020-12-23     41075.0  41353.726068   41603.797\n",
       "2020-12-28     41025.0  41101.969057   41262.620\n",
       "2020-12-29     41075.0  41046.163780   41234.203\n",
       "2020-12-30     41000.0  41089.626333   41409.113\n",
       "...                ...           ...         ...\n",
       "2021-12-24     30525.0  30611.488660   31272.922\n",
       "2021-12-27     30675.0  30534.910449   31192.209\n",
       "2021-12-28     30650.0  30679.200197   31277.422\n",
       "2021-12-29     30650.0  30653.573400   31336.562\n",
       "2021-12-30     30600.0  30652.607254   31354.320\n",
       "\n",
       "[252 rows x 3 columns]"
      ]
     },
     "execution_count": 71,
     "metadata": {},
     "output_type": "execute_result"
    }
   ],
   "source": [
    "new_df"
   ]
  },
  {
   "cell_type": "code",
   "execution_count": 78,
   "id": "44edb958",
   "metadata": {},
   "outputs": [
    {
     "data": {
      "text/plain": [
       "<Figure size 1800x576 with 0 Axes>"
      ]
     },
     "metadata": {},
     "output_type": "display_data"
    },
    {
     "data": {
      "image/png": "[encoded data removed]",
      "text/plain": [
       "<Figure size 1152x576 with 1 Axes>"
      ]
     },
     "metadata": {
      "needs_background": "light"
     },
     "output_type": "display_data"
    }
   ],
   "source": [
    "plt.figure()\n",
    "plt.subplots(figsize=(16, 8))\n",
    "plt.plot(new_df['real_close'], color = 'green', label = 'Real')\n",
    "plt.plot(new_df['close_arima'], color = 'blue', label = 'ARIMA')\n",
    "plt.plot(new_df['close_lstm'], color = 'red', label = 'LSTM')\n",
    "plt.title(datasets+\"-\"+term_horizon+\" Dataset Real Close Price vs ARIMA \"+parameter_arima + \" vs LSTM \" + parameter_lstm)\n",
    "plt.xlabel('Date')\n",
    "plt.ylabel(\"Price\")\n",
    "plt.savefig(\"../results/plots_arima_vs_lstm/\"+datasets+\"-\"+term_horizon+\" Dataset Real Close Price vs ARIMA \"\n",
    "            +parameter_arima + \" vs LSTM \" + parameter_lstm+ '.pdf')\n",
    "plt.legend()\n",
    "plt.show()"
   ]
  },
  {
   "cell_type": "code",
   "execution_count": null,
   "id": "b484d272",
   "metadata": {},
   "outputs": [],
   "source": []
  },
  {
   "cell_type": "code",
   "execution_count": null,
   "id": "f7889af4",
   "metadata": {},
   "outputs": [],
   "source": []
  }
 ],
 "metadata": {
  "kernelspec": {
   "display_name": "Python 3 (ipykernel)",
   "language": "python",
   "name": "python3"
  },
  "language_info": {
   "codemirror_mode": {
    "name": "ipython",
    "version": 3
   },
   "file_extension": ".py",
   "mimetype": "text/x-python",
   "name": "python",
   "nbconvert_exporter": "python",
   "pygments_lexer": "ipython3",
   "version": "3.9.12"
  }
 },
 "nbformat": 4,
 "nbformat_minor": 5
}
