{
 "cells": [
  {
   "cell_type": "markdown",
   "metadata": {},
   "source": [
    "# LSTM from Scratch for TA"
   ]
  },
  {
   "cell_type": "markdown",
   "metadata": {},
   "source": [
    "## import packages"
   ]
  },
  {
   "cell_type": "code",
   "execution_count": 1,
   "metadata": {},
   "outputs": [],
   "source": [
    "import numpy as np\n",
    "from numpy import *\n",
    "from numpy.random import *\n",
    "import matplotlib.pyplot as plt\n",
    "import random\n",
    "import math\n",
    "from datetime import datetime\n",
    "import pickle\n",
    "import pandas as pd\n",
    "%matplotlib inline"
   ]
  },
  {
   "cell_type": "markdown",
   "metadata": {},
   "source": [
    "## Define Function of Activation Function"
   ]
  },
  {
   "cell_type": "code",
   "execution_count": 2,
   "metadata": {},
   "outputs": [],
   "source": [
    "#predefined activation function and its derivative\n",
    "def Sigmoid(x): \n",
    "    return 1. / (1 + np.exp(-x))\n",
    "\n",
    "def dSigmoid(values): \n",
    "    return values*(1-values)\n",
    "\n",
    "def Tanh(x):\n",
    "    return (np.exp(x) - np.exp(-x))/(np.exp(x) + np.exp(-x))\n",
    "\n",
    "def dtanh(values): \n",
    "    return 1. - values**2\n",
    "\n",
    "def rand_arr(a, b, *args): \n",
    "    seed(0)\n",
    "    return rand(*args)*(b - a) + a"
   ]
  },
  {
   "cell_type": "markdown",
   "metadata": {},
   "source": [
    "## Define LSTM Class"
   ]
  },
  {
   "cell_type": "code",
   "execution_count": 3,
   "metadata": {},
   "outputs": [],
   "source": [
    "class LSTM:\n",
    "    def __init__(self, X_dim, y_dim, neuron):\n",
    "        \n",
    "        self.X_dim = X_dim \n",
    "        self.y_dim = y_dim\n",
    "        self.neuron = neuron\n",
    "        \n",
    "        #initiate weight\n",
    "        self.weight_f = rand_arr(-0.1, 0.1, neuron, X_dim + neuron)\n",
    "        self.weight_i = rand_arr(-0.1, 0.1, neuron, X_dim + neuron)\n",
    "        self.weight_g = rand_arr(-0.1, 0.1, neuron, X_dim + neuron) \n",
    "        self.weight_o = rand_arr(-0.1, 0.1, neuron, X_dim + neuron)\n",
    "        self.weight_out = rand_arr(-0.1, 0.1, y_dim, neuron)\n",
    "        \n",
    "        #initiate bias\n",
    "        self.bias_f = rand_arr(-0.1, 0.1, neuron) \n",
    "        self.bias_i = rand_arr(-0.1, 0.1, neuron) \n",
    "        self.bias_g = rand_arr(-0.1, 0.1, neuron) \n",
    "        self.bias_o = rand_arr(-0.1, 0.1, neuron)\n",
    "        self.bias_out = rand_arr(-0.1, 0.1, y_dim)\n",
    "    \n",
    "    def forward(self, inputs, outputs):\n",
    "        X = inputs \n",
    "        y = outputs\n",
    "        \n",
    "        self.X = X\n",
    "        self.y = y\n",
    "        #make list to save the values of every unit \n",
    "        self.X_concat = []\n",
    "        self.f = []\n",
    "        self.i = []\n",
    "        self.g = []\n",
    "        self.o = []\n",
    "        self.s = [zeros(self.neuron)] #first s input is 0\n",
    "        self.h = [zeros(self.neuron)] #first h input is 0\n",
    "        self.out = []\n",
    "        self.error = []\n",
    "        for i in range(len(inputs)):\n",
    "            #forward for every unit\n",
    "            X_concat = np.hstack((X[i],  self.h[i]))\n",
    "            self.X_concat.append(X_concat)\n",
    "            self.f.append(Sigmoid(self.weight_f@X_concat + self.bias_f))\n",
    "            self.i.append(Sigmoid(self.weight_i@X_concat + self.bias_i))\n",
    "            self.g.append(Tanh(self.weight_g@X_concat + self.bias_g))\n",
    "            self.o.append(Sigmoid(self.weight_o@X_concat + self.bias_o))\n",
    "            self.s.append(self.f[i]*self.s[i] + self.i[i]*self.g[i])\n",
    "            self.h.append(Tanh(self.s[i+1])*self.o[i])\n",
    "            self.out.append(self.weight_out@self.h[i+1] + self.bias_out)\n",
    "            self.error.append(abs(self.out[-1] - y[i]))\n",
    "        #show error\n",
    "        #print(np.array(self.error).mean())\n",
    "    \n",
    "    def backward(self, inputs, outputs):\n",
    "        self.diff_out = []\n",
    "        self.diff_h = []\n",
    "        self.diff_h_bottom = [zeros(self.neuron)]\n",
    "        self.diff_s_up = [zeros(self.neuron)]\n",
    "        self.diff_s = []\n",
    "        self.diff_o = []\n",
    "        self.diff_g = []\n",
    "        self.diff_i = []\n",
    "        self.diff_f = []\n",
    "        for i in range(len(inputs)-1,-1,-1):\n",
    "            #derivate of output\n",
    "            if i == len(inputs)-1:\n",
    "                self.diff_out  = [2*(self.out[i] - outputs[i])] + self.diff_out\n",
    "                self.diff_h = [self.diff_out[0]*dSigmoid(self.weight_out@self.h[i+1] + self.bias_out)*\n",
    "                               self.weight_out + self.diff_h_bottom[0]] + self.diff_h\n",
    "            else:\n",
    "                self.diff_h = [self.diff_h_bottom[0]] + self.diff_h\n",
    "            \n",
    "            \n",
    "            #derivative of gate/neural network operation\n",
    "            self.diff_s = [self.diff_h[0]*self.o[i]*dtanh(self.s[i+1]) + self.diff_s_up[0]] + self.diff_s\n",
    "            self.diff_o = [self.diff_h[0]*Tanh(self.s[i+1])] + self.diff_o\n",
    "            self.diff_g = [self.i[i]*self.diff_s[0]] + self.diff_g\n",
    "            self.diff_i = [self.g[i]*self.diff_s[0]] + self.diff_i\n",
    "            self.diff_f = [self.s[i]*self.diff_s[0]] + self.diff_f\n",
    "            \n",
    "            #derivative of concatenation of input dan previous output value\n",
    "            self.dX_concat = (self.diff_o[0].T*(dSigmoid(self.o[i]).reshape(self.neuron,1))).T@self.weight_o\n",
    "            self.dX_concat += (self.diff_g[0].T*(dSigmoid(self.g[i]).reshape(self.neuron,1))).T@self.weight_g\n",
    "            self.dX_concat += (self.diff_i[0].T*(dSigmoid(self.i[i]).reshape(self.neuron,1))).T@self.weight_i\n",
    "            self.dX_concat += (self.diff_f[0].T*(dSigmoid(self.f[i]).reshape(self.neuron,1))).T@self.weight_f\n",
    "            \n",
    "            #update value of long and short term memory\n",
    "            self.diff_h_bottom = [self.dX_concat[-1][self.X_dim:]] + self.diff_h_bottom\n",
    "            self.diff_s_up = [self.diff_s[0]*self.f[i]] + self.diff_s_up\n",
    "            \n",
    "    def update(self, alpha):\n",
    "        \n",
    "        #alpha \n",
    "        \n",
    "        #update everyweight and bias\n",
    "        self.weight_out -= alpha*self.diff_out[0].reshape(1,1)@self.h[1].T.reshape(1,self.neuron)\n",
    "        self.bias_out -= alpha*self.diff_out[0]\n",
    "        \n",
    "        self.weight_f -= alpha*(self.diff_f[0]*dSigmoid(self.weight_f@self.X_concat[0] + self.bias_f)).T@self.X_concat[0].reshape(1,self.X_dim + self.neuron)\n",
    "        self.bias_f -= alpha*(self.diff_f[0]*dSigmoid(self.weight_f@self.X_concat[0] + self.bias_f)).reshape(self.neuron,)\n",
    "        \n",
    "        self.weight_i -= alpha*(self.diff_i[0]*dSigmoid(self.weight_i@self.X_concat[0] + self.bias_i)).T@self.X_concat[0].reshape(1,self.X_dim + self.neuron)\n",
    "        self.bias_i -= alpha*(self.diff_i[0]*dSigmoid(self.weight_i@self.X_concat[0] + self.bias_i)).reshape(self.neuron,)\n",
    "        \n",
    "        self.weight_g -= alpha*(self.diff_g[0]*dSigmoid(self.weight_g@self.X_concat[0] + self.bias_g)).T@self.X_concat[0].reshape(1,self.X_dim + self.neuron)\n",
    "        self.bias_g -= alpha*(self.diff_g[0]*dSigmoid(self.weight_g@self.X_concat[0] + self.bias_g)).reshape(self.neuron,)\n",
    "        \n",
    "        self.weight_o -= alpha*(self.diff_o[0]*dSigmoid(self.weight_o@self.X_concat[0] + self.bias_o)).T.reshape(self.neuron,1)@self.X_concat[0].reshape(1,self.X_dim + self.neuron)\n",
    "        self.bias_o -= alpha*(self.diff_o[0]*dSigmoid(self.weight_o@self.X_concat[0] + self.bias_o)).reshape(self.neuron,)\n",
    "    \n",
    "    def predict(self, inputs, outputs):\n",
    "        X = inputs\n",
    "        y = outputs\n",
    "        self.X = X\n",
    "        self.y = y\n",
    "        #make list to save the values of every unit \n",
    "        self.X_concat = []\n",
    "        self.f = []\n",
    "        self.i = []\n",
    "        self.g = []\n",
    "        self.o = []\n",
    "        self.s = [zeros(self.neuron)] #first s input is 0\n",
    "        self.h = [zeros(self.neuron)] #first h input is 0\n",
    "        self.out = []\n",
    "        self.error = []\n",
    "        for i in range(len(inputs)):\n",
    "            #forward for every unit\n",
    "            X_concat = np.hstack((X[i],  self.h[i]))\n",
    "            self.X_concat.append(X_concat)\n",
    "            self.f.append(Sigmoid(self.weight_f@X_concat + self.bias_f))\n",
    "            self.i.append(Sigmoid(self.weight_i@X_concat + self.bias_i))\n",
    "            self.g.append(Tanh(self.weight_g@X_concat + self.bias_g))\n",
    "            self.o.append(Sigmoid(self.weight_o@X_concat + self.bias_o))\n",
    "            self.s.append(self.f[i]*self.s[i] + self.i[i]*self.g[i])\n",
    "            self.h.append(Tanh(self.s[i+1])*self.o[i])\n",
    "            self.out.append(self.weight_out@self.h[i+1] + self.bias_out)\n",
    "            self.error.append(abs(self.out[-1] - y[i]))\n",
    "        \n",
    "        return [self.out[-1][0],self.y[-1]]\n",
    "    \n",
    "    def show_progress(self):\n",
    "        return abs(self.y[-1][0] - self.out[-1])"
   ]
  },
  {
   "cell_type": "markdown",
   "metadata": {},
   "source": [
    "## Change the Indicators Here!"
   ]
  },
  {
   "cell_type": "code",
   "execution_count": 4,
   "metadata": {},
   "outputs": [],
   "source": [
    "#hyperparameters\n",
    "epochs  = 10\n",
    "nc      = 10 #units\n",
    "\n",
    "#datasets\n",
    "name_dataset = 'UNVR-long'\n",
    "\n",
    "column_dataset_obs = 'Close'"
   ]
  },
  {
   "cell_type": "markdown",
   "metadata": {},
   "source": [
    "## Import Dataset"
   ]
  },
  {
   "cell_type": "code",
   "execution_count": 5,
   "metadata": {},
   "outputs": [
    {
     "data": {
      "text/html": [
       "<div>\n",
       "<style scoped>\n",
       "    .dataframe tbody tr th:only-of-type {\n",
       "        vertical-align: middle;\n",
       "    }\n",
       "\n",
       "    .dataframe tbody tr th {\n",
       "        vertical-align: top;\n",
       "    }\n",
       "\n",
       "    .dataframe thead th {\n",
       "        text-align: right;\n",
       "    }\n",
       "</style>\n",
       "<table border=\"1\" class=\"dataframe\">\n",
       "  <thead>\n",
       "    <tr style=\"text-align: right;\">\n",
       "      <th></th>\n",
       "      <th>Date</th>\n",
       "      <th>Open</th>\n",
       "      <th>High</th>\n",
       "      <th>Low</th>\n",
       "      <th>Close</th>\n",
       "      <th>Adj Close</th>\n",
       "      <th>Volume</th>\n",
       "    </tr>\n",
       "  </thead>\n",
       "  <tbody>\n",
       "    <tr>\n",
       "      <th>0</th>\n",
       "      <td>2017-01-02</td>\n",
       "      <td>7760.0</td>\n",
       "      <td>7760.0</td>\n",
       "      <td>7760.0</td>\n",
       "      <td>7760.0</td>\n",
       "      <td>6857.312500</td>\n",
       "      <td>0</td>\n",
       "    </tr>\n",
       "    <tr>\n",
       "      <th>1</th>\n",
       "      <td>2017-01-03</td>\n",
       "      <td>7800.0</td>\n",
       "      <td>7840.0</td>\n",
       "      <td>7760.0</td>\n",
       "      <td>7765.0</td>\n",
       "      <td>6861.731445</td>\n",
       "      <td>5014500</td>\n",
       "    </tr>\n",
       "    <tr>\n",
       "      <th>2</th>\n",
       "      <td>2017-01-04</td>\n",
       "      <td>7770.0</td>\n",
       "      <td>8070.0</td>\n",
       "      <td>7770.0</td>\n",
       "      <td>8040.0</td>\n",
       "      <td>7104.741699</td>\n",
       "      <td>10642000</td>\n",
       "    </tr>\n",
       "    <tr>\n",
       "      <th>3</th>\n",
       "      <td>2017-01-05</td>\n",
       "      <td>8100.0</td>\n",
       "      <td>8110.0</td>\n",
       "      <td>8005.0</td>\n",
       "      <td>8110.0</td>\n",
       "      <td>7166.599121</td>\n",
       "      <td>10493500</td>\n",
       "    </tr>\n",
       "    <tr>\n",
       "      <th>4</th>\n",
       "      <td>2017-01-06</td>\n",
       "      <td>8060.0</td>\n",
       "      <td>8190.0</td>\n",
       "      <td>7965.0</td>\n",
       "      <td>8120.0</td>\n",
       "      <td>7175.434570</td>\n",
       "      <td>5400500</td>\n",
       "    </tr>\n",
       "    <tr>\n",
       "      <th>...</th>\n",
       "      <td>...</td>\n",
       "      <td>...</td>\n",
       "      <td>...</td>\n",
       "      <td>...</td>\n",
       "      <td>...</td>\n",
       "      <td>...</td>\n",
       "      <td>...</td>\n",
       "    </tr>\n",
       "    <tr>\n",
       "      <th>1257</th>\n",
       "      <td>2021-12-24</td>\n",
       "      <td>4090.0</td>\n",
       "      <td>4210.0</td>\n",
       "      <td>4080.0</td>\n",
       "      <td>4200.0</td>\n",
       "      <td>4200.000000</td>\n",
       "      <td>11979500</td>\n",
       "    </tr>\n",
       "    <tr>\n",
       "      <th>1258</th>\n",
       "      <td>2021-12-27</td>\n",
       "      <td>4200.0</td>\n",
       "      <td>4230.0</td>\n",
       "      <td>4170.0</td>\n",
       "      <td>4210.0</td>\n",
       "      <td>4210.000000</td>\n",
       "      <td>7238100</td>\n",
       "    </tr>\n",
       "    <tr>\n",
       "      <th>1259</th>\n",
       "      <td>2021-12-28</td>\n",
       "      <td>4210.0</td>\n",
       "      <td>4230.0</td>\n",
       "      <td>4180.0</td>\n",
       "      <td>4180.0</td>\n",
       "      <td>4180.000000</td>\n",
       "      <td>7006900</td>\n",
       "    </tr>\n",
       "    <tr>\n",
       "      <th>1260</th>\n",
       "      <td>2021-12-29</td>\n",
       "      <td>4180.0</td>\n",
       "      <td>4190.0</td>\n",
       "      <td>4120.0</td>\n",
       "      <td>4120.0</td>\n",
       "      <td>4120.000000</td>\n",
       "      <td>9030700</td>\n",
       "    </tr>\n",
       "    <tr>\n",
       "      <th>1261</th>\n",
       "      <td>2021-12-30</td>\n",
       "      <td>4130.0</td>\n",
       "      <td>4170.0</td>\n",
       "      <td>4110.0</td>\n",
       "      <td>4110.0</td>\n",
       "      <td>4110.000000</td>\n",
       "      <td>7633100</td>\n",
       "    </tr>\n",
       "  </tbody>\n",
       "</table>\n",
       "<p>1262 rows × 7 columns</p>\n",
       "</div>"
      ],
      "text/plain": [
       "            Date    Open    High     Low   Close    Adj Close    Volume\n",
       "0     2017-01-02  7760.0  7760.0  7760.0  7760.0  6857.312500         0\n",
       "1     2017-01-03  7800.0  7840.0  7760.0  7765.0  6861.731445   5014500\n",
       "2     2017-01-04  7770.0  8070.0  7770.0  8040.0  7104.741699  10642000\n",
       "3     2017-01-05  8100.0  8110.0  8005.0  8110.0  7166.599121  10493500\n",
       "4     2017-01-06  8060.0  8190.0  7965.0  8120.0  7175.434570   5400500\n",
       "...          ...     ...     ...     ...     ...          ...       ...\n",
       "1257  2021-12-24  4090.0  4210.0  4080.0  4200.0  4200.000000  11979500\n",
       "1258  2021-12-27  4200.0  4230.0  4170.0  4210.0  4210.000000   7238100\n",
       "1259  2021-12-28  4210.0  4230.0  4180.0  4180.0  4180.000000   7006900\n",
       "1260  2021-12-29  4180.0  4190.0  4120.0  4120.0  4120.000000   9030700\n",
       "1261  2021-12-30  4130.0  4170.0  4110.0  4110.0  4110.000000   7633100\n",
       "\n",
       "[1262 rows x 7 columns]"
      ]
     },
     "execution_count": 5,
     "metadata": {},
     "output_type": "execute_result"
    }
   ],
   "source": [
    "df = pd.read_csv('../Datasets/'+name_dataset+'.csv')\n",
    "# df.drop('Volume', inplace=True, axis=1)\n",
    "df"
   ]
  },
  {
   "cell_type": "code",
   "execution_count": 6,
   "metadata": {
    "scrolled": true
   },
   "outputs": [
    {
     "data": {
      "text/html": [
       "<div>\n",
       "<style scoped>\n",
       "    .dataframe tbody tr th:only-of-type {\n",
       "        vertical-align: middle;\n",
       "    }\n",
       "\n",
       "    .dataframe tbody tr th {\n",
       "        vertical-align: top;\n",
       "    }\n",
       "\n",
       "    .dataframe thead th {\n",
       "        text-align: right;\n",
       "    }\n",
       "</style>\n",
       "<table border=\"1\" class=\"dataframe\">\n",
       "  <thead>\n",
       "    <tr style=\"text-align: right;\">\n",
       "      <th></th>\n",
       "      <th>Open</th>\n",
       "      <th>High</th>\n",
       "      <th>Low</th>\n",
       "      <th>Close</th>\n",
       "      <th>Adj Close</th>\n",
       "      <th>Volume</th>\n",
       "    </tr>\n",
       "  </thead>\n",
       "  <tbody>\n",
       "    <tr>\n",
       "      <th>count</th>\n",
       "      <td>1262.000000</td>\n",
       "      <td>1262.000000</td>\n",
       "      <td>1262.000000</td>\n",
       "      <td>1262.000000</td>\n",
       "      <td>1262.000000</td>\n",
       "      <td>1.262000e+03</td>\n",
       "    </tr>\n",
       "    <tr>\n",
       "      <th>mean</th>\n",
       "      <td>8279.290808</td>\n",
       "      <td>8355.285261</td>\n",
       "      <td>8188.458796</td>\n",
       "      <td>8270.229794</td>\n",
       "      <td>7645.417650</td>\n",
       "      <td>1.299244e+07</td>\n",
       "    </tr>\n",
       "    <tr>\n",
       "      <th>std</th>\n",
       "      <td>1727.802437</td>\n",
       "      <td>1727.550235</td>\n",
       "      <td>1728.247183</td>\n",
       "      <td>1732.949401</td>\n",
       "      <td>1435.155938</td>\n",
       "      <td>1.287545e+07</td>\n",
       "    </tr>\n",
       "    <tr>\n",
       "      <th>min</th>\n",
       "      <td>3800.000000</td>\n",
       "      <td>3870.000000</td>\n",
       "      <td>3800.000000</td>\n",
       "      <td>3820.000000</td>\n",
       "      <td>3765.546387</td>\n",
       "      <td>0.000000e+00</td>\n",
       "    </tr>\n",
       "    <tr>\n",
       "      <th>25%</th>\n",
       "      <td>7706.250000</td>\n",
       "      <td>7770.000000</td>\n",
       "      <td>7600.000000</td>\n",
       "      <td>7650.000000</td>\n",
       "      <td>7228.263672</td>\n",
       "      <td>6.784875e+06</td>\n",
       "    </tr>\n",
       "    <tr>\n",
       "      <th>50%</th>\n",
       "      <td>8655.000000</td>\n",
       "      <td>8737.500000</td>\n",
       "      <td>8550.000000</td>\n",
       "      <td>8640.000000</td>\n",
       "      <td>7973.754394</td>\n",
       "      <td>1.022120e+07</td>\n",
       "    </tr>\n",
       "    <tr>\n",
       "      <th>75%</th>\n",
       "      <td>9530.000000</td>\n",
       "      <td>9600.000000</td>\n",
       "      <td>9440.000000</td>\n",
       "      <td>9530.000000</td>\n",
       "      <td>8617.775147</td>\n",
       "      <td>1.519868e+07</td>\n",
       "    </tr>\n",
       "    <tr>\n",
       "      <th>max</th>\n",
       "      <td>11235.000000</td>\n",
       "      <td>11620.000000</td>\n",
       "      <td>11180.000000</td>\n",
       "      <td>11180.000000</td>\n",
       "      <td>10056.169922</td>\n",
       "      <td>2.509038e+08</td>\n",
       "    </tr>\n",
       "  </tbody>\n",
       "</table>\n",
       "</div>"
      ],
      "text/plain": [
       "               Open          High           Low         Close     Adj Close  \\\n",
       "count   1262.000000   1262.000000   1262.000000   1262.000000   1262.000000   \n",
       "mean    8279.290808   8355.285261   8188.458796   8270.229794   7645.417650   \n",
       "std     1727.802437   1727.550235   1728.247183   1732.949401   1435.155938   \n",
       "min     3800.000000   3870.000000   3800.000000   3820.000000   3765.546387   \n",
       "25%     7706.250000   7770.000000   7600.000000   7650.000000   7228.263672   \n",
       "50%     8655.000000   8737.500000   8550.000000   8640.000000   7973.754394   \n",
       "75%     9530.000000   9600.000000   9440.000000   9530.000000   8617.775147   \n",
       "max    11235.000000  11620.000000  11180.000000  11180.000000  10056.169922   \n",
       "\n",
       "             Volume  \n",
       "count  1.262000e+03  \n",
       "mean   1.299244e+07  \n",
       "std    1.287545e+07  \n",
       "min    0.000000e+00  \n",
       "25%    6.784875e+06  \n",
       "50%    1.022120e+07  \n",
       "75%    1.519868e+07  \n",
       "max    2.509038e+08  "
      ]
     },
     "execution_count": 6,
     "metadata": {},
     "output_type": "execute_result"
    }
   ],
   "source": [
    "df.describe()"
   ]
  },
  {
   "cell_type": "code",
   "execution_count": 7,
   "metadata": {},
   "outputs": [
    {
     "data": {
      "text/plain": [
       "0       7760.0\n",
       "1       7765.0\n",
       "2       8040.0\n",
       "3       8110.0\n",
       "4       8120.0\n",
       "         ...  \n",
       "1257    4200.0\n",
       "1258    4210.0\n",
       "1259    4180.0\n",
       "1260    4120.0\n",
       "1261    4110.0\n",
       "Name: Close, Length: 1262, dtype: float64"
      ]
     },
     "execution_count": 7,
     "metadata": {},
     "output_type": "execute_result"
    }
   ],
   "source": [
    "new_df = df.reset_index()[column_dataset_obs]\n",
    "new_df"
   ]
  },
  {
   "cell_type": "code",
   "execution_count": 8,
   "metadata": {},
   "outputs": [
    {
     "data": {
      "text/plain": [
       "[<matplotlib.lines.Line2D at 0x24f69f669a0>]"
      ]
     },
     "execution_count": 8,
     "metadata": {},
     "output_type": "execute_result"
    },
    {
     "data": {
      "image/png": "[encoded data removed]",
      "text/plain": [
       "<Figure size 432x288 with 1 Axes>"
      ]
     },
     "metadata": {
      "needs_background": "light"
     },
     "output_type": "display_data"
    }
   ],
   "source": [
    "plt.plot(new_df)"
   ]
  },
  {
   "cell_type": "markdown",
   "metadata": {},
   "source": [
    "## MinMax Scaler"
   ]
  },
  {
   "cell_type": "code",
   "execution_count": 9,
   "metadata": {},
   "outputs": [],
   "source": [
    "from sklearn.preprocessing import MinMaxScaler\n",
    "scaler = MinMaxScaler(feature_range=(0,1))\n",
    "new_df = scaler.fit_transform(np.array(new_df).reshape(-1,1))\n",
    "# new_df"
   ]
  },
  {
   "cell_type": "code",
   "execution_count": 10,
   "metadata": {},
   "outputs": [],
   "source": [
    "xs = new_df"
   ]
  },
  {
   "cell_type": "code",
   "execution_count": 11,
   "metadata": {},
   "outputs": [],
   "source": [
    "#Standarized the dataset\n",
    "N       = xs.shape[0]\n",
    "\n",
    "#hypreparameter\n",
    "Ts      = 1\n",
    "x_dim   = 4\n",
    "alpha   = 0.01 #learningrate\n",
    "\n",
    "xt      = xs[0:N-x_dim,:]\n",
    "\n",
    "for i in range(x_dim):\n",
    "    xt  = hstack((xt, xs[i+1:N-x_dim+i+1]))   \n",
    "\n"
   ]
  },
  {
   "cell_type": "markdown",
   "metadata": {},
   "source": [
    "## Splitting Training and Testing"
   ]
  },
  {
   "cell_type": "code",
   "execution_count": 12,
   "metadata": {},
   "outputs": [],
   "source": [
    "training_size = int(len(new_df)*0.8)\n",
    "test_size = len(new_df)-training_size"
   ]
  },
  {
   "cell_type": "code",
   "execution_count": 13,
   "metadata": {},
   "outputs": [
    {
     "data": {
      "text/plain": [
       "(1009, 253)"
      ]
     },
     "execution_count": 13,
     "metadata": {},
     "output_type": "execute_result"
    }
   ],
   "source": [
    "training_size, test_size"
   ]
  },
  {
   "cell_type": "code",
   "execution_count": null,
   "metadata": {},
   "outputs": [],
   "source": []
  },
  {
   "cell_type": "code",
   "execution_count": 14,
   "metadata": {},
   "outputs": [],
   "source": [
    "X_train = xt[:training_size, 0:x_dim]     \n",
    "y_train = xt[:training_size, x_dim:x_dim+1]  \n",
    "X_test = xt[-test_size:, 0:x_dim]     \n",
    "y_test = xt[-test_size:, x_dim:x_dim+1]"
   ]
  },
  {
   "cell_type": "markdown",
   "metadata": {},
   "source": [
    "## Build LSTM Model"
   ]
  },
  {
   "cell_type": "code",
   "execution_count": 15,
   "metadata": {},
   "outputs": [
    {
     "name": "stdout",
     "output_type": "stream",
     "text": [
      "------------- 1 -------------\n",
      "0.09269369250530787\n",
      "------------- 2 -------------\n",
      "0.09247222379722932\n",
      "------------- 3 -------------\n",
      "0.09224924653184526\n",
      "------------- 4 -------------\n",
      "0.09202443284652156\n",
      "------------- 5 -------------\n",
      "0.09179743472802178\n",
      "------------- 6 -------------\n",
      "0.0915678792224056\n",
      "------------- 7 -------------\n",
      "0.09133536357120806\n",
      "------------- 8 -------------\n",
      "0.09109945026520491\n",
      "------------- 9 -------------\n",
      "0.09085966198841638\n",
      "------------- 10 -------------\n",
      "0.09061547642625865\n"
     ]
    }
   ],
   "source": [
    "me = LSTM(x_dim,1,nc)\n",
    "for i in range(epochs):\n",
    "    print('-------------',i+1,'-------------')\n",
    "    for j in range(X_train.shape[0]-Ts):\n",
    "        me.forward(X_train[j:j+Ts],y_train[j:j+Ts])\n",
    "        me.backward(X_train[j:j+Ts],y_train[j:j+Ts])\n",
    "        me.update(alpha)\n",
    "    hehe = []\n",
    "    for j in range(X_test.shape[0]-Ts):\n",
    "        me.forward(X_test[j:j+Ts],y_test[j:j+Ts])\n",
    "        me.backward(X_test[j:j+Ts],y_test[j:j+Ts])\n",
    "        me.update(alpha)\n",
    "        hehe.append(me.show_progress())    \n",
    "    print(np.array(hehe).mean())"
   ]
  },
  {
   "cell_type": "code",
   "execution_count": 17,
   "metadata": {
    "scrolled": true
   },
   "outputs": [
    {
     "name": "stderr",
     "output_type": "stream",
     "text": [
      "<__array_function__ internals>:5: VisibleDeprecationWarning: Creating an ndarray from ragged nested sequences (which is a list-or-tuple of lists-or-tuples-or ndarrays with different lengths or shapes) is deprecated. If you meant to do this, you must specify 'dtype=object' when creating the ndarray.\n"
     ]
    }
   ],
   "source": [
    "import matplotlib.pyplot as plt\n",
    "\n",
    "out = []\n",
    "for j in range(X_test.shape[0]-Ts):\n",
    "    out.append(me.predict(X_test[j:j+Ts],y_test[j:j+Ts]))\n",
    "\n",
    "out=scaler.inverse_transform(out).tolist()"
   ]
  },
  {
   "cell_type": "code",
   "execution_count": 26,
   "metadata": {},
   "outputs": [
    {
     "data": {
      "text/plain": [
       "[[4602.795486321489, 7625.0],\n",
       " [4605.052225124806, 7475.0],\n",
       " [4604.146649485373, 7424.999999999999],\n",
       " [4604.539317908935, 7450.0],\n",
       " [4604.2067596529205, 7350.0],\n",
       " [4602.271565836028, 7350.0],\n",
       " [4600.562606878653, 7475.0],\n",
       " [4601.126269621519, 7375.000000000001],\n",
       " [4600.981734982719, 7200.0],\n",
       " [4599.49976561277, 7200.0],\n",
       " [4599.00320701728, 7175.0],\n",
       " [4597.494296901062, 7200.0],\n",
       " [4595.110874425212, 7100.0],\n",
       " [4595.071394050578, 7025.0],\n",
       " [4593.46545834434, 7000.0],\n",
       " [4592.761710237069, 6950.0],\n",
       " [4591.013483373139, 7500.0],\n",
       " [4591.074262217705, 7575.000000000001],\n",
       " [4597.021394728626, 7399.999999999999],\n",
       " [4597.340910296661, 7325.0],\n",
       " [4602.115423650318, 7275.0],\n",
       " [4601.882252105394, 7250.0],\n",
       " [4598.992562078264, 7250.0],\n",
       " [4597.726038145844, 7125.0],\n",
       " [4596.714807428175, 7075.0],\n",
       " [4594.874600016427, 6925.0],\n",
       " [4593.747640834961, 7025.0],\n",
       " [4590.7689716485565, 7000.0],\n",
       " [4591.008500099352, 7175.0],\n",
       " [4589.485579121783, 7300.0],\n",
       " [4592.993502511832, 7225.0],\n",
       " [4594.049176103583, 7100.0],\n",
       " [4595.17712079026, 7100.0],\n",
       " [4595.263509293968, 7150.0],\n",
       " [4594.334833897887, 7175.0],\n",
       " [4593.405061697021, 7050.0],\n",
       " [4593.378039012123, 7025.0],\n",
       " [4592.573947541264, 7100.0],\n",
       " [4592.682337087414, 6975.0],\n",
       " [4591.568660517908, 6950.0],\n",
       " [4589.892452961197, 6875.0],\n",
       " [4590.187976672039, 6850.0],\n",
       " [4587.708669161344, 6850.0],\n",
       " [4587.035670833007, 6775.0],\n",
       " [4585.860137308942, 7000.0],\n",
       " [4585.370271803478, 6825.0],\n",
       " [4587.25694061596, 6825.0],\n",
       " [4584.666870877478, 6875.0],\n",
       " [4587.394269333485, 6725.0],\n",
       " [4585.341329450295, 6725.0],\n",
       " [4583.753149493023, 6650.0],\n",
       " [4583.978840854758, 6550.0],\n",
       " [4581.010714286944, 6575.0],\n",
       " [4579.896918583179, 6700.0],\n",
       " [4579.478521166111, 6575.0],\n",
       " [4579.280872340167, 6550.0],\n",
       " [4578.304639719542, 6475.0],\n",
       " [4579.209591274324, 6600.0],\n",
       " [4577.170800679167, 6750.0],\n",
       " [4578.564510646289, 6700.0],\n",
       " [4579.287450991089, 6750.0],\n",
       " [4580.614536675023, 6575.0],\n",
       " [4582.458202493192, 6650.0],\n",
       " [4580.19746576106, 6600.0],\n",
       " [4581.283233286439, 6725.0],\n",
       " [4579.017223909919, 6550.0],\n",
       " [4580.752459366733, 6575.0],\n",
       " [4578.442747214193, 6625.0],\n",
       " [4580.192775807849, 6475.0],\n",
       " [4578.173505357988, 6475.0],\n",
       " [4576.905816080696, 6525.0],\n",
       " [4577.482453382182, 6600.0],\n",
       " [4576.387388502001, 6475.0],\n",
       " [4576.910682062245, 6325.0],\n",
       " [4575.827324116236, 6225.0],\n",
       " [4574.676506979423, 6300.0],\n",
       " [4572.0724326462205, 6400.0],\n",
       " [4571.195438780159, 6325.0],\n",
       " [4570.929169697799, 6300.0],\n",
       " [4571.095752814759, 6225.0],\n",
       " [4571.748397450797, 6100.0],\n",
       " [4569.61903640165, 6125.0],\n",
       " [4567.930755539459, 6075.0],\n",
       " [4566.97364120194, 6125.0],\n",
       " [4565.067507575774, 6025.0],\n",
       " [4565.566038005544, 6075.0],\n",
       " [4564.077094415874, 6050.0],\n",
       " [4565.031023885928, 6000.0],\n",
       " [4563.452591971924, 5900.0],\n",
       " [4563.209816028182, 5750.0],\n",
       " [4561.3296718561305, 5775.0],\n",
       " [4559.038650599762, 5550.0],\n",
       " [4557.236725530624, 5525.0],\n",
       " [4552.949625681009, 5700.0],\n",
       " [4553.173358288385, 5625.0],\n",
       " [4552.041116241675, 5600.0],\n",
       " [4551.1057606708155, 5575.0],\n",
       " [4552.807037968341, 5450.0],\n",
       " [4551.231270527076, 5625.0],\n",
       " [4550.050467506646, 5575.0],\n",
       " [4551.29891786485, 5725.0],\n",
       " [4549.901459155071, 5675.0],\n",
       " [4553.440655584079, 5825.0],\n",
       " [4552.923782995266, 5775.0],\n",
       " [4556.1632523391345, 5850.0],\n",
       " [4555.4303347273, 5850.0],\n",
       " [4558.009945563624, 5775.0],\n",
       " [4557.284174703136, 5650.0],\n",
       " [4557.043616917432, 5625.0],\n",
       " [4555.529206755108, 5475.0],\n",
       " [4553.744138485309, 5300.0],\n",
       " [4550.0779338601415, 5300.0],\n",
       " [4547.696446528309, 5350.0],\n",
       " [4545.756740513157, 5250.0],\n",
       " [4543.866881102721, 5175.0],\n",
       " [4542.665818305606, 5200.0],\n",
       " [4542.4063667930295, 5075.0],\n",
       " [4540.989258732428, 4900.0],\n",
       " [4538.294999259617, 5100.0],\n",
       " [4537.1307839921055, 5050.0],\n",
       " [4537.321195662597, 4990.0],\n",
       " [4534.790605515, 4960.0],\n",
       " [4536.432954293938, 5000.0],\n",
       " [4535.531303074702, 5025.0],\n",
       " [4535.248087680702, 5000.0],\n",
       " [4535.135867012631, 4950.0],\n",
       " [4535.255977456, 5225.0],\n",
       " [4535.767385720958, 5150.0],\n",
       " [4538.083444104061, 4950.0],\n",
       " [4536.525871961952, 5000.0],\n",
       " [4537.792452493999, 4930.0],\n",
       " [4536.914496777164, 4860.0],\n",
       " [4533.620156140233, 4890.0],\n",
       " [4533.470700798587, 5025.0],\n",
       " [4533.208556158426, 5100.0],\n",
       " [4534.033649205232, 5100.0],\n",
       " [4535.392337891725, 5150.0],\n",
       " [4537.289428868539, 5150.0],\n",
       " [4538.732074732767, 5075.0],\n",
       " [4538.59438601846, 5125.0],\n",
       " [4538.55187695443, 5025.0],\n",
       " [4538.688124125849, 4800.0],\n",
       " [4536.157374924322, 4700.0],\n",
       " [4533.9652500880575, 4500.0],\n",
       " [4530.797962721153, 4450.0],\n",
       " [4525.685044673755, 4330.0],\n",
       " [4523.305191492583, 4220.0],\n",
       " [4519.252434473269, 4400.0],\n",
       " [4517.818670982381, 4380.0],\n",
       " [4518.004403706659, 4330.0],\n",
       " [4516.617488635873, 4440.0],\n",
       " [4518.547647224582, 4420.0],\n",
       " [4519.31252902584, 4310.0],\n",
       " [4518.368756540698, 4250.0],\n",
       " [4518.356861014429, 4210.0],\n",
       " [4517.205599620689, 4250.0],\n",
       " [4515.479009351932, 4150.0],\n",
       " [4514.825067320351, 4230.0],\n",
       " [4513.597511047771, 4110.0],\n",
       " [4514.409215430092, 4070.0],\n",
       " [4511.984440249057, 4059.9999999999995],\n",
       " [4512.310972234085, 4080.0],\n",
       " [4510.752654268608, 4170.0],\n",
       " [4510.71045869789, 4090.0000000000005],\n",
       " [4511.327962576424, 4029.9999999999995],\n",
       " [4510.726054454426, 4130.0],\n",
       " [4511.337888240936, 4050.0],\n",
       " [4511.0836146648935, 4100.0],\n",
       " [4509.841494597184, 4150.0],\n",
       " [4511.567610744223, 4240.0],\n",
       " [4511.451131114216, 4250.0],\n",
       " [4513.092705612715, 4250.0],\n",
       " [4513.94617371759, 4100.0],\n",
       " [4514.629569188666, 4100.0],\n",
       " [4513.201426345966, 4080.0],\n",
       " [4512.900972098221, 4040.0],\n",
       " [4510.776355594475, 4050.0],\n",
       " [4510.359379096242, 4040.0],\n",
       " [4510.127717057241, 4010.0],\n",
       " [4509.476432448181, 3950.0],\n",
       " [4509.104776570993, 3880.0],\n",
       " [4508.123461950562, 3840.0],\n",
       " [4506.833358647786, 4040.0],\n",
       " [4506.139504648843, 4050.0],\n",
       " [4507.311681999069, 3970.0],\n",
       " [4507.045518538147, 3860.0000000000005],\n",
       " [4508.339577318137, 3820.0],\n",
       " [4507.0863866873215, 3920.0],\n",
       " [4505.808961674908, 3950.0],\n",
       " [4505.528253161916, 3860.0000000000005],\n",
       " [4505.273454588202, 3980.0],\n",
       " [4505.935790202159, 4150.0],\n",
       " [4507.848321700659, 4270.0],\n",
       " [4509.045007330451, 4830.0],\n",
       " [4513.556008352053, 4760.0],\n",
       " [4521.435786853472, 4830.0],\n",
       " [4523.245464843589, 4930.0],\n",
       " [4530.943367257431, 5250.0],\n",
       " [4532.143558116024, 5325.0],\n",
       " [4536.73295877537, 5225.0],\n",
       " [4538.940871610566, 5100.0],\n",
       " [4541.542896359553, 5125.0],\n",
       " [4541.058562231411, 5000.0],\n",
       " [4539.568645026441, 4850.0],\n",
       " [4536.339361788747, 4580.0],\n",
       " [4534.114263232412, 4640.0],\n",
       " [4529.707108025804, 4540.0],\n",
       " [4527.822773840616, 4440.0],\n",
       " [4523.318833861613, 4420.0],\n",
       " [4522.790275830414, 4420.0],\n",
       " [4521.21498611461, 4470.0],\n",
       " [4520.113423877572, 4450.0],\n",
       " [4520.335432651649, 4450.0],\n",
       " [4520.207007358783, 4430.0],\n",
       " [4520.724092626946, 4460.0],\n",
       " [4520.358075312671, 4430.0],\n",
       " [4520.554413254165, 4370.0],\n",
       " [4519.880665114919, 4660.0],\n",
       " [4520.380137703505, 4600.0],\n",
       " [4522.775848595046, 4510.0],\n",
       " [4521.63019546545, 4570.0],\n",
       " [4524.275830373297, 4500.0],\n",
       " [4523.83834391455, 4480.0],\n",
       " [4522.057603263093, 4660.0],\n",
       " [4522.967750724933, 4840.0],\n",
       " [4524.468240450458, 4880.0],\n",
       " [4526.5002239821215, 4840.0],\n",
       " [4529.272076007933, 4820.0],\n",
       " [4531.044050428388, 4710.0],\n",
       " [4530.949905436209, 4630.0],\n",
       " [4529.055697022417, 4480.0],\n",
       " [4527.385208743873, 4310.0],\n",
       " [4523.8855330201495, 4290.0],\n",
       " [4520.858142325747, 4220.0],\n",
       " [4518.37280645785, 4200.0],\n",
       " [4515.507737862096, 4270.0],\n",
       " [4515.141375484694, 4270.0],\n",
       " [4514.988332900664, 4370.0],\n",
       " [4515.138760420009, 4430.0],\n",
       " [4517.187047494977, 4380.0],\n",
       " [4517.830694270478, 4290.0],\n",
       " [4518.365285697724, 4270.0],\n",
       " [4518.020748741351, 4210.0],\n",
       " [4516.897880400875, 4150.0],\n",
       " [4514.99124250064, 4140.0],\n",
       " [4514.004855612285, 4080.0],\n",
       " [4512.913384636726, 4059.9999999999995],\n",
       " [4511.499824345636, 4080.0],\n",
       " [4511.130381710396, 4200.0],\n",
       " [4510.914166129456, 4210.0],\n",
       " [4511.9712351809185, 4180.0],\n",
       " [4512.429069180626, 4120.0]]"
      ]
     },
     "execution_count": 26,
     "metadata": {},
     "output_type": "execute_result"
    }
   ],
   "source": [
    "out"
   ]
  },
  {
   "cell_type": "markdown",
   "metadata": {},
   "source": [
    "## Report Performance of LSTM Predictions"
   ]
  },
  {
   "cell_type": "code",
   "execution_count": 18,
   "metadata": {},
   "outputs": [],
   "source": [
    "from math import sqrt\n",
    "\n",
    "import math\n",
    "from sklearn.metrics import mean_squared_error, mean_absolute_error, mean_absolute_percentage_error"
   ]
  },
  {
   "cell_type": "code",
   "execution_count": 19,
   "metadata": {},
   "outputs": [
    {
     "name": "stdout",
     "output_type": "stream",
     "text": [
      "epoch: 10\n",
      "units: 10\n",
      "RMSE: 1421.96\n",
      "MAE: 1083.25\n",
      "MAPE: 17.57\n"
     ]
    }
   ],
   "source": [
    "# mse = mean_squared_error(y, predictions)\n",
    "# print('MSE: '+str(mse))\n",
    "print('epoch: ' + str(epochs))\n",
    "print('units: ' + str(nc))\n",
    "\n",
    "rmse = math.sqrt(mean_squared_error(np.array(out)[:,1], np.array(out)[:,0]))\n",
    "print('RMSE: '+ str(\"{:.2f}\".format(rmse)))\n",
    "mae = mean_absolute_error(np.array(out)[:,1], np.array(out)[:,0])\n",
    "print('MAE: '+ str(\"{:.2f}\".format(mae)))\n",
    "mape = mean_absolute_percentage_error(np.array(out)[:,1], np.array(out)[:,0])\n",
    "print('MAPE: '+ str(\"{:.2f}\".format(mape*100)))"
   ]
  },
  {
   "cell_type": "markdown",
   "metadata": {},
   "source": [
    "## Visualize Test Data the Prediction and Real Stock"
   ]
  },
  {
   "cell_type": "code",
   "execution_count": 20,
   "metadata": {},
   "outputs": [],
   "source": [
    "from matplotlib.pylab import rcParams\n",
    "rcParams['figure.figsize'] = 15, 6"
   ]
  },
  {
   "cell_type": "code",
   "execution_count": 21,
   "metadata": {},
   "outputs": [
    {
     "data": {
      "text/plain": [
       "<matplotlib.legend.Legend at 0x24f6c8d91c0>"
      ]
     },
     "execution_count": 21,
     "metadata": {},
     "output_type": "execute_result"
    },
    {
     "data": {
      "image/png": "[encoded data removed]",
      "text/plain": [
       "<Figure size 1080x432 with 1 Axes>"
      ]
     },
     "metadata": {
      "needs_background": "light"
     },
     "output_type": "display_data"
    }
   ],
   "source": [
    "plt.figure()\n",
    "plt.plot(np.array(out)[:,1], color = 'red', label = 'Real Stock Price')\n",
    "plt.plot(np.array(out)[:,0], color = 'blue', label = 'Predicted Stock Price')\n",
    "plt.title(name_dataset +' Term Stock Prediction, epochs: '+ str(epochs) +'; units: '+str(nc))\n",
    "plt.xlabel('Time')\n",
    "plt.ylabel(name_dataset +' Stock Price '+ column_dataset_obs)\n",
    "plt.legend()"
   ]
  },
  {
   "cell_type": "markdown",
   "metadata": {},
   "source": [
    "## Save as a new Dataset"
   ]
  },
  {
   "cell_type": "code",
   "execution_count": 22,
   "metadata": {},
   "outputs": [],
   "source": [
    "real_price = np.array(out)[:,1]\n",
    "close_lstm = np.array(out)[:,0]"
   ]
  },
  {
   "cell_type": "code",
   "execution_count": 23,
   "metadata": {},
   "outputs": [],
   "source": [
    "new_data = {'real_price': real_price,\n",
    "            'Close_LSTM': close_lstm}\n"
   ]
  },
  {
   "cell_type": "code",
   "execution_count": 24,
   "metadata": {},
   "outputs": [],
   "source": [
    "df_new_data = pd.DataFrame(new_data, columns = ['real_price', 'Close_LSTM'])\n"
   ]
  },
  {
   "cell_type": "code",
   "execution_count": 25,
   "metadata": {},
   "outputs": [],
   "source": [
    "df_new_data.to_csv('../Datasets/dataset after prediction/'+name_dataset\n",
    "                   +'_LSTM_'+ str(epochs) +'_'+ str(nc) + '.csv', index=False)"
   ]
  },
  {
   "cell_type": "code",
   "execution_count": null,
   "metadata": {},
   "outputs": [],
   "source": []
  }
 ],
 "metadata": {
  "kernelspec": {
   "display_name": "Python 3 (ipykernel)",
   "language": "python",
   "name": "python3"
  },
  "language_info": {
   "codemirror_mode": {
    "name": "ipython",
    "version": 3
   },
   "file_extension": ".py",
   "mimetype": "text/x-python",
   "name": "python",
   "nbconvert_exporter": "python",
   "pygments_lexer": "ipython3",
   "version": "3.9.12"
  }
 },
 "nbformat": 4,
 "nbformat_minor": 2
}
