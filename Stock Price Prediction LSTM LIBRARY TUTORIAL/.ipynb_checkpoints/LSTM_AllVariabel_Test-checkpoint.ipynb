{
 "cells": [
  {
   "cell_type": "markdown",
   "metadata": {
    "id": "DjVETfWh5ksz"
   },
   "source": [
    "By: https://www.relataly.com/stock-market-prediction-using-multivariate-time-series-in-python/1815/\n",
    "\n",
    "## Load the Time Series Data"
   ]
  },
  {
   "cell_type": "code",
   "execution_count": 4,
   "metadata": {
    "colab": {
     "base_uri": "https://localhost:8080/",
     "height": 424
    },
    "id": "kPwzikVX49b5",
    "outputId": "e377c0a8-e840-480e-ea26-8ac9a42ec435"
   },
   "outputs": [
    {
     "name": "stdout",
     "output_type": "stream",
     "text": [
      "Tensorflow Version: 2.10.0\n",
      "Num GPUs: 0\n",
      "[*********************100%***********************]  1 of 1 completed\n"
     ]
    },
    {
     "data": {
      "text/html": [
       "<div>\n",
       "<style scoped>\n",
       "    .dataframe tbody tr th:only-of-type {\n",
       "        vertical-align: middle;\n",
       "    }\n",
       "\n",
       "    .dataframe tbody tr th {\n",
       "        vertical-align: top;\n",
       "    }\n",
       "\n",
       "    .dataframe thead th {\n",
       "        text-align: right;\n",
       "    }\n",
       "</style>\n",
       "<table border=\"1\" class=\"dataframe\">\n",
       "  <thead>\n",
       "    <tr style=\"text-align: right;\">\n",
       "      <th></th>\n",
       "      <th>Open</th>\n",
       "      <th>High</th>\n",
       "      <th>Low</th>\n",
       "      <th>Close</th>\n",
       "      <th>Adj Close</th>\n",
       "      <th>Volume</th>\n",
       "    </tr>\n",
       "    <tr>\n",
       "      <th>Date</th>\n",
       "      <th></th>\n",
       "      <th></th>\n",
       "      <th></th>\n",
       "      <th></th>\n",
       "      <th></th>\n",
       "      <th></th>\n",
       "    </tr>\n",
       "  </thead>\n",
       "  <tbody>\n",
       "    <tr>\n",
       "      <th>2017-01-02</th>\n",
       "      <td>7760.0</td>\n",
       "      <td>7760.0</td>\n",
       "      <td>7760.0</td>\n",
       "      <td>7760.0</td>\n",
       "      <td>6741.181152</td>\n",
       "      <td>0</td>\n",
       "    </tr>\n",
       "    <tr>\n",
       "      <th>2017-01-03</th>\n",
       "      <td>7800.0</td>\n",
       "      <td>7840.0</td>\n",
       "      <td>7760.0</td>\n",
       "      <td>7765.0</td>\n",
       "      <td>6745.524902</td>\n",
       "      <td>5014500</td>\n",
       "    </tr>\n",
       "    <tr>\n",
       "      <th>2017-01-04</th>\n",
       "      <td>7770.0</td>\n",
       "      <td>8070.0</td>\n",
       "      <td>7770.0</td>\n",
       "      <td>8040.0</td>\n",
       "      <td>6984.419434</td>\n",
       "      <td>10642000</td>\n",
       "    </tr>\n",
       "    <tr>\n",
       "      <th>2017-01-05</th>\n",
       "      <td>8100.0</td>\n",
       "      <td>8110.0</td>\n",
       "      <td>8005.0</td>\n",
       "      <td>8110.0</td>\n",
       "      <td>7045.229980</td>\n",
       "      <td>10493500</td>\n",
       "    </tr>\n",
       "    <tr>\n",
       "      <th>2017-01-06</th>\n",
       "      <td>8060.0</td>\n",
       "      <td>8190.0</td>\n",
       "      <td>7965.0</td>\n",
       "      <td>8120.0</td>\n",
       "      <td>7053.915527</td>\n",
       "      <td>5400500</td>\n",
       "    </tr>\n",
       "  </tbody>\n",
       "</table>\n",
       "</div>"
      ],
      "text/plain": [
       "              Open    High     Low   Close    Adj Close    Volume\n",
       "Date                                                             \n",
       "2017-01-02  7760.0  7760.0  7760.0  7760.0  6741.181152         0\n",
       "2017-01-03  7800.0  7840.0  7760.0  7765.0  6745.524902   5014500\n",
       "2017-01-04  7770.0  8070.0  7770.0  8040.0  6984.419434  10642000\n",
       "2017-01-05  8100.0  8110.0  8005.0  8110.0  7045.229980  10493500\n",
       "2017-01-06  8060.0  8190.0  7965.0  8120.0  7053.915527   5400500"
      ]
     },
     "execution_count": 4,
     "metadata": {},
     "output_type": "execute_result"
    }
   ],
   "source": [
    "# Time Series Forecasting - Multivariate Time Series Models for Stock Market Prediction\n",
    "\n",
    "import math # Mathematical functions \n",
    "import numpy as np # Fundamental package for scientific computing with Python\n",
    "import pandas as pd # Additional functions for analysing and manipulating data\n",
    "from datetime import date, timedelta, datetime # Date Functions\n",
    "from pandas.plotting import register_matplotlib_converters # This function adds plotting functions for calender dates\n",
    "import matplotlib.pyplot as plt # Important package for visualization - we use this to plot the market data\n",
    "import matplotlib.dates as mdates # Formatting dates\n",
    "import tensorflow as tf\n",
    "from sklearn.metrics import mean_absolute_error, mean_squared_error # Packages for measuring model performance / errors\n",
    "from tensorflow.keras import Sequential # Deep learning library, used for neural networks\n",
    "from tensorflow.keras.layers import LSTM, Dense, Dropout # Deep learning classes for recurrent and regular densely-connected layers\n",
    "from tensorflow.keras.callbacks import EarlyStopping # EarlyStopping during model training\n",
    "from sklearn.preprocessing import RobustScaler, MinMaxScaler # This Scaler removes the median and scales the data according to the quantile range to normalize the price data \n",
    "import seaborn as sns # Visualization\n",
    "sns.set_style('white', { 'axes.spines.right': False, 'axes.spines.top': False})\n",
    "\n",
    "# Setting the timeframe for the data extraction\n",
    "\n",
    "start_date = '2017-01-01'\n",
    "end_date =  '2021-12-31'\n",
    "\n",
    "# Getting NASDAQ quotes\n",
    "stockname = 'UNVR.jk'\n",
    "symbol = 'UNVR.jk'\n",
    "\n",
    "# You can either use webreader or yfinance to load the data from yahoo finance\n",
    "# import pandas_datareader as webreader\n",
    "# df = webreader.DataReader(symbol, start=start_date, end=end_date, data_source=\"yahoo\")\n",
    "\n",
    "import yfinance as yf #Alternative package if webreader does not work: pip install yfinance\n",
    "df = yf.download(symbol, start=start_date, end=end_date)\n",
    "\n",
    "# Create a quick overview of the dataset\n",
    "df.head()"
   ]
  },
  {
   "cell_type": "markdown",
   "metadata": {
    "id": "qvzZpqG-Tinm"
   },
   "source": []
  },
  {
   "cell_type": "markdown",
   "metadata": {
    "id": "e7-v9hbD6dBi"
   },
   "source": [
    "## Feature Selection and Scaling"
   ]
  },
  {
   "cell_type": "code",
   "execution_count": 5,
   "metadata": {
    "colab": {
     "base_uri": "https://localhost:8080/",
     "height": 241
    },
    "id": "JH3ICHtG5USz",
    "outputId": "7dc085dd-842b-4025-c829-bbee83380dd1"
   },
   "outputs": [
    {
     "name": "stdout",
     "output_type": "stream",
     "text": [
      "FEATURE LIST\n",
      "['High', 'Low', 'Open', 'Close', 'Volume']\n"
     ]
    },
    {
     "data": {
      "text/html": [
       "<div>\n",
       "<style scoped>\n",
       "    .dataframe tbody tr th:only-of-type {\n",
       "        vertical-align: middle;\n",
       "    }\n",
       "\n",
       "    .dataframe tbody tr th {\n",
       "        vertical-align: top;\n",
       "    }\n",
       "\n",
       "    .dataframe thead th {\n",
       "        text-align: right;\n",
       "    }\n",
       "</style>\n",
       "<table border=\"1\" class=\"dataframe\">\n",
       "  <thead>\n",
       "    <tr style=\"text-align: right;\">\n",
       "      <th></th>\n",
       "      <th>High</th>\n",
       "      <th>Low</th>\n",
       "      <th>Open</th>\n",
       "      <th>Close</th>\n",
       "      <th>Volume</th>\n",
       "      <th>Prediction</th>\n",
       "    </tr>\n",
       "    <tr>\n",
       "      <th>Date</th>\n",
       "      <th></th>\n",
       "      <th></th>\n",
       "      <th></th>\n",
       "      <th></th>\n",
       "      <th></th>\n",
       "      <th></th>\n",
       "    </tr>\n",
       "  </thead>\n",
       "  <tbody>\n",
       "    <tr>\n",
       "      <th>2021-12-24</th>\n",
       "      <td>4210.0</td>\n",
       "      <td>4080.0</td>\n",
       "      <td>4090.0</td>\n",
       "      <td>4200.0</td>\n",
       "      <td>11979500</td>\n",
       "      <td>4200.0</td>\n",
       "    </tr>\n",
       "    <tr>\n",
       "      <th>2021-12-27</th>\n",
       "      <td>4230.0</td>\n",
       "      <td>4170.0</td>\n",
       "      <td>4200.0</td>\n",
       "      <td>4210.0</td>\n",
       "      <td>7238100</td>\n",
       "      <td>4210.0</td>\n",
       "    </tr>\n",
       "    <tr>\n",
       "      <th>2021-12-28</th>\n",
       "      <td>4230.0</td>\n",
       "      <td>4180.0</td>\n",
       "      <td>4210.0</td>\n",
       "      <td>4180.0</td>\n",
       "      <td>7006900</td>\n",
       "      <td>4180.0</td>\n",
       "    </tr>\n",
       "    <tr>\n",
       "      <th>2021-12-29</th>\n",
       "      <td>4190.0</td>\n",
       "      <td>4120.0</td>\n",
       "      <td>4180.0</td>\n",
       "      <td>4120.0</td>\n",
       "      <td>9030700</td>\n",
       "      <td>4120.0</td>\n",
       "    </tr>\n",
       "    <tr>\n",
       "      <th>2021-12-30</th>\n",
       "      <td>4170.0</td>\n",
       "      <td>4110.0</td>\n",
       "      <td>4130.0</td>\n",
       "      <td>4110.0</td>\n",
       "      <td>7633100</td>\n",
       "      <td>4110.0</td>\n",
       "    </tr>\n",
       "  </tbody>\n",
       "</table>\n",
       "</div>"
      ],
      "text/plain": [
       "              High     Low    Open   Close    Volume  Prediction\n",
       "Date                                                            \n",
       "2021-12-24  4210.0  4080.0  4090.0  4200.0  11979500      4200.0\n",
       "2021-12-27  4230.0  4170.0  4200.0  4210.0   7238100      4210.0\n",
       "2021-12-28  4230.0  4180.0  4210.0  4180.0   7006900      4180.0\n",
       "2021-12-29  4190.0  4120.0  4180.0  4120.0   9030700      4120.0\n",
       "2021-12-30  4170.0  4110.0  4130.0  4110.0   7633100      4110.0"
      ]
     },
     "execution_count": 5,
     "metadata": {},
     "output_type": "execute_result"
    }
   ],
   "source": [
    "# Indexing Batches\n",
    "train_df = df.sort_values(by=['Date']).copy()\n",
    "\n",
    "# List of considered Features\n",
    "FEATURES = ['High', 'Low', 'Open', 'Close', 'Volume'\n",
    "            #, 'Month', 'Year', 'Adj Close'\n",
    "           ]\n",
    "\n",
    "print('FEATURE LIST')\n",
    "print([f for f in FEATURES])\n",
    "\n",
    "# Create the dataset with features and filter the data to the list of FEATURES\n",
    "data = pd.DataFrame(train_df)\n",
    "data_filtered = data[FEATURES]\n",
    "\n",
    "# We add a prediction column and set dummy values to prepare the data for scaling\n",
    "data_filtered_ext = data_filtered.copy()\n",
    "data_filtered_ext['Prediction'] = data_filtered_ext['Close']\n",
    "\n",
    "# Print the tail of the dataframe\n",
    "data_filtered_ext.tail()"
   ]
  },
  {
   "cell_type": "code",
   "execution_count": 6,
   "metadata": {
    "colab": {
     "base_uri": "https://localhost:8080/"
    },
    "id": "ZE7tf-p35aiB",
    "outputId": "59340252-5f9b-4917-81c9-4dc61c702ab9"
   },
   "outputs": [
    {
     "name": "stdout",
     "output_type": "stream",
     "text": [
      "1262\n",
      "[[7.7600e+03 7.7600e+03 7.7600e+03 7.7600e+03 0.0000e+00]\n",
      " [7.8400e+03 7.7600e+03 7.8000e+03 7.7650e+03 5.0145e+06]\n",
      " [8.0700e+03 7.7700e+03 7.7700e+03 8.0400e+03 1.0642e+07]\n",
      " ...\n",
      " [4.2300e+03 4.1800e+03 4.2100e+03 4.1800e+03 7.0069e+06]\n",
      " [4.1900e+03 4.1200e+03 4.1800e+03 4.1200e+03 9.0307e+06]\n",
      " [4.1700e+03 4.1100e+03 4.1300e+03 4.1100e+03 7.6331e+06]]\n",
      "(1262, 5)\n"
     ]
    }
   ],
   "source": [
    "# Get the number of rows in the data\n",
    "nrows = data_filtered.shape[0]\n",
    "print(nrows)\n",
    "# Convert the data to numpy values\n",
    "np_data_unscaled = np.array(data_filtered)\n",
    "print(np_data_unscaled)\n",
    "np_data = np.reshape(np_data_unscaled, (nrows, -1))\n",
    "print(np_data.shape)\n",
    "\n",
    "# Transform the data by scaling each feature to a range between 0 and 1\n",
    "scaler = MinMaxScaler()\n",
    "np_data_scaled = scaler.fit_transform(np_data_unscaled)\n",
    "\n",
    "# Creating a separate scaler that works on a single column for scaling predictions\n",
    "scaler_pred = MinMaxScaler()\n",
    "df_Close = pd.DataFrame(data_filtered_ext['Close'])\n",
    "np_Close_scaled = scaler_pred.fit_transform(df_Close)"
   ]
  },
  {
   "cell_type": "code",
   "execution_count": 7,
   "metadata": {
    "colab": {
     "base_uri": "https://localhost:8080/"
    },
    "id": "dTXh5_Ex6INF",
    "outputId": "270d4a8a-199a-400b-e712-e01e0938e5ce"
   },
   "outputs": [
    {
     "data": {
      "text/plain": [
       "array([[7.7600e+03, 7.7600e+03, 7.7600e+03, 7.7600e+03, 0.0000e+00],\n",
       "       [7.8400e+03, 7.7600e+03, 7.8000e+03, 7.7650e+03, 5.0145e+06],\n",
       "       [8.0700e+03, 7.7700e+03, 7.7700e+03, 8.0400e+03, 1.0642e+07],\n",
       "       ...,\n",
       "       [4.2300e+03, 4.1800e+03, 4.2100e+03, 4.1800e+03, 7.0069e+06],\n",
       "       [4.1900e+03, 4.1200e+03, 4.1800e+03, 4.1200e+03, 9.0307e+06],\n",
       "       [4.1700e+03, 4.1100e+03, 4.1300e+03, 4.1100e+03, 7.6331e+06]])"
      ]
     },
     "execution_count": 7,
     "metadata": {},
     "output_type": "execute_result"
    }
   ],
   "source": [
    "np_data"
   ]
  },
  {
   "cell_type": "markdown",
   "metadata": {
    "id": "HErrOQbv6W4C"
   },
   "source": [
    "## Transforming the Data"
   ]
  },
  {
   "cell_type": "code",
   "execution_count": 8,
   "metadata": {
    "colab": {
     "base_uri": "https://localhost:8080/"
    },
    "id": "S4nriPMX6aTm",
    "outputId": "9f02b008-70c0-4995-fa47-86e9b48f41a7"
   },
   "outputs": [
    {
     "name": "stdout",
     "output_type": "stream",
     "text": [
      "(1009, 1, 5) (1009,)\n",
      "(252, 1, 5) (252,)\n",
      "0.5360054347826086\n",
      "0.5360054347826086\n"
     ]
    }
   ],
   "source": [
    "# Set the sequence length - this is the timeframe used to make a single prediction\n",
    "sequence_length = 1\n",
    "\n",
    "# Prediction Index\n",
    "index_Close = data.columns.get_loc(\"Close\")\n",
    "\n",
    "# Split the training data into train and train data sets\n",
    "# As a first step, we get the number of rows to train the model on 80% of the data \n",
    "train_data_len = math.ceil(np_data_scaled.shape[0] * 0.8)\n",
    "\n",
    "# Create the training and test data\n",
    "train_data = np_data_scaled[0:train_data_len, :]\n",
    "test_data = np_data_scaled[train_data_len - sequence_length:, :]\n",
    "\n",
    "# The RNN needs data with the format of [samples, time steps, features]\n",
    "# Here, we create N samples, sequence_length time steps per sample, and 6 features\n",
    "def partition_dataset(sequence_length, data):\n",
    "    x, y = [], []\n",
    "    data_len = data.shape[0]\n",
    "    for i in range(sequence_length, data_len):\n",
    "        x.append(data[i-sequence_length:i,:]) #contains sequence_length values 0-sequence_length * columsn\n",
    "        y.append(data[i, index_Close]) #contains the prediction values for validation,  for single-step prediction\n",
    "    \n",
    "    # Convert the x and y to numpy arrays\n",
    "    x = np.array(x)\n",
    "    y = np.array(y)\n",
    "    return x, y\n",
    "\n",
    "# Generate training data and test data\n",
    "x_train, y_train = partition_dataset(sequence_length, train_data)\n",
    "x_test, y_test = partition_dataset(sequence_length, test_data)\n",
    "\n",
    "# Print the shapes: the result is: (rows, training_sequence, features) (prediction value, )\n",
    "print(x_train.shape, y_train.shape)\n",
    "print(x_test.shape, y_test.shape)\n",
    "\n",
    "# Validate that the prediction value and the input match up\n",
    "# The last close price of the second input sample should equal the first prediction value\n",
    "print(x_train[1][sequence_length-1][index_Close])\n",
    "print(y_train[0])"
   ]
  },
  {
   "cell_type": "markdown",
   "metadata": {
    "id": "vcMuREaL8NQN"
   },
   "source": [
    "## Train the Multivariate Prediciton Model"
   ]
  },
  {
   "cell_type": "code",
   "execution_count": 9,
   "metadata": {
    "colab": {
     "base_uri": "https://localhost:8080/"
    },
    "id": "cBQZhAU772GH",
    "outputId": "b96990c4-b71e-4f0a-990e-91a316e993a5"
   },
   "outputs": [
    {
     "name": "stdout",
     "output_type": "stream",
     "text": [
      "5 1 5\n"
     ]
    }
   ],
   "source": [
    "# Configure the neural network model\n",
    "model = Sequential()\n",
    "\n",
    "# Model with n_neurons = inputshape Timestamps, each with x_train.shape[2] variables\n",
    "n_neurons = x_train.shape[1] * x_train.shape[2]\n",
    "print(n_neurons, x_train.shape[1], x_train.shape[2])\n",
    "model.add(LSTM(n_neurons, return_sequences=True, input_shape=(x_train.shape[1], x_train.shape[2]))) \n",
    "model.add(LSTM(n_neurons, return_sequences=False))\n",
    "model.add(Dense(5))\n",
    "model.add(Dense(1))\n",
    "\n",
    "# Compile the model\n",
    "model.compile(optimizer='adam', loss='mse')"
   ]
  },
  {
   "cell_type": "code",
   "execution_count": 10,
   "metadata": {
    "colab": {
     "base_uri": "https://localhost:8080/"
    },
    "id": "DDq5g20R8TpJ",
    "outputId": "e0e5ebbf-8e45-48dd-d895-7417f3a04536"
   },
   "outputs": [
    {
     "name": "stdout",
     "output_type": "stream",
     "text": [
      "Epoch 1/50\n",
      "64/64 [==============================] - 5s 18ms/step - loss: 0.3117 - val_loss: 0.0336\n",
      "Epoch 2/50\n",
      "64/64 [==============================] - 0s 4ms/step - loss: 0.0364 - val_loss: 0.1432\n",
      "Epoch 3/50\n",
      "64/64 [==============================] - 0s 4ms/step - loss: 0.0086 - val_loss: 0.1301\n",
      "Epoch 4/50\n",
      "64/64 [==============================] - 0s 4ms/step - loss: 0.0079 - val_loss: 0.1227\n",
      "Epoch 5/50\n",
      "64/64 [==============================] - 0s 4ms/step - loss: 0.0071 - val_loss: 0.1146\n",
      "Epoch 6/50\n",
      "64/64 [==============================] - 0s 4ms/step - loss: 0.0062 - val_loss: 0.1016\n",
      "Epoch 7/50\n",
      "64/64 [==============================] - 0s 4ms/step - loss: 0.0052 - val_loss: 0.0847\n",
      "Epoch 8/50\n",
      "64/64 [==============================] - 0s 4ms/step - loss: 0.0042 - val_loss: 0.0737\n",
      "Epoch 9/50\n",
      "64/64 [==============================] - 0s 4ms/step - loss: 0.0032 - val_loss: 0.0603\n",
      "Epoch 10/50\n",
      "64/64 [==============================] - 0s 4ms/step - loss: 0.0024 - val_loss: 0.0511\n",
      "Epoch 11/50\n",
      "64/64 [==============================] - 0s 4ms/step - loss: 0.0017 - val_loss: 0.0414\n",
      "Epoch 12/50\n",
      "64/64 [==============================] - 0s 5ms/step - loss: 0.0012 - val_loss: 0.0351\n",
      "Epoch 13/50\n",
      "64/64 [==============================] - 0s 4ms/step - loss: 8.7865e-04 - val_loss: 0.0296\n",
      "Epoch 14/50\n",
      "64/64 [==============================] - 0s 4ms/step - loss: 6.7537e-04 - val_loss: 0.0259\n",
      "Epoch 15/50\n",
      "64/64 [==============================] - 0s 4ms/step - loss: 5.6674e-04 - val_loss: 0.0234\n",
      "Epoch 16/50\n",
      "64/64 [==============================] - 0s 4ms/step - loss: 5.1971e-04 - val_loss: 0.0215\n",
      "Epoch 17/50\n",
      "64/64 [==============================] - 0s 4ms/step - loss: 4.9037e-04 - val_loss: 0.0205\n",
      "Epoch 18/50\n",
      "64/64 [==============================] - 0s 4ms/step - loss: 4.8129e-04 - val_loss: 0.0191\n",
      "Epoch 19/50\n",
      "64/64 [==============================] - 0s 4ms/step - loss: 4.8232e-04 - val_loss: 0.0188\n",
      "Epoch 20/50\n",
      "64/64 [==============================] - 0s 4ms/step - loss: 4.7238e-04 - val_loss: 0.0182\n",
      "Epoch 21/50\n",
      "64/64 [==============================] - 0s 4ms/step - loss: 4.7001e-04 - val_loss: 0.0179\n",
      "Epoch 22/50\n",
      "64/64 [==============================] - 0s 4ms/step - loss: 4.7476e-04 - val_loss: 0.0178\n",
      "Epoch 23/50\n",
      "64/64 [==============================] - 0s 4ms/step - loss: 4.7034e-04 - val_loss: 0.0174\n",
      "Epoch 24/50\n",
      "64/64 [==============================] - 0s 4ms/step - loss: 4.7779e-04 - val_loss: 0.0176\n",
      "Epoch 25/50\n",
      "64/64 [==============================] - 0s 4ms/step - loss: 4.7018e-04 - val_loss: 0.0172\n",
      "Epoch 26/50\n",
      "64/64 [==============================] - 0s 4ms/step - loss: 4.7819e-04 - val_loss: 0.0173\n",
      "Epoch 27/50\n",
      "64/64 [==============================] - 0s 4ms/step - loss: 4.6909e-04 - val_loss: 0.0167\n",
      "Epoch 28/50\n",
      "64/64 [==============================] - 0s 4ms/step - loss: 4.8060e-04 - val_loss: 0.0161\n",
      "Epoch 29/50\n",
      "64/64 [==============================] - 0s 4ms/step - loss: 4.6970e-04 - val_loss: 0.0163\n",
      "Epoch 30/50\n",
      "64/64 [==============================] - 0s 4ms/step - loss: 4.6426e-04 - val_loss: 0.0162\n",
      "Epoch 31/50\n",
      "64/64 [==============================] - 0s 4ms/step - loss: 4.6068e-04 - val_loss: 0.0161\n",
      "Epoch 32/50\n",
      "64/64 [==============================] - 0s 4ms/step - loss: 4.6024e-04 - val_loss: 0.0159\n",
      "Epoch 33/50\n",
      "64/64 [==============================] - 0s 4ms/step - loss: 4.6680e-04 - val_loss: 0.0154\n",
      "Epoch 34/50\n",
      "64/64 [==============================] - 0s 4ms/step - loss: 4.7107e-04 - val_loss: 0.0152\n",
      "Epoch 35/50\n",
      "64/64 [==============================] - 0s 4ms/step - loss: 4.7490e-04 - val_loss: 0.0153\n",
      "Epoch 36/50\n",
      "64/64 [==============================] - 0s 4ms/step - loss: 4.5706e-04 - val_loss: 0.0147\n",
      "Epoch 37/50\n",
      "64/64 [==============================] - 0s 4ms/step - loss: 4.6107e-04 - val_loss: 0.0148\n",
      "Epoch 38/50\n",
      "64/64 [==============================] - 0s 4ms/step - loss: 4.7533e-04 - val_loss: 0.0147\n",
      "Epoch 39/50\n",
      "64/64 [==============================] - 0s 4ms/step - loss: 4.5650e-04 - val_loss: 0.0142\n",
      "Epoch 40/50\n",
      "64/64 [==============================] - 0s 4ms/step - loss: 4.5271e-04 - val_loss: 0.0140\n",
      "Epoch 41/50\n",
      "64/64 [==============================] - 0s 4ms/step - loss: 4.6538e-04 - val_loss: 0.0138\n",
      "Epoch 42/50\n",
      "64/64 [==============================] - 0s 4ms/step - loss: 4.6532e-04 - val_loss: 0.0140\n",
      "Epoch 43/50\n",
      "64/64 [==============================] - 0s 4ms/step - loss: 4.5046e-04 - val_loss: 0.0133\n",
      "Epoch 44/50\n",
      "64/64 [==============================] - 0s 4ms/step - loss: 4.7528e-04 - val_loss: 0.0134\n",
      "Epoch 45/50\n",
      "64/64 [==============================] - 0s 4ms/step - loss: 4.6471e-04 - val_loss: 0.0132\n",
      "Epoch 46/50\n",
      "64/64 [==============================] - 0s 4ms/step - loss: 4.5658e-04 - val_loss: 0.0132\n",
      "Epoch 47/50\n",
      "64/64 [==============================] - 0s 4ms/step - loss: 4.4032e-04 - val_loss: 0.0130\n",
      "Epoch 48/50\n",
      "64/64 [==============================] - 0s 4ms/step - loss: 4.5236e-04 - val_loss: 0.0126\n",
      "Epoch 49/50\n",
      "64/64 [==============================] - 0s 4ms/step - loss: 4.5220e-04 - val_loss: 0.0125\n",
      "Epoch 50/50\n",
      "64/64 [==============================] - 0s 4ms/step - loss: 4.4699e-04 - val_loss: 0.0126\n"
     ]
    }
   ],
   "source": [
    "# Training the model\n",
    "epochs = 50\n",
    "batch_size = 16\n",
    "early_stop = EarlyStopping(monitor='loss', patience=5, verbose=1)\n",
    "history = model.fit(x_train, y_train, \n",
    "                    batch_size=batch_size, \n",
    "                    epochs=epochs,\n",
    "                    validation_data=(x_test, y_test)\n",
    "                   )\n",
    "                    \n",
    "                    #callbacks=[early_stop])"
   ]
  },
  {
   "cell_type": "code",
   "execution_count": 11,
   "metadata": {
    "colab": {
     "base_uri": "https://localhost:8080/",
     "height": 350
    },
    "id": "kaCCAFja8WiD",
    "outputId": "02d71c6d-5b28-45be-e39e-1ab5cc9eae72"
   },
   "outputs": [
    {
     "data": {
      "image/png": "[encoded data removed]",
      "text/plain": [
       "<Figure size 1152x360 with 1 Axes>"
      ]
     },
     "metadata": {},
     "output_type": "display_data"
    }
   ],
   "source": [
    "# Plot training & validation loss values\n",
    "fig, ax = plt.subplots(figsize=(16, 5), sharex=True)\n",
    "sns.lineplot(data=history.history[\"loss\"])\n",
    "plt.title(\"Model loss\")\n",
    "plt.ylabel(\"Loss\")\n",
    "plt.xlabel(\"Epoch\")\n",
    "ax.xaxis.set_major_locator(plt.MaxNLocator(epochs))\n",
    "plt.legend([\"Train\", \"Test\"], loc=\"upper left\")\n",
    "plt.grid()\n",
    "plt.show()"
   ]
  },
  {
   "cell_type": "markdown",
   "metadata": {
    "id": "59KO_S548paO"
   },
   "source": [
    "## Evaluate Model performance"
   ]
  },
  {
   "cell_type": "code",
   "execution_count": 12,
   "metadata": {
    "colab": {
     "base_uri": "https://localhost:8080/"
    },
    "id": "S6lrdYq38h8H",
    "outputId": "67e977e0-68a3-4a2b-973e-c6ae68ef11a3"
   },
   "outputs": [
    {
     "name": "stdout",
     "output_type": "stream",
     "text": [
      "8/8 [==============================] - 1s 2ms/step\n",
      "Root Mean Square Error (RMSE): 825.76\n",
      "Median Absolute Error (MAE): 691.86\n",
      "Mean Absolute Percentage Error (MAPE): 15.1 %\n",
      "Median Absolute Percentage Error (MDAPE): 13.3 %\n"
     ]
    }
   ],
   "source": [
    "# Get the predicted values\n",
    "y_pred_scaled = model.predict(x_test)\n",
    "\n",
    "# Unscale the predicted values\n",
    "y_pred = scaler_pred.inverse_transform(y_pred_scaled)\n",
    "y_test_unscaled = scaler_pred.inverse_transform(y_test.reshape(-1, 1))\n",
    "\n",
    "# Root Mean Square Error (RMSE)\n",
    "MSE = np.square(np.subtract(y_test_unscaled, y_pred)).mean()\n",
    "RMSE = math.sqrt(MSE)\n",
    "print(f'Root Mean Square Error (RMSE): {np.round(RMSE, 2)}')\n",
    "\n",
    "\n",
    "# Mean Absolute Error (MAE)\n",
    "MAE = mean_absolute_error(y_test_unscaled, y_pred)\n",
    "print(f'Median Absolute Error (MAE): {np.round(MAE, 2)}')\n",
    "\n",
    "# Mean Absolute Percentage Error (MAPE)\n",
    "MAPE = np.mean((np.abs(np.subtract(y_test_unscaled, y_pred)/ y_test_unscaled))) * 100\n",
    "print(f'Mean Absolute Percentage Error (MAPE): {np.round(MAPE, 2)} %')\n",
    "\n",
    "# Median Absolute Percentage Error (MDAPE)\n",
    "MDAPE = np.median((np.abs(np.subtract(y_test_unscaled, y_pred)/ y_test_unscaled)) ) * 100\n",
    "print(f'Median Absolute Percentage Error (MDAPE): {np.round(MDAPE, 2)} %')"
   ]
  },
  {
   "cell_type": "code",
   "execution_count": 17,
   "metadata": {
    "colab": {
     "base_uri": "https://localhost:8080/",
     "height": 380
    },
    "id": "34xhqG9G8rYi",
    "outputId": "ae2a4951-51c8-4ad3-bbc3-369b1fd2595c"
   },
   "outputs": [
    {
     "data": {
      "image/png": "[encoded data removed]",
      "text/plain": [
       "<Figure size 1152x576 with 1 Axes>"
      ]
     },
     "metadata": {},
     "output_type": "display_data"
    }
   ],
   "source": [
    "# The date from which on the date is displayed\n",
    "display_start_date = \"2017-01-01\"\n",
    "\n",
    "# Add the difference between the valid and predicted prices\n",
    "train = pd.DataFrame(data_filtered_ext['Close'][:train_data_len + 1]).rename(columns={'Close': 'y_train'})\n",
    "valid = pd.DataFrame(data_filtered_ext['Close'][train_data_len:]).rename(columns={'Close': 'y_test'})\n",
    "valid.insert(1, \"y_pred\", y_pred, True)\n",
    "valid.insert(1, \"residuals\", valid[\"y_pred\"] - valid[\"y_test\"], True)\n",
    "df_union = pd.concat([train, valid])\n",
    "\n",
    "# Zoom in to a closer timeframe\n",
    "df_union_zoom = df_union[df_union.index > display_start_date]\n",
    "\n",
    "# Create the lineplot\n",
    "fig, ax1 = plt.subplots(figsize=(16, 8))\n",
    "plt.title(\"Predict Data vs Test Data\")\n",
    "\n",
    "sns.set_palette([\"#FF0000\", \"#1960EF\", \"#00FF00\"])\n",
    "sns.lineplot(data=df_union_zoom[['y_pred', 'y_train', 'y_test']], linewidth=1.0, dashes=False, ax=ax1)\n",
    "\n",
    "# Create the bar plot with the differences\n",
    "# df_sub = [\"#2BC97A\" if x > 0 else \"#C92B2B\" for x in df_union_zoom[\"residuals\"].dropna()]\n",
    "# ax1.bar(height=df_union_zoom['residuals'].dropna(), x=df_union_zoom['residuals'].dropna().index, width=3, label='residuals', color=df_sub)\n",
    "\n",
    "plt.legend()\n",
    "plt.show()"
   ]
  },
  {
   "cell_type": "code",
   "execution_count": null,
   "metadata": {
    "id": "2P6qwZrW8u-W"
   },
   "outputs": [],
   "source": []
  }
 ],
 "metadata": {
  "colab": {
   "collapsed_sections": [],
   "provenance": []
  },
  "kernelspec": {
   "display_name": "Python 3 (ipykernel)",
   "language": "python",
   "name": "python3"
  },
  "language_info": {
   "codemirror_mode": {
    "name": "ipython",
    "version": 3
   },
   "file_extension": ".py",
   "mimetype": "text/x-python",
   "name": "python",
   "nbconvert_exporter": "python",
   "pygments_lexer": "ipython3",
   "version": "3.9.12"
  }
 },
 "nbformat": 4,
 "nbformat_minor": 1
}
