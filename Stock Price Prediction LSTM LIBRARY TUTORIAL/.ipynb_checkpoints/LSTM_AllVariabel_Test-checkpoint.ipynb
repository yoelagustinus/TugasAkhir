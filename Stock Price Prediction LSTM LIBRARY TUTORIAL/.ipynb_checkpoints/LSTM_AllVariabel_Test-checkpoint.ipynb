{
 "cells": [
  {
   "cell_type": "markdown",
   "metadata": {
    "id": "DjVETfWh5ksz"
   },
   "source": [
    "By: https://www.relataly.com/stock-market-prediction-using-multivariate-time-series-in-python/1815/\n",
    "\n",
    "## Load the Time Series Data"
   ]
  },
  {
   "cell_type": "code",
   "execution_count": 1,
   "metadata": {
    "colab": {
     "base_uri": "https://localhost:8080/",
     "height": 424
    },
    "id": "kPwzikVX49b5",
    "outputId": "e377c0a8-e840-480e-ea26-8ac9a42ec435"
   },
   "outputs": [
    {
     "name": "stdout",
     "output_type": "stream",
     "text": [
      "[*********************100%***********************]  1 of 1 completed\n"
     ]
    },
    {
     "data": {
      "text/html": [
       "<div>\n",
       "<style scoped>\n",
       "    .dataframe tbody tr th:only-of-type {\n",
       "        vertical-align: middle;\n",
       "    }\n",
       "\n",
       "    .dataframe tbody tr th {\n",
       "        vertical-align: top;\n",
       "    }\n",
       "\n",
       "    .dataframe thead th {\n",
       "        text-align: right;\n",
       "    }\n",
       "</style>\n",
       "<table border=\"1\" class=\"dataframe\">\n",
       "  <thead>\n",
       "    <tr style=\"text-align: right;\">\n",
       "      <th></th>\n",
       "      <th>Open</th>\n",
       "      <th>High</th>\n",
       "      <th>Low</th>\n",
       "      <th>Close</th>\n",
       "      <th>Adj Close</th>\n",
       "      <th>Volume</th>\n",
       "    </tr>\n",
       "    <tr>\n",
       "      <th>Date</th>\n",
       "      <th></th>\n",
       "      <th></th>\n",
       "      <th></th>\n",
       "      <th></th>\n",
       "      <th></th>\n",
       "      <th></th>\n",
       "    </tr>\n",
       "  </thead>\n",
       "  <tbody>\n",
       "    <tr>\n",
       "      <th>2017-01-02</th>\n",
       "      <td>7760.0</td>\n",
       "      <td>7760.0</td>\n",
       "      <td>7760.0</td>\n",
       "      <td>7760.0</td>\n",
       "      <td>6741.181152</td>\n",
       "      <td>0</td>\n",
       "    </tr>\n",
       "    <tr>\n",
       "      <th>2017-01-03</th>\n",
       "      <td>7800.0</td>\n",
       "      <td>7840.0</td>\n",
       "      <td>7760.0</td>\n",
       "      <td>7765.0</td>\n",
       "      <td>6745.525391</td>\n",
       "      <td>5014500</td>\n",
       "    </tr>\n",
       "    <tr>\n",
       "      <th>2017-01-04</th>\n",
       "      <td>7770.0</td>\n",
       "      <td>8070.0</td>\n",
       "      <td>7770.0</td>\n",
       "      <td>8040.0</td>\n",
       "      <td>6984.418945</td>\n",
       "      <td>10642000</td>\n",
       "    </tr>\n",
       "    <tr>\n",
       "      <th>2017-01-05</th>\n",
       "      <td>8100.0</td>\n",
       "      <td>8110.0</td>\n",
       "      <td>8005.0</td>\n",
       "      <td>8110.0</td>\n",
       "      <td>7045.229004</td>\n",
       "      <td>10493500</td>\n",
       "    </tr>\n",
       "    <tr>\n",
       "      <th>2017-01-06</th>\n",
       "      <td>8060.0</td>\n",
       "      <td>8190.0</td>\n",
       "      <td>7965.0</td>\n",
       "      <td>8120.0</td>\n",
       "      <td>7053.916016</td>\n",
       "      <td>5400500</td>\n",
       "    </tr>\n",
       "  </tbody>\n",
       "</table>\n",
       "</div>"
      ],
      "text/plain": [
       "              Open    High     Low   Close    Adj Close    Volume\n",
       "Date                                                             \n",
       "2017-01-02  7760.0  7760.0  7760.0  7760.0  6741.181152         0\n",
       "2017-01-03  7800.0  7840.0  7760.0  7765.0  6745.525391   5014500\n",
       "2017-01-04  7770.0  8070.0  7770.0  8040.0  6984.418945  10642000\n",
       "2017-01-05  8100.0  8110.0  8005.0  8110.0  7045.229004  10493500\n",
       "2017-01-06  8060.0  8190.0  7965.0  8120.0  7053.916016   5400500"
      ]
     },
     "execution_count": 1,
     "metadata": {},
     "output_type": "execute_result"
    }
   ],
   "source": [
    "# Time Series Forecasting - Multivariate Time Series Models for Stock Market Prediction\n",
    "\n",
    "import math # Mathematical functions \n",
    "import numpy as np # Fundamental package for scientific computing with Python\n",
    "import pandas as pd # Additional functions for analysing and manipulating data\n",
    "from datetime import date, timedelta, datetime # Date Functions\n",
    "from pandas.plotting import register_matplotlib_converters # This function adds plotting functions for calender dates\n",
    "import matplotlib.pyplot as plt # Important package for visualization - we use this to plot the market data\n",
    "import matplotlib.dates as mdates # Formatting dates\n",
    "import tensorflow as tf\n",
    "from sklearn.metrics import mean_absolute_error, mean_squared_error # Packages for measuring model performance / errors\n",
    "from tensorflow.keras import Sequential # Deep learning library, used for neural networks\n",
    "from tensorflow.keras.layers import LSTM, Dense, Dropout # Deep learning classes for recurrent and regular densely-connected layers\n",
    "from tensorflow.keras.callbacks import EarlyStopping # EarlyStopping during model training\n",
    "from sklearn.preprocessing import RobustScaler, MinMaxScaler # This Scaler removes the median and scales the data according to the quantile range to normalize the price data \n",
    "import seaborn as sns # Visualization\n",
    "sns.set_style('white', { 'axes.spines.right': False, 'axes.spines.top': False})\n",
    "\n",
    "# Setting the timeframe for the data extraction\n",
    "\n",
    "start_date = '2017-01-01'\n",
    "end_date =  '2021-12-31'\n",
    "\n",
    "# Getting NASDAQ quotes\n",
    "stockname = 'UNVR.jk'\n",
    "symbol = 'UNVR.jk'\n",
    "\n",
    "# You can either use webreader or yfinance to load the data from yahoo finance\n",
    "# import pandas_datareader as webreader\n",
    "# df = webreader.DataReader(symbol, start=start_date, end=end_date, data_source=\"yahoo\")\n",
    "\n",
    "import yfinance as yf #Alternative package if webreader does not work: pip install yfinance\n",
    "df = yf.download(symbol, start=start_date, end=end_date)\n",
    "\n",
    "# Create a quick overview of the dataset\n",
    "df.head()"
   ]
  },
  {
   "cell_type": "markdown",
   "metadata": {
    "id": "qvzZpqG-Tinm"
   },
   "source": []
  },
  {
   "cell_type": "markdown",
   "metadata": {
    "id": "e7-v9hbD6dBi"
   },
   "source": [
    "## Feature Selection and Scaling"
   ]
  },
  {
   "cell_type": "code",
   "execution_count": 2,
   "metadata": {
    "colab": {
     "base_uri": "https://localhost:8080/",
     "height": 241
    },
    "id": "JH3ICHtG5USz",
    "outputId": "7dc085dd-842b-4025-c829-bbee83380dd1"
   },
   "outputs": [
    {
     "name": "stdout",
     "output_type": "stream",
     "text": [
      "FEATURE LIST\n",
      "['High', 'Low', 'Open', 'Close', 'Volume']\n"
     ]
    },
    {
     "data": {
      "text/html": [
       "<div>\n",
       "<style scoped>\n",
       "    .dataframe tbody tr th:only-of-type {\n",
       "        vertical-align: middle;\n",
       "    }\n",
       "\n",
       "    .dataframe tbody tr th {\n",
       "        vertical-align: top;\n",
       "    }\n",
       "\n",
       "    .dataframe thead th {\n",
       "        text-align: right;\n",
       "    }\n",
       "</style>\n",
       "<table border=\"1\" class=\"dataframe\">\n",
       "  <thead>\n",
       "    <tr style=\"text-align: right;\">\n",
       "      <th></th>\n",
       "      <th>High</th>\n",
       "      <th>Low</th>\n",
       "      <th>Open</th>\n",
       "      <th>Close</th>\n",
       "      <th>Volume</th>\n",
       "      <th>Prediction</th>\n",
       "    </tr>\n",
       "    <tr>\n",
       "      <th>Date</th>\n",
       "      <th></th>\n",
       "      <th></th>\n",
       "      <th></th>\n",
       "      <th></th>\n",
       "      <th></th>\n",
       "      <th></th>\n",
       "    </tr>\n",
       "  </thead>\n",
       "  <tbody>\n",
       "    <tr>\n",
       "      <th>2021-12-24</th>\n",
       "      <td>4210.0</td>\n",
       "      <td>4080.0</td>\n",
       "      <td>4090.0</td>\n",
       "      <td>4200.0</td>\n",
       "      <td>11979500</td>\n",
       "      <td>4200.0</td>\n",
       "    </tr>\n",
       "    <tr>\n",
       "      <th>2021-12-27</th>\n",
       "      <td>4230.0</td>\n",
       "      <td>4170.0</td>\n",
       "      <td>4200.0</td>\n",
       "      <td>4210.0</td>\n",
       "      <td>7238100</td>\n",
       "      <td>4210.0</td>\n",
       "    </tr>\n",
       "    <tr>\n",
       "      <th>2021-12-28</th>\n",
       "      <td>4230.0</td>\n",
       "      <td>4180.0</td>\n",
       "      <td>4210.0</td>\n",
       "      <td>4180.0</td>\n",
       "      <td>7006900</td>\n",
       "      <td>4180.0</td>\n",
       "    </tr>\n",
       "    <tr>\n",
       "      <th>2021-12-29</th>\n",
       "      <td>4190.0</td>\n",
       "      <td>4120.0</td>\n",
       "      <td>4180.0</td>\n",
       "      <td>4120.0</td>\n",
       "      <td>9030700</td>\n",
       "      <td>4120.0</td>\n",
       "    </tr>\n",
       "    <tr>\n",
       "      <th>2021-12-30</th>\n",
       "      <td>4170.0</td>\n",
       "      <td>4110.0</td>\n",
       "      <td>4130.0</td>\n",
       "      <td>4110.0</td>\n",
       "      <td>7633100</td>\n",
       "      <td>4110.0</td>\n",
       "    </tr>\n",
       "  </tbody>\n",
       "</table>\n",
       "</div>"
      ],
      "text/plain": [
       "              High     Low    Open   Close    Volume  Prediction\n",
       "Date                                                            \n",
       "2021-12-24  4210.0  4080.0  4090.0  4200.0  11979500      4200.0\n",
       "2021-12-27  4230.0  4170.0  4200.0  4210.0   7238100      4210.0\n",
       "2021-12-28  4230.0  4180.0  4210.0  4180.0   7006900      4180.0\n",
       "2021-12-29  4190.0  4120.0  4180.0  4120.0   9030700      4120.0\n",
       "2021-12-30  4170.0  4110.0  4130.0  4110.0   7633100      4110.0"
      ]
     },
     "execution_count": 2,
     "metadata": {},
     "output_type": "execute_result"
    }
   ],
   "source": [
    "# Indexing Batches\n",
    "train_df = df.sort_values(by=['Date']).copy()\n",
    "\n",
    "# List of considered Features\n",
    "FEATURES = ['High', 'Low', 'Open', 'Close', 'Volume'\n",
    "            #, 'Month', 'Year', 'Adj Close'\n",
    "           ]\n",
    "\n",
    "print('FEATURE LIST')\n",
    "print([f for f in FEATURES])\n",
    "\n",
    "# Create the dataset with features and filter the data to the list of FEATURES\n",
    "data = pd.DataFrame(train_df)\n",
    "data_filtered = data[FEATURES]\n",
    "\n",
    "# We add a prediction column and set dummy values to prepare the data for scaling\n",
    "data_filtered_ext = data_filtered.copy()\n",
    "data_filtered_ext['Prediction'] = data_filtered_ext['Close']\n",
    "\n",
    "# Print the tail of the dataframe\n",
    "data_filtered_ext.tail()"
   ]
  },
  {
   "cell_type": "code",
   "execution_count": 3,
   "metadata": {
    "colab": {
     "base_uri": "https://localhost:8080/"
    },
    "id": "ZE7tf-p35aiB",
    "outputId": "59340252-5f9b-4917-81c9-4dc61c702ab9"
   },
   "outputs": [
    {
     "name": "stdout",
     "output_type": "stream",
     "text": [
      "1262\n",
      "[[7.7600e+03 7.7600e+03 7.7600e+03 7.7600e+03 0.0000e+00]\n",
      " [7.8400e+03 7.7600e+03 7.8000e+03 7.7650e+03 5.0145e+06]\n",
      " [8.0700e+03 7.7700e+03 7.7700e+03 8.0400e+03 1.0642e+07]\n",
      " ...\n",
      " [4.2300e+03 4.1800e+03 4.2100e+03 4.1800e+03 7.0069e+06]\n",
      " [4.1900e+03 4.1200e+03 4.1800e+03 4.1200e+03 9.0307e+06]\n",
      " [4.1700e+03 4.1100e+03 4.1300e+03 4.1100e+03 7.6331e+06]]\n",
      "(1262, 5)\n"
     ]
    }
   ],
   "source": [
    "# Get the number of rows in the data\n",
    "nrows = data_filtered.shape[0]\n",
    "print(nrows)\n",
    "# Convert the data to numpy values\n",
    "np_data_unscaled = np.array(data_filtered)\n",
    "print(np_data_unscaled)\n",
    "np_data = np.reshape(np_data_unscaled, (nrows, -1))\n",
    "print(np_data.shape)\n",
    "\n",
    "# Transform the data by scaling each feature to a range between 0 and 1\n",
    "scaler = MinMaxScaler(feature_range=(0,1))\n",
    "np_data_scaled = scaler.fit_transform(np_data_unscaled)\n",
    "\n",
    "# Creating a separate scaler that works on a single column for scaling predictions\n",
    "scaler_pred = MinMaxScaler(feature_range=(0,1))\n",
    "df_Close = pd.DataFrame(data_filtered_ext['Close'])\n",
    "np_Close_scaled = scaler_pred.fit_transform(df_Close)"
   ]
  },
  {
   "cell_type": "code",
   "execution_count": 4,
   "metadata": {
    "colab": {
     "base_uri": "https://localhost:8080/"
    },
    "id": "dTXh5_Ex6INF",
    "outputId": "270d4a8a-199a-400b-e712-e01e0938e5ce"
   },
   "outputs": [
    {
     "data": {
      "text/plain": [
       "array([[7.7600e+03, 7.7600e+03, 7.7600e+03, 7.7600e+03, 0.0000e+00],\n",
       "       [7.8400e+03, 7.7600e+03, 7.8000e+03, 7.7650e+03, 5.0145e+06],\n",
       "       [8.0700e+03, 7.7700e+03, 7.7700e+03, 8.0400e+03, 1.0642e+07],\n",
       "       ...,\n",
       "       [4.2300e+03, 4.1800e+03, 4.2100e+03, 4.1800e+03, 7.0069e+06],\n",
       "       [4.1900e+03, 4.1200e+03, 4.1800e+03, 4.1200e+03, 9.0307e+06],\n",
       "       [4.1700e+03, 4.1100e+03, 4.1300e+03, 4.1100e+03, 7.6331e+06]])"
      ]
     },
     "execution_count": 4,
     "metadata": {},
     "output_type": "execute_result"
    }
   ],
   "source": [
    "np_data"
   ]
  },
  {
   "cell_type": "markdown",
   "metadata": {
    "id": "HErrOQbv6W4C"
   },
   "source": [
    "## Transforming the Data"
   ]
  },
  {
   "cell_type": "code",
   "execution_count": 5,
   "metadata": {
    "colab": {
     "base_uri": "https://localhost:8080/"
    },
    "id": "S4nriPMX6aTm",
    "outputId": "9f02b008-70c0-4995-fa47-86e9b48f41a7"
   },
   "outputs": [
    {
     "name": "stdout",
     "output_type": "stream",
     "text": [
      "(1009, 1, 5) (1009,)\n",
      "(252, 1, 5) (252,)\n",
      "0.5360054347826086\n",
      "0.5360054347826086\n"
     ]
    }
   ],
   "source": [
    "# Set the sequence length - this is the timeframe used to make a single prediction\n",
    "sequence_length = 1\n",
    "\n",
    "# Prediction Index\n",
    "index_Close = data.columns.get_loc(\"Close\")\n",
    "\n",
    "# Split the training data into train and train data sets\n",
    "# As a first step, we get the number of rows to train the model on 80% of the data \n",
    "train_data_len = math.ceil(np_data_scaled.shape[0] * 0.8)\n",
    "\n",
    "# Create the training and test data\n",
    "train_data = np_data_scaled[0:train_data_len, :]\n",
    "test_data = np_data_scaled[train_data_len - sequence_length:, :]\n",
    "\n",
    "# The RNN needs data with the format of [samples, time steps, features]\n",
    "# Here, we create N samples, sequence_length time steps per sample, and 6 features\n",
    "def partition_dataset(sequence_length, data):\n",
    "    x, y = [], []\n",
    "    data_len = data.shape[0]\n",
    "    for i in range(sequence_length, data_len):\n",
    "        x.append(data[i-sequence_length:i,:]) #contains sequence_length values 0-sequence_length * columsn\n",
    "        y.append(data[i, index_Close]) #contains the prediction values for validation,  for single-step prediction\n",
    "    \n",
    "    # Convert the x and y to numpy arrays\n",
    "    x = np.array(x)\n",
    "    y = np.array(y)\n",
    "    return x, y\n",
    "\n",
    "# Generate training data and test data\n",
    "x_train, y_train = partition_dataset(sequence_length, train_data)\n",
    "x_test, y_test = partition_dataset(sequence_length, test_data)\n",
    "\n",
    "# Print the shapes: the result is: (rows, training_sequence, features) (prediction value, )\n",
    "print(x_train.shape, y_train.shape)\n",
    "print(x_test.shape, y_test.shape)\n",
    "\n",
    "# Validate that the prediction value and the input match up\n",
    "# The last close price of the second input sample should equal the first prediction value\n",
    "print(x_train[1][sequence_length-1][index_Close])\n",
    "print(y_train[0])"
   ]
  },
  {
   "cell_type": "markdown",
   "metadata": {
    "id": "vcMuREaL8NQN"
   },
   "source": [
    "## Train the Multivariate Prediciton Model"
   ]
  },
  {
   "cell_type": "code",
   "execution_count": 6,
   "metadata": {
    "colab": {
     "base_uri": "https://localhost:8080/"
    },
    "id": "cBQZhAU772GH",
    "outputId": "b96990c4-b71e-4f0a-990e-91a316e993a5"
   },
   "outputs": [
    {
     "name": "stdout",
     "output_type": "stream",
     "text": [
      "5 1 5\n"
     ]
    }
   ],
   "source": [
    "# Configure the neural network model\n",
    "model = Sequential()\n",
    "\n",
    "# Model with n_neurons = inputshape Timestamps, each with x_train.shape[2] variables\n",
    "n_neurons = x_train.shape[1] * x_train.shape[2]\n",
    "print(n_neurons, x_train.shape[1], x_train.shape[2])\n",
    "model.add(LSTM(n_neurons, return_sequences=True, input_shape=(x_train.shape[1], x_train.shape[2]))) \n",
    "model.add(LSTM(n_neurons, return_sequences=False))\n",
    "model.add(Dense(5))\n",
    "model.add(Dense(1))\n",
    "\n",
    "# Compile the model\n",
    "model.compile(optimizer='adam', loss='mse')"
   ]
  },
  {
   "cell_type": "code",
   "execution_count": 7,
   "metadata": {
    "colab": {
     "base_uri": "https://localhost:8080/"
    },
    "id": "DDq5g20R8TpJ",
    "outputId": "e0e5ebbf-8e45-48dd-d895-7417f3a04536"
   },
   "outputs": [
    {
     "name": "stdout",
     "output_type": "stream",
     "text": [
      "Epoch 1/50\n",
      "64/64 [==============================] - 4s 12ms/step - loss: 0.2826 - val_loss: 0.0419\n",
      "Epoch 2/50\n",
      "64/64 [==============================] - 0s 2ms/step - loss: 0.0263 - val_loss: 0.1516\n",
      "Epoch 3/50\n",
      "64/64 [==============================] - 0s 2ms/step - loss: 0.0091 - val_loss: 0.1358\n",
      "Epoch 4/50\n",
      "64/64 [==============================] - 0s 2ms/step - loss: 0.0081 - val_loss: 0.1221\n",
      "Epoch 5/50\n",
      "64/64 [==============================] - 0s 2ms/step - loss: 0.0071 - val_loss: 0.1072\n",
      "Epoch 6/50\n",
      "64/64 [==============================] - 0s 2ms/step - loss: 0.0059 - val_loss: 0.0950\n",
      "Epoch 7/50\n",
      "64/64 [==============================] - 0s 2ms/step - loss: 0.0048 - val_loss: 0.0785\n",
      "Epoch 8/50\n",
      "64/64 [==============================] - 0s 2ms/step - loss: 0.0036 - val_loss: 0.0638\n",
      "Epoch 9/50\n",
      "64/64 [==============================] - 0s 2ms/step - loss: 0.0026 - val_loss: 0.0523\n",
      "Epoch 10/50\n",
      "64/64 [==============================] - 0s 2ms/step - loss: 0.0018 - val_loss: 0.0404\n",
      "Epoch 11/50\n",
      "64/64 [==============================] - 0s 2ms/step - loss: 0.0012 - val_loss: 0.0317\n",
      "Epoch 12/50\n",
      "64/64 [==============================] - 0s 2ms/step - loss: 8.3339e-04 - val_loss: 0.0257\n",
      "Epoch 13/50\n",
      "64/64 [==============================] - 0s 2ms/step - loss: 6.4299e-04 - val_loss: 0.0222\n",
      "Epoch 14/50\n",
      "64/64 [==============================] - 0s 2ms/step - loss: 5.3401e-04 - val_loss: 0.0194\n",
      "Epoch 15/50\n",
      "64/64 [==============================] - 0s 2ms/step - loss: 4.9480e-04 - val_loss: 0.0178\n",
      "Epoch 16/50\n",
      "64/64 [==============================] - 0s 2ms/step - loss: 4.8148e-04 - val_loss: 0.0165\n",
      "Epoch 17/50\n",
      "64/64 [==============================] - 0s 2ms/step - loss: 4.6949e-04 - val_loss: 0.0163\n",
      "Epoch 18/50\n",
      "64/64 [==============================] - 0s 2ms/step - loss: 4.6313e-04 - val_loss: 0.0159\n",
      "Epoch 19/50\n",
      "64/64 [==============================] - 0s 2ms/step - loss: 4.6151e-04 - val_loss: 0.0151\n",
      "Epoch 20/50\n",
      "64/64 [==============================] - 0s 2ms/step - loss: 4.6594e-04 - val_loss: 0.0154\n",
      "Epoch 21/50\n",
      "64/64 [==============================] - 0s 2ms/step - loss: 4.6901e-04 - val_loss: 0.0149\n",
      "Epoch 22/50\n",
      "64/64 [==============================] - 0s 2ms/step - loss: 4.5377e-04 - val_loss: 0.0152\n",
      "Epoch 23/50\n",
      "64/64 [==============================] - 0s 2ms/step - loss: 4.5101e-04 - val_loss: 0.0146\n",
      "Epoch 24/50\n",
      "64/64 [==============================] - 0s 2ms/step - loss: 4.6496e-04 - val_loss: 0.0147\n",
      "Epoch 25/50\n",
      "64/64 [==============================] - 0s 3ms/step - loss: 4.7398e-04 - val_loss: 0.0146\n",
      "Epoch 26/50\n",
      "64/64 [==============================] - 0s 2ms/step - loss: 4.4680e-04 - val_loss: 0.0143\n",
      "Epoch 27/50\n",
      "64/64 [==============================] - 0s 2ms/step - loss: 4.4206e-04 - val_loss: 0.0144\n",
      "Epoch 28/50\n",
      "64/64 [==============================] - 0s 2ms/step - loss: 4.4575e-04 - val_loss: 0.0142\n",
      "Epoch 29/50\n",
      "64/64 [==============================] - 0s 2ms/step - loss: 4.4975e-04 - val_loss: 0.0139\n",
      "Epoch 30/50\n",
      "64/64 [==============================] - 0s 2ms/step - loss: 4.4388e-04 - val_loss: 0.0139\n",
      "Epoch 31/50\n",
      "64/64 [==============================] - 0s 2ms/step - loss: 4.4661e-04 - val_loss: 0.0136\n",
      "Epoch 32/50\n",
      "64/64 [==============================] - 0s 2ms/step - loss: 4.4422e-04 - val_loss: 0.0135\n",
      "Epoch 33/50\n",
      "64/64 [==============================] - 0s 2ms/step - loss: 4.3746e-04 - val_loss: 0.0131\n",
      "Epoch 34/50\n",
      "64/64 [==============================] - 0s 2ms/step - loss: 4.3668e-04 - val_loss: 0.0129\n",
      "Epoch 35/50\n",
      "64/64 [==============================] - 0s 2ms/step - loss: 4.4647e-04 - val_loss: 0.0131\n",
      "Epoch 36/50\n",
      "64/64 [==============================] - 0s 2ms/step - loss: 4.3266e-04 - val_loss: 0.0130\n",
      "Epoch 37/50\n",
      "64/64 [==============================] - 0s 2ms/step - loss: 4.6250e-04 - val_loss: 0.0124\n",
      "Epoch 38/50\n",
      "64/64 [==============================] - 0s 2ms/step - loss: 4.5192e-04 - val_loss: 0.0123\n",
      "Epoch 39/50\n",
      "64/64 [==============================] - 0s 2ms/step - loss: 4.3987e-04 - val_loss: 0.0122\n",
      "Epoch 40/50\n",
      "64/64 [==============================] - 0s 2ms/step - loss: 4.3407e-04 - val_loss: 0.0120\n",
      "Epoch 41/50\n",
      "64/64 [==============================] - 0s 2ms/step - loss: 4.4281e-04 - val_loss: 0.0118\n",
      "Epoch 42/50\n",
      "64/64 [==============================] - 0s 2ms/step - loss: 4.3429e-04 - val_loss: 0.0122\n",
      "Epoch 43/50\n",
      "64/64 [==============================] - 0s 2ms/step - loss: 4.4023e-04 - val_loss: 0.0119\n",
      "Epoch 44/50\n",
      "64/64 [==============================] - 0s 2ms/step - loss: 4.3821e-04 - val_loss: 0.0117\n",
      "Epoch 45/50\n",
      "64/64 [==============================] - 0s 2ms/step - loss: 4.4202e-04 - val_loss: 0.0118\n",
      "Epoch 46/50\n",
      "64/64 [==============================] - 0s 2ms/step - loss: 4.4007e-04 - val_loss: 0.0109\n",
      "Epoch 47/50\n",
      "64/64 [==============================] - 0s 2ms/step - loss: 4.3789e-04 - val_loss: 0.0108\n",
      "Epoch 48/50\n",
      "64/64 [==============================] - 0s 2ms/step - loss: 4.4839e-04 - val_loss: 0.0110\n",
      "Epoch 49/50\n",
      "64/64 [==============================] - 0s 2ms/step - loss: 4.3835e-04 - val_loss: 0.0111\n",
      "Epoch 50/50\n",
      "64/64 [==============================] - 0s 2ms/step - loss: 4.3357e-04 - val_loss: 0.0104\n"
     ]
    }
   ],
   "source": [
    "# Training the model\n",
    "epochs = 50\n",
    "batch_size = 16\n",
    "early_stop = EarlyStopping(monitor='loss', patience=5, verbose=1)\n",
    "history = model.fit(x_train, y_train, \n",
    "                    batch_size=batch_size, \n",
    "                    epochs=epochs,\n",
    "                    validation_data=(x_test, y_test)\n",
    "                   )\n",
    "                    \n",
    "                    #callbacks=[early_stop])"
   ]
  },
  {
   "cell_type": "code",
   "execution_count": 8,
   "metadata": {
    "colab": {
     "base_uri": "https://localhost:8080/",
     "height": 350
    },
    "id": "kaCCAFja8WiD",
    "outputId": "02d71c6d-5b28-45be-e39e-1ab5cc9eae72"
   },
   "outputs": [
    {
     "data": {
      "image/png": "[encoded data removed]",
      "text/plain": [
       "<Figure size 1152x360 with 1 Axes>"
      ]
     },
     "metadata": {},
     "output_type": "display_data"
    }
   ],
   "source": [
    "# Plot training & validation loss values\n",
    "# fig, ax = plt.subplots(figsize=(16, 5), sharex=True)\n",
    "# sns.lineplot(data=history.history[\"loss\"])\n",
    "# plt.title(\"Model loss\")\n",
    "# plt.ylabel(\"Loss\")\n",
    "# plt.xlabel(\"Epoch\")\n",
    "# ax.xaxis.set_major_locator(plt.MaxNLocator(epochs))\n",
    "# plt.legend([\"Train\", \"Test\"], loc=\"upper left\")\n",
    "# plt.grid()\n",
    "# plt.show()"
   ]
  },
  {
   "cell_type": "code",
   "execution_count": 11,
   "metadata": {},
   "outputs": [
    {
     "data": {
      "text/plain": [
       "array([[0.5133503 ],\n",
       "       [0.500964  ],\n",
       "       [0.48626655],\n",
       "       [0.4897312 ],\n",
       "       [0.4858511 ],\n",
       "       [0.4884224 ],\n",
       "       [0.48825562],\n",
       "       [0.48832193],\n",
       "       [0.46739125],\n",
       "       [0.4590339 ],\n",
       "       [0.4584294 ],\n",
       "       [0.4597662 ],\n",
       "       [0.4566812 ],\n",
       "       [0.44539362],\n",
       "       [0.4396237 ],\n",
       "       [0.4349691 ],\n",
       "       [0.45368132],\n",
       "       [0.5041388 ],\n",
       "       [0.4896562 ],\n",
       "       [0.48358837],\n",
       "       [0.47282702],\n",
       "       [0.45637494],\n",
       "       [0.47161853],\n",
       "       [0.45814383],\n",
       "       [0.4412362 ],\n",
       "       [0.43744758],\n",
       "       [0.43043604],\n",
       "       [0.44138595],\n",
       "       [0.45343837],\n",
       "       [0.4659978 ],\n",
       "       [0.46898317],\n",
       "       [0.45663494],\n",
       "       [0.44930753],\n",
       "       [0.4494613 ],\n",
       "       [0.45569956],\n",
       "       [0.44919667],\n",
       "       [0.44368207],\n",
       "       [0.44323078],\n",
       "       [0.4416384 ],\n",
       "       [0.43197462],\n",
       "       [0.42978996],\n",
       "       [0.42227775],\n",
       "       [0.42637938],\n",
       "       [0.417319  ],\n",
       "       [0.41660288],\n",
       "       [0.4252502 ],\n",
       "       [0.4138286 ],\n",
       "       [0.42053008],\n",
       "       [0.41501597],\n",
       "       [0.4075245 ],\n",
       "       [0.4055704 ],\n",
       "       [0.39077705],\n",
       "       [0.392566  ],\n",
       "       [0.39920288],\n",
       "       [0.39853042],\n",
       "       [0.3923928 ],\n",
       "       [0.38732344],\n",
       "       [0.38927794],\n",
       "       [0.39610592],\n",
       "       [0.40840173],\n",
       "       [0.40914768],\n",
       "       [0.39837375],\n",
       "       [0.3922038 ],\n",
       "       [0.40014845],\n",
       "       [0.40156645],\n",
       "       [0.3951486 ],\n",
       "       [0.38633263],\n",
       "       [0.39539543],\n",
       "       [0.38915753],\n",
       "       [0.38386232],\n",
       "       [0.38512433],\n",
       "       [0.3984586 ],\n",
       "       [0.3885114 ],\n",
       "       [0.37361333],\n",
       "       [0.35779703],\n",
       "       [0.36238778],\n",
       "       [0.36545712],\n",
       "       [0.36842853],\n",
       "       [0.36417514],\n",
       "       [0.35580623],\n",
       "       [0.3483336 ],\n",
       "       [0.34574887],\n",
       "       [0.34305483],\n",
       "       [0.34795398],\n",
       "       [0.34463382],\n",
       "       [0.33929664],\n",
       "       [0.33898824],\n",
       "       [0.33376193],\n",
       "       [0.3301676 ],\n",
       "       [0.31485248],\n",
       "       [0.31507388],\n",
       "       [0.2982394 ],\n",
       "       [0.29251394],\n",
       "       [0.30182981],\n",
       "       [0.30474037],\n",
       "       [0.2984198 ],\n",
       "       [0.29834288],\n",
       "       [0.28937703],\n",
       "       [0.29294017],\n",
       "       [0.3002348 ],\n",
       "       [0.30351472],\n",
       "       [0.30274716],\n",
       "       [0.30595395],\n",
       "       [0.30847877],\n",
       "       [0.31384096],\n",
       "       [0.31794614],\n",
       "       [0.31002325],\n",
       "       [0.30808663],\n",
       "       [0.3038317 ],\n",
       "       [0.29094818],\n",
       "       [0.27484405],\n",
       "       [0.27709132],\n",
       "       [0.27282834],\n",
       "       [0.2761226 ],\n",
       "       [0.26428902],\n",
       "       [0.26468304],\n",
       "       [0.26085183],\n",
       "       [0.24356115],\n",
       "       [0.24343851],\n",
       "       [0.25668028],\n",
       "       [0.25673112],\n",
       "       [0.25473174],\n",
       "       [0.25255948],\n",
       "       [0.25233746],\n",
       "       [0.25562277],\n",
       "       [0.25161397],\n",
       "       [0.25769654],\n",
       "       [0.2614466 ],\n",
       "       [0.25410664],\n",
       "       [0.25206468],\n",
       "       [0.24802119],\n",
       "       [0.24643809],\n",
       "       [0.24316064],\n",
       "       [0.24954414],\n",
       "       [0.257998  ],\n",
       "       [0.252497  ],\n",
       "       [0.2599456 ],\n",
       "       [0.2627184 ],\n",
       "       [0.2596151 ],\n",
       "       [0.26079008],\n",
       "       [0.25679815],\n",
       "       [0.23291975],\n",
       "       [0.23304778],\n",
       "       [0.21701607],\n",
       "       [0.21843898],\n",
       "       [0.21028122],\n",
       "       [0.20094767],\n",
       "       [0.20329732],\n",
       "       [0.21369803],\n",
       "       [0.21013534],\n",
       "       [0.20605835],\n",
       "       [0.21539727],\n",
       "       [0.21147653],\n",
       "       [0.20610285],\n",
       "       [0.20319149],\n",
       "       [0.20626786],\n",
       "       [0.20207816],\n",
       "       [0.20104173],\n",
       "       [0.2012003 ],\n",
       "       [0.19769976],\n",
       "       [0.1958226 ],\n",
       "       [0.19605738],\n",
       "       [0.19894046],\n",
       "       [0.19751805],\n",
       "       [0.1939807 ],\n",
       "       [0.19593567],\n",
       "       [0.19366008],\n",
       "       [0.1959517 ],\n",
       "       [0.20005801],\n",
       "       [0.20204511],\n",
       "       [0.2057066 ],\n",
       "       [0.20709589],\n",
       "       [0.19887781],\n",
       "       [0.19734326],\n",
       "       [0.19891202],\n",
       "       [0.19599742],\n",
       "       [0.19599447],\n",
       "       [0.19555297],\n",
       "       [0.19373277],\n",
       "       [0.18739414],\n",
       "       [0.18669474],\n",
       "       [0.18289444],\n",
       "       [0.18338668],\n",
       "       [0.19255257],\n",
       "       [0.19070286],\n",
       "       [0.18633762],\n",
       "       [0.18528861],\n",
       "       [0.18506563],\n",
       "       [0.18789315],\n",
       "       [0.1851108 ],\n",
       "       [0.18536091],\n",
       "       [0.19072628],\n",
       "       [0.1979779 ],\n",
       "       [0.17858183],\n",
       "       [0.23023957],\n",
       "       [0.23433733],\n",
       "       [0.23576158],\n",
       "       [0.24084285],\n",
       "       [0.25875884],\n",
       "       [0.2593021 ],\n",
       "       [0.25996953],\n",
       "       [0.2582746 ],\n",
       "       [0.2491155 ],\n",
       "       [0.23806882],\n",
       "       [0.22099626],\n",
       "       [0.22488889],\n",
       "       [0.22178873],\n",
       "       [0.214216  ],\n",
       "       [0.21342227],\n",
       "       [0.21469992],\n",
       "       [0.21398163],\n",
       "       [0.21799281],\n",
       "       [0.2188704 ],\n",
       "       [0.2166641 ],\n",
       "       [0.21807611],\n",
       "       [0.21457428],\n",
       "       [0.2141    ],\n",
       "       [0.21352446],\n",
       "       [0.22690454],\n",
       "       [0.22433293],\n",
       "       [0.22177327],\n",
       "       [0.22262636],\n",
       "       [0.22024685],\n",
       "       [0.22105286],\n",
       "       [0.23032069],\n",
       "       [0.23781729],\n",
       "       [0.24157295],\n",
       "       [0.24168482],\n",
       "       [0.23413816],\n",
       "       [0.22689468],\n",
       "       [0.21355712],\n",
       "       [0.21030524],\n",
       "       [0.20412523],\n",
       "       [0.20396507],\n",
       "       [0.20333004],\n",
       "       [0.20663354],\n",
       "       [0.20995131],\n",
       "       [0.21083173],\n",
       "       [0.21295264],\n",
       "       [0.21520141],\n",
       "       [0.2101247 ],\n",
       "       [0.21003106],\n",
       "       [0.20655069],\n",
       "       [0.20223886],\n",
       "       [0.20082822],\n",
       "       [0.19929695],\n",
       "       [0.1982908 ],\n",
       "       [0.19882467],\n",
       "       [0.20091787],\n",
       "       [0.20478928],\n",
       "       [0.20502967],\n",
       "       [0.20190522]], dtype=float32)"
      ]
     },
     "execution_count": 11,
     "metadata": {},
     "output_type": "execute_result"
    }
   ],
   "source": [
    "y_pred_scaled"
   ]
  },
  {
   "cell_type": "markdown",
   "metadata": {
    "id": "59KO_S548paO"
   },
   "source": [
    "## Evaluate Model performance"
   ]
  },
  {
   "cell_type": "code",
   "execution_count": 9,
   "metadata": {
    "colab": {
     "base_uri": "https://localhost:8080/"
    },
    "id": "S6lrdYq38h8H",
    "outputId": "67e977e0-68a3-4a2b-973e-c6ae68ef11a3"
   },
   "outputs": [
    {
     "name": "stdout",
     "output_type": "stream",
     "text": [
      "8/8 [==============================] - 1s 1ms/step\n",
      "Root Mean Square Error (RMSE): 748.91\n",
      "Median Absolute Error (MAE): 616.51\n",
      "Mean Absolute Percentage Error (MAPE): 13.54 %\n",
      "Median Absolute Percentage Error (MDAPE): 11.73 %\n"
     ]
    }
   ],
   "source": [
    "# Get the predicted values\n",
    "y_pred_scaled = model.predict(x_test)\n",
    "\n",
    "# Unscale the predicted values\n",
    "y_pred = scaler_pred.inverse_transform(y_pred_scaled)\n",
    "y_test_unscaled = scaler_pred.inverse_transform(y_test.reshape(-1, 1))\n",
    "\n",
    "# Root Mean Square Error (RMSE)\n",
    "MSE = np.square(np.subtract(y_test_unscaled, y_pred)).mean()\n",
    "RMSE = math.sqrt(MSE)\n",
    "print(f'Root Mean Square Error (RMSE): {np.round(RMSE, 2)}')\n",
    "\n",
    "\n",
    "# Mean Absolute Error (MAE)\n",
    "MAE = mean_absolute_error(y_test_unscaled, y_pred)\n",
    "print(f'Median Absolute Error (MAE): {np.round(MAE, 2)}')\n",
    "\n",
    "# Mean Absolute Percentage Error (MAPE)\n",
    "MAPE = np.mean((np.abs(np.subtract(y_test_unscaled, y_pred)/ y_test_unscaled))) * 100\n",
    "print(f'Mean Absolute Percentage Error (MAPE): {np.round(MAPE, 2)} %')\n",
    "\n",
    "# Median Absolute Percentage Error (MDAPE)\n",
    "MDAPE = np.median((np.abs(np.subtract(y_test_unscaled, y_pred)/ y_test_unscaled)) ) * 100\n",
    "print(f'Median Absolute Percentage Error (MDAPE): {np.round(MDAPE, 2)} %')"
   ]
  },
  {
   "cell_type": "code",
   "execution_count": 10,
   "metadata": {
    "colab": {
     "base_uri": "https://localhost:8080/",
     "height": 380
    },
    "id": "34xhqG9G8rYi",
    "outputId": "ae2a4951-51c8-4ad3-bbc3-369b1fd2595c"
   },
   "outputs": [
    {
     "data": {
      "image/png": "[encoded data removed]",
      "text/plain": [
       "<Figure size 1152x576 with 1 Axes>"
      ]
     },
     "metadata": {},
     "output_type": "display_data"
    }
   ],
   "source": [
    "# The date from which on the date is displayed\n",
    "display_start_date = start_date\n",
    "\n",
    "# Add the difference between the valid and predicted prices\n",
    "train = pd.DataFrame(data_filtered_ext['Close'][:train_data_len + 1]).rename(columns={'Close': 'y_train'})\n",
    "valid = pd.DataFrame(data_filtered_ext['Close'][train_data_len:]).rename(columns={'Close': 'y_test'})\n",
    "valid.insert(1, \"y_pred\", y_pred, True)\n",
    "valid.insert(1, \"residuals\", valid[\"y_pred\"] - valid[\"y_test\"], True)\n",
    "df_union = pd.concat([train, valid])\n",
    "\n",
    "# Zoom in to a closer timeframe\n",
    "df_union_zoom = df_union[df_union.index > display_start_date]\n",
    "\n",
    "# Create the lineplot\n",
    "fig, ax1 = plt.subplots(figsize=(16, 8))\n",
    "plt.title(\"Predict Data vs Test Data\")\n",
    "\n",
    "sns.set_palette([\"#FF0000\", \"#1960EF\", \"#00FF00\"])\n",
    "sns.lineplot(data=df_union_zoom[['y_pred', 'y_train', 'y_test']], linewidth=1.0, dashes=False, ax=ax1)\n",
    "\n",
    "# Create the bar plot with the differences\n",
    "# df_sub = [\"#2BC97A\" if x > 0 else \"#C92B2B\" for x in df_union_zoom[\"residuals\"].dropna()]\n",
    "# ax1.bar(height=df_union_zoom['residuals'].dropna(), x=df_union_zoom['residuals'].dropna().index, width=3, label='residuals', color=df_sub)\n",
    "\n",
    "plt.legend()\n",
    "plt.show()"
   ]
  },
  {
   "cell_type": "code",
   "execution_count": null,
   "metadata": {
    "id": "2P6qwZrW8u-W"
   },
   "outputs": [],
   "source": []
  }
 ],
 "metadata": {
  "colab": {
   "collapsed_sections": [],
   "provenance": []
  },
  "kernelspec": {
   "display_name": "Python 3 (ipykernel)",
   "language": "python",
   "name": "python3"
  },
  "language_info": {
   "codemirror_mode": {
    "name": "ipython",
    "version": 3
   },
   "file_extension": ".py",
   "mimetype": "text/x-python",
   "name": "python",
   "nbconvert_exporter": "python",
   "pygments_lexer": "ipython3",
   "version": "3.9.12"
  }
 },
 "nbformat": 4,
 "nbformat_minor": 1
}
