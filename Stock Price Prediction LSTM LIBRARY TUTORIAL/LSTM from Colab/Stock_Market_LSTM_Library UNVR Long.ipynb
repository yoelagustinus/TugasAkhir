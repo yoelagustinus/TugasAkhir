{
  "cells": [
    {
      "cell_type": "markdown",
      "metadata": {
        "id": "LVzpmy2JRsjX"
      },
      "source": [
        "### Stock Market Prediction And Forecasting Using Stacked LSTM"
      ]
    },
    {
      "cell_type": "code",
      "execution_count": 1,
      "metadata": {
        "id": "os5A8qsjRsjb"
      },
      "outputs": [],
      "source": [
        "### Keras and Tensorflow >2.0\n",
        "# Youtube: https://www.youtube.com/watch?v=H6du_pfuznE&t=357s"
      ]
    },
    {
      "cell_type": "code",
      "source": [
        ""
      ],
      "metadata": {
        "id": "npKIBm7HBOND"
      },
      "execution_count": 1,
      "outputs": []
    },
    {
      "cell_type": "markdown",
      "source": [
        "x"
      ],
      "metadata": {
        "id": "7Ec4yucrSK3b"
      }
    },
    {
      "cell_type": "code",
      "execution_count": 2,
      "metadata": {
        "id": "filmtIZARsje"
      },
      "outputs": [],
      "source": [
        "import pandas as pd\n"
      ]
    },
    {
      "cell_type": "code",
      "source": [
        "df = pd.read_csv('UNVR-long.csv')\n",
        "df"
      ],
      "metadata": {
        "colab": {
          "base_uri": "https://localhost:8080/",
          "height": 424
        },
        "id": "Ev3mgzOBcZBZ",
        "outputId": "a7adbfbe-df0c-4c95-c083-ce21aa30ff2b"
      },
      "execution_count": 3,
      "outputs": [
        {
          "output_type": "execute_result",
          "data": {
            "text/plain": [
              "            Date    Open    High     Low   Close    Adj Close    Volume\n",
              "0     2017-01-02  7760.0  7760.0  7760.0  7760.0  6857.312500         0\n",
              "1     2017-01-03  7800.0  7840.0  7760.0  7765.0  6861.731445   5014500\n",
              "2     2017-01-04  7770.0  8070.0  7770.0  8040.0  7104.741699  10642000\n",
              "3     2017-01-05  8100.0  8110.0  8005.0  8110.0  7166.599121  10493500\n",
              "4     2017-01-06  8060.0  8190.0  7965.0  8120.0  7175.434570   5400500\n",
              "...          ...     ...     ...     ...     ...          ...       ...\n",
              "1257  2021-12-24  4090.0  4210.0  4080.0  4200.0  4200.000000  11979500\n",
              "1258  2021-12-27  4200.0  4230.0  4170.0  4210.0  4210.000000   7238100\n",
              "1259  2021-12-28  4210.0  4230.0  4180.0  4180.0  4180.000000   7006900\n",
              "1260  2021-12-29  4180.0  4190.0  4120.0  4120.0  4120.000000   9030700\n",
              "1261  2021-12-30  4130.0  4170.0  4110.0  4110.0  4110.000000   7633100\n",
              "\n",
              "[1262 rows x 7 columns]"
            ],
            "text/html": [
              "\n",
              "  <div id=\"df-69324548-2839-4663-a516-7b3e5f2c86f5\">\n",
              "    <div class=\"colab-df-container\">\n",
              "      <div>\n",
              "<style scoped>\n",
              "    .dataframe tbody tr th:only-of-type {\n",
              "        vertical-align: middle;\n",
              "    }\n",
              "\n",
              "    .dataframe tbody tr th {\n",
              "        vertical-align: top;\n",
              "    }\n",
              "\n",
              "    .dataframe thead th {\n",
              "        text-align: right;\n",
              "    }\n",
              "</style>\n",
              "<table border=\"1\" class=\"dataframe\">\n",
              "  <thead>\n",
              "    <tr style=\"text-align: right;\">\n",
              "      <th></th>\n",
              "      <th>Date</th>\n",
              "      <th>Open</th>\n",
              "      <th>High</th>\n",
              "      <th>Low</th>\n",
              "      <th>Close</th>\n",
              "      <th>Adj Close</th>\n",
              "      <th>Volume</th>\n",
              "    </tr>\n",
              "  </thead>\n",
              "  <tbody>\n",
              "    <tr>\n",
              "      <th>0</th>\n",
              "      <td>2017-01-02</td>\n",
              "      <td>7760.0</td>\n",
              "      <td>7760.0</td>\n",
              "      <td>7760.0</td>\n",
              "      <td>7760.0</td>\n",
              "      <td>6857.312500</td>\n",
              "      <td>0</td>\n",
              "    </tr>\n",
              "    <tr>\n",
              "      <th>1</th>\n",
              "      <td>2017-01-03</td>\n",
              "      <td>7800.0</td>\n",
              "      <td>7840.0</td>\n",
              "      <td>7760.0</td>\n",
              "      <td>7765.0</td>\n",
              "      <td>6861.731445</td>\n",
              "      <td>5014500</td>\n",
              "    </tr>\n",
              "    <tr>\n",
              "      <th>2</th>\n",
              "      <td>2017-01-04</td>\n",
              "      <td>7770.0</td>\n",
              "      <td>8070.0</td>\n",
              "      <td>7770.0</td>\n",
              "      <td>8040.0</td>\n",
              "      <td>7104.741699</td>\n",
              "      <td>10642000</td>\n",
              "    </tr>\n",
              "    <tr>\n",
              "      <th>3</th>\n",
              "      <td>2017-01-05</td>\n",
              "      <td>8100.0</td>\n",
              "      <td>8110.0</td>\n",
              "      <td>8005.0</td>\n",
              "      <td>8110.0</td>\n",
              "      <td>7166.599121</td>\n",
              "      <td>10493500</td>\n",
              "    </tr>\n",
              "    <tr>\n",
              "      <th>4</th>\n",
              "      <td>2017-01-06</td>\n",
              "      <td>8060.0</td>\n",
              "      <td>8190.0</td>\n",
              "      <td>7965.0</td>\n",
              "      <td>8120.0</td>\n",
              "      <td>7175.434570</td>\n",
              "      <td>5400500</td>\n",
              "    </tr>\n",
              "    <tr>\n",
              "      <th>...</th>\n",
              "      <td>...</td>\n",
              "      <td>...</td>\n",
              "      <td>...</td>\n",
              "      <td>...</td>\n",
              "      <td>...</td>\n",
              "      <td>...</td>\n",
              "      <td>...</td>\n",
              "    </tr>\n",
              "    <tr>\n",
              "      <th>1257</th>\n",
              "      <td>2021-12-24</td>\n",
              "      <td>4090.0</td>\n",
              "      <td>4210.0</td>\n",
              "      <td>4080.0</td>\n",
              "      <td>4200.0</td>\n",
              "      <td>4200.000000</td>\n",
              "      <td>11979500</td>\n",
              "    </tr>\n",
              "    <tr>\n",
              "      <th>1258</th>\n",
              "      <td>2021-12-27</td>\n",
              "      <td>4200.0</td>\n",
              "      <td>4230.0</td>\n",
              "      <td>4170.0</td>\n",
              "      <td>4210.0</td>\n",
              "      <td>4210.000000</td>\n",
              "      <td>7238100</td>\n",
              "    </tr>\n",
              "    <tr>\n",
              "      <th>1259</th>\n",
              "      <td>2021-12-28</td>\n",
              "      <td>4210.0</td>\n",
              "      <td>4230.0</td>\n",
              "      <td>4180.0</td>\n",
              "      <td>4180.0</td>\n",
              "      <td>4180.000000</td>\n",
              "      <td>7006900</td>\n",
              "    </tr>\n",
              "    <tr>\n",
              "      <th>1260</th>\n",
              "      <td>2021-12-29</td>\n",
              "      <td>4180.0</td>\n",
              "      <td>4190.0</td>\n",
              "      <td>4120.0</td>\n",
              "      <td>4120.0</td>\n",
              "      <td>4120.000000</td>\n",
              "      <td>9030700</td>\n",
              "    </tr>\n",
              "    <tr>\n",
              "      <th>1261</th>\n",
              "      <td>2021-12-30</td>\n",
              "      <td>4130.0</td>\n",
              "      <td>4170.0</td>\n",
              "      <td>4110.0</td>\n",
              "      <td>4110.0</td>\n",
              "      <td>4110.000000</td>\n",
              "      <td>7633100</td>\n",
              "    </tr>\n",
              "  </tbody>\n",
              "</table>\n",
              "<p>1262 rows × 7 columns</p>\n",
              "</div>\n",
              "      <button class=\"colab-df-convert\" onclick=\"convertToInteractive('df-69324548-2839-4663-a516-7b3e5f2c86f5')\"\n",
              "              title=\"Convert this dataframe to an interactive table.\"\n",
              "              style=\"display:none;\">\n",
              "        \n",
              "  <svg xmlns=\"http://www.w3.org/2000/svg\" height=\"24px\"viewBox=\"0 0 24 24\"\n",
              "       width=\"24px\">\n",
              "    <path d=\"M0 0h24v24H0V0z\" fill=\"none\"/>\n",
              "    <path d=\"M18.56 5.44l.94 2.06.94-2.06 2.06-.94-2.06-.94-.94-2.06-.94 2.06-2.06.94zm-11 1L8.5 8.5l.94-2.06 2.06-.94-2.06-.94L8.5 2.5l-.94 2.06-2.06.94zm10 10l.94 2.06.94-2.06 2.06-.94-2.06-.94-.94-2.06-.94 2.06-2.06.94z\"/><path d=\"M17.41 7.96l-1.37-1.37c-.4-.4-.92-.59-1.43-.59-.52 0-1.04.2-1.43.59L10.3 9.45l-7.72 7.72c-.78.78-.78 2.05 0 2.83L4 21.41c.39.39.9.59 1.41.59.51 0 1.02-.2 1.41-.59l7.78-7.78 2.81-2.81c.8-.78.8-2.07 0-2.86zM5.41 20L4 18.59l7.72-7.72 1.47 1.35L5.41 20z\"/>\n",
              "  </svg>\n",
              "      </button>\n",
              "      \n",
              "  <style>\n",
              "    .colab-df-container {\n",
              "      display:flex;\n",
              "      flex-wrap:wrap;\n",
              "      gap: 12px;\n",
              "    }\n",
              "\n",
              "    .colab-df-convert {\n",
              "      background-color: #E8F0FE;\n",
              "      border: none;\n",
              "      border-radius: 50%;\n",
              "      cursor: pointer;\n",
              "      display: none;\n",
              "      fill: #1967D2;\n",
              "      height: 32px;\n",
              "      padding: 0 0 0 0;\n",
              "      width: 32px;\n",
              "    }\n",
              "\n",
              "    .colab-df-convert:hover {\n",
              "      background-color: #E2EBFA;\n",
              "      box-shadow: 0px 1px 2px rgba(60, 64, 67, 0.3), 0px 1px 3px 1px rgba(60, 64, 67, 0.15);\n",
              "      fill: #174EA6;\n",
              "    }\n",
              "\n",
              "    [theme=dark] .colab-df-convert {\n",
              "      background-color: #3B4455;\n",
              "      fill: #D2E3FC;\n",
              "    }\n",
              "\n",
              "    [theme=dark] .colab-df-convert:hover {\n",
              "      background-color: #434B5C;\n",
              "      box-shadow: 0px 1px 3px 1px rgba(0, 0, 0, 0.15);\n",
              "      filter: drop-shadow(0px 1px 2px rgba(0, 0, 0, 0.3));\n",
              "      fill: #FFFFFF;\n",
              "    }\n",
              "  </style>\n",
              "\n",
              "      <script>\n",
              "        const buttonEl =\n",
              "          document.querySelector('#df-69324548-2839-4663-a516-7b3e5f2c86f5 button.colab-df-convert');\n",
              "        buttonEl.style.display =\n",
              "          google.colab.kernel.accessAllowed ? 'block' : 'none';\n",
              "\n",
              "        async function convertToInteractive(key) {\n",
              "          const element = document.querySelector('#df-69324548-2839-4663-a516-7b3e5f2c86f5');\n",
              "          const dataTable =\n",
              "            await google.colab.kernel.invokeFunction('convertToInteractive',\n",
              "                                                     [key], {});\n",
              "          if (!dataTable) return;\n",
              "\n",
              "          const docLinkHtml = 'Like what you see? Visit the ' +\n",
              "            '<a target=\"_blank\" href=https://colab.research.google.com/notebooks/data_table.ipynb>data table notebook</a>'\n",
              "            + ' to learn more about interactive tables.';\n",
              "          element.innerHTML = '';\n",
              "          dataTable['output_type'] = 'display_data';\n",
              "          await google.colab.output.renderOutput(dataTable, element);\n",
              "          const docLink = document.createElement('div');\n",
              "          docLink.innerHTML = docLinkHtml;\n",
              "          element.appendChild(docLink);\n",
              "        }\n",
              "      </script>\n",
              "    </div>\n",
              "  </div>\n",
              "  "
            ]
          },
          "metadata": {},
          "execution_count": 3
        }
      ]
    },
    {
      "cell_type": "code",
      "execution_count": 4,
      "metadata": {
        "id": "as5bGw4tRsjh"
      },
      "outputs": [],
      "source": [
        "df1=df.reset_index()['Close']"
      ]
    },
    {
      "cell_type": "code",
      "execution_count": 5,
      "metadata": {
        "id": "pEwbZaS8Rsjh",
        "outputId": "5b34490d-9426-4451-dc8d-c829b5d06015",
        "colab": {
          "base_uri": "https://localhost:8080/",
          "height": 0
        }
      },
      "outputs": [
        {
          "output_type": "execute_result",
          "data": {
            "text/plain": [
              "0       7760.0\n",
              "1       7765.0\n",
              "2       8040.0\n",
              "3       8110.0\n",
              "4       8120.0\n",
              "         ...  \n",
              "1257    4200.0\n",
              "1258    4210.0\n",
              "1259    4180.0\n",
              "1260    4120.0\n",
              "1261    4110.0\n",
              "Name: Close, Length: 1262, dtype: float64"
            ]
          },
          "metadata": {},
          "execution_count": 5
        }
      ],
      "source": [
        "df1"
      ]
    },
    {
      "cell_type": "code",
      "execution_count": 6,
      "metadata": {
        "id": "Zq66bAp8Rsji",
        "outputId": "c2ee7ceb-4269-4d7a-ede7-fc9610ccf9d7",
        "colab": {
          "base_uri": "https://localhost:8080/",
          "height": 283
        }
      },
      "outputs": [
        {
          "output_type": "execute_result",
          "data": {
            "text/plain": [
              "[<matplotlib.lines.Line2D at 0x7f230d6bae50>]"
            ]
          },
          "metadata": {},
          "execution_count": 6
        },
        {
          "output_type": "display_data",
          "data": {
            "text/plain": [
              "<Figure size 432x288 with 1 Axes>"
            ],
            "image/png": "[encoded data removed]"
          },
          "metadata": {
            "needs_background": "light"
          }
        }
      ],
      "source": [
        "import matplotlib.pyplot as plt\n",
        "plt.plot(df1)"
      ]
    },
    {
      "cell_type": "code",
      "execution_count": 7,
      "metadata": {
        "id": "wmDmKH5KRsji"
      },
      "outputs": [],
      "source": [
        "### LSTM are sensitive to the scale of the data. so we apply MinMax scaler "
      ]
    },
    {
      "cell_type": "code",
      "execution_count": 8,
      "metadata": {
        "id": "OMfOr-BiRsji"
      },
      "outputs": [],
      "source": [
        "import numpy as np"
      ]
    },
    {
      "cell_type": "code",
      "execution_count": 10,
      "metadata": {
        "id": "ZaluLcGWRsjj"
      },
      "outputs": [],
      "source": [
        "from sklearn.preprocessing import MinMaxScaler\n",
        "scaler=MinMaxScaler(feature_range=(0,1))\n",
        "df1=scaler.fit_transform(np.array(df1).reshape(-1,1))"
      ]
    },
    {
      "cell_type": "code",
      "execution_count": 11,
      "metadata": {
        "id": "1w6-oVZYRsjj",
        "outputId": "56e71b18-c493-4625-cbcf-9dc739fc5f76",
        "colab": {
          "base_uri": "https://localhost:8080/",
          "height": 0
        }
      },
      "outputs": [
        {
          "output_type": "stream",
          "name": "stdout",
          "text": [
            "[[0.53532609]\n",
            " [0.53600543]\n",
            " [0.57336957]\n",
            " ...\n",
            " [0.04891304]\n",
            " [0.04076087]\n",
            " [0.03940217]]\n"
          ]
        }
      ],
      "source": [
        "print(df1)"
      ]
    },
    {
      "cell_type": "code",
      "execution_count": 12,
      "metadata": {
        "id": "1X0HqjyeRsjj"
      },
      "outputs": [],
      "source": [
        "##splitting dataset into train and test split\n",
        "training_size=int(len(df1)*0.8)\n",
        "test_size=len(df1)-training_size\n",
        "train_data,test_data=df1[0:training_size,:],df1[training_size:len(df1),:1]"
      ]
    },
    {
      "cell_type": "code",
      "execution_count": 13,
      "metadata": {
        "id": "QBxN192PRsjk",
        "outputId": "ebdbb914-baba-4a4e-9bc7-15e474789af1",
        "colab": {
          "base_uri": "https://localhost:8080/",
          "height": 0
        }
      },
      "outputs": [
        {
          "output_type": "execute_result",
          "data": {
            "text/plain": [
              "(1009, 253)"
            ]
          },
          "metadata": {},
          "execution_count": 13
        }
      ],
      "source": [
        "training_size,test_size"
      ]
    },
    {
      "cell_type": "code",
      "execution_count": 14,
      "metadata": {
        "id": "OU0MdeC_Rsjk",
        "outputId": "2162a643-048d-4968-8185-0a7d5db08d20",
        "colab": {
          "base_uri": "https://localhost:8080/",
          "height": 0
        }
      },
      "outputs": [
        {
          "output_type": "execute_result",
          "data": {
            "text/plain": [
              "array([[0.53532609],\n",
              "       [0.53600543],\n",
              "       [0.57336957],\n",
              "       ...,\n",
              "       [0.5       ],\n",
              "       [0.48980978],\n",
              "       [0.51358696]])"
            ]
          },
          "metadata": {},
          "execution_count": 14
        }
      ],
      "source": [
        "train_data"
      ]
    },
    {
      "cell_type": "code",
      "execution_count": 15,
      "metadata": {
        "id": "09bKi-xmRsjk"
      },
      "outputs": [],
      "source": [
        "import numpy\n",
        "# convert an array of values into a dataset matrix\n",
        "def create_dataset(dataset, time_step=1):\n",
        "\tdataX, dataY = [], []\n",
        "\tfor i in range(len(dataset)-time_step-1):\n",
        "\t\ta = dataset[i:(i+time_step), 0]   ###i=0, 0,1,2,3-----99   100 \n",
        "\t\tdataX.append(a)\n",
        "\t\tdataY.append(dataset[i + time_step, 0])\n",
        "\treturn numpy.array(dataX), numpy.array(dataY)"
      ]
    },
    {
      "cell_type": "code",
      "execution_count": 16,
      "metadata": {
        "id": "cUcfOSvpRsjl"
      },
      "outputs": [],
      "source": [
        "# reshape into X=t,t+1,t+2,t+3 and Y=t+4\n",
        "time_step = 10\n",
        "X_train, y_train = create_dataset(train_data, time_step)\n",
        "X_test, ytest = create_dataset(test_data, time_step)"
      ]
    },
    {
      "cell_type": "code",
      "execution_count": 17,
      "metadata": {
        "id": "Usu0RFCzRsjl",
        "outputId": "a8e7bf86-93ed-493b-e1a1-a7c472e642cf",
        "colab": {
          "base_uri": "https://localhost:8080/",
          "height": 0
        }
      },
      "outputs": [
        {
          "output_type": "stream",
          "name": "stdout",
          "text": [
            "(998, 10)\n",
            "(998,)\n"
          ]
        },
        {
          "output_type": "execute_result",
          "data": {
            "text/plain": [
              "(None, None)"
            ]
          },
          "metadata": {},
          "execution_count": 17
        }
      ],
      "source": [
        "print(X_train.shape), print(y_train.shape)"
      ]
    },
    {
      "cell_type": "code",
      "execution_count": 18,
      "metadata": {
        "id": "eQCTazQcRsjl",
        "outputId": "40afa707-98e5-413e-d1cb-52d6d512bc20",
        "colab": {
          "base_uri": "https://localhost:8080/",
          "height": 0
        }
      },
      "outputs": [
        {
          "output_type": "stream",
          "name": "stdout",
          "text": [
            "(242, 10)\n",
            "(242,)\n"
          ]
        },
        {
          "output_type": "execute_result",
          "data": {
            "text/plain": [
              "(None, None)"
            ]
          },
          "metadata": {},
          "execution_count": 18
        }
      ],
      "source": [
        "print(X_test.shape), print(ytest.shape)"
      ]
    },
    {
      "cell_type": "code",
      "execution_count": 19,
      "metadata": {
        "id": "dEhDbIzIRsjm"
      },
      "outputs": [],
      "source": [
        "# reshape input to be [samples, time steps, features] which is required for LSTM\n",
        "X_train =X_train.reshape(X_train.shape[0],X_train.shape[1] , 1)\n",
        "X_test = X_test.reshape(X_test.shape[0],X_test.shape[1] , 1)"
      ]
    },
    {
      "cell_type": "code",
      "execution_count": 20,
      "metadata": {
        "id": "Z_OEWPzCRsjm"
      },
      "outputs": [],
      "source": [
        "### Create the Stacked LSTM model\n",
        "from tensorflow.keras.models import Sequential\n",
        "from tensorflow.keras.layers import Dense\n",
        "from tensorflow.keras.layers import LSTM"
      ]
    },
    {
      "cell_type": "code",
      "execution_count": 21,
      "metadata": {
        "id": "vIgWQvTlRsjm"
      },
      "outputs": [],
      "source": [
        "model=Sequential()\n",
        "model.add(LSTM(5,return_sequences=True,input_shape=(10,1)))\n",
        "model.add(LSTM(5,return_sequences=True))\n",
        "model.add(LSTM(5))\n",
        "model.add(Dense(1))\n",
        "model.compile(loss='mean_squared_error',optimizer='adam')\n"
      ]
    },
    {
      "cell_type": "code",
      "execution_count": 22,
      "metadata": {
        "id": "gPfMjVyzRsjm",
        "outputId": "24aae204-8638-47f7-fee7-166e5d7d263d",
        "colab": {
          "base_uri": "https://localhost:8080/",
          "height": 0
        }
      },
      "outputs": [
        {
          "output_type": "stream",
          "name": "stdout",
          "text": [
            "Model: \"sequential\"\n",
            "_________________________________________________________________\n",
            " Layer (type)                Output Shape              Param #   \n",
            "=================================================================\n",
            " lstm (LSTM)                 (None, 10, 5)             140       \n",
            "                                                                 \n",
            " lstm_1 (LSTM)               (None, 10, 5)             220       \n",
            "                                                                 \n",
            " lstm_2 (LSTM)               (None, 5)                 220       \n",
            "                                                                 \n",
            " dense (Dense)               (None, 1)                 6         \n",
            "                                                                 \n",
            "=================================================================\n",
            "Total params: 586\n",
            "Trainable params: 586\n",
            "Non-trainable params: 0\n",
            "_________________________________________________________________\n"
          ]
        }
      ],
      "source": [
        "model.summary()"
      ]
    },
    {
      "cell_type": "code",
      "execution_count": 22,
      "metadata": {
        "id": "iIS2UDCxRsjm"
      },
      "outputs": [],
      "source": [
        ""
      ]
    },
    {
      "cell_type": "code",
      "execution_count": 23,
      "metadata": {
        "id": "WRFjoAJIRsjm",
        "outputId": "c2a75f88-757a-4320-e5c0-41d21d475280",
        "colab": {
          "base_uri": "https://localhost:8080/",
          "height": 0
        }
      },
      "outputs": [
        {
          "output_type": "stream",
          "name": "stdout",
          "text": [
            "Epoch 1/50\n",
            "32/32 [==============================] - 8s 62ms/step - loss: 0.2583 - val_loss: 0.0116\n",
            "Epoch 2/50\n",
            "32/32 [==============================] - 1s 17ms/step - loss: 0.0302 - val_loss: 0.0874\n",
            "Epoch 3/50\n",
            "32/32 [==============================] - 1s 17ms/step - loss: 0.0079 - val_loss: 0.0613\n",
            "Epoch 4/50\n",
            "32/32 [==============================] - 1s 17ms/step - loss: 0.0068 - val_loss: 0.0585\n",
            "Epoch 5/50\n",
            "32/32 [==============================] - 1s 17ms/step - loss: 0.0062 - val_loss: 0.0509\n",
            "Epoch 6/50\n",
            "32/32 [==============================] - 1s 18ms/step - loss: 0.0056 - val_loss: 0.0456\n",
            "Epoch 7/50\n",
            "32/32 [==============================] - 1s 18ms/step - loss: 0.0049 - val_loss: 0.0376\n",
            "Epoch 8/50\n",
            "32/32 [==============================] - 1s 17ms/step - loss: 0.0041 - val_loss: 0.0318\n",
            "Epoch 9/50\n",
            "32/32 [==============================] - 1s 16ms/step - loss: 0.0034 - val_loss: 0.0246\n",
            "Epoch 10/50\n",
            "32/32 [==============================] - 1s 16ms/step - loss: 0.0027 - val_loss: 0.0188\n",
            "Epoch 11/50\n",
            "32/32 [==============================] - 1s 16ms/step - loss: 0.0022 - val_loss: 0.0140\n",
            "Epoch 12/50\n",
            "32/32 [==============================] - 1s 27ms/step - loss: 0.0018 - val_loss: 0.0116\n",
            "Epoch 13/50\n",
            "32/32 [==============================] - 1s 20ms/step - loss: 0.0015 - val_loss: 0.0096\n",
            "Epoch 14/50\n",
            "32/32 [==============================] - 1s 16ms/step - loss: 0.0014 - val_loss: 0.0079\n",
            "Epoch 15/50\n",
            "32/32 [==============================] - 1s 17ms/step - loss: 0.0013 - val_loss: 0.0075\n",
            "Epoch 16/50\n",
            "32/32 [==============================] - 1s 16ms/step - loss: 0.0013 - val_loss: 0.0069\n",
            "Epoch 17/50\n",
            "32/32 [==============================] - 1s 16ms/step - loss: 0.0013 - val_loss: 0.0070\n",
            "Epoch 18/50\n",
            "32/32 [==============================] - 0s 15ms/step - loss: 0.0013 - val_loss: 0.0068\n",
            "Epoch 19/50\n",
            "32/32 [==============================] - 0s 15ms/step - loss: 0.0013 - val_loss: 0.0066\n",
            "Epoch 20/50\n",
            "32/32 [==============================] - 1s 16ms/step - loss: 0.0013 - val_loss: 0.0072\n",
            "Epoch 21/50\n",
            "32/32 [==============================] - 1s 17ms/step - loss: 0.0013 - val_loss: 0.0070\n",
            "Epoch 22/50\n",
            "32/32 [==============================] - 0s 15ms/step - loss: 0.0013 - val_loss: 0.0069\n",
            "Epoch 23/50\n",
            "32/32 [==============================] - 0s 15ms/step - loss: 0.0013 - val_loss: 0.0071\n",
            "Epoch 24/50\n",
            "32/32 [==============================] - 0s 15ms/step - loss: 0.0013 - val_loss: 0.0071\n",
            "Epoch 25/50\n",
            "32/32 [==============================] - 1s 16ms/step - loss: 0.0013 - val_loss: 0.0075\n",
            "Epoch 26/50\n",
            "32/32 [==============================] - 1s 16ms/step - loss: 0.0012 - val_loss: 0.0076\n",
            "Epoch 27/50\n",
            "32/32 [==============================] - 1s 16ms/step - loss: 0.0013 - val_loss: 0.0077\n",
            "Epoch 28/50\n",
            "32/32 [==============================] - 0s 15ms/step - loss: 0.0013 - val_loss: 0.0075\n",
            "Epoch 29/50\n",
            "32/32 [==============================] - 1s 17ms/step - loss: 0.0013 - val_loss: 0.0076\n",
            "Epoch 30/50\n",
            "32/32 [==============================] - 1s 16ms/step - loss: 0.0012 - val_loss: 0.0076\n",
            "Epoch 31/50\n",
            "32/32 [==============================] - 1s 17ms/step - loss: 0.0012 - val_loss: 0.0079\n",
            "Epoch 32/50\n",
            "32/32 [==============================] - 1s 16ms/step - loss: 0.0012 - val_loss: 0.0087\n",
            "Epoch 33/50\n",
            "32/32 [==============================] - 1s 16ms/step - loss: 0.0013 - val_loss: 0.0086\n",
            "Epoch 34/50\n",
            "32/32 [==============================] - 0s 15ms/step - loss: 0.0012 - val_loss: 0.0083\n",
            "Epoch 35/50\n",
            "32/32 [==============================] - 1s 17ms/step - loss: 0.0012 - val_loss: 0.0079\n",
            "Epoch 36/50\n",
            "32/32 [==============================] - 1s 16ms/step - loss: 0.0013 - val_loss: 0.0087\n",
            "Epoch 37/50\n",
            "32/32 [==============================] - 1s 17ms/step - loss: 0.0012 - val_loss: 0.0089\n",
            "Epoch 38/50\n",
            "32/32 [==============================] - 1s 16ms/step - loss: 0.0012 - val_loss: 0.0091\n",
            "Epoch 39/50\n",
            "32/32 [==============================] - 0s 15ms/step - loss: 0.0012 - val_loss: 0.0084\n",
            "Epoch 40/50\n",
            "32/32 [==============================] - 0s 15ms/step - loss: 0.0012 - val_loss: 0.0085\n",
            "Epoch 41/50\n",
            "32/32 [==============================] - 1s 16ms/step - loss: 0.0012 - val_loss: 0.0088\n",
            "Epoch 42/50\n",
            "32/32 [==============================] - 0s 15ms/step - loss: 0.0012 - val_loss: 0.0092\n",
            "Epoch 43/50\n",
            "32/32 [==============================] - 1s 16ms/step - loss: 0.0012 - val_loss: 0.0093\n",
            "Epoch 44/50\n",
            "32/32 [==============================] - 1s 16ms/step - loss: 0.0012 - val_loss: 0.0093\n",
            "Epoch 45/50\n",
            "32/32 [==============================] - 1s 16ms/step - loss: 0.0012 - val_loss: 0.0092\n",
            "Epoch 46/50\n",
            "32/32 [==============================] - 1s 16ms/step - loss: 0.0012 - val_loss: 0.0096\n",
            "Epoch 47/50\n",
            "32/32 [==============================] - 1s 17ms/step - loss: 0.0012 - val_loss: 0.0092\n",
            "Epoch 48/50\n",
            "32/32 [==============================] - 1s 17ms/step - loss: 0.0012 - val_loss: 0.0096\n",
            "Epoch 49/50\n",
            "32/32 [==============================] - 1s 16ms/step - loss: 0.0012 - val_loss: 0.0097\n",
            "Epoch 50/50\n",
            "32/32 [==============================] - 1s 17ms/step - loss: 0.0012 - val_loss: 0.0093\n"
          ]
        },
        {
          "output_type": "execute_result",
          "data": {
            "text/plain": [
              "<keras.callbacks.History at 0x7f229191e210>"
            ]
          },
          "metadata": {},
          "execution_count": 23
        }
      ],
      "source": [
        "model.fit(X_train,y_train,validation_data=(X_test,ytest),epochs=50,batch_size=32,verbose=1)"
      ]
    },
    {
      "cell_type": "code",
      "execution_count": 24,
      "metadata": {
        "id": "y1CH0PSpRsjm"
      },
      "outputs": [],
      "source": [
        "import tensorflow as tf"
      ]
    },
    {
      "cell_type": "code",
      "execution_count": 25,
      "metadata": {
        "id": "aoKB3fqDRsjm",
        "outputId": "a0780d83-f866-47ca-ea49-0aceb158bdfd",
        "colab": {
          "base_uri": "https://localhost:8080/",
          "height": 35
        }
      },
      "outputs": [
        {
          "output_type": "execute_result",
          "data": {
            "text/plain": [
              "'2.8.0'"
            ],
            "application/vnd.google.colaboratory.intrinsic+json": {
              "type": "string"
            }
          },
          "metadata": {},
          "execution_count": 25
        }
      ],
      "source": [
        "tf.__version__"
      ]
    },
    {
      "cell_type": "code",
      "execution_count": 26,
      "metadata": {
        "id": "EOhg3ODZRsjm"
      },
      "outputs": [],
      "source": [
        "### Lets Do the prediction and check performance metrics\n",
        "train_predict=model.predict(X_train)\n",
        "test_predict=model.predict(X_test)"
      ]
    },
    {
      "cell_type": "code",
      "execution_count": 27,
      "metadata": {
        "id": "Rz-zbmuxRsjn"
      },
      "outputs": [],
      "source": [
        "##Transformback to original form\n",
        "train_predict=scaler.inverse_transform(train_predict)\n",
        "test_predict=scaler.inverse_transform(test_predict)"
      ]
    },
    {
      "cell_type": "markdown",
      "source": [
        "## RMSE Train"
      ],
      "metadata": {
        "id": "gR8F3v67jf0D"
      }
    },
    {
      "cell_type": "code",
      "execution_count": 28,
      "metadata": {
        "id": "2OVw7t4bRsjn",
        "outputId": "688dbf10-9de2-4b4c-f75c-baa7970d5c01",
        "colab": {
          "base_uri": "https://localhost:8080/",
          "height": 0
        }
      },
      "outputs": [
        {
          "output_type": "execute_result",
          "data": {
            "text/plain": [
              "8985.727433911476"
            ]
          },
          "metadata": {},
          "execution_count": 28
        }
      ],
      "source": [
        "### Calculate RMSE performance metrics\n",
        "import math\n",
        "from sklearn.metrics import mean_squared_error\n",
        "math.sqrt(mean_squared_error(y_train,train_predict))"
      ]
    },
    {
      "cell_type": "markdown",
      "source": [
        "## RMSE Test"
      ],
      "metadata": {
        "id": "t7gNSndOjmAj"
      }
    },
    {
      "cell_type": "code",
      "execution_count": 29,
      "metadata": {
        "id": "2YVrCv1WRsjn",
        "outputId": "ddd380d2-a53b-431b-f21d-cf4fe1c2d634",
        "colab": {
          "base_uri": "https://localhost:8080/",
          "height": 0
        }
      },
      "outputs": [
        {
          "output_type": "execute_result",
          "data": {
            "text/plain": [
              "5979.1530927643835"
            ]
          },
          "metadata": {},
          "execution_count": 29
        }
      ],
      "source": [
        "### Test Data RMSE\n",
        "math.sqrt(mean_squared_error(ytest,test_predict))"
      ]
    },
    {
      "cell_type": "code",
      "execution_count": 30,
      "metadata": {
        "id": "H5Qg742BRsjn",
        "outputId": "c50a4900-efc7-42fe-e1fe-ac51f68c655d",
        "colab": {
          "base_uri": "https://localhost:8080/",
          "height": 265
        }
      },
      "outputs": [
        {
          "output_type": "display_data",
          "data": {
            "text/plain": [
              "<Figure size 432x288 with 1 Axes>"
            ],
            "image/png": "[encoded data removed]"
          },
          "metadata": {
            "needs_background": "light"
          }
        }
      ],
      "source": [
        "### Plotting \n",
        "# shift train predictions for plotting\n",
        "look_back=10\n",
        "trainPredictPlot = numpy.empty_like(df1)\n",
        "trainPredictPlot[:, :] = np.nan\n",
        "trainPredictPlot[look_back:len(train_predict)+look_back, :] = train_predict\n",
        "# shift test predictions for plotting\n",
        "testPredictPlot = numpy.empty_like(df1)\n",
        "testPredictPlot[:, :] = numpy.nan\n",
        "testPredictPlot[len(train_predict)+(look_back*2)+1:len(df1)-1, :] = test_predict\n",
        "# plot baseline and predictions\n",
        "plt.plot(scaler.inverse_transform(df1))\n",
        "plt.plot(trainPredictPlot)\n",
        "plt.plot(testPredictPlot)\n",
        "plt.show()"
      ]
    },
    {
      "cell_type": "code",
      "execution_count": 31,
      "metadata": {
        "id": "IaQg152JRsjn",
        "outputId": "3934af24-0106-4686-8895-28258ba01ee9",
        "colab": {
          "base_uri": "https://localhost:8080/",
          "height": 0
        }
      },
      "outputs": [
        {
          "output_type": "execute_result",
          "data": {
            "text/plain": [
              "253"
            ]
          },
          "metadata": {},
          "execution_count": 31
        }
      ],
      "source": [
        "len(test_data)"
      ]
    },
    {
      "cell_type": "code",
      "execution_count": 32,
      "metadata": {
        "id": "ndmLZ7-TRsjn",
        "outputId": "4861f65d-5ac0-4718-f6c0-dad3b8125a33",
        "colab": {
          "base_uri": "https://localhost:8080/",
          "height": 0
        }
      },
      "outputs": [
        {
          "output_type": "execute_result",
          "data": {
            "text/plain": [
              "(1, 0)"
            ]
          },
          "metadata": {},
          "execution_count": 32
        }
      ],
      "source": [
        "x_input=test_data[341:].reshape(1,-1)\n",
        "x_input.shape\n"
      ]
    },
    {
      "cell_type": "code",
      "execution_count": 32,
      "metadata": {
        "id": "BviT6vDyRsjo"
      },
      "outputs": [],
      "source": [
        ""
      ]
    },
    {
      "cell_type": "code",
      "execution_count": 32,
      "metadata": {
        "id": "Alufj636Rsjo"
      },
      "outputs": [],
      "source": [
        ""
      ]
    },
    {
      "cell_type": "code",
      "execution_count": 33,
      "metadata": {
        "id": "5ny2aZ0qRsjo"
      },
      "outputs": [],
      "source": [
        "temp_input=list(x_input)\n",
        "temp_input=temp_input[0].tolist()"
      ]
    },
    {
      "cell_type": "code",
      "execution_count": 34,
      "metadata": {
        "id": "i-vFAuHNRsjo",
        "outputId": "edd9e714-93bb-43ad-e3db-ab49130aac4f",
        "colab": {
          "base_uri": "https://localhost:8080/",
          "height": 0
        }
      },
      "outputs": [
        {
          "output_type": "execute_result",
          "data": {
            "text/plain": [
              "[]"
            ]
          },
          "metadata": {},
          "execution_count": 34
        }
      ],
      "source": [
        "temp_input"
      ]
    },
    {
      "cell_type": "code",
      "execution_count": 35,
      "metadata": {
        "id": "4bdRIXEuRsjo",
        "outputId": "72d15459-c53b-49af-8e95-f2c48e7acd31",
        "colab": {
          "base_uri": "https://localhost:8080/",
          "height": 240
        }
      },
      "outputs": [
        {
          "output_type": "error",
          "ename": "ValueError",
          "evalue": "ignored",
          "traceback": [
            "\u001b[0;31m---------------------------------------------------------------------------\u001b[0m",
            "\u001b[0;31mValueError\u001b[0m                                Traceback (most recent call last)",
            "\u001b[0;32m<ipython-input-35-437c9fc36647>\u001b[0m in \u001b[0;36m<module>\u001b[0;34m()\u001b[0m\n\u001b[1;32m     22\u001b[0m         \u001b[0mi\u001b[0m\u001b[0;34m=\u001b[0m\u001b[0mi\u001b[0m\u001b[0;34m+\u001b[0m\u001b[0;36m1\u001b[0m\u001b[0;34m\u001b[0m\u001b[0;34m\u001b[0m\u001b[0m\n\u001b[1;32m     23\u001b[0m     \u001b[0;32melse\u001b[0m\u001b[0;34m:\u001b[0m\u001b[0;34m\u001b[0m\u001b[0;34m\u001b[0m\u001b[0m\n\u001b[0;32m---> 24\u001b[0;31m         \u001b[0mx_input\u001b[0m \u001b[0;34m=\u001b[0m \u001b[0mx_input\u001b[0m\u001b[0;34m.\u001b[0m\u001b[0mreshape\u001b[0m\u001b[0;34m(\u001b[0m\u001b[0;34m(\u001b[0m\u001b[0;36m1\u001b[0m\u001b[0;34m,\u001b[0m \u001b[0;36m1\u001b[0m\u001b[0;34m,\u001b[0m\u001b[0;36m1\u001b[0m\u001b[0;34m)\u001b[0m\u001b[0;34m)\u001b[0m\u001b[0;34m\u001b[0m\u001b[0;34m\u001b[0m\u001b[0m\n\u001b[0m\u001b[1;32m     25\u001b[0m         \u001b[0myhat\u001b[0m \u001b[0;34m=\u001b[0m \u001b[0mmodel\u001b[0m\u001b[0;34m.\u001b[0m\u001b[0mpredict\u001b[0m\u001b[0;34m(\u001b[0m\u001b[0mx_input\u001b[0m\u001b[0;34m,\u001b[0m \u001b[0mverbose\u001b[0m\u001b[0;34m=\u001b[0m\u001b[0;36m0\u001b[0m\u001b[0;34m)\u001b[0m\u001b[0;34m\u001b[0m\u001b[0;34m\u001b[0m\u001b[0m\n\u001b[1;32m     26\u001b[0m         \u001b[0mprint\u001b[0m\u001b[0;34m(\u001b[0m\u001b[0myhat\u001b[0m\u001b[0;34m[\u001b[0m\u001b[0;36m0\u001b[0m\u001b[0;34m]\u001b[0m\u001b[0;34m)\u001b[0m\u001b[0;34m\u001b[0m\u001b[0;34m\u001b[0m\u001b[0m\n",
            "\u001b[0;31mValueError\u001b[0m: cannot reshape array of size 0 into shape (1,1,1)"
          ]
        }
      ],
      "source": [
        "# demonstrate prediction for next 10 days\n",
        "from numpy import array\n",
        "\n",
        "lst_output=[]\n",
        "n_steps=3\n",
        "i=0\n",
        "while(i<30):\n",
        "    \n",
        "    if(len(temp_input)>10):\n",
        "        #print(temp_input)\n",
        "        x_input=np.array(temp_input[1:])\n",
        "        print(\"{} day input {}\".format(i,x_input))\n",
        "        x_input=x_input.reshape(1,-1)\n",
        "        x_input = x_input.reshape((1, n_steps, 1))\n",
        "        #print(x_input)\n",
        "        yhat = model.predict(x_input, verbose=0)\n",
        "        print(\"{} day output {}\".format(i,yhat))\n",
        "        temp_input.extend(yhat[0].tolist())\n",
        "        temp_input=temp_input[1:]\n",
        "        #print(temp_input)\n",
        "        lst_output.extend(yhat.tolist())\n",
        "        i=i+1\n",
        "    else:\n",
        "        x_input = x_input.reshape((1, 1,1))\n",
        "        yhat = model.predict(x_input, verbose=0)\n",
        "        print(yhat[0])\n",
        "        temp_input.extend(yhat[0].tolist())\n",
        "        print(len(temp_input))\n",
        "        lst_output.extend(yhat.tolist())\n",
        "        i=i+1\n",
        "    \n",
        "\n",
        "print(lst_output)"
      ]
    },
    {
      "cell_type": "code",
      "execution_count": null,
      "metadata": {
        "id": "ooBcxOmsRsjo"
      },
      "outputs": [],
      "source": [
        "day_new=np.arange(1,101)\n",
        "day_pred=np.arange(101,131)"
      ]
    },
    {
      "cell_type": "code",
      "execution_count": null,
      "metadata": {
        "id": "NO3HzjqjRsjo"
      },
      "outputs": [],
      "source": [
        "import matplotlib.pyplot as plt"
      ]
    },
    {
      "cell_type": "code",
      "execution_count": null,
      "metadata": {
        "id": "5e4VNnqhRsjo",
        "outputId": "8baf4c70-44c3-4d7a-e6e2-ba97aa3f0f3f",
        "colab": {
          "base_uri": "https://localhost:8080/"
        }
      },
      "outputs": [
        {
          "output_type": "execute_result",
          "data": {
            "text/plain": [
              "1258"
            ]
          },
          "metadata": {},
          "execution_count": 68
        }
      ],
      "source": [
        "len(df1)"
      ]
    },
    {
      "cell_type": "code",
      "execution_count": null,
      "metadata": {
        "id": "nbVvBaU1Rsjo"
      },
      "outputs": [],
      "source": [
        ""
      ]
    },
    {
      "cell_type": "code",
      "execution_count": null,
      "metadata": {
        "id": "PSl3y7iJRsjp",
        "outputId": "44e32dec-a0fa-45cb-9acb-a9cfaf07fe7f",
        "colab": {
          "base_uri": "https://localhost:8080/",
          "height": 282
        }
      },
      "outputs": [
        {
          "output_type": "execute_result",
          "data": {
            "text/plain": [
              "[<matplotlib.lines.Line2D at 0x7f2660462f90>]"
            ]
          },
          "metadata": {},
          "execution_count": 69
        },
        {
          "output_type": "display_data",
          "data": {
            "text/plain": [
              "<Figure size 432x288 with 1 Axes>"
            ],
            "image/png": "[encoded data removed]"
          },
          "metadata": {
            "needs_background": "light"
          }
        }
      ],
      "source": [
        "plt.plot(day_new,scaler.inverse_transform(df1[1158:]))\n",
        "plt.plot(day_pred,scaler.inverse_transform(lst_output))"
      ]
    },
    {
      "cell_type": "code",
      "execution_count": null,
      "metadata": {
        "id": "pTnYsUcZRsjp",
        "outputId": "85163b91-215a-47d0-e3be-39b91e9f3ed2",
        "colab": {
          "base_uri": "https://localhost:8080/",
          "height": 282
        }
      },
      "outputs": [
        {
          "output_type": "execute_result",
          "data": {
            "text/plain": [
              "[<matplotlib.lines.Line2D at 0x7f266057a150>]"
            ]
          },
          "metadata": {},
          "execution_count": 70
        },
        {
          "output_type": "display_data",
          "data": {
            "text/plain": [
              "<Figure size 432x288 with 1 Axes>"
            ],
            "image/png": "[encoded data removed]"
          },
          "metadata": {
            "needs_background": "light"
          }
        }
      ],
      "source": [
        "df3=df1.tolist()\n",
        "df3.extend(lst_output)\n",
        "plt.plot(df3[1200:])"
      ]
    },
    {
      "cell_type": "code",
      "execution_count": null,
      "metadata": {
        "id": "wJ5pPnMERsjp"
      },
      "outputs": [],
      "source": [
        "df3=scaler.inverse_transform(df3).tolist()"
      ]
    },
    {
      "cell_type": "code",
      "execution_count": null,
      "metadata": {
        "id": "ESSUXhLlRsjp",
        "outputId": "122f2b4b-ad39-4ab8-ab2c-959237f53aba",
        "colab": {
          "base_uri": "https://localhost:8080/",
          "height": 282
        }
      },
      "outputs": [
        {
          "output_type": "execute_result",
          "data": {
            "text/plain": [
              "[<matplotlib.lines.Line2D at 0x7f266084f250>]"
            ]
          },
          "metadata": {},
          "execution_count": 72
        },
        {
          "output_type": "display_data",
          "data": {
            "text/plain": [
              "<Figure size 432x288 with 1 Axes>"
            ],
            "image/png": "[encoded data removed]"
          },
          "metadata": {
            "needs_background": "light"
          }
        }
      ],
      "source": [
        "plt.plot(df3)"
      ]
    },
    {
      "cell_type": "code",
      "execution_count": null,
      "metadata": {
        "id": "XX3-UtkVRsjp"
      },
      "outputs": [],
      "source": [
        ""
      ]
    }
  ],
  "metadata": {
    "kernelspec": {
      "display_name": "Python 3",
      "language": "python",
      "name": "python3"
    },
    "language_info": {
      "codemirror_mode": {
        "name": "ipython",
        "version": 3
      },
      "file_extension": ".py",
      "mimetype": "text/x-python",
      "name": "python",
      "nbconvert_exporter": "python",
      "pygments_lexer": "ipython3",
      "version": "3.6.9"
    },
    "colab": {
      "name": "Stock Market LSTM Library",
      "provenance": [],
      "collapsed_sections": []
    }
  },
  "nbformat": 4,
  "nbformat_minor": 0
}