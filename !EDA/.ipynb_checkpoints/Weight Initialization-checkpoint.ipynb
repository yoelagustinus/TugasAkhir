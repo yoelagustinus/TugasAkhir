{
 "cells": [
  {
   "cell_type": "code",
   "execution_count": 5,
   "id": "acba2d3e",
   "metadata": {},
   "outputs": [],
   "source": [
    "# example of the xavier weight initialization\n",
    "from math import sqrt\n",
    "from numpy import mean\n",
    "from numpy.random import rand"
   ]
  },
  {
   "cell_type": "code",
   "execution_count": 6,
   "id": "968f681d",
   "metadata": {},
   "outputs": [
    {
     "name": "stdout",
     "output_type": "stream",
     "text": [
      "-0.4082482904638631 0.4082482904638631\n",
      "-0.4077042469021546 0.40659754905512985\n"
     ]
    }
   ],
   "source": [
    "# number of nodes in the previous layer\n",
    "n = 6\n",
    "# calculate the range for the weights\n",
    "lower, upper = -(1.0 / sqrt(n)), (1.0 / sqrt(n))\n",
    "# generate random numbers\n",
    "numbers = rand(1000)\n",
    "# scale to the desired range\n",
    "scaled = lower + numbers * (upper - lower)\n",
    "# summarize\n",
    "print(lower, upper)\n",
    "print(scaled.min(), scaled.max())"
   ]
  },
  {
   "cell_type": "code",
   "execution_count": 15,
   "id": "6fe0cea8",
   "metadata": {},
   "outputs": [
    {
     "name": "stdout",
     "output_type": "stream",
     "text": [
      "-0.4082482904638631 0.4082482904638631\n",
      "-0.40722306004060854 0.40760284308726974\n"
     ]
    }
   ],
   "source": [
    "# number of nodes in the previous layer\n",
    "n = 6\n",
    "# calculate the range for the weights\n",
    "lower, upper = -(1.0 / sqrt(n)), (1.0 / sqrt(n))\n",
    "# generate random numbers\n",
    "numbers = rand(1000)\n",
    "# scale to the desired range\n",
    "scaled = lower + numbers * (upper - lower)\n",
    "# summarize\n",
    "print(lower, upper)\n",
    "print(scaled.min(), scaled.max())"
   ]
  },
  {
   "cell_type": "code",
   "execution_count": 13,
   "id": "7f7a35bc",
   "metadata": {},
   "outputs": [
    {
     "name": "stdout",
     "output_type": "stream",
     "text": [
      "Get 10 Weight Value: -0.08,-0.23,0.21,0.03,0.11,-0.12,-0.13,0.04,0.32,0.08\n"
     ]
    }
   ],
   "source": [
    "print(\"Get 10 Weight Value: -0.08,-0.23,0.21,0.03,0.11,-0.12,-0.13,0.04,0.32,0.08\")"
   ]
  },
  {
   "cell_type": "code",
   "execution_count": 3,
   "id": "97ceb702",
   "metadata": {},
   "outputs": [
    {
     "data": {
      "image/png": "[encoded data removed]",
      "text/plain": [
       "<Figure size 432x288 with 1 Axes>"
      ]
     },
     "metadata": {
      "needs_background": "light"
     },
     "output_type": "display_data"
    }
   ],
   "source": [
    "# plot of the bounds on xavier weight initialization for different numbers of inputs\n",
    "from math import sqrt\n",
    "from matplotlib import pyplot\n",
    "# define the number of inputs from 1 to 100\n",
    "values = [i for i in range(1, 101)]\n",
    "# calculate the range for each number of inputs\n",
    "results = [1.0 / sqrt(n) for n in values]\n",
    "# create an error bar plot centered on 0 for each number of inputs\n",
    "pyplot.errorbar(values, [0.0 for _ in values], yerr=results)\n",
    "pyplot.show()"
   ]
  },
  {
   "cell_type": "code",
   "execution_count": null,
   "id": "6e9c7d2d",
   "metadata": {},
   "outputs": [],
   "source": []
  },
  {
   "cell_type": "code",
   "execution_count": null,
   "id": "02bec678",
   "metadata": {},
   "outputs": [],
   "source": []
  },
  {
   "cell_type": "code",
   "execution_count": null,
   "id": "8057baa1",
   "metadata": {},
   "outputs": [],
   "source": []
  }
 ],
 "metadata": {
  "kernelspec": {
   "display_name": "Python 3 (ipykernel)",
   "language": "python",
   "name": "python3"
  },
  "language_info": {
   "codemirror_mode": {
    "name": "ipython",
    "version": 3
   },
   "file_extension": ".py",
   "mimetype": "text/x-python",
   "name": "python",
   "nbconvert_exporter": "python",
   "pygments_lexer": "ipython3",
   "version": "3.9.7"
  }
 },
 "nbformat": 4,
 "nbformat_minor": 5
}
