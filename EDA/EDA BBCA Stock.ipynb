{
 "cells": [
  {
   "cell_type": "code",
   "execution_count": 2,
   "id": "53d02fc4",
   "metadata": {},
   "outputs": [],
   "source": [
    "import pandas as pd\n",
    "import seaborn as sns"
   ]
  },
  {
   "cell_type": "code",
   "execution_count": null,
   "id": "f41812a7",
   "metadata": {},
   "outputs": [],
   "source": []
  },
  {
   "cell_type": "code",
   "execution_count": 3,
   "id": "1b2b27dd",
   "metadata": {},
   "outputs": [
    {
     "data": {
      "text/html": [
       "<div>\n",
       "<style scoped>\n",
       "    .dataframe tbody tr th:only-of-type {\n",
       "        vertical-align: middle;\n",
       "    }\n",
       "\n",
       "    .dataframe tbody tr th {\n",
       "        vertical-align: top;\n",
       "    }\n",
       "\n",
       "    .dataframe thead th {\n",
       "        text-align: right;\n",
       "    }\n",
       "</style>\n",
       "<table border=\"1\" class=\"dataframe\">\n",
       "  <thead>\n",
       "    <tr style=\"text-align: right;\">\n",
       "      <th></th>\n",
       "      <th>Date</th>\n",
       "      <th>Open</th>\n",
       "      <th>High</th>\n",
       "      <th>Low</th>\n",
       "      <th>Close</th>\n",
       "      <th>Adj Close</th>\n",
       "      <th>Volume</th>\n",
       "    </tr>\n",
       "  </thead>\n",
       "  <tbody>\n",
       "    <tr>\n",
       "      <th>0</th>\n",
       "      <td>2021-02-15</td>\n",
       "      <td>6830.0</td>\n",
       "      <td>6890.0</td>\n",
       "      <td>6720.0</td>\n",
       "      <td>6800.0</td>\n",
       "      <td>6683.568848</td>\n",
       "      <td>83922000</td>\n",
       "    </tr>\n",
       "    <tr>\n",
       "      <th>1</th>\n",
       "      <td>2021-02-16</td>\n",
       "      <td>6880.0</td>\n",
       "      <td>6945.0</td>\n",
       "      <td>6830.0</td>\n",
       "      <td>6940.0</td>\n",
       "      <td>6821.171875</td>\n",
       "      <td>47221000</td>\n",
       "    </tr>\n",
       "    <tr>\n",
       "      <th>2</th>\n",
       "      <td>2021-02-17</td>\n",
       "      <td>6890.0</td>\n",
       "      <td>6960.0</td>\n",
       "      <td>6850.0</td>\n",
       "      <td>6900.0</td>\n",
       "      <td>6781.856934</td>\n",
       "      <td>66011500</td>\n",
       "    </tr>\n",
       "    <tr>\n",
       "      <th>3</th>\n",
       "      <td>2021-02-18</td>\n",
       "      <td>6850.0</td>\n",
       "      <td>6900.0</td>\n",
       "      <td>6735.0</td>\n",
       "      <td>6735.0</td>\n",
       "      <td>6619.682129</td>\n",
       "      <td>91204000</td>\n",
       "    </tr>\n",
       "    <tr>\n",
       "      <th>4</th>\n",
       "      <td>2021-02-19</td>\n",
       "      <td>6780.0</td>\n",
       "      <td>6850.0</td>\n",
       "      <td>6760.0</td>\n",
       "      <td>6825.0</td>\n",
       "      <td>6708.140625</td>\n",
       "      <td>70487500</td>\n",
       "    </tr>\n",
       "    <tr>\n",
       "      <th>...</th>\n",
       "      <td>...</td>\n",
       "      <td>...</td>\n",
       "      <td>...</td>\n",
       "      <td>...</td>\n",
       "      <td>...</td>\n",
       "      <td>...</td>\n",
       "      <td>...</td>\n",
       "    </tr>\n",
       "    <tr>\n",
       "      <th>241</th>\n",
       "      <td>2022-02-04</td>\n",
       "      <td>7750.0</td>\n",
       "      <td>7800.0</td>\n",
       "      <td>7700.0</td>\n",
       "      <td>7725.0</td>\n",
       "      <td>7725.000000</td>\n",
       "      <td>39324700</td>\n",
       "    </tr>\n",
       "    <tr>\n",
       "      <th>242</th>\n",
       "      <td>2022-02-07</td>\n",
       "      <td>7775.0</td>\n",
       "      <td>7800.0</td>\n",
       "      <td>7700.0</td>\n",
       "      <td>7800.0</td>\n",
       "      <td>7800.000000</td>\n",
       "      <td>56813200</td>\n",
       "    </tr>\n",
       "    <tr>\n",
       "      <th>243</th>\n",
       "      <td>2022-02-08</td>\n",
       "      <td>7750.0</td>\n",
       "      <td>7850.0</td>\n",
       "      <td>7725.0</td>\n",
       "      <td>7725.0</td>\n",
       "      <td>7725.000000</td>\n",
       "      <td>61883100</td>\n",
       "    </tr>\n",
       "    <tr>\n",
       "      <th>244</th>\n",
       "      <td>2022-02-09</td>\n",
       "      <td>7850.0</td>\n",
       "      <td>7950.0</td>\n",
       "      <td>7800.0</td>\n",
       "      <td>7950.0</td>\n",
       "      <td>7950.000000</td>\n",
       "      <td>108922200</td>\n",
       "    </tr>\n",
       "    <tr>\n",
       "      <th>245</th>\n",
       "      <td>2022-02-10</td>\n",
       "      <td>7950.0</td>\n",
       "      <td>7950.0</td>\n",
       "      <td>7750.0</td>\n",
       "      <td>7750.0</td>\n",
       "      <td>7750.000000</td>\n",
       "      <td>93277000</td>\n",
       "    </tr>\n",
       "  </tbody>\n",
       "</table>\n",
       "<p>246 rows × 7 columns</p>\n",
       "</div>"
      ],
      "text/plain": [
       "           Date    Open    High     Low   Close    Adj Close     Volume\n",
       "0    2021-02-15  6830.0  6890.0  6720.0  6800.0  6683.568848   83922000\n",
       "1    2021-02-16  6880.0  6945.0  6830.0  6940.0  6821.171875   47221000\n",
       "2    2021-02-17  6890.0  6960.0  6850.0  6900.0  6781.856934   66011500\n",
       "3    2021-02-18  6850.0  6900.0  6735.0  6735.0  6619.682129   91204000\n",
       "4    2021-02-19  6780.0  6850.0  6760.0  6825.0  6708.140625   70487500\n",
       "..          ...     ...     ...     ...     ...          ...        ...\n",
       "241  2022-02-04  7750.0  7800.0  7700.0  7725.0  7725.000000   39324700\n",
       "242  2022-02-07  7775.0  7800.0  7700.0  7800.0  7800.000000   56813200\n",
       "243  2022-02-08  7750.0  7850.0  7725.0  7725.0  7725.000000   61883100\n",
       "244  2022-02-09  7850.0  7950.0  7800.0  7950.0  7950.000000  108922200\n",
       "245  2022-02-10  7950.0  7950.0  7750.0  7750.0  7750.000000   93277000\n",
       "\n",
       "[246 rows x 7 columns]"
      ]
     },
     "execution_count": 3,
     "metadata": {},
     "output_type": "execute_result"
    }
   ],
   "source": [
    "df = pd.read_csv(\"BBCA.csv\")\n",
    "df"
   ]
  },
  {
   "cell_type": "code",
   "execution_count": 4,
   "id": "c7c917e9",
   "metadata": {},
   "outputs": [
    {
     "name": "stdout",
     "output_type": "stream",
     "text": [
      "<class 'pandas.core.frame.DataFrame'>\n",
      "RangeIndex: 246 entries, 0 to 245\n",
      "Data columns (total 7 columns):\n",
      " #   Column     Non-Null Count  Dtype  \n",
      "---  ------     --------------  -----  \n",
      " 0   Date       246 non-null    object \n",
      " 1   Open       246 non-null    float64\n",
      " 2   High       246 non-null    float64\n",
      " 3   Low        246 non-null    float64\n",
      " 4   Close      246 non-null    float64\n",
      " 5   Adj Close  246 non-null    float64\n",
      " 6   Volume     246 non-null    int64  \n",
      "dtypes: float64(5), int64(1), object(1)\n",
      "memory usage: 13.6+ KB\n"
     ]
    }
   ],
   "source": [
    " df.info()"
   ]
  },
  {
   "cell_type": "markdown",
   "id": "ba25385a",
   "metadata": {},
   "source": [
    "# Preprocessing Data"
   ]
  },
  {
   "cell_type": "markdown",
   "id": "bb7808aa",
   "metadata": {},
   "source": [
    "## Check for Missing Value"
   ]
  },
  {
   "cell_type": "code",
   "execution_count": 5,
   "id": "d70ed9ee",
   "metadata": {},
   "outputs": [
    {
     "data": {
      "text/plain": [
       "Date         0\n",
       "Open         0\n",
       "High         0\n",
       "Low          0\n",
       "Close        0\n",
       "Adj Close    0\n",
       "Volume       0\n",
       "dtype: int64"
      ]
     },
     "execution_count": 5,
     "metadata": {},
     "output_type": "execute_result"
    }
   ],
   "source": [
    "df.isnull().sum()"
   ]
  },
  {
   "cell_type": "markdown",
   "id": "e8436db8",
   "metadata": {},
   "source": [
    "## Check for Duplicate Value"
   ]
  },
  {
   "cell_type": "code",
   "execution_count": 6,
   "id": "3ab09052",
   "metadata": {},
   "outputs": [
    {
     "data": {
      "text/plain": [
       "Date         0.0\n",
       "Open         0.0\n",
       "High         0.0\n",
       "Low          0.0\n",
       "Close        0.0\n",
       "Adj Close    0.0\n",
       "Volume       0.0\n",
       "dtype: float64"
      ]
     },
     "execution_count": 6,
     "metadata": {},
     "output_type": "execute_result"
    }
   ],
   "source": [
    "df[df.duplicated()].sum()"
   ]
  },
  {
   "cell_type": "code",
   "execution_count": null,
   "id": "139c9364",
   "metadata": {},
   "outputs": [],
   "source": []
  },
  {
   "cell_type": "code",
   "execution_count": 10,
   "id": "31440ff5",
   "metadata": {},
   "outputs": [
    {
     "name": "stderr",
     "output_type": "stream",
     "text": [
      "/Users/yoelagustinus/opt/anaconda3/lib/python3.9/site-packages/seaborn/_decorators.py:36: FutureWarning: Pass the following variable as a keyword arg: x. From version 0.12, the only valid positional argument will be `data`, and passing other arguments without an explicit keyword will result in an error or misinterpretation.\n",
      "  warnings.warn(\n"
     ]
    },
    {
     "data": {
      "text/plain": [
       "<AxesSubplot:xlabel='Adj Close'>"
      ]
     },
     "execution_count": 10,
     "metadata": {},
     "output_type": "execute_result"
    },
    {
     "data": {
      "image/png": "[encoded data removed]",
      "text/plain": [
       "<Figure size 432x288 with 1 Axes>"
      ]
     },
     "metadata": {
      "needs_background": "light"
     },
     "output_type": "display_data"
    }
   ],
   "source": [
    "sns.boxplot(df['Adj Close'])"
   ]
  },
  {
   "cell_type": "code",
   "execution_count": null,
   "id": "65e23252",
   "metadata": {},
   "outputs": [],
   "source": []
  },
  {
   "cell_type": "code",
   "execution_count": null,
   "id": "26109ce8",
   "metadata": {},
   "outputs": [],
   "source": []
  },
  {
   "cell_type": "code",
   "execution_count": null,
   "id": "b7924cad",
   "metadata": {},
   "outputs": [],
   "source": []
  }
 ],
 "metadata": {
  "kernelspec": {
   "display_name": "Python 3 (ipykernel)",
   "language": "python",
   "name": "python3"
  },
  "language_info": {
   "codemirror_mode": {
    "name": "ipython",
    "version": 3
   },
   "file_extension": ".py",
   "mimetype": "text/x-python",
   "name": "python",
   "nbconvert_exporter": "python",
   "pygments_lexer": "ipython3",
   "version": "3.9.7"
  }
 },
 "nbformat": 4,
 "nbformat_minor": 5
}
