{
 "cells": [
  {
   "cell_type": "markdown",
   "metadata": {},
   "source": [
    "# LSTM from Scratch for TA"
   ]
  },
  {
   "cell_type": "markdown",
   "metadata": {},
   "source": [
    "## import packages"
   ]
  },
  {
   "cell_type": "code",
   "execution_count": 2,
   "metadata": {},
   "outputs": [],
   "source": [
    "import numpy as np\n",
    "from numpy import *\n",
    "from numpy.random import *\n",
    "import matplotlib.pyplot as plt\n",
    "import random\n",
    "import math\n",
    "from datetime import datetime\n",
    "import pickle\n",
    "import pandas as pd\n",
    "%matplotlib inline"
   ]
  },
  {
   "cell_type": "markdown",
   "metadata": {},
   "source": [
    "## Define Function of Activation Function"
   ]
  },
  {
   "cell_type": "code",
   "execution_count": 3,
   "metadata": {},
   "outputs": [],
   "source": [
    "#predefined activation function and its derivative\n",
    "def Sigmoid(x): \n",
    "    return 1. / (1 + np.exp(-x))\n",
    "\n",
    "def dSigmoid(values): \n",
    "    return values*(1-values)\n",
    "\n",
    "def Tanh(x):\n",
    "    return (np.exp(x) - np.exp(-x))/(np.exp(x) + np.exp(-x))\n",
    "\n",
    "def dtanh(values): \n",
    "    return 1. - values**2\n",
    "\n",
    "def rand_arr(a, b, *args): \n",
    "    seed(0)\n",
    "    return rand(*args)*(b - a) + a"
   ]
  },
  {
   "cell_type": "markdown",
   "metadata": {},
   "source": [
    "## Define LSTM Class"
   ]
  },
  {
   "cell_type": "code",
   "execution_count": 4,
   "metadata": {},
   "outputs": [],
   "source": [
    "class LSTM:\n",
    "    def __init__(self, X_dim, y_dim, neuron):\n",
    "        \n",
    "        self.X_dim = X_dim \n",
    "        self.y_dim = y_dim\n",
    "        self.neuron = neuron\n",
    "        \n",
    "        #initiate weight\n",
    "        self.weight_f = rand_arr(-0.1, 0.1, neuron, X_dim + neuron)\n",
    "        self.weight_i = rand_arr(-0.1, 0.1, neuron, X_dim + neuron)\n",
    "        self.weight_g = rand_arr(-0.1, 0.1, neuron, X_dim + neuron) \n",
    "        self.weight_o = rand_arr(-0.1, 0.1, neuron, X_dim + neuron)\n",
    "        self.weight_out = rand_arr(-0.1, 0.1, y_dim, neuron)\n",
    "        \n",
    "        #initiate bias\n",
    "        self.bias_f = rand_arr(-0.1, 0.1, neuron) \n",
    "        self.bias_i = rand_arr(-0.1, 0.1, neuron) \n",
    "        self.bias_g = rand_arr(-0.1, 0.1, neuron) \n",
    "        self.bias_o = rand_arr(-0.1, 0.1, neuron)\n",
    "        self.bias_out = rand_arr(-0.1, 0.1, y_dim)\n",
    "    \n",
    "    def forward(self, inputs, outputs):\n",
    "        X = inputs\n",
    "        y = outputs\n",
    "        \n",
    "        self.X = X\n",
    "        self.y = y\n",
    "        #make list to save the values of every unit \n",
    "        self.X_concat = []\n",
    "        self.f = []\n",
    "        self.i = []\n",
    "        self.g = []\n",
    "        self.o = []\n",
    "        self.s = [zeros(self.neuron)] #first s input is 0\n",
    "        self.h = [zeros(self.neuron)] #first h input is 0\n",
    "        self.out = []\n",
    "        self.error = []\n",
    "        for i in range(len(inputs)):\n",
    "            #forward for every unit\n",
    "            X_concat = np.hstack((X[i],  self.h[i]))\n",
    "            self.X_concat.append(X_concat)\n",
    "            self.f.append(Sigmoid(self.weight_f@X_concat + self.bias_f))\n",
    "            self.i.append(Sigmoid(self.weight_i@X_concat + self.bias_i))\n",
    "            self.g.append(Tanh(self.weight_g@X_concat + self.bias_g))\n",
    "            self.o.append(Sigmoid(self.weight_o@X_concat + self.bias_o))\n",
    "            self.s.append(self.f[i]*self.s[i] + self.i[i]*self.g[i])\n",
    "            self.h.append(Tanh(self.s[i+1])*self.o[i])\n",
    "            self.out.append(self.weight_out@self.h[i+1] + self.bias_out)\n",
    "            self.error.append(abs(self.out[-1] - y[i]))\n",
    "        #show error\n",
    "        #print(np.array(self.error).mean())\n",
    "    \n",
    "    def backward(self, inputs, outputs):\n",
    "        self.diff_out = []\n",
    "        self.diff_h = []\n",
    "        self.diff_h_bottom = [zeros(self.neuron)]\n",
    "        self.diff_s_up = [zeros(self.neuron)]\n",
    "        self.diff_s = []\n",
    "        self.diff_o = []\n",
    "        self.diff_g = []\n",
    "        self.diff_i = []\n",
    "        self.diff_f = []\n",
    "        for i in range(len(inputs)-1,-1,-1):\n",
    "            #derivate of output\n",
    "            if i == len(inputs)-1:\n",
    "                self.diff_out  = [2*(self.out[i] - outputs[i])] + self.diff_out\n",
    "                self.diff_h = [self.diff_out[0]*dSigmoid(self.weight_out@self.h[i+1] + self.bias_out)*\n",
    "                               self.weight_out + self.diff_h_bottom[0]] + self.diff_h\n",
    "            else:\n",
    "                self.diff_h = [self.diff_h_bottom[0]] + self.diff_h\n",
    "            \n",
    "            \n",
    "            #derivative of gate/neural network operation\n",
    "            self.diff_s = [self.diff_h[0]*self.o[i]*dtanh(self.s[i+1]) + self.diff_s_up[0]] + self.diff_s\n",
    "            self.diff_o = [self.diff_h[0]*Tanh(self.s[i+1])] + self.diff_o\n",
    "            self.diff_g = [self.i[i]*self.diff_s[0]] + self.diff_g\n",
    "            self.diff_i = [self.g[i]*self.diff_s[0]] + self.diff_i\n",
    "            self.diff_f = [self.s[i]*self.diff_s[0]] + self.diff_f\n",
    "            \n",
    "            #derivative of concatenation of input dan previous output value\n",
    "            self.dX_concat = (self.diff_o[0].T*(dSigmoid(self.o[i]).reshape(self.neuron,1))).T@self.weight_o\n",
    "            self.dX_concat += (self.diff_g[0].T*(dSigmoid(self.g[i]).reshape(self.neuron,1))).T@self.weight_g\n",
    "            self.dX_concat += (self.diff_i[0].T*(dSigmoid(self.i[i]).reshape(self.neuron,1))).T@self.weight_i\n",
    "            self.dX_concat += (self.diff_f[0].T*(dSigmoid(self.f[i]).reshape(self.neuron,1))).T@self.weight_f\n",
    "            \n",
    "            #update value of long and short term memory\n",
    "            self.diff_h_bottom = [self.dX_concat[-1][self.X_dim:]] + self.diff_h_bottom\n",
    "            self.diff_s_up = [self.diff_s[0]*self.f[i]] + self.diff_s_up\n",
    "            \n",
    "    def update(self, alpha):\n",
    "        \n",
    "        #alpha \n",
    "        \n",
    "        #update everyweight and bias\n",
    "        self.weight_out -= alpha*self.diff_out[0].reshape(1,1)@self.h[1].T.reshape(1,self.neuron)\n",
    "        self.bias_out -= alpha*self.diff_out[0]\n",
    "        \n",
    "        self.weight_f -= alpha*(self.diff_f[0]*dSigmoid(self.weight_f@self.X_concat[0] + self.bias_f)).T@self.X_concat[0].reshape(1,self.X_dim + self.neuron)\n",
    "        self.bias_f -= alpha*(self.diff_f[0]*dSigmoid(self.weight_f@self.X_concat[0] + self.bias_f)).reshape(self.neuron,)\n",
    "        \n",
    "        self.weight_i -= alpha*(self.diff_i[0]*dSigmoid(self.weight_i@self.X_concat[0] + self.bias_i)).T@self.X_concat[0].reshape(1,self.X_dim + self.neuron)\n",
    "        self.bias_i -= alpha*(self.diff_i[0]*dSigmoid(self.weight_i@self.X_concat[0] + self.bias_i)).reshape(self.neuron,)\n",
    "        \n",
    "        self.weight_g -= alpha*(self.diff_g[0]*dSigmoid(self.weight_g@self.X_concat[0] + self.bias_g)).T@self.X_concat[0].reshape(1,self.X_dim + self.neuron)\n",
    "        self.bias_g -= alpha*(self.diff_g[0]*dSigmoid(self.weight_g@self.X_concat[0] + self.bias_g)).reshape(self.neuron,)\n",
    "        \n",
    "        self.weight_o -= alpha*(self.diff_o[0]*dSigmoid(self.weight_o@self.X_concat[0] + self.bias_o)).T.reshape(self.neuron,1)@self.X_concat[0].reshape(1,self.X_dim + self.neuron)\n",
    "        self.bias_o -= alpha*(self.diff_o[0]*dSigmoid(self.weight_o@self.X_concat[0] + self.bias_o)).reshape(self.neuron,)\n",
    "    \n",
    "    def predict(self, inputs, outputs):\n",
    "        X = inputs\n",
    "        y = outputs\n",
    "        self.X = X\n",
    "        self.y = y\n",
    "        #make list to save the values of every unit \n",
    "        self.X_concat = []\n",
    "        self.f = []\n",
    "        self.i = []\n",
    "        self.g = []\n",
    "        self.o = []\n",
    "        self.s = [zeros(self.neuron)] #first s input is 0\n",
    "        self.h = [zeros(self.neuron)] #first h input is 0\n",
    "        self.out = []\n",
    "        self.error = []\n",
    "        for i in range(len(inputs)):\n",
    "            #forward for every unit\n",
    "            X_concat = np.hstack((X[i],  self.h[i]))\n",
    "            self.X_concat.append(X_concat)\n",
    "            self.f.append(Sigmoid(self.weight_f@X_concat + self.bias_f))\n",
    "            self.i.append(Sigmoid(self.weight_i@X_concat + self.bias_i))\n",
    "            self.g.append(Tanh(self.weight_g@X_concat + self.bias_g))\n",
    "            self.o.append(Sigmoid(self.weight_o@X_concat + self.bias_o))\n",
    "            self.s.append(self.f[i]*self.s[i] + self.i[i]*self.g[i])\n",
    "            self.h.append(Tanh(self.s[i+1])*self.o[i])\n",
    "            self.out.append(self.weight_out@self.h[i+1] + self.bias_out)\n",
    "            self.error.append(abs(self.out[-1] - y[i]))\n",
    "        \n",
    "        return [self.out[-1][0],self.y[-1]]\n",
    "    \n",
    "    def show_progress(self):\n",
    "        return abs(self.y[-1][0] - self.out[-1])"
   ]
  },
  {
   "cell_type": "markdown",
   "metadata": {},
   "source": [
    "## Change the Indicators Here!"
   ]
  },
  {
   "cell_type": "code",
   "execution_count": 5,
   "metadata": {},
   "outputs": [],
   "source": [
    "#hyperparameters\n",
    "epochs  = 1000\n",
    "nc      = 10 #units\n",
    "\n",
    "#datasets\n",
    "name_dataset = 'PSDN-short'\n",
    "\n",
    "column_dataset_obs = 'Close'"
   ]
  },
  {
   "cell_type": "markdown",
   "metadata": {},
   "source": [
    "## Import Dataset"
   ]
  },
  {
   "cell_type": "code",
   "execution_count": 6,
   "metadata": {},
   "outputs": [
    {
     "data": {
      "text/html": [
       "<div>\n",
       "<style scoped>\n",
       "    .dataframe tbody tr th:only-of-type {\n",
       "        vertical-align: middle;\n",
       "    }\n",
       "\n",
       "    .dataframe tbody tr th {\n",
       "        vertical-align: top;\n",
       "    }\n",
       "\n",
       "    .dataframe thead th {\n",
       "        text-align: right;\n",
       "    }\n",
       "</style>\n",
       "<table border=\"1\" class=\"dataframe\">\n",
       "  <thead>\n",
       "    <tr style=\"text-align: right;\">\n",
       "      <th></th>\n",
       "      <th>Date</th>\n",
       "      <th>Open</th>\n",
       "      <th>High</th>\n",
       "      <th>Low</th>\n",
       "      <th>Close</th>\n",
       "      <th>Adj Close</th>\n",
       "    </tr>\n",
       "  </thead>\n",
       "  <tbody>\n",
       "    <tr>\n",
       "      <th>0</th>\n",
       "      <td>2017-01-02</td>\n",
       "      <td>134.0</td>\n",
       "      <td>134.0</td>\n",
       "      <td>134.0</td>\n",
       "      <td>134.0</td>\n",
       "      <td>134.0</td>\n",
       "    </tr>\n",
       "    <tr>\n",
       "      <th>1</th>\n",
       "      <td>2017-01-03</td>\n",
       "      <td>135.0</td>\n",
       "      <td>139.0</td>\n",
       "      <td>135.0</td>\n",
       "      <td>139.0</td>\n",
       "      <td>139.0</td>\n",
       "    </tr>\n",
       "    <tr>\n",
       "      <th>2</th>\n",
       "      <td>2017-01-04</td>\n",
       "      <td>139.0</td>\n",
       "      <td>139.0</td>\n",
       "      <td>136.0</td>\n",
       "      <td>136.0</td>\n",
       "      <td>136.0</td>\n",
       "    </tr>\n",
       "    <tr>\n",
       "      <th>3</th>\n",
       "      <td>2017-01-05</td>\n",
       "      <td>135.0</td>\n",
       "      <td>141.0</td>\n",
       "      <td>135.0</td>\n",
       "      <td>141.0</td>\n",
       "      <td>141.0</td>\n",
       "    </tr>\n",
       "    <tr>\n",
       "      <th>4</th>\n",
       "      <td>2017-01-06</td>\n",
       "      <td>136.0</td>\n",
       "      <td>140.0</td>\n",
       "      <td>136.0</td>\n",
       "      <td>140.0</td>\n",
       "      <td>140.0</td>\n",
       "    </tr>\n",
       "    <tr>\n",
       "      <th>...</th>\n",
       "      <td>...</td>\n",
       "      <td>...</td>\n",
       "      <td>...</td>\n",
       "      <td>...</td>\n",
       "      <td>...</td>\n",
       "      <td>...</td>\n",
       "    </tr>\n",
       "    <tr>\n",
       "      <th>58</th>\n",
       "      <td>2017-03-23</td>\n",
       "      <td>170.0</td>\n",
       "      <td>170.0</td>\n",
       "      <td>162.0</td>\n",
       "      <td>162.0</td>\n",
       "      <td>162.0</td>\n",
       "    </tr>\n",
       "    <tr>\n",
       "      <th>59</th>\n",
       "      <td>2017-03-24</td>\n",
       "      <td>170.0</td>\n",
       "      <td>181.0</td>\n",
       "      <td>144.0</td>\n",
       "      <td>146.0</td>\n",
       "      <td>146.0</td>\n",
       "    </tr>\n",
       "    <tr>\n",
       "      <th>60</th>\n",
       "      <td>2017-03-27</td>\n",
       "      <td>146.0</td>\n",
       "      <td>151.0</td>\n",
       "      <td>146.0</td>\n",
       "      <td>146.0</td>\n",
       "      <td>146.0</td>\n",
       "    </tr>\n",
       "    <tr>\n",
       "      <th>61</th>\n",
       "      <td>2017-03-29</td>\n",
       "      <td>140.0</td>\n",
       "      <td>152.0</td>\n",
       "      <td>140.0</td>\n",
       "      <td>146.0</td>\n",
       "      <td>146.0</td>\n",
       "    </tr>\n",
       "    <tr>\n",
       "      <th>62</th>\n",
       "      <td>2017-03-30</td>\n",
       "      <td>147.0</td>\n",
       "      <td>149.0</td>\n",
       "      <td>140.0</td>\n",
       "      <td>147.0</td>\n",
       "      <td>147.0</td>\n",
       "    </tr>\n",
       "  </tbody>\n",
       "</table>\n",
       "<p>63 rows × 6 columns</p>\n",
       "</div>"
      ],
      "text/plain": [
       "          Date   Open   High    Low  Close  Adj Close\n",
       "0   2017-01-02  134.0  134.0  134.0  134.0      134.0\n",
       "1   2017-01-03  135.0  139.0  135.0  139.0      139.0\n",
       "2   2017-01-04  139.0  139.0  136.0  136.0      136.0\n",
       "3   2017-01-05  135.0  141.0  135.0  141.0      141.0\n",
       "4   2017-01-06  136.0  140.0  136.0  140.0      140.0\n",
       "..         ...    ...    ...    ...    ...        ...\n",
       "58  2017-03-23  170.0  170.0  162.0  162.0      162.0\n",
       "59  2017-03-24  170.0  181.0  144.0  146.0      146.0\n",
       "60  2017-03-27  146.0  151.0  146.0  146.0      146.0\n",
       "61  2017-03-29  140.0  152.0  140.0  146.0      146.0\n",
       "62  2017-03-30  147.0  149.0  140.0  147.0      147.0\n",
       "\n",
       "[63 rows x 6 columns]"
      ]
     },
     "execution_count": 6,
     "metadata": {},
     "output_type": "execute_result"
    }
   ],
   "source": [
    "df = pd.read_csv('../Datasets/'+name_dataset+'.csv')\n",
    "# df.drop('Volume', inplace=True, axis=1)\n",
    "df"
   ]
  },
  {
   "cell_type": "code",
   "execution_count": 7,
   "metadata": {
    "scrolled": true
   },
   "outputs": [
    {
     "data": {
      "text/html": [
       "<div>\n",
       "<style scoped>\n",
       "    .dataframe tbody tr th:only-of-type {\n",
       "        vertical-align: middle;\n",
       "    }\n",
       "\n",
       "    .dataframe tbody tr th {\n",
       "        vertical-align: top;\n",
       "    }\n",
       "\n",
       "    .dataframe thead th {\n",
       "        text-align: right;\n",
       "    }\n",
       "</style>\n",
       "<table border=\"1\" class=\"dataframe\">\n",
       "  <thead>\n",
       "    <tr style=\"text-align: right;\">\n",
       "      <th></th>\n",
       "      <th>Open</th>\n",
       "      <th>High</th>\n",
       "      <th>Low</th>\n",
       "      <th>Close</th>\n",
       "      <th>Adj Close</th>\n",
       "    </tr>\n",
       "  </thead>\n",
       "  <tbody>\n",
       "    <tr>\n",
       "      <th>count</th>\n",
       "      <td>63.000000</td>\n",
       "      <td>63.000000</td>\n",
       "      <td>63.000000</td>\n",
       "      <td>63.000000</td>\n",
       "      <td>63.000000</td>\n",
       "    </tr>\n",
       "    <tr>\n",
       "      <th>mean</th>\n",
       "      <td>155.253968</td>\n",
       "      <td>158.412698</td>\n",
       "      <td>152.698413</td>\n",
       "      <td>155.365079</td>\n",
       "      <td>155.365079</td>\n",
       "    </tr>\n",
       "    <tr>\n",
       "      <th>std</th>\n",
       "      <td>12.317007</td>\n",
       "      <td>13.554710</td>\n",
       "      <td>12.055831</td>\n",
       "      <td>11.584614</td>\n",
       "      <td>11.584614</td>\n",
       "    </tr>\n",
       "    <tr>\n",
       "      <th>min</th>\n",
       "      <td>134.000000</td>\n",
       "      <td>134.000000</td>\n",
       "      <td>120.000000</td>\n",
       "      <td>134.000000</td>\n",
       "      <td>134.000000</td>\n",
       "    </tr>\n",
       "    <tr>\n",
       "      <th>25%</th>\n",
       "      <td>145.500000</td>\n",
       "      <td>148.000000</td>\n",
       "      <td>144.500000</td>\n",
       "      <td>146.000000</td>\n",
       "      <td>146.000000</td>\n",
       "    </tr>\n",
       "    <tr>\n",
       "      <th>50%</th>\n",
       "      <td>160.000000</td>\n",
       "      <td>161.000000</td>\n",
       "      <td>153.000000</td>\n",
       "      <td>160.000000</td>\n",
       "      <td>160.000000</td>\n",
       "    </tr>\n",
       "    <tr>\n",
       "      <th>75%</th>\n",
       "      <td>165.000000</td>\n",
       "      <td>168.000000</td>\n",
       "      <td>163.000000</td>\n",
       "      <td>164.500000</td>\n",
       "      <td>164.500000</td>\n",
       "    </tr>\n",
       "    <tr>\n",
       "      <th>max</th>\n",
       "      <td>182.000000</td>\n",
       "      <td>204.000000</td>\n",
       "      <td>171.000000</td>\n",
       "      <td>185.000000</td>\n",
       "      <td>185.000000</td>\n",
       "    </tr>\n",
       "  </tbody>\n",
       "</table>\n",
       "</div>"
      ],
      "text/plain": [
       "             Open        High         Low       Close   Adj Close\n",
       "count   63.000000   63.000000   63.000000   63.000000   63.000000\n",
       "mean   155.253968  158.412698  152.698413  155.365079  155.365079\n",
       "std     12.317007   13.554710   12.055831   11.584614   11.584614\n",
       "min    134.000000  134.000000  120.000000  134.000000  134.000000\n",
       "25%    145.500000  148.000000  144.500000  146.000000  146.000000\n",
       "50%    160.000000  161.000000  153.000000  160.000000  160.000000\n",
       "75%    165.000000  168.000000  163.000000  164.500000  164.500000\n",
       "max    182.000000  204.000000  171.000000  185.000000  185.000000"
      ]
     },
     "execution_count": 7,
     "metadata": {},
     "output_type": "execute_result"
    }
   ],
   "source": [
    "df.describe()"
   ]
  },
  {
   "cell_type": "code",
   "execution_count": 8,
   "metadata": {},
   "outputs": [
    {
     "data": {
      "text/plain": [
       "0     134.0\n",
       "1     139.0\n",
       "2     136.0\n",
       "3     141.0\n",
       "4     140.0\n",
       "      ...  \n",
       "58    162.0\n",
       "59    146.0\n",
       "60    146.0\n",
       "61    146.0\n",
       "62    147.0\n",
       "Name: Close, Length: 63, dtype: float64"
      ]
     },
     "execution_count": 8,
     "metadata": {},
     "output_type": "execute_result"
    }
   ],
   "source": [
    "new_df = df.reset_index()[column_dataset_obs]\n",
    "new_df"
   ]
  },
  {
   "cell_type": "code",
   "execution_count": 9,
   "metadata": {},
   "outputs": [
    {
     "data": {
      "text/plain": [
       "[<matplotlib.lines.Line2D at 0x7f7d797ca940>]"
      ]
     },
     "execution_count": 9,
     "metadata": {},
     "output_type": "execute_result"
    },
    {
     "data": {
      "image/png": "[encoded data removed]",
      "text/plain": [
       "<Figure size 432x288 with 1 Axes>"
      ]
     },
     "metadata": {
      "needs_background": "light"
     },
     "output_type": "display_data"
    }
   ],
   "source": [
    "plt.plot(new_df)"
   ]
  },
  {
   "cell_type": "markdown",
   "metadata": {},
   "source": [
    "## MinMax Scaler"
   ]
  },
  {
   "cell_type": "code",
   "execution_count": 10,
   "metadata": {},
   "outputs": [],
   "source": [
    "from sklearn.preprocessing import MinMaxScaler\n",
    "scaler = MinMaxScaler(feature_range=(0,1))\n",
    "new_df = scaler.fit_transform(np.array(new_df).reshape(-1,1))\n",
    "# new_df"
   ]
  },
  {
   "cell_type": "code",
   "execution_count": 11,
   "metadata": {},
   "outputs": [],
   "source": [
    "xs = new_df"
   ]
  },
  {
   "cell_type": "code",
   "execution_count": 12,
   "metadata": {},
   "outputs": [],
   "source": [
    "#Standarized the dataset\n",
    "N       = xs.shape[0]\n",
    "\n",
    "#hypreparameter\n",
    "Ts      = 1\n",
    "x_dim   = 1\n",
    "alpha   = 0.01 #learningrate\n",
    "\n",
    "xt      = xs[0:N-x_dim,:]\n",
    "\n",
    "for i in range(x_dim):\n",
    "    xt  = hstack((xt, xs[i+1:N-x_dim+i+1]))   \n",
    "\n"
   ]
  },
  {
   "cell_type": "markdown",
   "metadata": {},
   "source": [
    "## Splitting Training and Testing"
   ]
  },
  {
   "cell_type": "code",
   "execution_count": 13,
   "metadata": {},
   "outputs": [],
   "source": [
    "training_size = int(len(new_df)*0.8)\n",
    "test_size = len(new_df)-training_size"
   ]
  },
  {
   "cell_type": "code",
   "execution_count": 14,
   "metadata": {},
   "outputs": [
    {
     "data": {
      "text/plain": [
       "(50, 13)"
      ]
     },
     "execution_count": 14,
     "metadata": {},
     "output_type": "execute_result"
    }
   ],
   "source": [
    "training_size, test_size"
   ]
  },
  {
   "cell_type": "code",
   "execution_count": null,
   "metadata": {},
   "outputs": [],
   "source": []
  },
  {
   "cell_type": "code",
   "execution_count": 15,
   "metadata": {},
   "outputs": [],
   "source": [
    "X_train = xt[:training_size, 0:x_dim]     \n",
    "y_train = xt[:training_size, x_dim:x_dim+1]  \n",
    "X_test = xt[-test_size:, 0:x_dim]     \n",
    "y_test = xt[-test_size:, x_dim:x_dim+1]"
   ]
  },
  {
   "cell_type": "markdown",
   "metadata": {},
   "source": [
    "## Build LSTM Model"
   ]
  },
  {
   "cell_type": "code",
   "execution_count": null,
   "metadata": {},
   "outputs": [],
   "source": [
    "me = LSTM(x_dim,1,nc)\n",
    "for i in range(epochs):\n",
    "    print('-------------',i+1,'-------------')\n",
    "    for j in range(X_train.shape[0]-Ts):\n",
    "        me.forward(X_train[j:j+Ts],y_train[j:j+Ts])\n",
    "        me.backward(X_train[j:j+Ts],y_train[j:j+Ts])\n",
    "        me.update(alpha)\n",
    "    hehe = []\n",
    "    for j in range(X_test.shape[0]-Ts):\n",
    "        me.forward(X_test[j:j+Ts],y_test[j:j+Ts])\n",
    "        me.backward(X_test[j:j+Ts],y_test[j:j+Ts])\n",
    "        me.update(alpha)\n",
    "        hehe.append(me.show_progress())    \n",
    "    print(np.array(hehe).mean())"
   ]
  },
  {
   "cell_type": "code",
   "execution_count": 22,
   "metadata": {},
   "outputs": [
    {
     "data": {
      "text/plain": [
       "50"
      ]
     },
     "execution_count": 22,
     "metadata": {},
     "output_type": "execute_result"
    }
   ],
   "source": [
    "X_train.shape[0]"
   ]
  },
  {
   "cell_type": "code",
   "execution_count": null,
   "metadata": {
    "scrolled": true
   },
   "outputs": [],
   "source": [
    "import matplotlib.pyplot as plt\n",
    "\n",
    "out = []\n",
    "for j in range(X_test.shape[0]-Ts):\n",
    "    out.append(me.predict(X_test[j:j+Ts],y_test[j:j+Ts]))\n",
    "\n",
    "out=scaler.inverse_transform(out).tolist()"
   ]
  },
  {
   "cell_type": "markdown",
   "metadata": {},
   "source": [
    "## Report Performance of LSTM Predictions"
   ]
  },
  {
   "cell_type": "code",
   "execution_count": null,
   "metadata": {},
   "outputs": [],
   "source": [
    "from math import sqrt\n",
    "\n",
    "import math\n",
    "from sklearn.metrics import mean_squared_error, mean_absolute_error, mean_absolute_percentage_error"
   ]
  },
  {
   "cell_type": "code",
   "execution_count": null,
   "metadata": {},
   "outputs": [],
   "source": [
    "# mse = mean_squared_error(y, predictions)\n",
    "# print('MSE: '+str(mse))\n",
    "print('epoch: ' + str(epochs))\n",
    "print('units: ' + str(nc))\n",
    "\n",
    "rmse = math.sqrt(mean_squared_error(np.array(out)[:,1], np.array(out)[:,0]))\n",
    "print('RMSE: '+ str(\"{:.2f}\".format(rmse)))\n",
    "mae = mean_absolute_error(np.array(out)[:,1], np.array(out)[:,0])\n",
    "print('MAE: '+ str(\"{:.2f}\".format(mae)))\n",
    "mape = mean_absolute_percentage_error(np.array(out)[:,1], np.array(out)[:,0])\n",
    "print('MAPE: '+ str(\"{:.2f}\".format(mape*100)))"
   ]
  },
  {
   "cell_type": "markdown",
   "metadata": {},
   "source": [
    "## Visualize Test Data the Prediction and Real Stock"
   ]
  },
  {
   "cell_type": "code",
   "execution_count": null,
   "metadata": {},
   "outputs": [],
   "source": [
    "from matplotlib.pylab import rcParams\n",
    "rcParams['figure.figsize'] = 15, 6"
   ]
  },
  {
   "cell_type": "code",
   "execution_count": null,
   "metadata": {},
   "outputs": [],
   "source": [
    "plt.figure()\n",
    "plt.plot(np.array(out)[:,1], color = 'red', label = 'Real Stock Price')\n",
    "plt.plot(np.array(out)[:,0], color = 'blue', label = 'Predicted Stock Price')\n",
    "plt.title(name_dataset +' Term Stock Prediction, epochs: '+ str(epochs) +'; units: '+str(nc))\n",
    "plt.xlabel('Time')\n",
    "plt.ylabel(name_dataset +' Stock Price '+ column_dataset_obs)\n",
    "plt.legend()"
   ]
  },
  {
   "cell_type": "markdown",
   "metadata": {},
   "source": [
    "## Save as a new Dataset"
   ]
  },
  {
   "cell_type": "code",
   "execution_count": 17,
   "metadata": {},
   "outputs": [
    {
     "ename": "NameError",
     "evalue": "name 'out' is not defined",
     "output_type": "error",
     "traceback": [
      "\u001b[0;31m---------------------------------------------------------------------------\u001b[0m",
      "\u001b[0;31mNameError\u001b[0m                                 Traceback (most recent call last)",
      "\u001b[0;32m/var/folders/lv/j9w__j_11b1cntk8h5tlnkvr0000gn/T/ipykernel_47609/1310386976.py\u001b[0m in \u001b[0;36m<module>\u001b[0;34m\u001b[0m\n\u001b[0;32m----> 1\u001b[0;31m \u001b[0mreal_price\u001b[0m \u001b[0;34m=\u001b[0m \u001b[0mnp\u001b[0m\u001b[0;34m.\u001b[0m\u001b[0marray\u001b[0m\u001b[0;34m(\u001b[0m\u001b[0mout\u001b[0m\u001b[0;34m)\u001b[0m\u001b[0;34m[\u001b[0m\u001b[0;34m:\u001b[0m\u001b[0;34m,\u001b[0m\u001b[0;36m1\u001b[0m\u001b[0;34m]\u001b[0m\u001b[0;34m\u001b[0m\u001b[0;34m\u001b[0m\u001b[0m\n\u001b[0m\u001b[1;32m      2\u001b[0m \u001b[0mclose_lstm\u001b[0m \u001b[0;34m=\u001b[0m \u001b[0mnp\u001b[0m\u001b[0;34m.\u001b[0m\u001b[0marray\u001b[0m\u001b[0;34m(\u001b[0m\u001b[0mout\u001b[0m\u001b[0;34m)\u001b[0m\u001b[0;34m[\u001b[0m\u001b[0;34m:\u001b[0m\u001b[0;34m,\u001b[0m\u001b[0;36m0\u001b[0m\u001b[0;34m]\u001b[0m\u001b[0;34m\u001b[0m\u001b[0;34m\u001b[0m\u001b[0m\n",
      "\u001b[0;31mNameError\u001b[0m: name 'out' is not defined"
     ]
    }
   ],
   "source": [
    "real_price = np.array(out)[:,1]\n",
    "close_lstm = np.array(out)[:,0]"
   ]
  },
  {
   "cell_type": "code",
   "execution_count": 18,
   "metadata": {},
   "outputs": [
    {
     "ename": "NameError",
     "evalue": "name 'real_price' is not defined",
     "output_type": "error",
     "traceback": [
      "\u001b[0;31m---------------------------------------------------------------------------\u001b[0m",
      "\u001b[0;31mNameError\u001b[0m                                 Traceback (most recent call last)",
      "\u001b[0;32m/var/folders/lv/j9w__j_11b1cntk8h5tlnkvr0000gn/T/ipykernel_47609/3599992912.py\u001b[0m in \u001b[0;36m<module>\u001b[0;34m\u001b[0m\n\u001b[0;32m----> 1\u001b[0;31m new_data = {'real_price': real_price,\n\u001b[0m\u001b[1;32m      2\u001b[0m             'Close_LSTM': close_lstm}\n",
      "\u001b[0;31mNameError\u001b[0m: name 'real_price' is not defined"
     ]
    }
   ],
   "source": [
    "new_data = {'real_price': real_price,\n",
    "            'Close_LSTM': close_lstm}\n"
   ]
  },
  {
   "cell_type": "code",
   "execution_count": 19,
   "metadata": {},
   "outputs": [
    {
     "ename": "NameError",
     "evalue": "name 'new_data' is not defined",
     "output_type": "error",
     "traceback": [
      "\u001b[0;31m---------------------------------------------------------------------------\u001b[0m",
      "\u001b[0;31mNameError\u001b[0m                                 Traceback (most recent call last)",
      "\u001b[0;32m/var/folders/lv/j9w__j_11b1cntk8h5tlnkvr0000gn/T/ipykernel_47609/481768584.py\u001b[0m in \u001b[0;36m<module>\u001b[0;34m\u001b[0m\n\u001b[0;32m----> 1\u001b[0;31m \u001b[0mdf_new_data\u001b[0m \u001b[0;34m=\u001b[0m \u001b[0mpd\u001b[0m\u001b[0;34m.\u001b[0m\u001b[0mDataFrame\u001b[0m\u001b[0;34m(\u001b[0m\u001b[0mnew_data\u001b[0m\u001b[0;34m,\u001b[0m \u001b[0mcolumns\u001b[0m \u001b[0;34m=\u001b[0m \u001b[0;34m[\u001b[0m\u001b[0;34m'real_price'\u001b[0m\u001b[0;34m,\u001b[0m \u001b[0;34m'Close_LSTM'\u001b[0m\u001b[0;34m]\u001b[0m\u001b[0;34m)\u001b[0m\u001b[0;34m\u001b[0m\u001b[0;34m\u001b[0m\u001b[0m\n\u001b[0m",
      "\u001b[0;31mNameError\u001b[0m: name 'new_data' is not defined"
     ]
    }
   ],
   "source": [
    "df_new_data = pd.DataFrame(new_data, columns = ['real_price', 'Close_LSTM'])\n"
   ]
  },
  {
   "cell_type": "code",
   "execution_count": 20,
   "metadata": {},
   "outputs": [
    {
     "ename": "NameError",
     "evalue": "name 'df_new_data' is not defined",
     "output_type": "error",
     "traceback": [
      "\u001b[0;31m---------------------------------------------------------------------------\u001b[0m",
      "\u001b[0;31mNameError\u001b[0m                                 Traceback (most recent call last)",
      "\u001b[0;32m/var/folders/lv/j9w__j_11b1cntk8h5tlnkvr0000gn/T/ipykernel_47609/2368907273.py\u001b[0m in \u001b[0;36m<module>\u001b[0;34m\u001b[0m\n\u001b[0;32m----> 1\u001b[0;31m df_new_data.to_csv('../Datasets/dataset after prediction/'+name_dataset\n\u001b[0m\u001b[1;32m      2\u001b[0m                    +'_LSTM_'+ str(epochs) +'_'+ str(nc) + '.csv', index=False)\n",
      "\u001b[0;31mNameError\u001b[0m: name 'df_new_data' is not defined"
     ]
    }
   ],
   "source": [
    "df_new_data.to_csv('../Datasets/dataset after prediction/'+name_dataset\n",
    "                   +'_LSTM_'+ str(epochs) +'_'+ str(nc) + '.csv', index=False)"
   ]
  },
  {
   "cell_type": "code",
   "execution_count": null,
   "metadata": {},
   "outputs": [],
   "source": []
  }
 ],
 "metadata": {
  "kernelspec": {
   "display_name": "Python 3 (ipykernel)",
   "language": "python",
   "name": "python3"
  },
  "language_info": {
   "codemirror_mode": {
    "name": "ipython",
    "version": 3
   },
   "file_extension": ".py",
   "mimetype": "text/x-python",
   "name": "python",
   "nbconvert_exporter": "python",
   "pygments_lexer": "ipython3",
   "version": "3.9.7"
  }
 },
 "nbformat": 4,
 "nbformat_minor": 2
}
